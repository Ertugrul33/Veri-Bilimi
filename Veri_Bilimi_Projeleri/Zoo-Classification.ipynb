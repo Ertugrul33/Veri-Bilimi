{
 "cells": [
  {
   "cell_type": "code",
   "execution_count": 1,
   "metadata": {},
   "outputs": [],
   "source": [
    "import numpy as np\n",
    "import pandas as pd\n",
    "import matplotlib.pyplot as plt\n",
    "import seaborn as sbn"
   ]
  },
  {
   "cell_type": "code",
   "execution_count": 2,
   "metadata": {},
   "outputs": [],
   "source": [
    "dataFrame = pd.read_csv(\"zoo.csv\")"
   ]
  },
  {
   "cell_type": "code",
   "execution_count": 3,
   "metadata": {},
   "outputs": [
    {
     "data": {
      "text/html": [
       "<div>\n",
       "<style scoped>\n",
       "    .dataframe tbody tr th:only-of-type {\n",
       "        vertical-align: middle;\n",
       "    }\n",
       "\n",
       "    .dataframe tbody tr th {\n",
       "        vertical-align: top;\n",
       "    }\n",
       "\n",
       "    .dataframe thead th {\n",
       "        text-align: right;\n",
       "    }\n",
       "</style>\n",
       "<table border=\"1\" class=\"dataframe\">\n",
       "  <thead>\n",
       "    <tr style=\"text-align: right;\">\n",
       "      <th></th>\n",
       "      <th>animal_name</th>\n",
       "      <th>hair</th>\n",
       "      <th>feathers</th>\n",
       "      <th>eggs</th>\n",
       "      <th>milk</th>\n",
       "      <th>airborne</th>\n",
       "      <th>aquatic</th>\n",
       "      <th>predator</th>\n",
       "      <th>toothed</th>\n",
       "      <th>backbone</th>\n",
       "      <th>breathes</th>\n",
       "      <th>venomous</th>\n",
       "      <th>fins</th>\n",
       "      <th>legs</th>\n",
       "      <th>tail</th>\n",
       "      <th>domestic</th>\n",
       "      <th>catsize</th>\n",
       "      <th>class_type</th>\n",
       "    </tr>\n",
       "  </thead>\n",
       "  <tbody>\n",
       "    <tr>\n",
       "      <th>0</th>\n",
       "      <td>aardvark</td>\n",
       "      <td>1</td>\n",
       "      <td>0</td>\n",
       "      <td>0</td>\n",
       "      <td>1</td>\n",
       "      <td>0</td>\n",
       "      <td>0</td>\n",
       "      <td>1</td>\n",
       "      <td>1</td>\n",
       "      <td>1</td>\n",
       "      <td>1</td>\n",
       "      <td>0</td>\n",
       "      <td>0</td>\n",
       "      <td>4</td>\n",
       "      <td>0</td>\n",
       "      <td>0</td>\n",
       "      <td>1</td>\n",
       "      <td>1</td>\n",
       "    </tr>\n",
       "    <tr>\n",
       "      <th>1</th>\n",
       "      <td>antelope</td>\n",
       "      <td>1</td>\n",
       "      <td>0</td>\n",
       "      <td>0</td>\n",
       "      <td>1</td>\n",
       "      <td>0</td>\n",
       "      <td>0</td>\n",
       "      <td>0</td>\n",
       "      <td>1</td>\n",
       "      <td>1</td>\n",
       "      <td>1</td>\n",
       "      <td>0</td>\n",
       "      <td>0</td>\n",
       "      <td>4</td>\n",
       "      <td>1</td>\n",
       "      <td>0</td>\n",
       "      <td>1</td>\n",
       "      <td>1</td>\n",
       "    </tr>\n",
       "    <tr>\n",
       "      <th>2</th>\n",
       "      <td>bass</td>\n",
       "      <td>0</td>\n",
       "      <td>0</td>\n",
       "      <td>1</td>\n",
       "      <td>0</td>\n",
       "      <td>0</td>\n",
       "      <td>1</td>\n",
       "      <td>1</td>\n",
       "      <td>1</td>\n",
       "      <td>1</td>\n",
       "      <td>0</td>\n",
       "      <td>0</td>\n",
       "      <td>1</td>\n",
       "      <td>0</td>\n",
       "      <td>1</td>\n",
       "      <td>0</td>\n",
       "      <td>0</td>\n",
       "      <td>4</td>\n",
       "    </tr>\n",
       "    <tr>\n",
       "      <th>3</th>\n",
       "      <td>bear</td>\n",
       "      <td>1</td>\n",
       "      <td>0</td>\n",
       "      <td>0</td>\n",
       "      <td>1</td>\n",
       "      <td>0</td>\n",
       "      <td>0</td>\n",
       "      <td>1</td>\n",
       "      <td>1</td>\n",
       "      <td>1</td>\n",
       "      <td>1</td>\n",
       "      <td>0</td>\n",
       "      <td>0</td>\n",
       "      <td>4</td>\n",
       "      <td>0</td>\n",
       "      <td>0</td>\n",
       "      <td>1</td>\n",
       "      <td>1</td>\n",
       "    </tr>\n",
       "    <tr>\n",
       "      <th>4</th>\n",
       "      <td>boar</td>\n",
       "      <td>1</td>\n",
       "      <td>0</td>\n",
       "      <td>0</td>\n",
       "      <td>1</td>\n",
       "      <td>0</td>\n",
       "      <td>0</td>\n",
       "      <td>1</td>\n",
       "      <td>1</td>\n",
       "      <td>1</td>\n",
       "      <td>1</td>\n",
       "      <td>0</td>\n",
       "      <td>0</td>\n",
       "      <td>4</td>\n",
       "      <td>1</td>\n",
       "      <td>0</td>\n",
       "      <td>1</td>\n",
       "      <td>1</td>\n",
       "    </tr>\n",
       "    <tr>\n",
       "      <th>...</th>\n",
       "      <td>...</td>\n",
       "      <td>...</td>\n",
       "      <td>...</td>\n",
       "      <td>...</td>\n",
       "      <td>...</td>\n",
       "      <td>...</td>\n",
       "      <td>...</td>\n",
       "      <td>...</td>\n",
       "      <td>...</td>\n",
       "      <td>...</td>\n",
       "      <td>...</td>\n",
       "      <td>...</td>\n",
       "      <td>...</td>\n",
       "      <td>...</td>\n",
       "      <td>...</td>\n",
       "      <td>...</td>\n",
       "      <td>...</td>\n",
       "      <td>...</td>\n",
       "    </tr>\n",
       "    <tr>\n",
       "      <th>96</th>\n",
       "      <td>wallaby</td>\n",
       "      <td>1</td>\n",
       "      <td>0</td>\n",
       "      <td>0</td>\n",
       "      <td>1</td>\n",
       "      <td>0</td>\n",
       "      <td>0</td>\n",
       "      <td>0</td>\n",
       "      <td>1</td>\n",
       "      <td>1</td>\n",
       "      <td>1</td>\n",
       "      <td>0</td>\n",
       "      <td>0</td>\n",
       "      <td>2</td>\n",
       "      <td>1</td>\n",
       "      <td>0</td>\n",
       "      <td>1</td>\n",
       "      <td>1</td>\n",
       "    </tr>\n",
       "    <tr>\n",
       "      <th>97</th>\n",
       "      <td>wasp</td>\n",
       "      <td>1</td>\n",
       "      <td>0</td>\n",
       "      <td>1</td>\n",
       "      <td>0</td>\n",
       "      <td>1</td>\n",
       "      <td>0</td>\n",
       "      <td>0</td>\n",
       "      <td>0</td>\n",
       "      <td>0</td>\n",
       "      <td>1</td>\n",
       "      <td>1</td>\n",
       "      <td>0</td>\n",
       "      <td>6</td>\n",
       "      <td>0</td>\n",
       "      <td>0</td>\n",
       "      <td>0</td>\n",
       "      <td>6</td>\n",
       "    </tr>\n",
       "    <tr>\n",
       "      <th>98</th>\n",
       "      <td>wolf</td>\n",
       "      <td>1</td>\n",
       "      <td>0</td>\n",
       "      <td>0</td>\n",
       "      <td>1</td>\n",
       "      <td>0</td>\n",
       "      <td>0</td>\n",
       "      <td>1</td>\n",
       "      <td>1</td>\n",
       "      <td>1</td>\n",
       "      <td>1</td>\n",
       "      <td>0</td>\n",
       "      <td>0</td>\n",
       "      <td>4</td>\n",
       "      <td>1</td>\n",
       "      <td>0</td>\n",
       "      <td>1</td>\n",
       "      <td>1</td>\n",
       "    </tr>\n",
       "    <tr>\n",
       "      <th>99</th>\n",
       "      <td>worm</td>\n",
       "      <td>0</td>\n",
       "      <td>0</td>\n",
       "      <td>1</td>\n",
       "      <td>0</td>\n",
       "      <td>0</td>\n",
       "      <td>0</td>\n",
       "      <td>0</td>\n",
       "      <td>0</td>\n",
       "      <td>0</td>\n",
       "      <td>1</td>\n",
       "      <td>0</td>\n",
       "      <td>0</td>\n",
       "      <td>0</td>\n",
       "      <td>0</td>\n",
       "      <td>0</td>\n",
       "      <td>0</td>\n",
       "      <td>7</td>\n",
       "    </tr>\n",
       "    <tr>\n",
       "      <th>100</th>\n",
       "      <td>wren</td>\n",
       "      <td>0</td>\n",
       "      <td>1</td>\n",
       "      <td>1</td>\n",
       "      <td>0</td>\n",
       "      <td>1</td>\n",
       "      <td>0</td>\n",
       "      <td>0</td>\n",
       "      <td>0</td>\n",
       "      <td>1</td>\n",
       "      <td>1</td>\n",
       "      <td>0</td>\n",
       "      <td>0</td>\n",
       "      <td>2</td>\n",
       "      <td>1</td>\n",
       "      <td>0</td>\n",
       "      <td>0</td>\n",
       "      <td>2</td>\n",
       "    </tr>\n",
       "  </tbody>\n",
       "</table>\n",
       "<p>101 rows × 18 columns</p>\n",
       "</div>"
      ],
      "text/plain": [
       "    animal_name  hair  feathers  eggs  milk  airborne  aquatic  predator  \\\n",
       "0      aardvark     1         0     0     1         0        0         1   \n",
       "1      antelope     1         0     0     1         0        0         0   \n",
       "2          bass     0         0     1     0         0        1         1   \n",
       "3          bear     1         0     0     1         0        0         1   \n",
       "4          boar     1         0     0     1         0        0         1   \n",
       "..          ...   ...       ...   ...   ...       ...      ...       ...   \n",
       "96      wallaby     1         0     0     1         0        0         0   \n",
       "97         wasp     1         0     1     0         1        0         0   \n",
       "98         wolf     1         0     0     1         0        0         1   \n",
       "99         worm     0         0     1     0         0        0         0   \n",
       "100        wren     0         1     1     0         1        0         0   \n",
       "\n",
       "     toothed  backbone  breathes  venomous  fins  legs  tail  domestic  \\\n",
       "0          1         1         1         0     0     4     0         0   \n",
       "1          1         1         1         0     0     4     1         0   \n",
       "2          1         1         0         0     1     0     1         0   \n",
       "3          1         1         1         0     0     4     0         0   \n",
       "4          1         1         1         0     0     4     1         0   \n",
       "..       ...       ...       ...       ...   ...   ...   ...       ...   \n",
       "96         1         1         1         0     0     2     1         0   \n",
       "97         0         0         1         1     0     6     0         0   \n",
       "98         1         1         1         0     0     4     1         0   \n",
       "99         0         0         1         0     0     0     0         0   \n",
       "100        0         1         1         0     0     2     1         0   \n",
       "\n",
       "     catsize  class_type  \n",
       "0          1           1  \n",
       "1          1           1  \n",
       "2          0           4  \n",
       "3          1           1  \n",
       "4          1           1  \n",
       "..       ...         ...  \n",
       "96         1           1  \n",
       "97         0           6  \n",
       "98         1           1  \n",
       "99         0           7  \n",
       "100        0           2  \n",
       "\n",
       "[101 rows x 18 columns]"
      ]
     },
     "execution_count": 3,
     "metadata": {},
     "output_type": "execute_result"
    }
   ],
   "source": [
    "dataFrame"
   ]
  },
  {
   "cell_type": "code",
   "execution_count": 4,
   "metadata": {},
   "outputs": [
    {
     "name": "stdout",
     "output_type": "stream",
     "text": [
      "<class 'pandas.core.frame.DataFrame'>\n",
      "RangeIndex: 101 entries, 0 to 100\n",
      "Data columns (total 18 columns):\n",
      " #   Column       Non-Null Count  Dtype \n",
      "---  ------       --------------  ----- \n",
      " 0   animal_name  101 non-null    object\n",
      " 1   hair         101 non-null    int64 \n",
      " 2   feathers     101 non-null    int64 \n",
      " 3   eggs         101 non-null    int64 \n",
      " 4   milk         101 non-null    int64 \n",
      " 5   airborne     101 non-null    int64 \n",
      " 6   aquatic      101 non-null    int64 \n",
      " 7   predator     101 non-null    int64 \n",
      " 8   toothed      101 non-null    int64 \n",
      " 9   backbone     101 non-null    int64 \n",
      " 10  breathes     101 non-null    int64 \n",
      " 11  venomous     101 non-null    int64 \n",
      " 12  fins         101 non-null    int64 \n",
      " 13  legs         101 non-null    int64 \n",
      " 14  tail         101 non-null    int64 \n",
      " 15  domestic     101 non-null    int64 \n",
      " 16  catsize      101 non-null    int64 \n",
      " 17  class_type   101 non-null    int64 \n",
      "dtypes: int64(17), object(1)\n",
      "memory usage: 14.3+ KB\n"
     ]
    }
   ],
   "source": [
    "dataFrame.info()"
   ]
  },
  {
   "cell_type": "code",
   "execution_count": 5,
   "metadata": {},
   "outputs": [
    {
     "data": {
      "text/plain": [
       "animal_name    0\n",
       "hair           0\n",
       "feathers       0\n",
       "eggs           0\n",
       "milk           0\n",
       "airborne       0\n",
       "aquatic        0\n",
       "predator       0\n",
       "toothed        0\n",
       "backbone       0\n",
       "breathes       0\n",
       "venomous       0\n",
       "fins           0\n",
       "legs           0\n",
       "tail           0\n",
       "domestic       0\n",
       "catsize        0\n",
       "class_type     0\n",
       "dtype: int64"
      ]
     },
     "execution_count": 5,
     "metadata": {},
     "output_type": "execute_result"
    }
   ],
   "source": [
    "dataFrame.isnull().sum()"
   ]
  },
  {
   "cell_type": "code",
   "execution_count": 6,
   "metadata": {},
   "outputs": [
    {
     "data": {
      "text/html": [
       "<div>\n",
       "<style scoped>\n",
       "    .dataframe tbody tr th:only-of-type {\n",
       "        vertical-align: middle;\n",
       "    }\n",
       "\n",
       "    .dataframe tbody tr th {\n",
       "        vertical-align: top;\n",
       "    }\n",
       "\n",
       "    .dataframe thead th {\n",
       "        text-align: right;\n",
       "    }\n",
       "</style>\n",
       "<table border=\"1\" class=\"dataframe\">\n",
       "  <thead>\n",
       "    <tr style=\"text-align: right;\">\n",
       "      <th></th>\n",
       "      <th>hair</th>\n",
       "      <th>feathers</th>\n",
       "      <th>eggs</th>\n",
       "      <th>milk</th>\n",
       "      <th>airborne</th>\n",
       "      <th>aquatic</th>\n",
       "      <th>predator</th>\n",
       "      <th>toothed</th>\n",
       "      <th>backbone</th>\n",
       "      <th>breathes</th>\n",
       "      <th>venomous</th>\n",
       "      <th>fins</th>\n",
       "      <th>legs</th>\n",
       "      <th>tail</th>\n",
       "      <th>domestic</th>\n",
       "      <th>catsize</th>\n",
       "      <th>class_type</th>\n",
       "    </tr>\n",
       "  </thead>\n",
       "  <tbody>\n",
       "    <tr>\n",
       "      <th>count</th>\n",
       "      <td>101.000000</td>\n",
       "      <td>101.000000</td>\n",
       "      <td>101.000000</td>\n",
       "      <td>101.000000</td>\n",
       "      <td>101.000000</td>\n",
       "      <td>101.000000</td>\n",
       "      <td>101.000000</td>\n",
       "      <td>101.000000</td>\n",
       "      <td>101.000000</td>\n",
       "      <td>101.000000</td>\n",
       "      <td>101.000000</td>\n",
       "      <td>101.000000</td>\n",
       "      <td>101.000000</td>\n",
       "      <td>101.000000</td>\n",
       "      <td>101.000000</td>\n",
       "      <td>101.000000</td>\n",
       "      <td>101.000000</td>\n",
       "    </tr>\n",
       "    <tr>\n",
       "      <th>mean</th>\n",
       "      <td>0.425743</td>\n",
       "      <td>0.198020</td>\n",
       "      <td>0.584158</td>\n",
       "      <td>0.405941</td>\n",
       "      <td>0.237624</td>\n",
       "      <td>0.356436</td>\n",
       "      <td>0.554455</td>\n",
       "      <td>0.603960</td>\n",
       "      <td>0.821782</td>\n",
       "      <td>0.792079</td>\n",
       "      <td>0.079208</td>\n",
       "      <td>0.168317</td>\n",
       "      <td>2.841584</td>\n",
       "      <td>0.742574</td>\n",
       "      <td>0.128713</td>\n",
       "      <td>0.435644</td>\n",
       "      <td>2.831683</td>\n",
       "    </tr>\n",
       "    <tr>\n",
       "      <th>std</th>\n",
       "      <td>0.496921</td>\n",
       "      <td>0.400495</td>\n",
       "      <td>0.495325</td>\n",
       "      <td>0.493522</td>\n",
       "      <td>0.427750</td>\n",
       "      <td>0.481335</td>\n",
       "      <td>0.499505</td>\n",
       "      <td>0.491512</td>\n",
       "      <td>0.384605</td>\n",
       "      <td>0.407844</td>\n",
       "      <td>0.271410</td>\n",
       "      <td>0.376013</td>\n",
       "      <td>2.033385</td>\n",
       "      <td>0.439397</td>\n",
       "      <td>0.336552</td>\n",
       "      <td>0.498314</td>\n",
       "      <td>2.102709</td>\n",
       "    </tr>\n",
       "    <tr>\n",
       "      <th>min</th>\n",
       "      <td>0.000000</td>\n",
       "      <td>0.000000</td>\n",
       "      <td>0.000000</td>\n",
       "      <td>0.000000</td>\n",
       "      <td>0.000000</td>\n",
       "      <td>0.000000</td>\n",
       "      <td>0.000000</td>\n",
       "      <td>0.000000</td>\n",
       "      <td>0.000000</td>\n",
       "      <td>0.000000</td>\n",
       "      <td>0.000000</td>\n",
       "      <td>0.000000</td>\n",
       "      <td>0.000000</td>\n",
       "      <td>0.000000</td>\n",
       "      <td>0.000000</td>\n",
       "      <td>0.000000</td>\n",
       "      <td>1.000000</td>\n",
       "    </tr>\n",
       "    <tr>\n",
       "      <th>25%</th>\n",
       "      <td>0.000000</td>\n",
       "      <td>0.000000</td>\n",
       "      <td>0.000000</td>\n",
       "      <td>0.000000</td>\n",
       "      <td>0.000000</td>\n",
       "      <td>0.000000</td>\n",
       "      <td>0.000000</td>\n",
       "      <td>0.000000</td>\n",
       "      <td>1.000000</td>\n",
       "      <td>1.000000</td>\n",
       "      <td>0.000000</td>\n",
       "      <td>0.000000</td>\n",
       "      <td>2.000000</td>\n",
       "      <td>0.000000</td>\n",
       "      <td>0.000000</td>\n",
       "      <td>0.000000</td>\n",
       "      <td>1.000000</td>\n",
       "    </tr>\n",
       "    <tr>\n",
       "      <th>50%</th>\n",
       "      <td>0.000000</td>\n",
       "      <td>0.000000</td>\n",
       "      <td>1.000000</td>\n",
       "      <td>0.000000</td>\n",
       "      <td>0.000000</td>\n",
       "      <td>0.000000</td>\n",
       "      <td>1.000000</td>\n",
       "      <td>1.000000</td>\n",
       "      <td>1.000000</td>\n",
       "      <td>1.000000</td>\n",
       "      <td>0.000000</td>\n",
       "      <td>0.000000</td>\n",
       "      <td>4.000000</td>\n",
       "      <td>1.000000</td>\n",
       "      <td>0.000000</td>\n",
       "      <td>0.000000</td>\n",
       "      <td>2.000000</td>\n",
       "    </tr>\n",
       "    <tr>\n",
       "      <th>75%</th>\n",
       "      <td>1.000000</td>\n",
       "      <td>0.000000</td>\n",
       "      <td>1.000000</td>\n",
       "      <td>1.000000</td>\n",
       "      <td>0.000000</td>\n",
       "      <td>1.000000</td>\n",
       "      <td>1.000000</td>\n",
       "      <td>1.000000</td>\n",
       "      <td>1.000000</td>\n",
       "      <td>1.000000</td>\n",
       "      <td>0.000000</td>\n",
       "      <td>0.000000</td>\n",
       "      <td>4.000000</td>\n",
       "      <td>1.000000</td>\n",
       "      <td>0.000000</td>\n",
       "      <td>1.000000</td>\n",
       "      <td>4.000000</td>\n",
       "    </tr>\n",
       "    <tr>\n",
       "      <th>max</th>\n",
       "      <td>1.000000</td>\n",
       "      <td>1.000000</td>\n",
       "      <td>1.000000</td>\n",
       "      <td>1.000000</td>\n",
       "      <td>1.000000</td>\n",
       "      <td>1.000000</td>\n",
       "      <td>1.000000</td>\n",
       "      <td>1.000000</td>\n",
       "      <td>1.000000</td>\n",
       "      <td>1.000000</td>\n",
       "      <td>1.000000</td>\n",
       "      <td>1.000000</td>\n",
       "      <td>8.000000</td>\n",
       "      <td>1.000000</td>\n",
       "      <td>1.000000</td>\n",
       "      <td>1.000000</td>\n",
       "      <td>7.000000</td>\n",
       "    </tr>\n",
       "  </tbody>\n",
       "</table>\n",
       "</div>"
      ],
      "text/plain": [
       "             hair    feathers        eggs        milk    airborne     aquatic  \\\n",
       "count  101.000000  101.000000  101.000000  101.000000  101.000000  101.000000   \n",
       "mean     0.425743    0.198020    0.584158    0.405941    0.237624    0.356436   \n",
       "std      0.496921    0.400495    0.495325    0.493522    0.427750    0.481335   \n",
       "min      0.000000    0.000000    0.000000    0.000000    0.000000    0.000000   \n",
       "25%      0.000000    0.000000    0.000000    0.000000    0.000000    0.000000   \n",
       "50%      0.000000    0.000000    1.000000    0.000000    0.000000    0.000000   \n",
       "75%      1.000000    0.000000    1.000000    1.000000    0.000000    1.000000   \n",
       "max      1.000000    1.000000    1.000000    1.000000    1.000000    1.000000   \n",
       "\n",
       "         predator     toothed    backbone    breathes    venomous        fins  \\\n",
       "count  101.000000  101.000000  101.000000  101.000000  101.000000  101.000000   \n",
       "mean     0.554455    0.603960    0.821782    0.792079    0.079208    0.168317   \n",
       "std      0.499505    0.491512    0.384605    0.407844    0.271410    0.376013   \n",
       "min      0.000000    0.000000    0.000000    0.000000    0.000000    0.000000   \n",
       "25%      0.000000    0.000000    1.000000    1.000000    0.000000    0.000000   \n",
       "50%      1.000000    1.000000    1.000000    1.000000    0.000000    0.000000   \n",
       "75%      1.000000    1.000000    1.000000    1.000000    0.000000    0.000000   \n",
       "max      1.000000    1.000000    1.000000    1.000000    1.000000    1.000000   \n",
       "\n",
       "             legs        tail    domestic     catsize  class_type  \n",
       "count  101.000000  101.000000  101.000000  101.000000  101.000000  \n",
       "mean     2.841584    0.742574    0.128713    0.435644    2.831683  \n",
       "std      2.033385    0.439397    0.336552    0.498314    2.102709  \n",
       "min      0.000000    0.000000    0.000000    0.000000    1.000000  \n",
       "25%      2.000000    0.000000    0.000000    0.000000    1.000000  \n",
       "50%      4.000000    1.000000    0.000000    0.000000    2.000000  \n",
       "75%      4.000000    1.000000    0.000000    1.000000    4.000000  \n",
       "max      8.000000    1.000000    1.000000    1.000000    7.000000  "
      ]
     },
     "execution_count": 6,
     "metadata": {},
     "output_type": "execute_result"
    }
   ],
   "source": [
    "dataFrame.describe()"
   ]
  },
  {
   "cell_type": "code",
   "execution_count": 7,
   "metadata": {},
   "outputs": [],
   "source": [
    "dataFrame = dataFrame.drop(\"animal_name\", axis = 1)"
   ]
  },
  {
   "cell_type": "code",
   "execution_count": 8,
   "metadata": {},
   "outputs": [
    {
     "data": {
      "text/html": [
       "<div>\n",
       "<style scoped>\n",
       "    .dataframe tbody tr th:only-of-type {\n",
       "        vertical-align: middle;\n",
       "    }\n",
       "\n",
       "    .dataframe tbody tr th {\n",
       "        vertical-align: top;\n",
       "    }\n",
       "\n",
       "    .dataframe thead th {\n",
       "        text-align: right;\n",
       "    }\n",
       "</style>\n",
       "<table border=\"1\" class=\"dataframe\">\n",
       "  <thead>\n",
       "    <tr style=\"text-align: right;\">\n",
       "      <th></th>\n",
       "      <th>hair</th>\n",
       "      <th>feathers</th>\n",
       "      <th>eggs</th>\n",
       "      <th>milk</th>\n",
       "      <th>airborne</th>\n",
       "      <th>aquatic</th>\n",
       "      <th>predator</th>\n",
       "      <th>toothed</th>\n",
       "      <th>backbone</th>\n",
       "      <th>breathes</th>\n",
       "      <th>venomous</th>\n",
       "      <th>fins</th>\n",
       "      <th>legs</th>\n",
       "      <th>tail</th>\n",
       "      <th>domestic</th>\n",
       "      <th>catsize</th>\n",
       "      <th>class_type</th>\n",
       "    </tr>\n",
       "  </thead>\n",
       "  <tbody>\n",
       "    <tr>\n",
       "      <th>0</th>\n",
       "      <td>1</td>\n",
       "      <td>0</td>\n",
       "      <td>0</td>\n",
       "      <td>1</td>\n",
       "      <td>0</td>\n",
       "      <td>0</td>\n",
       "      <td>1</td>\n",
       "      <td>1</td>\n",
       "      <td>1</td>\n",
       "      <td>1</td>\n",
       "      <td>0</td>\n",
       "      <td>0</td>\n",
       "      <td>4</td>\n",
       "      <td>0</td>\n",
       "      <td>0</td>\n",
       "      <td>1</td>\n",
       "      <td>1</td>\n",
       "    </tr>\n",
       "    <tr>\n",
       "      <th>1</th>\n",
       "      <td>1</td>\n",
       "      <td>0</td>\n",
       "      <td>0</td>\n",
       "      <td>1</td>\n",
       "      <td>0</td>\n",
       "      <td>0</td>\n",
       "      <td>0</td>\n",
       "      <td>1</td>\n",
       "      <td>1</td>\n",
       "      <td>1</td>\n",
       "      <td>0</td>\n",
       "      <td>0</td>\n",
       "      <td>4</td>\n",
       "      <td>1</td>\n",
       "      <td>0</td>\n",
       "      <td>1</td>\n",
       "      <td>1</td>\n",
       "    </tr>\n",
       "    <tr>\n",
       "      <th>2</th>\n",
       "      <td>0</td>\n",
       "      <td>0</td>\n",
       "      <td>1</td>\n",
       "      <td>0</td>\n",
       "      <td>0</td>\n",
       "      <td>1</td>\n",
       "      <td>1</td>\n",
       "      <td>1</td>\n",
       "      <td>1</td>\n",
       "      <td>0</td>\n",
       "      <td>0</td>\n",
       "      <td>1</td>\n",
       "      <td>0</td>\n",
       "      <td>1</td>\n",
       "      <td>0</td>\n",
       "      <td>0</td>\n",
       "      <td>4</td>\n",
       "    </tr>\n",
       "    <tr>\n",
       "      <th>3</th>\n",
       "      <td>1</td>\n",
       "      <td>0</td>\n",
       "      <td>0</td>\n",
       "      <td>1</td>\n",
       "      <td>0</td>\n",
       "      <td>0</td>\n",
       "      <td>1</td>\n",
       "      <td>1</td>\n",
       "      <td>1</td>\n",
       "      <td>1</td>\n",
       "      <td>0</td>\n",
       "      <td>0</td>\n",
       "      <td>4</td>\n",
       "      <td>0</td>\n",
       "      <td>0</td>\n",
       "      <td>1</td>\n",
       "      <td>1</td>\n",
       "    </tr>\n",
       "    <tr>\n",
       "      <th>4</th>\n",
       "      <td>1</td>\n",
       "      <td>0</td>\n",
       "      <td>0</td>\n",
       "      <td>1</td>\n",
       "      <td>0</td>\n",
       "      <td>0</td>\n",
       "      <td>1</td>\n",
       "      <td>1</td>\n",
       "      <td>1</td>\n",
       "      <td>1</td>\n",
       "      <td>0</td>\n",
       "      <td>0</td>\n",
       "      <td>4</td>\n",
       "      <td>1</td>\n",
       "      <td>0</td>\n",
       "      <td>1</td>\n",
       "      <td>1</td>\n",
       "    </tr>\n",
       "  </tbody>\n",
       "</table>\n",
       "</div>"
      ],
      "text/plain": [
       "   hair  feathers  eggs  milk  airborne  aquatic  predator  toothed  backbone  \\\n",
       "0     1         0     0     1         0        0         1        1         1   \n",
       "1     1         0     0     1         0        0         0        1         1   \n",
       "2     0         0     1     0         0        1         1        1         1   \n",
       "3     1         0     0     1         0        0         1        1         1   \n",
       "4     1         0     0     1         0        0         1        1         1   \n",
       "\n",
       "   breathes  venomous  fins  legs  tail  domestic  catsize  class_type  \n",
       "0         1         0     0     4     0         0        1           1  \n",
       "1         1         0     0     4     1         0        1           1  \n",
       "2         0         0     1     0     1         0        0           4  \n",
       "3         1         0     0     4     0         0        1           1  \n",
       "4         1         0     0     4     1         0        1           1  "
      ]
     },
     "execution_count": 8,
     "metadata": {},
     "output_type": "execute_result"
    }
   ],
   "source": [
    "dataFrame.head()"
   ]
  },
  {
   "cell_type": "code",
   "execution_count": 9,
   "metadata": {},
   "outputs": [
    {
     "data": {
      "text/plain": [
       "backbone     -0.828845\n",
       "milk         -0.723683\n",
       "tail         -0.631830\n",
       "hair         -0.562384\n",
       "catsize      -0.521030\n",
       "breathes     -0.519308\n",
       "toothed      -0.471527\n",
       "feathers     -0.197520\n",
       "domestic     -0.181043\n",
       "airborne      0.022677\n",
       "predator      0.061179\n",
       "fins          0.099430\n",
       "legs          0.131693\n",
       "venomous      0.321476\n",
       "aquatic       0.326639\n",
       "eggs          0.661825\n",
       "class_type    1.000000\n",
       "Name: class_type, dtype: float64"
      ]
     },
     "execution_count": 9,
     "metadata": {},
     "output_type": "execute_result"
    }
   ],
   "source": [
    "dataFrame.corr()[\"class_type\"].sort_values()"
   ]
  },
  {
   "cell_type": "code",
   "execution_count": 10,
   "metadata": {},
   "outputs": [
    {
     "data": {
      "text/plain": [
       "<AxesSubplot:xlabel='class_type', ylabel='count'>"
      ]
     },
     "execution_count": 10,
     "metadata": {},
     "output_type": "execute_result"
    },
    {
     "data": {
      "image/png": "[encoded data removed]",
      "text/plain": [
       "<Figure size 432x288 with 1 Axes>"
      ]
     },
     "metadata": {
      "needs_background": "light"
     },
     "output_type": "display_data"
    }
   ],
   "source": [
    "sbn.countplot(x = \"class_type\", data = dataFrame)"
   ]
  },
  {
   "cell_type": "code",
   "execution_count": 11,
   "metadata": {},
   "outputs": [],
   "source": [
    "y = dataFrame[\"class_type\"].values\n",
    "x = dataFrame.drop(\"class_type\", axis = 1).values"
   ]
  },
  {
   "cell_type": "code",
   "execution_count": 12,
   "metadata": {},
   "outputs": [],
   "source": [
    "from sklearn.model_selection import train_test_split"
   ]
  },
  {
   "cell_type": "code",
   "execution_count": 13,
   "metadata": {},
   "outputs": [],
   "source": [
    "x_train, x_test, y_train, y_test = train_test_split(x, y, test_size = 0.2, random_state = 15)"
   ]
  },
  {
   "cell_type": "code",
   "execution_count": 14,
   "metadata": {},
   "outputs": [],
   "source": [
    "import tensorflow as tf\n",
    "from tensorflow.keras.models import Sequential\n",
    "from tensorflow.keras.layers import Dense, Activation, Dropout\n",
    "from tensorflow.keras.callbacks import EarlyStopping"
   ]
  },
  {
   "cell_type": "code",
   "execution_count": 15,
   "metadata": {},
   "outputs": [
    {
     "data": {
      "text/plain": [
       "(80, 16)"
      ]
     },
     "execution_count": 15,
     "metadata": {},
     "output_type": "execute_result"
    }
   ],
   "source": [
    "x_train.shape"
   ]
  },
  {
   "cell_type": "code",
   "execution_count": 16,
   "metadata": {},
   "outputs": [],
   "source": [
    "model = Sequential()\n",
    "\n",
    "model.add(Dense(units=16, activation=\"relu\"))\n",
    "model.add(Dense(units=8, activation=\"relu\"))\n",
    "model.add(Dense(units=8, activation=\"relu\"))\n",
    "\n",
    "model.add(Dense(units=1, activation=\"relu\"))\n",
    "\n",
    "model.compile(loss=\"mse\", optimizer=\"adam\")"
   ]
  },
  {
   "cell_type": "code",
   "execution_count": 17,
   "metadata": {},
   "outputs": [
    {
     "name": "stdout",
     "output_type": "stream",
     "text": [
      "Epoch 1/22\n",
      "3/3 [==============================] - 1s 264ms/step - loss: 12.2910 - val_loss: 12.4679\n",
      "Epoch 2/22\n",
      "3/3 [==============================] - 0s 25ms/step - loss: 12.1978 - val_loss: 12.3690\n",
      "Epoch 3/22\n",
      "3/3 [==============================] - 0s 25ms/step - loss: 12.0742 - val_loss: 12.2344\n",
      "Epoch 4/22\n",
      "3/3 [==============================] - 0s 22ms/step - loss: 11.9330 - val_loss: 12.0845\n",
      "Epoch 5/22\n",
      "3/3 [==============================] - 0s 54ms/step - loss: 11.7860 - val_loss: 11.9306\n",
      "Epoch 6/22\n",
      "3/3 [==============================] - 0s 19ms/step - loss: 11.6435 - val_loss: 11.7645\n",
      "Epoch 7/22\n",
      "3/3 [==============================] - 0s 18ms/step - loss: 11.4847 - val_loss: 11.5880\n",
      "Epoch 8/22\n",
      "3/3 [==============================] - 0s 23ms/step - loss: 11.3062 - val_loss: 11.4094\n",
      "Epoch 9/22\n",
      "3/3 [==============================] - 0s 17ms/step - loss: 11.1366 - val_loss: 11.2223\n",
      "Epoch 10/22\n",
      "3/3 [==============================] - 0s 23ms/step - loss: 10.9540 - val_loss: 11.0248\n",
      "Epoch 11/22\n",
      "3/3 [==============================] - 0s 26ms/step - loss: 10.7663 - val_loss: 10.8208\n",
      "Epoch 12/22\n",
      "3/3 [==============================] - 0s 22ms/step - loss: 10.5654 - val_loss: 10.5944\n",
      "Epoch 13/22\n",
      "3/3 [==============================] - 0s 21ms/step - loss: 10.3607 - val_loss: 10.3521\n",
      "Epoch 14/22\n",
      "3/3 [==============================] - 0s 26ms/step - loss: 10.1350 - val_loss: 10.1019\n",
      "Epoch 15/22\n",
      "3/3 [==============================] - 0s 16ms/step - loss: 9.9172 - val_loss: 9.8331\n",
      "Epoch 16/22\n",
      "3/3 [==============================] - 0s 17ms/step - loss: 9.6747 - val_loss: 9.5466\n",
      "Epoch 17/22\n",
      "3/3 [==============================] - 0s 15ms/step - loss: 9.4236 - val_loss: 9.2442\n",
      "Epoch 18/22\n",
      "3/3 [==============================] - 0s 16ms/step - loss: 9.1650 - val_loss: 8.9319\n",
      "Epoch 19/22\n",
      "3/3 [==============================] - 0s 17ms/step - loss: 8.8906 - val_loss: 8.6123\n",
      "Epoch 20/22\n",
      "3/3 [==============================] - 0s 16ms/step - loss: 8.6308 - val_loss: 8.2803\n",
      "Epoch 21/22\n",
      "3/3 [==============================] - 0s 13ms/step - loss: 8.3914 - val_loss: 7.9326\n",
      "Epoch 22/22\n",
      "3/3 [==============================] - 0s 17ms/step - loss: 8.1168 - val_loss: 7.5852\n"
     ]
    },
    {
     "data": {
      "text/plain": [
       "<tensorflow.python.keras.callbacks.History at 0x1c55efc3700>"
      ]
     },
     "execution_count": 17,
     "metadata": {},
     "output_type": "execute_result"
    }
   ],
   "source": [
    "model.fit(x=x_train, y=y_train, epochs=22, validation_data=(x_test, y_test))"
   ]
  },
  {
   "cell_type": "code",
   "execution_count": 18,
   "metadata": {},
   "outputs": [],
   "source": [
    "modelKaybi = pd.DataFrame(model.history.history)"
   ]
  },
  {
   "cell_type": "code",
   "execution_count": 19,
   "metadata": {},
   "outputs": [
    {
     "data": {
      "text/plain": [
       "<AxesSubplot:>"
      ]
     },
     "execution_count": 19,
     "metadata": {},
     "output_type": "execute_result"
    },
    {
     "data": {
      "image/png": "[encoded data removed]",
      "text/plain": [
       "<Figure size 432x288 with 1 Axes>"
      ]
     },
     "metadata": {
      "needs_background": "light"
     },
     "output_type": "display_data"
    }
   ],
   "source": [
    "modelKaybi.plot()"
   ]
  },
  {
   "cell_type": "code",
   "execution_count": 20,
   "metadata": {},
   "outputs": [],
   "source": [
    "tahminlerimiz = model.predict(x_test).round()"
   ]
  },
  {
   "cell_type": "code",
   "execution_count": 21,
   "metadata": {},
   "outputs": [
    {
     "data": {
      "text/plain": [
       "array([[1.],\n",
       "       [1.],\n",
       "       [1.],\n",
       "       [1.],\n",
       "       [1.],\n",
       "       [1.],\n",
       "       [1.],\n",
       "       [1.],\n",
       "       [1.],\n",
       "       [1.],\n",
       "       [1.],\n",
       "       [1.],\n",
       "       [1.],\n",
       "       [1.],\n",
       "       [1.],\n",
       "       [1.],\n",
       "       [1.],\n",
       "       [1.],\n",
       "       [1.],\n",
       "       [1.],\n",
       "       [1.]], dtype=float32)"
      ]
     },
     "execution_count": 21,
     "metadata": {},
     "output_type": "execute_result"
    }
   ],
   "source": [
    "tahminlerimiz"
   ]
  },
  {
   "cell_type": "code",
   "execution_count": 22,
   "metadata": {},
   "outputs": [],
   "source": [
    "ozellikler=[[1,0,0,1,0,0,1,1,1,1,0,0,4,0,0,1]]"
   ]
  },
  {
   "cell_type": "code",
   "execution_count": 23,
   "metadata": {},
   "outputs": [
    {
     "data": {
      "text/plain": [
       "array([[1.205544]], dtype=float32)"
      ]
     },
     "execution_count": 23,
     "metadata": {},
     "output_type": "execute_result"
    }
   ],
   "source": [
    "model.predict(ozellikler)"
   ]
  },
  {
   "cell_type": "code",
   "execution_count": 24,
   "metadata": {},
   "outputs": [],
   "source": [
    "earlyStopping = EarlyStopping(monitor=\"val_loss\", mode=\"min\", verbose=1, patience=10)"
   ]
  },
  {
   "cell_type": "code",
   "execution_count": 25,
   "metadata": {},
   "outputs": [
    {
     "name": "stdout",
     "output_type": "stream",
     "text": [
      "Epoch 1/300\n",
      "3/3 [==============================] - 0s 54ms/step - loss: 7.8378 - val_loss: 7.2373\n",
      "Epoch 2/300\n",
      "3/3 [==============================] - 0s 20ms/step - loss: 7.5779 - val_loss: 6.8936\n",
      "Epoch 3/300\n",
      "3/3 [==============================] - 0s 17ms/step - loss: 7.3345 - val_loss: 6.5517\n",
      "Epoch 4/300\n",
      "3/3 [==============================] - 0s 20ms/step - loss: 7.0771 - val_loss: 6.2174\n",
      "Epoch 5/300\n",
      "3/3 [==============================] - 0s 17ms/step - loss: 6.8335 - val_loss: 5.8878\n",
      "Epoch 6/300\n",
      "3/3 [==============================] - 0s 18ms/step - loss: 6.6008 - val_loss: 5.5624\n",
      "Epoch 7/300\n",
      "3/3 [==============================] - 0s 17ms/step - loss: 6.3820 - val_loss: 5.2382\n",
      "Epoch 8/300\n",
      "3/3 [==============================] - 0s 24ms/step - loss: 6.1802 - val_loss: 4.9247\n",
      "Epoch 9/300\n",
      "3/3 [==============================] - 0s 17ms/step - loss: 5.9368 - val_loss: 4.6297\n",
      "Epoch 10/300\n",
      "3/3 [==============================] - 0s 22ms/step - loss: 5.6999 - val_loss: 4.3399\n",
      "Epoch 11/300\n",
      "3/3 [==============================] - 0s 23ms/step - loss: 5.4813 - val_loss: 4.0657\n",
      "Epoch 12/300\n",
      "3/3 [==============================] - 0s 27ms/step - loss: 5.2935 - val_loss: 3.8105\n",
      "Epoch 13/300\n",
      "3/3 [==============================] - 0s 18ms/step - loss: 5.0419 - val_loss: 3.5977\n",
      "Epoch 14/300\n",
      "3/3 [==============================] - 0s 20ms/step - loss: 4.8301 - val_loss: 3.3965\n",
      "Epoch 15/300\n",
      "3/3 [==============================] - 0s 20ms/step - loss: 4.6526 - val_loss: 3.2111\n",
      "Epoch 16/300\n",
      "3/3 [==============================] - 0s 21ms/step - loss: 4.4652 - val_loss: 3.0468\n",
      "Epoch 17/300\n",
      "3/3 [==============================] - 0s 16ms/step - loss: 4.2954 - val_loss: 2.8979\n",
      "Epoch 18/300\n",
      "3/3 [==============================] - 0s 18ms/step - loss: 4.1176 - val_loss: 2.7640\n",
      "Epoch 19/300\n",
      "3/3 [==============================] - 0s 19ms/step - loss: 3.9472 - val_loss: 2.6356\n",
      "Epoch 20/300\n",
      "3/3 [==============================] - 0s 19ms/step - loss: 3.7639 - val_loss: 2.5097\n",
      "Epoch 21/300\n",
      "3/3 [==============================] - 0s 18ms/step - loss: 3.5983 - val_loss: 2.3799\n",
      "Epoch 22/300\n",
      "3/3 [==============================] - 0s 19ms/step - loss: 3.4272 - val_loss: 2.2512\n",
      "Epoch 23/300\n",
      "3/3 [==============================] - 0s 21ms/step - loss: 3.2592 - val_loss: 2.1292\n",
      "Epoch 24/300\n",
      "3/3 [==============================] - 0s 20ms/step - loss: 3.1039 - val_loss: 2.0074\n",
      "Epoch 25/300\n",
      "3/3 [==============================] - 0s 18ms/step - loss: 2.9606 - val_loss: 1.8884\n",
      "Epoch 26/300\n",
      "3/3 [==============================] - 0s 19ms/step - loss: 2.8159 - val_loss: 1.7756\n",
      "Epoch 27/300\n",
      "3/3 [==============================] - 0s 23ms/step - loss: 2.6731 - val_loss: 1.6705\n",
      "Epoch 28/300\n",
      "3/3 [==============================] - 0s 18ms/step - loss: 2.5511 - val_loss: 1.5739\n",
      "Epoch 29/300\n",
      "3/3 [==============================] - 0s 19ms/step - loss: 2.4208 - val_loss: 1.4860\n",
      "Epoch 30/300\n",
      "3/3 [==============================] - 0s 21ms/step - loss: 2.3019 - val_loss: 1.4063\n",
      "Epoch 31/300\n",
      "3/3 [==============================] - 0s 16ms/step - loss: 2.2077 - val_loss: 1.3376\n",
      "Epoch 32/300\n",
      "3/3 [==============================] - 0s 23ms/step - loss: 2.0882 - val_loss: 1.2669\n",
      "Epoch 33/300\n",
      "3/3 [==============================] - 0s 14ms/step - loss: 2.0126 - val_loss: 1.2047\n",
      "Epoch 34/300\n",
      "3/3 [==============================] - 0s 19ms/step - loss: 1.9102 - val_loss: 1.1379\n",
      "Epoch 35/300\n",
      "3/3 [==============================] - 0s 17ms/step - loss: 1.8264 - val_loss: 1.0782\n",
      "Epoch 36/300\n",
      "3/3 [==============================] - 0s 17ms/step - loss: 1.7529 - val_loss: 1.0164\n",
      "Epoch 37/300\n",
      "3/3 [==============================] - 0s 21ms/step - loss: 1.6822 - val_loss: 0.9626\n",
      "Epoch 38/300\n",
      "3/3 [==============================] - 0s 16ms/step - loss: 1.6205 - val_loss: 0.9145\n",
      "Epoch 39/300\n",
      "3/3 [==============================] - 0s 18ms/step - loss: 1.5504 - val_loss: 0.8584\n",
      "Epoch 40/300\n",
      "3/3 [==============================] - 0s 20ms/step - loss: 1.4921 - val_loss: 0.8088\n",
      "Epoch 41/300\n",
      "3/3 [==============================] - 0s 21ms/step - loss: 1.4404 - val_loss: 0.7620\n",
      "Epoch 42/300\n",
      "3/3 [==============================] - 0s 19ms/step - loss: 1.3896 - val_loss: 0.7236\n",
      "Epoch 43/300\n",
      "3/3 [==============================] - 0s 21ms/step - loss: 1.3417 - val_loss: 0.6821\n",
      "Epoch 44/300\n",
      "3/3 [==============================] - 0s 20ms/step - loss: 1.2961 - val_loss: 0.6469\n",
      "Epoch 45/300\n",
      "3/3 [==============================] - 0s 21ms/step - loss: 1.2627 - val_loss: 0.6146\n",
      "Epoch 46/300\n",
      "3/3 [==============================] - 0s 18ms/step - loss: 1.2224 - val_loss: 0.5826\n",
      "Epoch 47/300\n",
      "3/3 [==============================] - 0s 20ms/step - loss: 1.1841 - val_loss: 0.5471\n",
      "Epoch 48/300\n",
      "3/3 [==============================] - 0s 21ms/step - loss: 1.1531 - val_loss: 0.5187\n",
      "Epoch 49/300\n",
      "3/3 [==============================] - 0s 31ms/step - loss: 1.1202 - val_loss: 0.4886\n",
      "Epoch 50/300\n",
      "3/3 [==============================] - 0s 18ms/step - loss: 1.0924 - val_loss: 0.4631\n",
      "Epoch 51/300\n",
      "3/3 [==============================] - 0s 17ms/step - loss: 1.0598 - val_loss: 0.4322\n",
      "Epoch 52/300\n",
      "3/3 [==============================] - 0s 19ms/step - loss: 1.0328 - val_loss: 0.4037\n",
      "Epoch 53/300\n",
      "3/3 [==============================] - 0s 18ms/step - loss: 1.0035 - val_loss: 0.3771\n",
      "Epoch 54/300\n",
      "3/3 [==============================] - 0s 21ms/step - loss: 0.9754 - val_loss: 0.3566\n",
      "Epoch 55/300\n",
      "3/3 [==============================] - 0s 16ms/step - loss: 0.9488 - val_loss: 0.3381\n",
      "Epoch 56/300\n",
      "3/3 [==============================] - 0s 20ms/step - loss: 0.9178 - val_loss: 0.3149\n",
      "Epoch 57/300\n",
      "3/3 [==============================] - 0s 17ms/step - loss: 0.8925 - val_loss: 0.2970\n",
      "Epoch 58/300\n",
      "3/3 [==============================] - 0s 19ms/step - loss: 0.8628 - val_loss: 0.2797\n",
      "Epoch 59/300\n",
      "3/3 [==============================] - 0s 14ms/step - loss: 0.8354 - val_loss: 0.2651\n",
      "Epoch 60/300\n",
      "3/3 [==============================] - 0s 15ms/step - loss: 0.8165 - val_loss: 0.2543\n",
      "Epoch 61/300\n",
      "3/3 [==============================] - 0s 18ms/step - loss: 0.7902 - val_loss: 0.2414\n",
      "Epoch 62/300\n",
      "3/3 [==============================] - 0s 18ms/step - loss: 0.7645 - val_loss: 0.2297\n",
      "Epoch 63/300\n",
      "3/3 [==============================] - 0s 14ms/step - loss: 0.7431 - val_loss: 0.2208\n",
      "Epoch 64/300\n",
      "3/3 [==============================] - 0s 16ms/step - loss: 0.7197 - val_loss: 0.2109\n",
      "Epoch 65/300\n",
      "3/3 [==============================] - 0s 17ms/step - loss: 0.6974 - val_loss: 0.2029\n",
      "Epoch 66/300\n",
      "3/3 [==============================] - 0s 17ms/step - loss: 0.6768 - val_loss: 0.1963\n",
      "Epoch 67/300\n",
      "3/3 [==============================] - 0s 18ms/step - loss: 0.6583 - val_loss: 0.1917\n",
      "Epoch 68/300\n",
      "3/3 [==============================] - 0s 19ms/step - loss: 0.6401 - val_loss: 0.1881\n",
      "Epoch 69/300\n",
      "3/3 [==============================] - 0s 17ms/step - loss: 0.6188 - val_loss: 0.1846\n",
      "Epoch 70/300\n",
      "3/3 [==============================] - 0s 16ms/step - loss: 0.6029 - val_loss: 0.1826\n",
      "Epoch 71/300\n",
      "3/3 [==============================] - 0s 18ms/step - loss: 0.5825 - val_loss: 0.1811\n",
      "Epoch 72/300\n",
      "3/3 [==============================] - 0s 24ms/step - loss: 0.5695 - val_loss: 0.1805\n",
      "Epoch 73/300\n",
      "3/3 [==============================] - 0s 15ms/step - loss: 0.5516 - val_loss: 0.1806\n",
      "Epoch 74/300\n",
      "3/3 [==============================] - 0s 16ms/step - loss: 0.5373 - val_loss: 0.1817\n",
      "Epoch 75/300\n",
      "3/3 [==============================] - 0s 17ms/step - loss: 0.5219 - val_loss: 0.1824\n",
      "Epoch 76/300\n",
      "3/3 [==============================] - 0s 15ms/step - loss: 0.5062 - val_loss: 0.1799\n",
      "Epoch 77/300\n",
      "3/3 [==============================] - 0s 17ms/step - loss: 0.4916 - val_loss: 0.1800\n",
      "Epoch 78/300\n",
      "3/3 [==============================] - 0s 15ms/step - loss: 0.4796 - val_loss: 0.1772\n",
      "Epoch 79/300\n",
      "3/3 [==============================] - 0s 18ms/step - loss: 0.4632 - val_loss: 0.1776\n",
      "Epoch 80/300\n",
      "3/3 [==============================] - 0s 18ms/step - loss: 0.4504 - val_loss: 0.1764\n",
      "Epoch 81/300\n",
      "3/3 [==============================] - 0s 16ms/step - loss: 0.4354 - val_loss: 0.1754\n",
      "Epoch 82/300\n",
      "3/3 [==============================] - 0s 22ms/step - loss: 0.4229 - val_loss: 0.1753\n",
      "Epoch 83/300\n",
      "3/3 [==============================] - 0s 18ms/step - loss: 0.4103 - val_loss: 0.1781\n"
     ]
    },
    {
     "name": "stdout",
     "output_type": "stream",
     "text": [
      "Epoch 84/300\n",
      "3/3 [==============================] - 0s 18ms/step - loss: 0.3972 - val_loss: 0.1786\n",
      "Epoch 85/300\n",
      "3/3 [==============================] - 0s 18ms/step - loss: 0.3846 - val_loss: 0.1816\n",
      "Epoch 86/300\n",
      "3/3 [==============================] - 0s 17ms/step - loss: 0.3713 - val_loss: 0.1792\n",
      "Epoch 87/300\n",
      "3/3 [==============================] - 0s 14ms/step - loss: 0.3615 - val_loss: 0.1761\n",
      "Epoch 88/300\n",
      "3/3 [==============================] - 0s 15ms/step - loss: 0.3492 - val_loss: 0.1755\n",
      "Epoch 89/300\n",
      "3/3 [==============================] - 0s 19ms/step - loss: 0.3384 - val_loss: 0.1751\n",
      "Epoch 90/300\n",
      "3/3 [==============================] - 0s 17ms/step - loss: 0.3294 - val_loss: 0.1716\n",
      "Epoch 91/300\n",
      "3/3 [==============================] - 0s 16ms/step - loss: 0.3174 - val_loss: 0.1709\n",
      "Epoch 92/300\n",
      "3/3 [==============================] - 0s 15ms/step - loss: 0.3083 - val_loss: 0.1675\n",
      "Epoch 93/300\n",
      "3/3 [==============================] - 0s 15ms/step - loss: 0.2987 - val_loss: 0.1668\n",
      "Epoch 94/300\n",
      "3/3 [==============================] - 0s 17ms/step - loss: 0.2886 - val_loss: 0.1658\n",
      "Epoch 95/300\n",
      "3/3 [==============================] - 0s 14ms/step - loss: 0.2773 - val_loss: 0.1660\n",
      "Epoch 96/300\n",
      "3/3 [==============================] - 0s 17ms/step - loss: 0.2674 - val_loss: 0.1648\n",
      "Epoch 97/300\n",
      "3/3 [==============================] - 0s 14ms/step - loss: 0.2585 - val_loss: 0.1656\n",
      "Epoch 98/300\n",
      "3/3 [==============================] - 0s 16ms/step - loss: 0.2485 - val_loss: 0.1685\n",
      "Epoch 99/300\n",
      "3/3 [==============================] - 0s 15ms/step - loss: 0.2400 - val_loss: 0.1697\n",
      "Epoch 100/300\n",
      "3/3 [==============================] - 0s 14ms/step - loss: 0.2296 - val_loss: 0.1709\n",
      "Epoch 101/300\n",
      "3/3 [==============================] - 0s 15ms/step - loss: 0.2232 - val_loss: 0.1678\n",
      "Epoch 102/300\n",
      "3/3 [==============================] - 0s 15ms/step - loss: 0.2143 - val_loss: 0.1682\n",
      "Epoch 103/300\n",
      "3/3 [==============================] - 0s 16ms/step - loss: 0.2082 - val_loss: 0.1673\n",
      "Epoch 104/300\n",
      "3/3 [==============================] - 0s 15ms/step - loss: 0.1995 - val_loss: 0.1695\n",
      "Epoch 105/300\n",
      "3/3 [==============================] - 0s 17ms/step - loss: 0.1937 - val_loss: 0.1740\n",
      "Epoch 106/300\n",
      "3/3 [==============================] - 0s 33ms/step - loss: 0.1879 - val_loss: 0.1787\n",
      "Epoch 00106: early stopping\n"
     ]
    },
    {
     "data": {
      "text/plain": [
       "<tensorflow.python.keras.callbacks.History at 0x1c5605e9df0>"
      ]
     },
     "execution_count": 25,
     "metadata": {},
     "output_type": "execute_result"
    }
   ],
   "source": [
    "model.fit(x=x_train, y=y_train, epochs=300, validation_data=(x_test, y_test), verbose=1, callbacks=[earlyStopping])"
   ]
  },
  {
   "cell_type": "code",
   "execution_count": 26,
   "metadata": {},
   "outputs": [],
   "source": [
    "kayipDf = pd.DataFrame(model.history.history)"
   ]
  },
  {
   "cell_type": "code",
   "execution_count": 27,
   "metadata": {},
   "outputs": [
    {
     "data": {
      "text/plain": [
       "<AxesSubplot:>"
      ]
     },
     "execution_count": 27,
     "metadata": {},
     "output_type": "execute_result"
    },
    {
     "data": {
      "image/png": "[encoded data removed]",
      "text/plain": [
       "<Figure size 432x288 with 1 Axes>"
      ]
     },
     "metadata": {
      "needs_background": "light"
     },
     "output_type": "display_data"
    }
   ],
   "source": [
    "kayipDf.plot()"
   ]
  },
  {
   "cell_type": "code",
   "execution_count": 28,
   "metadata": {},
   "outputs": [],
   "source": [
    "ayi = [[1,0,0,1,0,0,1,1,1,1,0,0,4,0,0,1]]"
   ]
  },
  {
   "cell_type": "code",
   "execution_count": 29,
   "metadata": {},
   "outputs": [
    {
     "data": {
      "text/plain": [
       "array([[1.]], dtype=float32)"
      ]
     },
     "execution_count": 29,
     "metadata": {},
     "output_type": "execute_result"
    }
   ],
   "source": [
    "model.predict(ayi).round()"
   ]
  },
  {
   "cell_type": "code",
   "execution_count": 30,
   "metadata": {},
   "outputs": [],
   "source": [
    "balik = [[0,0,1,0,0,1,1,1,1,0,0,1,0,1,0,0]]"
   ]
  },
  {
   "cell_type": "code",
   "execution_count": 31,
   "metadata": {},
   "outputs": [
    {
     "data": {
      "text/plain": [
       "array([[4.]], dtype=float32)"
      ]
     },
     "execution_count": 31,
     "metadata": {},
     "output_type": "execute_result"
    }
   ],
   "source": [
    "model.predict(balik).round()"
   ]
  },
  {
   "cell_type": "code",
   "execution_count": 36,
   "metadata": {},
   "outputs": [],
   "source": [
    "solucan = [[0,0,1,0,0,0,0,0,0,1,0,0,0,0,0,0]]"
   ]
  },
  {
   "cell_type": "code",
   "execution_count": 37,
   "metadata": {},
   "outputs": [
    {
     "data": {
      "text/plain": [
       "array([[5.]], dtype=float32)"
      ]
     },
     "execution_count": 37,
     "metadata": {},
     "output_type": "execute_result"
    }
   ],
   "source": [
    "model.predict(solucan).round()"
   ]
  },
  {
   "cell_type": "code",
   "execution_count": 34,
   "metadata": {},
   "outputs": [],
   "source": [
    "ari = [[1,0,1,0,1,0,0,0,0,1,1,0,6,0,0,0]]"
   ]
  },
  {
   "cell_type": "code",
   "execution_count": 35,
   "metadata": {},
   "outputs": [
    {
     "data": {
      "text/plain": [
       "array([[6.]], dtype=float32)"
      ]
     },
     "execution_count": 35,
     "metadata": {},
     "output_type": "execute_result"
    }
   ],
   "source": [
    "model.predict(ari).round()"
   ]
  },
  {
   "cell_type": "code",
   "execution_count": null,
   "metadata": {},
   "outputs": [],
   "source": []
  }
 ],
 "metadata": {
  "kernelspec": {
   "display_name": "Python 3",
   "language": "python",
   "name": "python3"
  },
  "language_info": {
   "codemirror_mode": {
    "name": "ipython",
    "version": 3
   },
   "file_extension": ".py",
   "mimetype": "text/x-python",
   "name": "python",
   "nbconvert_exporter": "python",
   "pygments_lexer": "ipython3",
   "version": "3.8.5"
  }
 },
 "nbformat": 4,
 "nbformat_minor": 4
}
