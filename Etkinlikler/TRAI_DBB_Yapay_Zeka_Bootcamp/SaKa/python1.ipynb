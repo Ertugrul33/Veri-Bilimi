{
 "cells": [
  {
   "cell_type": "code",
   "execution_count": null,
   "metadata": {},
   "outputs": [],
   "source": []
  },
  {
   "cell_type": "code",
   "execution_count": null,
   "metadata": {},
   "outputs": [
    {
     "name": "stdout",
     "output_type": "stream",
     "text": [
      "1\n"
     ]
    }
   ],
   "source": [
    "i=1\n",
    "carp=1\n",
    "while i !=0:\n",
    "    carp *=i\n",
    "    print(carp)\n",
    "    x=int(input(\"sayi giriniz:\"))"
   ]
  },
  {
   "cell_type": "code",
   "execution_count": null,
   "metadata": {},
   "outputs": [],
   "source": [
    "x = 200\n",
    "print(isinstance(x, int)) # x int türünde midir "
   ]
  },
  {
   "cell_type": "code",
   "execution_count": null,
   "metadata": {},
   "outputs": [],
   "source": [
    "#4 den başlayarak 55 e kadar sayıları 10 ar 10 ar artırarak yazdırma\n"
   ]
  },
  {
   "cell_type": "code",
   "execution_count": null,
   "metadata": {},
   "outputs": [],
   "source": [
    "for x in range(4,55,10):\n",
    "    print(x)"
   ]
  },
  {
   "cell_type": "code",
   "execution_count": null,
   "metadata": {},
   "outputs": [],
   "source": [
    "#Python for loop break/continue kullanımı"
   ]
  },
  {
   "cell_type": "code",
   "execution_count": null,
   "metadata": {},
   "outputs": [],
   "source": [
    "#Durum1:listede x harfi bulursa döngüden çık(break)\n",
    "#Durum 2 : x harfi bulursan o sırayı atla(continue)"
   ]
  },
  {
   "cell_type": "code",
   "execution_count": null,
   "metadata": {},
   "outputs": [],
   "source": [
    "metin = \"merhaba, x iyi misin ?\"\n",
    "for x in metin:\n",
    "    if x==\"x\":\n",
    "        break\n",
    "    print(x)"
   ]
  },
  {
   "cell_type": "code",
   "execution_count": null,
   "metadata": {},
   "outputs": [],
   "source": [
    "metin = \"merhaba, x iyi misin ?\"\n",
    "for x in metin:\n",
    "    if x==\"x\":\n",
    "        continue\n",
    "    print(x)"
   ]
  },
  {
   "cell_type": "code",
   "execution_count": null,
   "metadata": {},
   "outputs": [],
   "source": [
    "#Python Booleans\n",
    "\n",
    "print(10>9)"
   ]
  },
  {
   "cell_type": "code",
   "execution_count": null,
   "metadata": {},
   "outputs": [],
   "source": [
    "\n",
    "x=int(input(\"sayi 1 giriniz\"))\n",
    "y=int(input(\"sayi 2 giriniz\"))\n",
    "if x>y:\n",
    "    print(\"x, y den büyük\")\n",
    "elif y>x:\n",
    "    print(\"y, x den büyüktür\")\n",
    "else:\n",
    "    print(\"x ve y birbirine eşitir\")"
   ]
  },
  {
   "cell_type": "code",
   "execution_count": null,
   "metadata": {},
   "outputs": [],
   "source": [
    "x=20\n",
    "y=6"
   ]
  },
  {
   "cell_type": "code",
   "execution_count": null,
   "metadata": {},
   "outputs": [],
   "source": [
    "x//y # floor division \n"
   ]
  },
  {
   "cell_type": "code",
   "execution_count": 6,
   "metadata": {},
   "outputs": [
    {
     "name": "stdout",
     "output_type": "stream",
     "text": [
      "sayi 1 giriniz10\n",
      "sayi 2 giriniz20\n",
      "y, x den büyüktür\n"
     ]
    }
   ],
   "source": [
    "\n",
    "x=int(input(\"sayi 1 giriniz\"))\n",
    "y=int(input(\"sayi 2 giriniz\"))\n"
   ]
  },
  {
   "cell_type": "code",
   "execution_count": null,
   "metadata": {},
   "outputs": [
    {
     "name": "stdout",
     "output_type": "stream",
     "text": [
      "İlk sayıyı giriniz: 10\n",
      "İkinci sayıyı giriniz: 20\n",
      "y, x den büyüktür\n",
      "İlk sayıyı giriniz: 1.5\n",
      "lütfen tam sayı giriniz\n",
      "İlk sayıyı giriniz: 1.5\n",
      "lütfen tam sayı giriniz\n",
      "İlk sayıyı giriniz: 1.5\n",
      "lütfen tam sayı giriniz\n",
      "İlk sayıyı giriniz: 1.5\n",
      "lütfen tam sayı giriniz\n",
      "İlk sayıyı giriniz: 10\n",
      "İkinci sayıyı giriniz: 30\n",
      "y, x den büyüktür\n"
     ]
    }
   ],
   "source": [
    "def hesapla(x,y):\n",
    "\n",
    "    if x>y:\n",
    "        print(\"x, y den büyük\")\n",
    "    elif y>x:\n",
    "        print(\"y, x den büyüktür\")\n",
    "    else:\n",
    "        print(\"sayi birbirine eşittir\")\n",
    "    \n",
    "while True: #Program kapanana kadar bunu sürekli çalıştır demek.\n",
    "    try: #Burada yazılan kodları dene, hata alırsan except bloğuna geç.\n",
    "        x = int(input(\"İlk sayıyı giriniz: \"))\n",
    "        y = int(input(\"İkinci sayıyı giriniz: \"))\n",
    "        hesapla(x,y)\n",
    "    except:\n",
    "        print(\"lütfen tam sayı giriniz\")   \n",
    "    \n"
   ]
  },
  {
   "cell_type": "code",
   "execution_count": 2,
   "metadata": {},
   "outputs": [
    {
     "name": "stdout",
     "output_type": "stream",
     "text": [
      "[1, 2, 3]\n"
     ]
    }
   ],
   "source": [
    "numbers = [1, 3, 2] \n",
    "numbers.sort() \n",
    "print(numbers)"
   ]
  },
  {
   "cell_type": "code",
   "execution_count": 4,
   "metadata": {},
   "outputs": [
    {
     "name": "stdout",
     "output_type": "stream",
     "text": [
      "True\n"
     ]
    }
   ],
   "source": [
    "x=[\"elma\",\"muz\",\"armut\"]\n",
    "y=[\"elma\",\"muz\",\"armut\"]\n",
    "z=x\n",
    "\n",
    "print(x is z) #x z ye eşit mi ?\n",
    "    "
   ]
  },
  {
   "cell_type": "code",
   "execution_count": null,
   "metadata": {},
   "outputs": [],
   "source": []
  }
 ],
 "metadata": {
  "kernelspec": {
   "display_name": "Python 3",
   "language": "python",
   "name": "python3"
  },
  "language_info": {
   "codemirror_mode": {
    "name": "ipython",
    "version": 3
   },
   "file_extension": ".py",
   "mimetype": "text/x-python",
   "name": "python",
   "nbconvert_exporter": "python",
   "pygments_lexer": "ipython3",
   "version": "3.7.9"
  }
 },
 "nbformat": 4,
 "nbformat_minor": 4
}
