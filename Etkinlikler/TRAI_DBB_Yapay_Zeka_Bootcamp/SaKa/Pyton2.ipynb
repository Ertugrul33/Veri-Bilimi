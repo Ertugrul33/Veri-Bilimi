{
 "cells": [
  {
   "cell_type": "code",
   "execution_count": 1,
   "metadata": {},
   "outputs": [],
   "source": [
    "Meyveler=[\"elma\",\"armut\",\"kiraz\",\"muz\"]\n"
   ]
  },
  {
   "cell_type": "code",
   "execution_count": 3,
   "metadata": {},
   "outputs": [
    {
     "name": "stdout",
     "output_type": "stream",
     "text": [
      "['elma', 'armut', 'kiraz', 'muz']\n"
     ]
    }
   ],
   "source": [
    "print(Meyveler)"
   ]
  },
  {
   "cell_type": "code",
   "execution_count": 35,
   "metadata": {},
   "outputs": [],
   "source": [
    "Meyveler.insert(3,\"kivi\") #Listeye istediğimiz indexe eleman ekleyebiliriz "
   ]
  },
  {
   "cell_type": "code",
   "execution_count": 5,
   "metadata": {},
   "outputs": [
    {
     "data": {
      "text/plain": [
       "['elma', 'armut', 'kiraz', 'kivi', 'muz']"
      ]
     },
     "execution_count": 5,
     "metadata": {},
     "output_type": "execute_result"
    }
   ],
   "source": [
    "Meyveler"
   ]
  },
  {
   "cell_type": "code",
   "execution_count": 14,
   "metadata": {},
   "outputs": [],
   "source": [
    "Meyveler.remove(\"armut\")"
   ]
  },
  {
   "cell_type": "code",
   "execution_count": 15,
   "metadata": {},
   "outputs": [
    {
     "data": {
      "text/plain": [
       "['elma', 'kiraz', 'kivi', 'muz']"
      ]
     },
     "execution_count": 15,
     "metadata": {},
     "output_type": "execute_result"
    }
   ],
   "source": [
    "Meyveler"
   ]
  },
  {
   "cell_type": "code",
   "execution_count": null,
   "metadata": {},
   "outputs": [],
   "source": []
  },
  {
   "cell_type": "code",
   "execution_count": 8,
   "metadata": {},
   "outputs": [
    {
     "name": "stdout",
     "output_type": "stream",
     "text": [
      "pazartesi\n",
      "salı\n",
      "çarşamba\n",
      "perşembe\n"
     ]
    }
   ],
   "source": [
    "gunler=[\"pazartesi\",\"salı\",\"çarşamba\",\"perşembe\"]\n",
    "for i in gunler:\n",
    "    print(i)"
   ]
  },
  {
   "cell_type": "code",
   "execution_count": 21,
   "metadata": {},
   "outputs": [
    {
     "name": "stdout",
     "output_type": "stream",
     "text": [
      "pazartesi\n",
      "salı\n",
      "çarşamba\n",
      "perşembe\n"
     ]
    }
   ],
   "source": [
    "gunler=[\"pazartesi\",\"salı\",\"çarşamba\",\"perşembe\"]\n",
    "for i in range(len(gunler)):\n",
    "    print(gunler[i])\n",
    "    print(\"Listenin \")\n",
    "    "
   ]
  },
  {
   "cell_type": "code",
   "execution_count": 29,
   "metadata": {},
   "outputs": [
    {
     "name": "stdout",
     "output_type": "stream",
     "text": [
      "pazartesi\n",
      "salı\n",
      "çarşamba\n",
      "perşembe\n"
     ]
    }
   ],
   "source": [
    "gunler=[\"pazartesi\",\"salı\",\"çarşamba\",\"perşembe\"]\n",
    "i=0\n",
    "while i < len(gunler):\n",
    "    print(gunler[i])\n",
    "    i +=1\n",
    "    "
   ]
  },
  {
   "cell_type": "code",
   "execution_count": 34,
   "metadata": {},
   "outputs": [
    {
     "ename": "SyntaxError",
     "evalue": "invalid syntax (<ipython-input-34-d6a53b33b3c4>, line 2)",
     "output_type": "error",
     "traceback": [
      "\u001b[1;36m  File \u001b[1;32m\"<ipython-input-34-d6a53b33b3c4>\"\u001b[1;36m, line \u001b[1;32m2\u001b[0m\n\u001b[1;33m    print(gunler[i]) for i in range(len(gunler))\u001b[0m\n\u001b[1;37m                       ^\u001b[0m\n\u001b[1;31mSyntaxError\u001b[0m\u001b[1;31m:\u001b[0m invalid syntax\n"
     ]
    }
   ],
   "source": [
    "gunler=[\"pazartesi\",\"salı\",\"çarşamba\",\"perşembe\"]\n"
   ]
  },
  {
   "cell_type": "code",
   "execution_count": 49,
   "metadata": {},
   "outputs": [],
   "source": [
    "sozluk={\"marka\":\"ford\",\"model\":\"mustang\",\"yıl\":2018}"
   ]
  },
  {
   "cell_type": "code",
   "execution_count": 51,
   "metadata": {},
   "outputs": [],
   "source": [
    "sozluk.update({\"electrik\":\"true\"})"
   ]
  },
  {
   "cell_type": "code",
   "execution_count": 52,
   "metadata": {},
   "outputs": [
    {
     "data": {
      "text/plain": [
       "{'marka': 'ford', 'model': 'mustang', 'yıl': 2018, 'electrik': 'true'}"
      ]
     },
     "execution_count": 52,
     "metadata": {},
     "output_type": "execute_result"
    }
   ],
   "source": [
    "sozluk"
   ]
  },
  {
   "cell_type": "code",
   "execution_count": 54,
   "metadata": {},
   "outputs": [
    {
     "data": {
      "text/plain": [
       "'mustang'"
      ]
     },
     "execution_count": 54,
     "metadata": {},
     "output_type": "execute_result"
    }
   ],
   "source": [
    "sozluk.pop(\"model\")"
   ]
  },
  {
   "cell_type": "code",
   "execution_count": 55,
   "metadata": {},
   "outputs": [
    {
     "data": {
      "text/plain": [
       "{'marka': 'ford', 'yıl': 2018, 'electrik': 'true'}"
      ]
     },
     "execution_count": 55,
     "metadata": {},
     "output_type": "execute_result"
    }
   ],
   "source": [
    "sozluk"
   ]
  },
  {
   "cell_type": "code",
   "execution_count": 56,
   "metadata": {},
   "outputs": [
    {
     "name": "stdout",
     "output_type": "stream",
     "text": [
      "marka\n",
      "yıl\n",
      "electrik\n"
     ]
    }
   ],
   "source": [
    "for x in sozluk.keys():\n",
    "    print(x)"
   ]
  },
  {
   "cell_type": "code",
   "execution_count": 57,
   "metadata": {},
   "outputs": [
    {
     "name": "stdout",
     "output_type": "stream",
     "text": [
      "ford\n",
      "2018\n",
      "true\n"
     ]
    }
   ],
   "source": [
    "for x in sozluk.values():\n",
    "    print(x)"
   ]
  },
  {
   "cell_type": "markdown",
   "metadata": {},
   "source": [
    "# Faktöriel"
   ]
  },
  {
   "cell_type": "code",
   "execution_count": 60,
   "metadata": {},
   "outputs": [],
   "source": [
    "def faktoriyel(n):\n",
    "    if n==1:\n",
    "        return 1\n",
    "    else:\n",
    "        return n* faktoriyel(n-1)\n",
    "    \n"
   ]
  },
  {
   "cell_type": "code",
   "execution_count": 59,
   "metadata": {},
   "outputs": [
    {
     "name": "stdout",
     "output_type": "stream",
     "text": [
      "6\n"
     ]
    }
   ],
   "source": [
    "print(faktoriyel(3))"
   ]
  },
  {
   "cell_type": "code",
   "execution_count": 61,
   "metadata": {},
   "outputs": [],
   "source": [
    "#pozitif sayılar dışında değer girilirse"
   ]
  },
  {
   "cell_type": "code",
   "execution_count": 79,
   "metadata": {},
   "outputs": [],
   "source": [
    "def faktoriyel(n):\n",
    "    if n==1:\n",
    "        return 1\n",
    "    elif n>1:\n",
    "        return n* faktoriyel(n-1)\n",
    "    else:\n",
    "        print(\"Girdiğiniz sayinin faktöriyeli bulunmaz\")\n",
    "        return False\n",
    "        \n",
    "\n"
   ]
  },
  {
   "cell_type": "code",
   "execution_count": 80,
   "metadata": {},
   "outputs": [
    {
     "name": "stdout",
     "output_type": "stream",
     "text": [
      "Girdiğiniz sayinin faktöriyeli bulunmaz\n",
      "False\n"
     ]
    }
   ],
   "source": [
    "print(faktoriyel(-1))"
   ]
  },
  {
   "cell_type": "code",
   "execution_count": 82,
   "metadata": {},
   "outputs": [
    {
     "name": "stdout",
     "output_type": "stream",
     "text": [
      "sayi giriniz:-3\n",
      "Girdiğiniz sayinin faktöriyeli bulunmaz\n",
      "Girdiğiniz sayinin faktöriyeli bulunmaz\n"
     ]
    }
   ],
   "source": [
    "#ya da bu şekilde ekleme yaparak negatif sayı girdiğinde uyarı verebiliriz\n",
    "\n",
    "sayigir=int(input(\"sayi giriniz:\"))   \n",
    "if faktoriyel(sayigir)==False:\n",
    "    print(\"Girdiğiniz sayinin faktöriyeli bulunmaz\")\n",
    "else:\n",
    "    print(\"Sayının faktoriyel\",faktoriyel(sayigir))\n",
    "    "
   ]
  },
  {
   "cell_type": "code",
   "execution_count": 128,
   "metadata": {},
   "outputs": [],
   "source": [
    "#başka örnek: kullancıdan istekiği uzunlukta listeye eleman eklemek\n",
    "\n",
    "#sayi=int(input(\"kaç elemanli liste olacak\"))\n",
    "def kullanıcıyagoreliste(sayi=1):\n",
    "    print(\"varsayılan elaman sayisi\",sayi)\n",
    "    sayilar=[]\n",
    "    for x in range(sayi):\n",
    "        print(x+1,\".sayıyı giriniz:\")\n",
    "        deger=int(input())\n",
    "        sayilar.append(deger)\n",
    "    return sayilar\n",
    "\n",
    "\n",
    "\n",
    "\n"
   ]
  },
  {
   "cell_type": "code",
   "execution_count": 130,
   "metadata": {},
   "outputs": [
    {
     "name": "stdout",
     "output_type": "stream",
     "text": [
      "varsayılan elaman sayisi 5\n",
      "1 .sayıyı giriniz:\n",
      "8\n",
      "2 .sayıyı giriniz:\n",
      "10\n",
      "3 .sayıyı giriniz:\n",
      "3\n",
      "4 .sayıyı giriniz:\n",
      "52\n",
      "5 .sayıyı giriniz:\n",
      "10\n"
     ]
    },
    {
     "data": {
      "text/plain": [
       "[8, 10, 3, 52, 10]"
      ]
     },
     "execution_count": 130,
     "metadata": {},
     "output_type": "execute_result"
    }
   ],
   "source": [
    "kullanıcıyagoreliste(5)"
   ]
  },
  {
   "cell_type": "code",
   "execution_count": 138,
   "metadata": {},
   "outputs": [
    {
     "name": "stdout",
     "output_type": "stream",
     "text": [
      "0\n",
      "1\n",
      "2\n",
      "3\n",
      "4\n"
     ]
    }
   ],
   "source": [
    "\n",
    "list=[1,2,3,5]\n",
    "for i in range(5): #Not: range 0 dan başlar  ve 5 e  ama 5 dahil değildir\n",
    "    print(i)"
   ]
  },
  {
   "cell_type": "code",
   "execution_count": null,
   "metadata": {},
   "outputs": [],
   "source": []
  }
 ],
 "metadata": {
  "kernelspec": {
   "display_name": "Python 3",
   "language": "python",
   "name": "python3"
  },
  "language_info": {
   "codemirror_mode": {
    "name": "ipython",
    "version": 3
   },
   "file_extension": ".py",
   "mimetype": "text/x-python",
   "name": "python",
   "nbconvert_exporter": "python",
   "pygments_lexer": "ipython3",
   "version": "3.7.9"
  }
 },
 "nbformat": 4,
 "nbformat_minor": 4
}
