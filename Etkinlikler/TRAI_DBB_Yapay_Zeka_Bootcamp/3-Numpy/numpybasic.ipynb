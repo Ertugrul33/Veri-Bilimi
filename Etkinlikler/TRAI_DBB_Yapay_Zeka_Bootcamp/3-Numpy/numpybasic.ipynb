{
 "cells": [
  {
   "cell_type": "code",
   "execution_count": 1,
   "id": "cf4b665a",
   "metadata": {},
   "outputs": [],
   "source": [
    "import numpy as np"
   ]
  },
  {
   "cell_type": "code",
   "execution_count": 2,
   "id": "a763c203",
   "metadata": {},
   "outputs": [
    {
     "data": {
      "text/plain": [
       "array([1, 2, 3, 4, 5])"
      ]
     },
     "execution_count": 2,
     "metadata": {},
     "output_type": "execute_result"
    }
   ],
   "source": [
    "ND = np.array([1,2,3,4,5])\n",
    "ND"
   ]
  },
  {
   "cell_type": "code",
   "execution_count": 3,
   "id": "fc3c9f93",
   "metadata": {},
   "outputs": [
    {
     "data": {
      "text/plain": [
       "[1, 2, 3, 4, 5]"
      ]
     },
     "execution_count": 3,
     "metadata": {},
     "output_type": "execute_result"
    }
   ],
   "source": [
    "PL = [1,2,3,4,5]\n",
    "PL"
   ]
  },
  {
   "cell_type": "code",
   "execution_count": 4,
   "id": "476c18a1",
   "metadata": {},
   "outputs": [
    {
     "data": {
      "text/plain": [
       "array([[1, 2, 3, 4, 5],\n",
       "       [1, 2, 3, 4, 5]])"
      ]
     },
     "execution_count": 4,
     "metadata": {},
     "output_type": "execute_result"
    }
   ],
   "source": [
    "ND = np.array([[1,2,3,4,5], [1,2,3,4,5]])\n",
    "ND"
   ]
  },
  {
   "cell_type": "code",
   "execution_count": 5,
   "id": "cb2a825a",
   "metadata": {},
   "outputs": [
    {
     "data": {
      "text/plain": [
       "(2, 5)"
      ]
     },
     "execution_count": 5,
     "metadata": {},
     "output_type": "execute_result"
    }
   ],
   "source": [
    "ND.shape"
   ]
  },
  {
   "cell_type": "code",
   "execution_count": 6,
   "id": "41903188",
   "metadata": {},
   "outputs": [
    {
     "data": {
      "text/plain": [
       "2"
      ]
     },
     "execution_count": 6,
     "metadata": {},
     "output_type": "execute_result"
    }
   ],
   "source": [
    "ND.ndim"
   ]
  },
  {
   "cell_type": "code",
   "execution_count": 7,
   "id": "75eebe1e",
   "metadata": {},
   "outputs": [
    {
     "data": {
      "text/plain": [
       "dtype('int32')"
      ]
     },
     "execution_count": 7,
     "metadata": {},
     "output_type": "execute_result"
    }
   ],
   "source": [
    "ND.dtype"
   ]
  },
  {
   "cell_type": "code",
   "execution_count": 8,
   "id": "d3fec525",
   "metadata": {},
   "outputs": [
    {
     "data": {
      "text/plain": [
       "numpy.ndarray"
      ]
     },
     "execution_count": 8,
     "metadata": {},
     "output_type": "execute_result"
    }
   ],
   "source": [
    "type(ND)"
   ]
  },
  {
   "cell_type": "code",
   "execution_count": 9,
   "id": "111c07f6",
   "metadata": {},
   "outputs": [
    {
     "data": {
      "text/plain": [
       "10"
      ]
     },
     "execution_count": 9,
     "metadata": {},
     "output_type": "execute_result"
    }
   ],
   "source": [
    "ND.size"
   ]
  },
  {
   "cell_type": "code",
   "execution_count": 10,
   "id": "b7b80042",
   "metadata": {},
   "outputs": [
    {
     "data": {
      "text/plain": [
       "array([[[1, 2, 3, 4, 5],\n",
       "        [1, 2, 3, 4, 5]],\n",
       "\n",
       "       [[1, 2, 3, 4, 5],\n",
       "        [1, 2, 3, 4, 5]]])"
      ]
     },
     "execution_count": 10,
     "metadata": {},
     "output_type": "execute_result"
    }
   ],
   "source": [
    "ND3 = np.array([[[1,2,3,4,5], [1,2,3,4,5]], [[1,2,3,4,5], [1,2,3,4,5]]])\n",
    "ND3"
   ]
  },
  {
   "cell_type": "code",
   "execution_count": 11,
   "id": "f50ed178",
   "metadata": {},
   "outputs": [
    {
     "data": {
      "text/plain": [
       "3"
      ]
     },
     "execution_count": 11,
     "metadata": {},
     "output_type": "execute_result"
    }
   ],
   "source": [
    "ND3.ndim"
   ]
  },
  {
   "cell_type": "code",
   "execution_count": 12,
   "id": "613abee6",
   "metadata": {},
   "outputs": [
    {
     "data": {
      "text/plain": [
       "20"
      ]
     },
     "execution_count": 12,
     "metadata": {},
     "output_type": "execute_result"
    }
   ],
   "source": [
    "ND3.size"
   ]
  },
  {
   "cell_type": "code",
   "execution_count": 13,
   "id": "3e1b61c9",
   "metadata": {},
   "outputs": [
    {
     "data": {
      "text/plain": [
       "(2, 2, 5)"
      ]
     },
     "execution_count": 13,
     "metadata": {},
     "output_type": "execute_result"
    }
   ],
   "source": [
    "ND3.shape"
   ]
  },
  {
   "cell_type": "code",
   "execution_count": 14,
   "id": "e7610380",
   "metadata": {},
   "outputs": [
    {
     "data": {
      "text/plain": [
       "array(4)"
      ]
     },
     "execution_count": 14,
     "metadata": {},
     "output_type": "execute_result"
    }
   ],
   "source": [
    "ND0 = np.array(4)\n",
    "ND0"
   ]
  },
  {
   "cell_type": "code",
   "execution_count": 15,
   "id": "3b804b7b",
   "metadata": {},
   "outputs": [
    {
     "data": {
      "text/plain": [
       "numpy.ndarray"
      ]
     },
     "execution_count": 15,
     "metadata": {},
     "output_type": "execute_result"
    }
   ],
   "source": [
    "type(ND0)"
   ]
  },
  {
   "cell_type": "code",
   "execution_count": 16,
   "id": "d57e496e",
   "metadata": {},
   "outputs": [
    {
     "data": {
      "text/plain": [
       "0"
      ]
     },
     "execution_count": 16,
     "metadata": {},
     "output_type": "execute_result"
    }
   ],
   "source": [
    "ND0.ndim"
   ]
  },
  {
   "cell_type": "code",
   "execution_count": 17,
   "id": "d8e8d176",
   "metadata": {},
   "outputs": [
    {
     "data": {
      "text/plain": [
       "array([4])"
      ]
     },
     "execution_count": 17,
     "metadata": {},
     "output_type": "execute_result"
    }
   ],
   "source": [
    "NDX = np.array([4])\n",
    "NDX"
   ]
  },
  {
   "cell_type": "code",
   "execution_count": 18,
   "id": "6510c2ac",
   "metadata": {},
   "outputs": [
    {
     "data": {
      "text/plain": [
       "1"
      ]
     },
     "execution_count": 18,
     "metadata": {},
     "output_type": "execute_result"
    }
   ],
   "source": [
    "NDX.ndim"
   ]
  },
  {
   "cell_type": "code",
   "execution_count": null,
   "id": "74c21fc3",
   "metadata": {},
   "outputs": [],
   "source": []
  }
 ],
 "metadata": {
  "kernelspec": {
   "display_name": "Python 3",
   "language": "python",
   "name": "python3"
  },
  "language_info": {
   "codemirror_mode": {
    "name": "ipython",
    "version": 3
   },
   "file_extension": ".py",
   "mimetype": "text/x-python",
   "name": "python",
   "nbconvert_exporter": "python",
   "pygments_lexer": "ipython3",
   "version": "3.9.2"
  }
 },
 "nbformat": 4,
 "nbformat_minor": 5
}
