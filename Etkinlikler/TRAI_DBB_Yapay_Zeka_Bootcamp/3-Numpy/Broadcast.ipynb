{
 "cells": [
  {
   "cell_type": "code",
   "execution_count": 1,
   "id": "88c043a2",
   "metadata": {},
   "outputs": [],
   "source": [
    "import numpy as np"
   ]
  },
  {
   "cell_type": "code",
   "execution_count": 2,
   "id": "ad407b16",
   "metadata": {},
   "outputs": [
    {
     "data": {
      "text/plain": [
       "array([[4, 9, 6, 3],\n",
       "       [1, 3, 2, 6],\n",
       "       [0, 5, 9, 2],\n",
       "       [8, 4, 8, 1]])"
      ]
     },
     "execution_count": 2,
     "metadata": {},
     "output_type": "execute_result"
    }
   ],
   "source": [
    "ND = np.random.randint(0,10, (4,4)) # Element - Wise\n",
    "ND"
   ]
  },
  {
   "cell_type": "code",
   "execution_count": 4,
   "id": "848cc343",
   "metadata": {},
   "outputs": [
    {
     "data": {
      "text/plain": [
       "array([[6, 2, 0, 7],\n",
       "       [4, 2, 5, 0],\n",
       "       [6, 1, 1, 8],\n",
       "       [6, 1, 3, 4]])"
      ]
     },
     "execution_count": 4,
     "metadata": {},
     "output_type": "execute_result"
    }
   ],
   "source": [
    "ND2 = np.random.randint(0,10, (4,4))\n",
    "ND2"
   ]
  },
  {
   "cell_type": "code",
   "execution_count": 5,
   "id": "5c8d3a7d",
   "metadata": {},
   "outputs": [
    {
     "data": {
      "text/plain": [
       "array([[10, 11,  6, 10],\n",
       "       [ 5,  5,  7,  6],\n",
       "       [ 6,  6, 10, 10],\n",
       "       [14,  5, 11,  5]])"
      ]
     },
     "execution_count": 5,
     "metadata": {},
     "output_type": "execute_result"
    }
   ],
   "source": [
    "ND + ND2"
   ]
  },
  {
   "cell_type": "code",
   "execution_count": 6,
   "id": "d712572b",
   "metadata": {},
   "outputs": [],
   "source": [
    "ND3 = np.random.randint(0,10, (2,2))\n",
    "ND4 = np.random.randint(0,10, (1,3))"
   ]
  },
  {
   "cell_type": "code",
   "execution_count": 7,
   "id": "a5ac40e8",
   "metadata": {},
   "outputs": [
    {
     "data": {
      "text/plain": [
       "array([[3, 6],\n",
       "       [9, 9]])"
      ]
     },
     "execution_count": 7,
     "metadata": {},
     "output_type": "execute_result"
    }
   ],
   "source": [
    "ND3"
   ]
  },
  {
   "cell_type": "code",
   "execution_count": 8,
   "id": "d5bb9e6e",
   "metadata": {},
   "outputs": [
    {
     "data": {
      "text/plain": [
       "array([[2, 5, 8]])"
      ]
     },
     "execution_count": 8,
     "metadata": {},
     "output_type": "execute_result"
    }
   ],
   "source": [
    "ND4"
   ]
  },
  {
   "cell_type": "code",
   "execution_count": 10,
   "id": "4154f76b",
   "metadata": {},
   "outputs": [
    {
     "ename": "ValueError",
     "evalue": "operands could not be broadcast together with shapes (2,2) (1,3) ",
     "output_type": "error",
     "traceback": [
      "\u001b[1;31m---------------------------------------------------------------------------\u001b[0m",
      "\u001b[1;31mValueError\u001b[0m                                Traceback (most recent call last)",
      "\u001b[1;32m<ipython-input-10-42578fa6b1dc>\u001b[0m in \u001b[0;36m<module>\u001b[1;34m\u001b[0m\n\u001b[1;32m----> 1\u001b[1;33m \u001b[0mND3\u001b[0m \u001b[1;33m+\u001b[0m \u001b[0mND4\u001b[0m\u001b[1;33m\u001b[0m\u001b[1;33m\u001b[0m\u001b[0m\n\u001b[0m",
      "\u001b[1;31mValueError\u001b[0m: operands could not be broadcast together with shapes (2,2) (1,3) "
     ]
    }
   ],
   "source": [
    "ND3 + ND4"
   ]
  },
  {
   "cell_type": "code",
   "execution_count": 11,
   "id": "03a00dbd",
   "metadata": {},
   "outputs": [],
   "source": [
    "ND5 = np.random.randint(0,10, (4,1))\n",
    "ND6 = np.random.randint(0,10, (6,1))\n"
   ]
  },
  {
   "cell_type": "code",
   "execution_count": 12,
   "id": "411dede4",
   "metadata": {},
   "outputs": [
    {
     "data": {
      "text/plain": [
       "array([[3],\n",
       "       [2],\n",
       "       [3],\n",
       "       [7]])"
      ]
     },
     "execution_count": 12,
     "metadata": {},
     "output_type": "execute_result"
    }
   ],
   "source": [
    "ND5"
   ]
  },
  {
   "cell_type": "code",
   "execution_count": 13,
   "id": "18a25911",
   "metadata": {},
   "outputs": [
    {
     "data": {
      "text/plain": [
       "array([[1],\n",
       "       [4],\n",
       "       [7],\n",
       "       [0],\n",
       "       [1],\n",
       "       [8]])"
      ]
     },
     "execution_count": 13,
     "metadata": {},
     "output_type": "execute_result"
    }
   ],
   "source": [
    "ND6"
   ]
  },
  {
   "cell_type": "code",
   "execution_count": null,
   "id": "56f76015",
   "metadata": {},
   "outputs": [],
   "source": []
  }
 ],
 "metadata": {
  "kernelspec": {
   "display_name": "Python 3",
   "language": "python",
   "name": "python3"
  },
  "language_info": {
   "codemirror_mode": {
    "name": "ipython",
    "version": 3
   },
   "file_extension": ".py",
   "mimetype": "text/x-python",
   "name": "python",
   "nbconvert_exporter": "python",
   "pygments_lexer": "ipython3",
   "version": "3.9.2"
  }
 },
 "nbformat": 4,
 "nbformat_minor": 5
}
