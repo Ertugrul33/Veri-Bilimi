{
 "cells": [
  {
   "cell_type": "code",
   "execution_count": 1,
   "id": "a3599a80",
   "metadata": {},
   "outputs": [],
   "source": [
    "import numpy as np"
   ]
  },
  {
   "cell_type": "code",
   "execution_count": 4,
   "id": "7015f0d8",
   "metadata": {},
   "outputs": [],
   "source": [
    "data_1 = np.loadtxt(\"hw_25000.csv\", delimiter=',', skiprows=1)"
   ]
  },
  {
   "cell_type": "code",
   "execution_count": 6,
   "id": "bc1638c0",
   "metadata": {},
   "outputs": [],
   "source": [
    "np.set_printoptions(suppress=True)"
   ]
  },
  {
   "cell_type": "code",
   "execution_count": 7,
   "id": "85dfb6be",
   "metadata": {},
   "outputs": [
    {
     "data": {
      "text/plain": [
       "array([[    1.     ,    65.78331,   112.9925 ],\n",
       "       [    2.     ,    71.51521,   136.4873 ],\n",
       "       [    3.     ,    69.39874,   153.0269 ],\n",
       "       ...,\n",
       "       [24998.     ,    64.69855,   118.2655 ],\n",
       "       [24999.     ,    67.52918,   132.2682 ],\n",
       "       [25000.     ,    68.87761,   124.8742 ]])"
      ]
     },
     "execution_count": 7,
     "metadata": {},
     "output_type": "execute_result"
    }
   ],
   "source": [
    "data_1"
   ]
  },
  {
   "cell_type": "code",
   "execution_count": 11,
   "id": "3b03d471",
   "metadata": {},
   "outputs": [],
   "source": [
    "data_2 = np.genfromtxt(\"hw_25000.csv\", delimiter=',', skip_header=1)"
   ]
  },
  {
   "cell_type": "code",
   "execution_count": 12,
   "id": "4b57f017",
   "metadata": {},
   "outputs": [
    {
     "data": {
      "text/plain": [
       "array([[    1.     ,    65.78331,   112.9925 ],\n",
       "       [    2.     ,    71.51521,   136.4873 ],\n",
       "       [    3.     ,    69.39874,   153.0269 ],\n",
       "       ...,\n",
       "       [24998.     ,    64.69855,   118.2655 ],\n",
       "       [24999.     ,    67.52918,   132.2682 ],\n",
       "       [25000.     ,    68.87761,   124.8742 ]])"
      ]
     },
     "execution_count": 12,
     "metadata": {},
     "output_type": "execute_result"
    }
   ],
   "source": [
    "data_2"
   ]
  },
  {
   "cell_type": "code",
   "execution_count": 13,
   "id": "c8d79c2e",
   "metadata": {},
   "outputs": [
    {
     "data": {
      "text/plain": [
       "True"
      ]
     },
     "execution_count": 13,
     "metadata": {},
     "output_type": "execute_result"
    }
   ],
   "source": [
    "np.array_equal(data_1, data_2)"
   ]
  },
  {
   "cell_type": "code",
   "execution_count": 15,
   "id": "57fb6945",
   "metadata": {},
   "outputs": [],
   "source": [
    "#data_3 = np.loadtxt(\"hw_25000_NAN.csv\", delimiter=',', skiprows=1)"
   ]
  },
  {
   "cell_type": "code",
   "execution_count": 16,
   "id": "4e99e339",
   "metadata": {},
   "outputs": [
    {
     "data": {
      "text/plain": [
       "array([[    1.     ,    65.78331,         nan],\n",
       "       [    2.     ,    71.51521,         nan],\n",
       "       [    3.     ,    69.39874,         nan],\n",
       "       ...,\n",
       "       [24998.     ,         nan,   118.2655 ],\n",
       "       [24999.     ,         nan,   132.2682 ],\n",
       "       [25000.     ,         nan,   124.8742 ]])"
      ]
     },
     "execution_count": 16,
     "metadata": {},
     "output_type": "execute_result"
    }
   ],
   "source": [
    "data_4 = np.genfromtxt(\"hw_25000_NAN.csv\", delimiter=',', skip_header=1)\n",
    "data_4"
   ]
  },
  {
   "cell_type": "code",
   "execution_count": 17,
   "id": "478a154d",
   "metadata": {},
   "outputs": [
    {
     "data": {
      "text/plain": [
       "array([[    1.     ,    65.78331,   112.9925 ],\n",
       "       [    2.     ,    71.51521,   136.4873 ],\n",
       "       [    3.     ,    69.39874,   153.0269 ],\n",
       "       ...,\n",
       "       [24998.     ,    64.69855,   118.2655 ],\n",
       "       [24999.     ,    67.52918,   132.2682 ],\n",
       "       [25000.     ,    68.87761,   124.8742 ]])"
      ]
     },
     "execution_count": 17,
     "metadata": {},
     "output_type": "execute_result"
    }
   ],
   "source": [
    "data_2"
   ]
  },
  {
   "cell_type": "code",
   "execution_count": 18,
   "id": "3b72a809",
   "metadata": {},
   "outputs": [],
   "source": [
    "np.save(\"cleaned_data_2\",data_2)"
   ]
  },
  {
   "cell_type": "code",
   "execution_count": 20,
   "id": "e6fe9432",
   "metadata": {},
   "outputs": [],
   "source": [
    "np.savetxt(\"TEST.csv\", data_2, delimiter=',', fmt='%.2f')"
   ]
  },
  {
   "cell_type": "code",
   "execution_count": null,
   "id": "e1c982f5",
   "metadata": {},
   "outputs": [],
   "source": []
  }
 ],
 "metadata": {
  "kernelspec": {
   "display_name": "Python 3",
   "language": "python",
   "name": "python3"
  },
  "language_info": {
   "codemirror_mode": {
    "name": "ipython",
    "version": 3
   },
   "file_extension": ".py",
   "mimetype": "text/x-python",
   "name": "python",
   "nbconvert_exporter": "python",
   "pygments_lexer": "ipython3",
   "version": "3.9.2"
  }
 },
 "nbformat": 4,
 "nbformat_minor": 5
}
