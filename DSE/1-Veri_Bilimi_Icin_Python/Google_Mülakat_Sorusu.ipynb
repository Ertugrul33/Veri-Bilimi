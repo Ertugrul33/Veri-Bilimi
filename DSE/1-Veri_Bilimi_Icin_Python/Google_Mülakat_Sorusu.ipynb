{
  "nbformat": 4,
  "nbformat_minor": 0,
  "metadata": {
    "colab": {
      "name": "Google Mülakat Sorusu.ipynb",
      "provenance": [],
      "collapsed_sections": []
    },
    "kernelspec": {
      "name": "python3",
      "display_name": "Python 3"
    }
  },
  "cells": [
    {
      "cell_type": "code",
      "metadata": {
        "id": "3MJHoz6SXZYi"
      },
      "source": [
        "input = {\n",
        "    \"Person1Calendar\": [[\"09:00\",\"10:00\"],[\"12:00\",\"13:00\"],[\"13:00\",\"13:15\"],[\"16:00\",\"19:00\"]],\n",
        "    \"Person1DailyBounds\": [\"09:00\",\"20:00\"],\n",
        "    \"Person2Calendar\": [[\"10:20\",\"11:30\"],[\"12:30\",\"14:30\"],[\"14:30\",\"15:00\"],[\"15:00\",\"15:20\"],[\"15:40\",\"16:50\"]],\n",
        "    \"Person2DailyBounds\":[\"10:00\",\"21:30\"],\n",
        "    \"MeetingDuration\":30\n",
        "}"
      ],
      "execution_count": null,
      "outputs": []
    },
    {
      "cell_type": "code",
      "metadata": {
        "id": "cxY0rbsQYidf"
      },
      "source": [
        "big_list = input[\"Person1Calendar\"]\n",
        "big_list.extend(input[\"Person2Calendar\"])"
      ],
      "execution_count": null,
      "outputs": []
    },
    {
      "cell_type": "code",
      "metadata": {
        "id": "KaKc-bQ8ZuYp"
      },
      "source": [
        "daily_bound_list = input[\"Person1DailyBounds\"]\n",
        "daily_bound_list = list(zip(daily_bound_list,input[\"Person2DailyBounds\"]))\n",
        "\n",
        "start_time = max(daily_bound_list[0])\n",
        "end_time = min(daily_bound_list[1])"
      ],
      "execution_count": null,
      "outputs": []
    },
    {
      "cell_type": "code",
      "metadata": {
        "id": "PfHwCr0ua2yG"
      },
      "source": [
        "duration = input[\"MeetingDuration\"]"
      ],
      "execution_count": null,
      "outputs": []
    },
    {
      "cell_type": "code",
      "metadata": {
        "id": "yeu2kh6Aa-8_"
      },
      "source": [
        "import itertools\n",
        "big_list.sort()\n",
        "big_list = list(big_list for big_list,_ in itertools.groupby(big_list))"
      ],
      "execution_count": null,
      "outputs": []
    },
    {
      "cell_type": "code",
      "metadata": {
        "id": "Tva_GibNbaWB"
      },
      "source": [
        "def CompareTimes(time1,time2):\n",
        "  splitted_time_1 = time1.split(\":\")\n",
        "  splitted_time_2 = time2.split(\":\")\n",
        "\n",
        "  t1 = int(splitted_time_1[0])*60 + int(splitted_time_1[1])\n",
        "  t2 = int(splitted_time_2[0])*60 + int(splitted_time_2[1])\n",
        "\n",
        "  if t1>t2:\n",
        "    return 1\n",
        "  elif t1<t2:\n",
        "    return -1\n",
        "  else:\n",
        "    return 0"
      ],
      "execution_count": null,
      "outputs": []
    },
    {
      "cell_type": "code",
      "metadata": {
        "id": "jpKuyORndl-N"
      },
      "source": [
        "def CompareStartTimeOfMeetingsForAvailability(temp_list):\n",
        "  index = 0\n",
        "  while index < len(temp_list):\n",
        "    if CompareTimes(start_time,temp_list[index][0])>0:\n",
        "      if CompareTimes(start_time,temp_list[index][1])>=0:\n",
        "        temp_list.pop(index)\n",
        "        index-=1\n",
        "      else:\n",
        "        temp_list[index][0]=start_time\n",
        "    \n",
        "      index+=1\n",
        "    else:\n",
        "      break"
      ],
      "execution_count": null,
      "outputs": []
    },
    {
      "cell_type": "code",
      "metadata": {
        "id": "UKQ3wgv_f4p6"
      },
      "source": [
        "def CompareEndTimeOfMeetingsForAvailability(temp_list):\n",
        "  \n",
        "  index = len(temp_list)-1\n",
        "\n",
        "  while index >= 0:\n",
        "    if CompareTimes(end_time, temp_list[index][1])<=0:\n",
        "      if CompareTimes(end_time, temp_list[index][0])<=0:\n",
        "        temp_list.pop(index)\n",
        "        index+=1\n",
        "      else:\n",
        "        temp_list[index][1]=end_time\n",
        "\n",
        "    index-=1"
      ],
      "execution_count": null,
      "outputs": []
    },
    {
      "cell_type": "code",
      "metadata": {
        "id": "rZsc441whk4T"
      },
      "source": [
        "def CompareTimesForCommonMeetings(temp_list):\n",
        "  index = 0\n",
        "  while index < len(temp_list)-1:\n",
        "    if CompareTimes(temp_list[index][1],temp_list[index+1][0])>=0:\n",
        "      if CompareTimes(temp_list[index][1],temp_list[index+1][1])<0:\n",
        "        temp_list[index][1]= temp_list[index+1][1]\n",
        "\n",
        "      temp_list.pop(index+1)\n",
        "      index-=1\n",
        "\n",
        "    index+=1"
      ],
      "execution_count": null,
      "outputs": []
    },
    {
      "cell_type": "code",
      "metadata": {
        "id": "B1amO44zqPmv"
      },
      "source": [
        "def IsTimeDifferenceAppropriate(t1,t2,duration):\n",
        "  splitted_time_1 = t1.split(\":\")\n",
        "  splitted_time_2 = t2.split(\":\")\n",
        "\n",
        "  t1 = int(splitted_time_1[0])*60 + int(splitted_time_1[1])\n",
        "  t2 = int(splitted_time_2[0])*60 + int(splitted_time_2[1])\n",
        "\n",
        "  return t1-t2>=duration"
      ],
      "execution_count": null,
      "outputs": []
    },
    {
      "cell_type": "code",
      "metadata": {
        "id": "JxOJ2dxMcwLU"
      },
      "source": [
        "#big_list -> iki kişininde doluluklarını içeren listeyi alacak\n",
        "def ScheduleAvailability(liste):\n",
        "  available_time_blocks= []\n",
        "  temp_list = liste\n",
        "\n",
        "  CompareStartTimeOfMeetingsForAvailability(temp_list)\n",
        "\n",
        "  CompareEndTimeOfMeetingsForAvailability(temp_list)\n",
        "\n",
        "  CompareTimesForCommonMeetings(temp_list)\n",
        "\n",
        "  if CompareTimes(temp_list[0][0],start_time)>0 and IsTimeDifferenceAppropriate(temp_list[0][0],start_time,duration):\n",
        "    available_time_blocks.append([start_time,temp_list[0][0]])\n",
        "  \n",
        "  index = 0\n",
        "  while index < len(temp_list)-1:\n",
        "    if IsTimeDifferenceAppropriate(temp_list[index+1][0],temp_list[index][1],duration):\n",
        "      available_time_blocks.append([temp_list[index][1],temp_list[index+1][0]])\n",
        "\n",
        "    index+=1\n",
        "\n",
        "\n",
        "  if CompareTimes(temp_list[-1][1],end_time)<0 and IsTimeDifferenceAppropriate(end_time,temp_list[-1][1],duration):\n",
        "    \n",
        "    available_time_blocks.append([temp_list[-1][1],end_time])\n",
        "\n",
        "  print(\"Müsaitlik:\")\n",
        "  print(available_time_blocks)\n",
        "  print(\"Namüsaitlik:\")\n",
        "  print(temp_list)\n",
        "\n"
      ],
      "execution_count": null,
      "outputs": []
    },
    {
      "cell_type": "code",
      "metadata": {
        "colab": {
          "base_uri": "https://localhost:8080/"
        },
        "id": "wWdUxa0ChzY9",
        "outputId": "17fa68a5-5368-4ceb-b63a-4883c9af5a05"
      },
      "source": [
        "print(f\"{start_time}-{end_time}\")"
      ],
      "execution_count": null,
      "outputs": [
        {
          "output_type": "stream",
          "text": [
            "10:00-20:00\n"
          ],
          "name": "stdout"
        }
      ]
    },
    {
      "cell_type": "code",
      "metadata": {
        "colab": {
          "base_uri": "https://localhost:8080/"
        },
        "id": "dQaD01Klpx_o",
        "outputId": "a3dc0122-73d0-4a27-da15-5c6235831bfc"
      },
      "source": [
        "#15 dakika için\n",
        "ScheduleAvailability(big_list[:])"
      ],
      "execution_count": null,
      "outputs": [
        {
          "output_type": "stream",
          "text": [
            "Müsaitlik:\n",
            "[['10:00', '10:20'], ['11:30', '12:00'], ['15:20', '15:40'], ['19:00', '20:00']]\n",
            "Namüsaitlik:\n",
            "[['10:20', '11:30'], ['12:00', '15:20'], ['15:40', '19:00']]\n"
          ],
          "name": "stdout"
        }
      ]
    },
    {
      "cell_type": "code",
      "metadata": {
        "colab": {
          "base_uri": "https://localhost:8080/"
        },
        "id": "JG0ttmfsttoh",
        "outputId": "eb4e4efb-2af6-4bd7-ee70-9b857759effa"
      },
      "source": [
        "#30 dakika için\n",
        "ScheduleAvailability(big_list[:])"
      ],
      "execution_count": null,
      "outputs": [
        {
          "output_type": "stream",
          "text": [
            "Müsaitlik:\n",
            "[['11:30', '12:00'], ['19:00', '20:00']]\n",
            "Namüsaitlik:\n",
            "[['10:20', '11:30'], ['12:00', '15:20'], ['15:40', '19:00']]\n"
          ],
          "name": "stdout"
        }
      ]
    }
  ]
}