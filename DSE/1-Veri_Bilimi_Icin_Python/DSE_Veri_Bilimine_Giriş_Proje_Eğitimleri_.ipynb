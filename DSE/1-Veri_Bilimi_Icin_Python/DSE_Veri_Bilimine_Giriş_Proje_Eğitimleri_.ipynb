{
  "nbformat": 4,
  "nbformat_minor": 0,
  "metadata": {
    "colab": {
      "name": "DSE Veri Bilimine Giriş - Proje Eğitimleri .ipynb",
      "provenance": [],
      "collapsed_sections": []
    },
    "kernelspec": {
      "name": "python3",
      "display_name": "Python 3"
    }
  },
  "cells": [
    {
      "cell_type": "code",
      "metadata": {
        "id": "UrcH0PIANawQ"
      },
      "source": [
        "#Öğrenci Bilgilendirme Sistemi"
      ],
      "execution_count": null,
      "outputs": []
    },
    {
      "cell_type": "code",
      "metadata": {
        "id": "OJLSQsrVMLTa"
      },
      "source": [
        "\"\"\"\n",
        "Öğrenciler\n",
        "  Dersler -> Notlar -> Midterm -> Final\n",
        "  Sınıflara Göre Ders Ortalaması\n",
        "  Bölüm,\n",
        "  Devamsızlık Bilgisi,\n",
        "  Giriş Yılı\n",
        "\"\"\""
      ],
      "execution_count": null,
      "outputs": []
    },
    {
      "cell_type": "code",
      "metadata": {
        "id": "q7lXEO2PQhbs"
      },
      "source": [
        "OgrenciListesi=[]"
      ],
      "execution_count": null,
      "outputs": []
    },
    {
      "cell_type": "code",
      "metadata": {
        "id": "tymzVANmkVDz"
      },
      "source": [
        "DersListesi=[]"
      ],
      "execution_count": null,
      "outputs": []
    },
    {
      "cell_type": "code",
      "metadata": {
        "id": "AesEc5wckToH"
      },
      "source": [
        "OgrenciNotuListesi=[]"
      ],
      "execution_count": null,
      "outputs": []
    },
    {
      "cell_type": "code",
      "metadata": {
        "id": "4ONrkl1OP-nB"
      },
      "source": [
        "def DersEkle(isim,dersKodu,mid1Etki,mid2Etki,finalEtki,donem):\n",
        "  if len([ders for ders in DersListesi if ders[\"DersKodu\"]==dersKodu])==0:\n",
        "    id = len(DersListesi)+1\n",
        "    DersListesi.append({\"Id\":id,\"Isim\":isim,\"DersKodu\":dersKodu,\n",
        "                        \"Mid1Etki\":mid1Etki,\"Mid2Etki\":mid2Etki,\n",
        "                        \"FinalEtki\":finalEtki,\"Donem\":donem})"
      ],
      "execution_count": null,
      "outputs": []
    },
    {
      "cell_type": "code",
      "metadata": {
        "id": "AUBGhNvHQ8k4"
      },
      "source": [
        "def OgrenciNotuEkle(ogrenciNo,dersKodu,vize1=None,vize2=None,final=None):\n",
        "  isFirst=False\n",
        "  ogrenciNotuDictSorgu=[sozlukElemani for sozlukElemani in OgrenciNotuListesi if sozlukElemani[\"OgrenciNo\"]==ogrenciNo and sozlukElemani[\"DersKodu\"]==dersKodu]\n",
        "  \n",
        "  if len(ogrenciNotuDictSorgu)==0:\n",
        "    ogrenciNotuDict={\"OgrenciNo\":ogrenciNo,\"DersKodu\":dersKodu}\n",
        "    isFirst=True\n",
        "  elif len(ogrenciNotuDictSorgu)>0:\n",
        "    ogrenciNotuDict=ogrenciNotuDictSorgu[0]\n",
        "\n",
        "  if vize1 is not None:\n",
        "    ogrenciNotuDict[\"Vize1\"]=vize1\n",
        "    ogrenciNotuDict[\"Ortalama\"] = OrtalamaHesapla(ogrenciNotuDict)\n",
        "  if vize2 is not None:\n",
        "    ogrenciNotuDict[\"Vize2\"]=vize2\n",
        "    ogrenciNotuDict[\"Ortalama\"] = OrtalamaHesapla(ogrenciNotuDict)\n",
        "  if final is not None:\n",
        "    ogrenciNotuDict[\"Final\"]=final\n",
        "    ogrenciNotuDict[\"Ortalama\"] = OrtalamaHesapla(ogrenciNotuDict)\n",
        "    \n",
        "  if isFirst:\n",
        "     OgrenciNotuListesi.append(ogrenciNotuDict)\n",
        "\n",
        "def OrtalamaHesapla(ogrenciNotuDictionaryParametre):\n",
        "  ortalama=0\n",
        "  ders=[ders for ders in DersListesi if ders[\"DersKodu\"]==ogrenciNotuDictionaryParametre[\"DersKodu\"]][0]\n",
        "  if ders is not None:\n",
        "    if \"Vize1\" in ogrenciNotuDictionaryParametre.keys():\n",
        "      ortalama+=ders[\"Mid1Etki\"]*ogrenciNotuDictionaryParametre[\"Vize1\"]/100\n",
        "    if \"Vize2\" in ogrenciNotuDictionaryParametre.keys():\n",
        "      ortalama+=ders[\"Mid2Etki\"]*ogrenciNotuDictionaryParametre[\"Vize2\"]/100\n",
        "    if \"Final\" in ogrenciNotuDictionaryParametre.keys():\n",
        "      ortalama+=ders[\"FinalEtki\"]*ogrenciNotuDictionaryParametre[\"Final\"]/100\n",
        "\n",
        "    return ortalama"
      ],
      "execution_count": null,
      "outputs": []
    },
    {
      "cell_type": "code",
      "metadata": {
        "id": "vsbrPfpGN3SA"
      },
      "source": [
        "#Öğrencilerimizi oluşturalım\n",
        "\n",
        "def OgrenciEkle(adiSoyadi,ogrenciNo,sifre,dersler,bolum,devamsizlik,girisYili,donem,ogrenciNotlari):\n",
        "  if len([eleman for eleman in OgrenciListesi if eleman[\"OgrenciNo\"]==ogrenciNo])==0:\n",
        "    OgrenciListesi.append({\"AdiSoyadi\":adiSoyadi,\"OgrenciNo\":ogrenciNo,\n",
        "                           \"Sifre\":sifre,\"Dersler\":dersler,\n",
        "                           \"Bolum\":bolum,\n",
        "                            \"Devamsizlik\":devamsizlik,\n",
        "                           \"girisYili\":girisYili,\"Donem\":donem,\"OgrenciNotlari\":ogrenciNotlari})"
      ],
      "execution_count": null,
      "outputs": []
    },
    {
      "cell_type": "code",
      "metadata": {
        "id": "qrq1H9-SafEY"
      },
      "source": [
        "DersEkle(\"Python Programlama 1\",\"PY101\",20,30,50,1)\n",
        "DersEkle(\"Python Programlama 2\",\"PY102\",30,35,35,2)\n",
        "DersEkle(\"Veri Yapısı ve Algoritmalar 1\",\"ALG301\",25,35,40,5)"
      ],
      "execution_count": null,
      "outputs": []
    },
    {
      "cell_type": "code",
      "metadata": {
        "id": "1aYu36hSWRjX"
      },
      "source": [
        "OgrenciEkle(\"Fethi Tekyaygil\",\"1627\",\"123\",[],\"Bilgisayar Mühendisliği\",0,2014,2,[])\n",
        "OgrenciEkle(\"Taha Tekyaygil\",\"200\",\"qwer\",[],\"İşletme\",0,2015,1,[])"
      ],
      "execution_count": null,
      "outputs": []
    },
    {
      "cell_type": "code",
      "metadata": {
        "id": "tOVZgEI3e3TC"
      },
      "source": [
        "OgrenciNotuEkle(\"1627\",\"PY101\",vize1=70)\n",
        "\n",
        "OgrenciNotuEkle(\"1627\",\"PY101\",vize2=55)"
      ],
      "execution_count": null,
      "outputs": []
    },
    {
      "cell_type": "code",
      "metadata": {
        "id": "rT2FIuVwqfpr"
      },
      "source": [
        "OgrenciListesi"
      ],
      "execution_count": null,
      "outputs": []
    },
    {
      "cell_type": "code",
      "metadata": {
        "colab": {
          "base_uri": "https://localhost:8080/"
        },
        "id": "jassc3ItlINP",
        "outputId": "31bc48ef-2672-4d87-b2ac-b1d0c5df28d4"
      },
      "source": [
        "hak=3\n",
        "ogrenciNo=None\n",
        "sifre=None\n",
        "girisYapanOgrenci=None\n",
        "\n",
        "while hak>0:\n",
        "  ogrenciNo=input(\"Ogrenci no: \")\n",
        "  sifre=input(\"Şifre: \")\n",
        "\n",
        "  girisYapanOgrenciSorguListesi=[ogrenci for ogrenci in OgrenciListesi \n",
        "                     if ogrenci[\"OgrenciNo\"]==ogrenciNo \n",
        "                     and ogrenci[\"Sifre\"]==sifre]\n",
        "  \n",
        "  if len(girisYapanOgrenciSorguListesi)>0:\n",
        "    girisYapanOgrenci=girisYapanOgrenciSorguListesi[0]\n",
        "\n",
        "  if girisYapanOgrenci is None: \n",
        "    hak-=1\n",
        "  else:\n",
        "    print(f'Hoşgeldin {girisYapanOgrenci[\"AdiSoyadi\"]}!')\n",
        "    break\n",
        "\n",
        "  if hak<=0:\n",
        "    print(\"Çok fazla hatalı deneme yaptınız lütfen öğrenci işleriyle iletişime geçin!\")\n",
        "    exit()\n",
        "\n",
        "  "
      ],
      "execution_count": null,
      "outputs": [
        {
          "output_type": "stream",
          "text": [
            "Ogrenci no: 1627\n",
            "Şifre: 123\n",
            "Hoşgeldin Fethi Tekyaygil!\n"
          ],
          "name": "stdout"
        }
      ]
    },
    {
      "cell_type": "code",
      "metadata": {
        "id": "l1HKVIhmo7sz"
      },
      "source": [
        ""
      ],
      "execution_count": null,
      "outputs": []
    }
  ]
}