{
  "nbformat": 4,
  "nbformat_minor": 0,
  "metadata": {
    "colab": {
      "name": "DSE Veri Bilimi Eğitimi - 1. Hafta.ipynb",
      "provenance": []
    },
    "kernelspec": {
      "name": "python3",
      "display_name": "Python 3"
    }
  },
  "cells": [
    {
      "cell_type": "markdown",
      "metadata": {
        "id": "o0arweLjLmUs"
      },
      "source": [
        "# Print Komutu\n"
      ]
    },
    {
      "cell_type": "code",
      "metadata": {
        "id": "QFe4JjRsLVsd"
      },
      "source": [
        "print(\"DSE\")"
      ],
      "execution_count": null,
      "outputs": []
    },
    {
      "cell_type": "code",
      "metadata": {
        "id": "aMsLClagLs9i"
      },
      "source": [
        "print \"Hello World\""
      ],
      "execution_count": null,
      "outputs": []
    },
    {
      "cell_type": "code",
      "metadata": {
        "id": "nphwLGJ3Lwj0"
      },
      "source": [
        "print(Hello)"
      ],
      "execution_count": null,
      "outputs": []
    },
    {
      "cell_type": "markdown",
      "metadata": {
        "id": "oKUMhCyLL4oL"
      },
      "source": [
        "# Yorum Satırları"
      ]
    },
    {
      "cell_type": "code",
      "metadata": {
        "id": "OxYKztc6LykF"
      },
      "source": [
        "#yorum yazıyorum"
      ],
      "execution_count": null,
      "outputs": []
    },
    {
      "cell_type": "code",
      "metadata": {
        "id": "-kLefUgQLy87"
      },
      "source": [
        "\"\"\"\n",
        "çoklu\n",
        "yorum\n",
        "yazıyorum\n",
        "çünkü \n",
        "neden olmasın\n",
        "fethi\n",
        "kjfljkhdfşl\n",
        "hgasdkhjasd\n",
        "8721evıey vr oıyeıebwyşwuşıorewoışryşewyrhflewvuıyceulıyrkcewyrlk32\n",
        "\"\"\""
      ],
      "execution_count": null,
      "outputs": []
    },
    {
      "cell_type": "markdown",
      "metadata": {
        "id": "m4B5ZFP5L9ZC"
      },
      "source": [
        "# Değişken Tanımlama"
      ]
    },
    {
      "cell_type": "markdown",
      "metadata": {
        "id": "3Ki5plE1b9BU"
      },
      "source": [
        "primitive tipler\n",
        "\n",
        "int\n",
        "\n",
        "string\n",
        "\n",
        "bool"
      ]
    },
    {
      "cell_type": "code",
      "metadata": {
        "id": "knToLCwv4J94"
      },
      "source": [
        "int sayi=2; # c#"
      ],
      "execution_count": null,
      "outputs": []
    },
    {
      "cell_type": "markdown",
      "metadata": {
        "id": "MWou4kCU4VPW"
      },
      "source": [
        "int"
      ]
    },
    {
      "cell_type": "code",
      "metadata": {
        "id": "wolbe-GaL_Wa"
      },
      "source": [
        "number=15\n",
        "print(number)\n",
        "print(type(number))"
      ],
      "execution_count": null,
      "outputs": []
    },
    {
      "cell_type": "markdown",
      "metadata": {
        "id": "r67cCj6z5CC2"
      },
      "source": [
        "float"
      ]
    },
    {
      "cell_type": "code",
      "metadata": {
        "id": "xXIQLgj35BZM"
      },
      "source": [
        "flNumber=15.7\n",
        "print(flNumber)\n",
        "print(type(flNumber))"
      ],
      "execution_count": null,
      "outputs": []
    },
    {
      "cell_type": "markdown",
      "metadata": {
        "id": "tZev7E9Jk2uE"
      },
      "source": [
        "her string bir karakter dizisi"
      ]
    },
    {
      "cell_type": "code",
      "metadata": {
        "id": "9vZa6p93MDpT"
      },
      "source": [
        "karsilama=\"Merhaba\"\n",
        "print(karsilama)\n",
        "print(type(karsilama))\n",
        "\n",
        "#string -> str\n",
        "#print(len(karsilama))"
      ],
      "execution_count": null,
      "outputs": []
    },
    {
      "cell_type": "code",
      "metadata": {
        "id": "SG4T31uAlPTY"
      },
      "source": [
        "#karsilama='Merhaba'\n",
        "karsilama2='34'\n",
        "print(type(karsilama2))"
      ],
      "execution_count": null,
      "outputs": []
    },
    {
      "cell_type": "code",
      "metadata": {
        "id": "-pY1YxGGMOeN"
      },
      "source": [
        "fiyat=7.27\n",
        "print(type(fiyat))"
      ],
      "execution_count": null,
      "outputs": []
    },
    {
      "cell_type": "code",
      "metadata": {
        "id": "bjGvt-697D7L"
      },
      "source": [
        "#BOOLEAN -> bool\n",
        "b1=True\n",
        "b2=False\n",
        "\n",
        "print(b1)\n",
        "print(b2)\n",
        "print(type(b1))\n",
        "print(type(b2))"
      ],
      "execution_count": null,
      "outputs": []
    },
    {
      "cell_type": "code",
      "metadata": {
        "id": "9Qf0DGirMUUu"
      },
      "source": [
        "dogru,yanlis,sayi=True,False,2\n",
        "print(type(dogru))\n",
        "dogru"
      ],
      "execution_count": null,
      "outputs": []
    },
    {
      "cell_type": "code",
      "metadata": {
        "id": "EKGtnSmphXPa"
      },
      "source": [
        "karsilama"
      ],
      "execution_count": null,
      "outputs": []
    },
    {
      "cell_type": "code",
      "metadata": {
        "id": "V3dDG0VC8PPh"
      },
      "source": [
        "print(\"Merhaba isim\")"
      ],
      "execution_count": null,
      "outputs": []
    },
    {
      "cell_type": "code",
      "metadata": {
        "id": "0LC0TSs58Fn-"
      },
      "source": [
        "print(\"Merhaba Fethi. Merhaba Çağrı. Merhaba Taha.\")"
      ],
      "execution_count": null,
      "outputs": []
    },
    {
      "cell_type": "code",
      "metadata": {
        "id": "fKOuov41haG6"
      },
      "source": [
        "isim=\"Fethi\"\n",
        "yas=24"
      ],
      "execution_count": null,
      "outputs": []
    },
    {
      "cell_type": "code",
      "metadata": {
        "id": "uvQL4ehA8aBP"
      },
      "source": [
        "karsilama=\"Merhaba,\""
      ],
      "execution_count": null,
      "outputs": []
    },
    {
      "cell_type": "code",
      "metadata": {
        "id": "wsiJe0fKeS88"
      },
      "source": [
        "print(f'{karsilama} Fethi') #formatın f'sini yazdım"
      ],
      "execution_count": null,
      "outputs": []
    },
    {
      "cell_type": "code",
      "metadata": {
        "id": "jm0VV-DH9L2W"
      },
      "source": [
        "isim=\"Fethi\""
      ],
      "execution_count": null,
      "outputs": []
    },
    {
      "cell_type": "code",
      "metadata": {
        "id": "P5J190qq90No"
      },
      "source": [
        "?print()"
      ],
      "execution_count": null,
      "outputs": []
    },
    {
      "cell_type": "code",
      "metadata": {
        "id": "PJD64H_g-Unf"
      },
      "source": [
        "yeniDegisken=\"Fethi\"+\"!\"\n",
        "print(yeniDegisken)"
      ],
      "execution_count": null,
      "outputs": []
    },
    {
      "cell_type": "code",
      "metadata": {
        "id": "s1KqppqQese8"
      },
      "source": [
        "#print(karsilama,isim,\"!\",sep=\"\") #seperator - ayraç\n",
        "print(karsilama,isim+\"!\")"
      ],
      "execution_count": null,
      "outputs": []
    },
    {
      "cell_type": "code",
      "metadata": {
        "id": "ij6y1hHJ_5Z3"
      },
      "source": [
        "%s -> string\n",
        "%d -> decimal -> int float"
      ],
      "execution_count": null,
      "outputs": []
    },
    {
      "cell_type": "code",
      "metadata": {
        "id": "3Jn0xggAAQO3"
      },
      "source": [
        "isim=\"Fethi\"\n",
        "yas=24"
      ],
      "execution_count": null,
      "outputs": []
    },
    {
      "cell_type": "code",
      "metadata": {
        "id": "ubXJXwLxetDE"
      },
      "source": [
        "print(\"%s %d!\" % (isim,yas))"
      ],
      "execution_count": null,
      "outputs": []
    },
    {
      "cell_type": "code",
      "metadata": {
        "id": "6l_A3U25AjST"
      },
      "source": [
        "fethi -> int\n",
        "\"2\" -> 2\n",
        "\n",
        "24 -> \"24\"\n",
        "2 -> \"2\"\n",
        "2.45 ->\"2.45\" \n",
        "1.932874324 ->\"1.932874324\"\n",
        "True -> \"True\""
      ],
      "execution_count": null,
      "outputs": []
    },
    {
      "cell_type": "code",
      "metadata": {
        "id": "UJ9TOZzOMYif"
      },
      "source": [
        "a=None\n",
        "#print(f'{karsilama} Fethi')\n",
        "\n",
        "#isim=\"Fethi\"\n",
        "\n",
        "#print(f'Merhabalar {isim}!')\n",
        "#ayıraç seperator seperate\n",
        "print(karsilama,isim+'!',sep=\".\")\n",
        "#Merhaba Fethi !"
      ],
      "execution_count": null,
      "outputs": []
    },
    {
      "cell_type": "markdown",
      "metadata": {
        "id": "up1TCZkfOP4e"
      },
      "source": [
        "# Matematiksel İşlemler"
      ]
    },
    {
      "cell_type": "code",
      "metadata": {
        "id": "UkY9z8GROZ-Q"
      },
      "source": [
        "100+10"
      ],
      "execution_count": null,
      "outputs": []
    },
    {
      "cell_type": "code",
      "metadata": {
        "id": "N3OiA9zClW0h"
      },
      "source": [
        "17.0+3"
      ],
      "execution_count": null,
      "outputs": []
    },
    {
      "cell_type": "code",
      "metadata": {
        "id": "djhilZaLlatR"
      },
      "source": [
        "15+3.7"
      ],
      "execution_count": null,
      "outputs": []
    },
    {
      "cell_type": "code",
      "metadata": {
        "id": "IIC9ipEalhB1"
      },
      "source": [
        "15+5.0"
      ],
      "execution_count": null,
      "outputs": []
    },
    {
      "cell_type": "code",
      "metadata": {
        "id": "GDA_6Q6-Oblo"
      },
      "source": [
        "\"39\"+\"67\""
      ],
      "execution_count": null,
      "outputs": []
    },
    {
      "cell_type": "code",
      "metadata": {
        "id": "0vT3uffwOdBZ"
      },
      "source": [
        "\"35\" + 67"
      ],
      "execution_count": null,
      "outputs": []
    },
    {
      "cell_type": "code",
      "metadata": {
        "id": "jyk6Cxe1Hq_Z"
      },
      "source": [
        "4+7"
      ],
      "execution_count": null,
      "outputs": []
    },
    {
      "cell_type": "code",
      "metadata": {
        "id": "_hLr53kmmTD4"
      },
      "source": [
        "4*3"
      ],
      "execution_count": null,
      "outputs": []
    },
    {
      "cell_type": "code",
      "metadata": {
        "id": "u6iUPL_sOeYO"
      },
      "source": [
        "\"35\"*3"
      ],
      "execution_count": null,
      "outputs": []
    },
    {
      "cell_type": "code",
      "metadata": {
        "id": "P2krSagWOgfY"
      },
      "source": [
        "\"hello\"*4"
      ],
      "execution_count": null,
      "outputs": []
    },
    {
      "cell_type": "code",
      "metadata": {
        "id": "jwFSdOoAJh8X"
      },
      "source": [
        "x+2"
      ],
      "execution_count": null,
      "outputs": []
    },
    {
      "cell_type": "code",
      "metadata": {
        "id": "R_du-3UxOiVY"
      },
      "source": [
        "x = 11\n",
        "print(type(x)) #int\n",
        "print(x+2)  #13\n",
        "print(x-2)  #9\n",
        "print(x*2)  #22\n",
        "print(x**5) #üs değerini al 1331\n",
        "print(x/3)  #3\n",
        "print(x//3) #3                 bölümü ondalıksız verir \n",
        "print(x%3)  #2               bölümden kalanı verir - modulo / mod"
      ],
      "execution_count": null,
      "outputs": []
    },
    {
      "cell_type": "code",
      "metadata": {
        "id": "5nq6I3TMIpNb"
      },
      "source": [
        "11/3 -> 3 bölüm: 2 kalan\n",
        "11//3 -> 3 bölüm"
      ],
      "execution_count": null,
      "outputs": []
    },
    {
      "cell_type": "code",
      "metadata": {
        "id": "CzO_2PkmJOJS"
      },
      "source": [
        "isim=\"Fethi\"\n",
        "isim*2"
      ],
      "execution_count": null,
      "outputs": []
    },
    {
      "cell_type": "code",
      "metadata": {
        "id": "hUzM_SLIOkLo"
      },
      "source": [
        "y = 15\n",
        "print(y//2)\n",
        "print(y%2)"
      ],
      "execution_count": null,
      "outputs": []
    },
    {
      "cell_type": "code",
      "metadata": {
        "id": "dAKD3FoXOl5A"
      },
      "source": [
        "a=2\n",
        "#a=a*3 = a*=3\n",
        "\n",
        "#a=a+3 = a+=3\n",
        "print(aYeni == a)\n",
        "\n",
        "\n",
        "a=a**2 = a**=2\n",
        "\n",
        "\n",
        "\"\"\"\n",
        "z = 5\n",
        "\n",
        "z*=3 ->15\n",
        "z*=3 ->45\n",
        "print(z)\n",
        "\n",
        "\n",
        "\"\"\"\n",
        "\"\"\"\n",
        "z = z + 10\n",
        "z = z * 3\n",
        "\n",
        "z = z + 3 \n",
        "z*=3\n",
        "\"\"\"\n",
        "\"\"\"\n",
        "z=z+3\n",
        "z+=3 -> z=z+3\n",
        "z*=4 -> z=z*4\n",
        "\"\"\"\n",
        "\n",
        "\"\"\"\n",
        "z+=1     # z= z+1 demek , z'nin eski değeri 5 iken yeni değeri 6 oldu.\n",
        "z\n",
        "\"\"\""
      ],
      "execution_count": null,
      "outputs": []
    },
    {
      "cell_type": "code",
      "metadata": {
        "id": "MoN8g4xrOphH"
      },
      "source": [
        "z*=2\n",
        "z"
      ],
      "execution_count": null,
      "outputs": []
    },
    {
      "cell_type": "code",
      "metadata": {
        "id": "uuA9xFCUOSOB"
      },
      "source": [
        "z=7\n",
        "z**=2\n",
        "z"
      ],
      "execution_count": null,
      "outputs": []
    },
    {
      "cell_type": "code",
      "metadata": {
        "id": "jrqFHMUoogkS"
      },
      "source": [
        "a=1\n",
        "a"
      ],
      "execution_count": null,
      "outputs": []
    },
    {
      "cell_type": "code",
      "metadata": {
        "id": "ibzgbcbnMBOw"
      },
      "source": [
        "sayi=int(input(\"Bir sayı girin ikiye bölünsün: \"))\n",
        "\n",
        "\n",
        "print(f\"Girdiğiniz sayının ikiye bölümü: {sayi//2}\")\n"
      ],
      "execution_count": null,
      "outputs": []
    },
    {
      "cell_type": "code",
      "metadata": {
        "id": "Yn364TTIN7If"
      },
      "source": [
        "type(\"jsgsd\")"
      ],
      "execution_count": null,
      "outputs": []
    },
    {
      "cell_type": "code",
      "metadata": {
        "id": "33SY9HXMNqe6"
      },
      "source": [
        "sayi=int(input(\"Sayı girin:\"))\n",
        "sayi=str(sayi)\n",
        "print(sayi*10)"
      ],
      "execution_count": null,
      "outputs": []
    },
    {
      "cell_type": "code",
      "metadata": {
        "id": "5NHfEfy2qoBf"
      },
      "source": [
        "x=17\n",
        "bolum=x/2\n",
        "print(type(x/2))\n",
        "cevrilmisBolum=int(bolum)\n",
        "print(cevrilmisBolum)\n",
        "type(cevrilmisBolum)"
      ],
      "execution_count": null,
      "outputs": []
    },
    {
      "cell_type": "code",
      "metadata": {
        "id": "rmkUdj5nrjlF"
      },
      "source": [
        "a=str(cevrilmisBolum)\n",
        "print(type(a))\n",
        "print(a)"
      ],
      "execution_count": null,
      "outputs": []
    },
    {
      "cell_type": "code",
      "metadata": {
        "id": "wVKSrILGOHVN"
      },
      "source": [
        "float(\"2\")"
      ],
      "execution_count": null,
      "outputs": []
    }
  ]
}