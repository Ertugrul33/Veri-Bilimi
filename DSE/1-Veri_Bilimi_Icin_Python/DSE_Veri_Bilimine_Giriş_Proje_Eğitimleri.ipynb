{
  "nbformat": 4,
  "nbformat_minor": 0,
  "metadata": {
    "colab": {
      "name": "DSE Veri Bilimine Giriş - Proje Eğitimleri .ipynb",
      "provenance": [],
      "collapsed_sections": [
        "_K-_K6yxceEH",
        "d0lNiZD-V85H"
      ]
    },
    "kernelspec": {
      "name": "python3",
      "display_name": "Python 3"
    }
  },
  "cells": [
    {
      "cell_type": "code",
      "metadata": {
        "id": "UrcH0PIANawQ"
      },
      "source": [
        "#Öğrenci Bilgilendirme Sistemi"
      ],
      "execution_count": null,
      "outputs": []
    },
    {
      "cell_type": "code",
      "metadata": {
        "id": "OJLSQsrVMLTa"
      },
      "source": [
        "\"\"\"\n",
        "Öğrenciler\n",
        "  Dersler -> Notlar -> Midterm -> Final\n",
        "  Sınıflara Göre Ders Ortalaması\n",
        "  Bölüm,\n",
        "  Devamsızlık Bilgisi,\n",
        "  Giriş Yılı\n",
        "\"\"\""
      ],
      "execution_count": null,
      "outputs": []
    },
    {
      "cell_type": "markdown",
      "metadata": {
        "id": "GZe2HpRcZ0Ow"
      },
      "source": [
        "1. Kullanıcılar\n",
        "\n",
        "2. Dersler\n",
        "\n",
        "3. Notlar"
      ]
    },
    {
      "cell_type": "markdown",
      "metadata": {
        "id": "fPJFvOZSaPY1"
      },
      "source": [
        "## Veritabanı"
      ]
    },
    {
      "cell_type": "code",
      "metadata": {
        "id": "BvvQw2dzaREM"
      },
      "source": [
        "import sqlite3"
      ],
      "execution_count": null,
      "outputs": []
    },
    {
      "cell_type": "code",
      "metadata": {
        "id": "JypkjW82aTgh"
      },
      "source": [
        "baglanti = sqlite3.connect(\"obs.db\")"
      ],
      "execution_count": null,
      "outputs": []
    },
    {
      "cell_type": "code",
      "metadata": {
        "id": "PEy_yu7TlcO8"
      },
      "source": [
        "class SqlQueries():\n",
        "  def __init__(self, sqlQueries,operation=\"r\"):\n",
        "    self.sqlQueries = sqlQueries\n",
        "    self.operation = operation"
      ],
      "execution_count": null,
      "outputs": []
    },
    {
      "cell_type": "code",
      "metadata": {
        "id": "-RTOXZnclLCj"
      },
      "source": [
        "class SqlQuery():\n",
        "  def __init__(self,query,parameters=()):\n",
        "    self.query=query\n",
        "    self.parameters=parameters"
      ],
      "execution_count": null,
      "outputs": []
    },
    {
      "cell_type": "code",
      "metadata": {
        "id": "4eOpGIdPaTWA"
      },
      "source": [
        "class DbOperations():\n",
        "  def __init__(self,baglanti):\n",
        "    self.baglanti=baglanti\n",
        "    self.cursor = baglanti.cursor()\n",
        "\n",
        "  def ExecuteSql(self,sql_queries):\n",
        "    try:\n",
        "      print(sql_queries.operation)\n",
        "      for sql_query in sql_queries.sqlQueries:\n",
        "        print(sql_query.query)\n",
        "        self.cursor.execute(sql_query.query,sql_query.parameters)\n",
        "      if sql_queries.operation == \"r\":\n",
        "        return self.cursor.fetchall()\n",
        "      else:\n",
        "        self.baglanti.commit()\n",
        "    except Exception as e:\n",
        "      print(str(e))\n",
        "\n",
        "\n",
        "  def InitializeDatabase(self):\n",
        "    self.CreateDepartmentsTable()\n",
        "    self.CreateUsersTable()\n",
        "    self.CreateLessonsTable()\n",
        "    self.CreateGradesTable()\n",
        "\n",
        "  def InitializeRecords(self):\n",
        "    self.CreateDepartmentRecords()\n",
        "    self.CreateUserRecords()\n",
        "    self.CreateLessonRecords()\n",
        "    \n",
        "\n",
        "  def CreateUsersTable(self):\n",
        "    \n",
        "    query='''\n",
        "      CREATE TABLE IF NOT EXISTS Users(\n",
        "      Id INTEGER PRIMARY KEY AUTOINCREMENT NOT NULL,\n",
        "      Name VARCHAR(30) NOT NULL,\n",
        "      Surname VARCHAR(30) NOT NULL,\n",
        "      Username VARCHAR(60) UNIQUE NOT NULL,\n",
        "      Password VARCHAR(40) NOT NULL,\n",
        "      DepartmentId INTEGER NOT NULL,\n",
        "      Policy BIT NOT NULL,\n",
        "\n",
        "      FOREIGN KEY(DepartmentId) REFERENCES Departments(Id) \n",
        "      );\n",
        "      '''\n",
        "      \n",
        "    sql_query = SqlQuery(query=query)\n",
        "    sql_queries = SqlQueries([sql_query],operation=\"c\")\n",
        "\n",
        "    self.ExecuteSql(sql_queries) #Policy = 1 Öğrenci , Policy = 0 Öğretmen\n",
        "      \n",
        "  def CreateLessonsTable(self):\n",
        "    query = '''\n",
        "      CREATE TABLE IF NOT EXISTS Lessons(\n",
        "        Id INTEGER PRIMARY KEY AUTOINCREMENT NOT NULL,\n",
        "        Name VARCHAR(50) NOT NULL UNIQUE,\n",
        "        Code VARCHAR(10) NOT NULL UNIQUE,\n",
        "        Midterm1Effect INTEGER NOT NULL,\n",
        "        Midterm2Effect INTEGER NOT NULL,\n",
        "        FinalEffect INTEGER NOT NULL,\n",
        "        DepartmentId INTEGER NOT NULL,\n",
        "\n",
        "\n",
        "        FOREIGN KEY(DepartmentId) REFERENCES Departments(Id) \n",
        "      );\n",
        "    '''\n",
        "\n",
        "    sql_query = SqlQuery(query=query)\n",
        "    sql_queries = SqlQueries([sql_query],operation=\"c\")\n",
        "    self.ExecuteSql(sql_queries)\n",
        "\n",
        "\n",
        "  def CreateDepartmentsTable(self):\n",
        "    query = '''\n",
        "    CREATE TABLE IF NOT EXISTS Departments(\n",
        "      Id INTEGER PRIMARY KEY AUTOINCREMENT NOT NULL,\n",
        "      Name VARCHAR(50) UNIQUE NOT NULL\n",
        "    );\n",
        "    '''\n",
        "\n",
        "    sql_query = SqlQuery(query=query)\n",
        "    sql_queries = SqlQueries([sql_query],operation=\"c\")\n",
        "    self.ExecuteSql(sql_queries)\n",
        "\n",
        "  def CreateGradesTable(self):\n",
        "    query = '''\n",
        "      CREATE TABLE IF NOT EXISTS Grades(\n",
        "        Id INTEGER PRIMARY KEY AUTOINCREMENT NOT NULL,\n",
        "\n",
        "        UserId INTEGER NOT NULL,\n",
        "        LessonId INTEGER NOT NULL,\n",
        "\n",
        "        Midterm1 INTEGER NULL,\n",
        "        Midterm2 INTEGER NULL,\n",
        "        Final INTEGER NULL,\n",
        "        ExtraNote INTEGER NULL,\n",
        "\n",
        "        GeneralGrade INTEGER NULL,\n",
        "\n",
        "        FOREIGN KEY(UserId) REFERENCES Users(Id),\n",
        "        FOREIGN KEY(LessonId) REFERENCES Lessons(Id)\n",
        "      );\n",
        "    '''\n",
        "    \n",
        "    sql_query = SqlQuery(query=query)\n",
        "    sql_queries = SqlQueries([sql_query],operation=\"c\")\n",
        "    self.ExecuteSql(sql_queries)\n",
        "\n",
        "\n",
        "\n",
        "  def CreateUserRecords(self):\n",
        "      ce_sql_query = SqlQuery(query = \"SELECT Id FROM Departments WHERE Name = ?\",parameters=(\"Computer Engineering\",))\n",
        "      ie_sql_query = SqlQuery(query = \"SELECT Id FROM Departments WHERE Name = ?\",parameters=(\"Industrial Engineering\",))\n",
        "      me_sql_query = SqlQuery(query = \"SELECT Id FROM Departments WHERE Name = ?\",parameters=(\"Mechanical Engineering\",))\n",
        "\n",
        "      ce_id = self.ExecuteSql(SqlQueries([ce_sql_query]))[0]\n",
        "      ie_id = self.ExecuteSql(SqlQueries([ie_sql_query]))[0]\n",
        "      me_id = self.ExecuteSql(SqlQueries([me_sql_query]))[0]\n",
        "\n",
        "      print(ce_id)\n",
        "      print(ie_id)\n",
        "      print(me_id)\n",
        "      query_list=[]\n",
        "      \n",
        "      query_list.append(SqlQuery('''\n",
        "      INSERT INTO Users(Name,Surname,Username,Password,Department,Policy)\n",
        "      VALUES ('Fethi','Tekyaygil','fethitekyaygil','123',?,1)\n",
        "      ''',(ce_id)))\n",
        "\n",
        "      query_list.append(SqlQuery('''\n",
        "      INSERT INTO Users(Name,Surname,Username,Password,Department,Policy)\n",
        "      VALUES ('Taha','Tekyaygil','tahatekyaygil','123456',?,1)\n",
        "      ''',(ce_id)))\n",
        "\n",
        "      query_list.append(SqlQuery('''\n",
        "      INSERT INTO Users(Name,Surname,Username,Password,Department,Policy)\n",
        "      VALUES ('Enes','Ağdağ','enesagdag','123432',?,1)\n",
        "      ''',(ie_id)))\n",
        "      \n",
        "      query_list.append(SqlQuery('''\n",
        "      INSERT INTO Users(Name,Surname,Username,Password,Department,Policy)\n",
        "      VALUES ('Murat','Özcan','muratozcan','123213',?,1)\n",
        "      ''',(me_id)))\n",
        "      \n",
        "      query_list.append(SqlQuery('''\n",
        "      INSERT INTO Users(Name,Surname,Username,Password,Department,Policy)\n",
        "      VALUES ('Hıdır','Sevinç','hidirsevinç','123333',?,0)\n",
        "      ''',(ce_id)))\n",
        "      \n",
        "      query_list.append(SqlQuery('''\n",
        "      INSERT INTO Users(Name,Surname,Username,Password,Department,Policy)\n",
        "      VALUES ('Yeşim','Çalık','yesimcalik','1233334',?,0)\n",
        "      ''',(ie_id)))\n",
        "\n",
        "      query_list.append(SqlQuery('''\n",
        "      INSERT INTO Users(Name,Surname,Username,Password,Department,Policy)\n",
        "      VALUES ('Sefer','Kurnaz','seferkurnaz','1233331212',?,0)\n",
        "      ''',(me_id)))\n",
        "      \n",
        "      \n",
        "      self.ExecuteSql(SqlQueries(query_list,operation=\"i\")) #i = insert\n",
        "\n",
        "\n",
        "\n",
        "  def CreateDepartmentRecords(self):\n",
        "      query_list=[]\n",
        "\n",
        "      query_list.append(SqlQuery('''\n",
        "      INSERT INTO Departments(Name) VALUES('Computer Engineering');\n",
        "      '''))\n",
        "\n",
        "      query_list.append(SqlQuery('''\n",
        "      INSERT INTO Departments(Name) VALUES('Industrial Engineering');\n",
        "      '''))\n",
        "\n",
        "      query_list.append(SqlQuery('''\n",
        "      INSERT INTO Departments(Name) VALUES('Mechanical Engineering');\n",
        "      '''))\n",
        "\n",
        "      self.ExecuteSql(SqlQueries(query_list,operation=\"i\"))\n",
        "\n",
        "\n",
        "  def CreateLessonRecords(self):\n",
        "      query_list=[]\n",
        "\n",
        "      query_list.append(SqlQuery('''\n",
        "      INSERT INTO Lessons(Name,Code,Midterm1Effect,Midterm2Effect,FinalEffect)\n",
        "      VALUES ('Python Programlama 1','PY101','30','35','35')\n",
        "      '''))\n",
        "\n",
        "      query_list.append(SqlQuery('''\n",
        "      INSERT INTO Lessons(Name,Code,Midterm1Effect,Midterm2Effect,FinalEffect)\n",
        "      VALUES ('Python Programlama 1','PY101','30','35','35')\n",
        "      '''))\n",
        "\n",
        "\n",
        "      query_list.append(SqlQuery('''\n",
        "      INSERT INTO Lessons(Name,Code,Midterm1Effect,Midterm2Effect,FinalEffect)\n",
        "      VALUES ('Python Programlama 1','PY101','30','35','35')\n",
        "      '''))\n",
        "\n",
        "\n",
        "      query_list.append(SqlQuery('''\n",
        "      INSERT INTO Lessons(Name,Code,Midterm1Effect,Midterm2Effect,FinalEffect)\n",
        "      VALUES ('Python Programlama 1','PY101','30','35','35')\n",
        "      '''))\n",
        "\n",
        "      self.ExecuteSql(SqlQueries(query_list,operation=\"i\"))\n",
        "\n",
        "  def GetUsers(self):\n",
        "    print(self.ExecuteSql(SqlQueries([SqlQuery(\"SELECT * FROM Users\")])))\n",
        "\n",
        "  def GetDepartments(self):\n",
        "    print(self.ExecuteSql(SqlQueries([SqlQuery(\"SELECT * FROM Departments\")])))"
      ],
      "execution_count": null,
      "outputs": []
    },
    {
      "cell_type": "code",
      "metadata": {
        "id": "vmVw9vMDxc6t"
      },
      "source": [
        "db_ops = DbOperations(baglanti)"
      ],
      "execution_count": null,
      "outputs": []
    },
    {
      "cell_type": "code",
      "metadata": {
        "colab": {
          "base_uri": "https://localhost:8080/"
        },
        "id": "GM2uV17Wxd_D",
        "outputId": "ace0a19d-e9bd-4439-a63d-8428b1ed271c"
      },
      "source": [
        "db_ops.InitializeDatabase()\n",
        "db_ops.InitializeRecords()"
      ],
      "execution_count": null,
      "outputs": [
        {
          "output_type": "stream",
          "text": [
            "c\n",
            "\n",
            "    CREATE TABLE IF NOT EXISTS Departments(\n",
            "      Id INTEGER PRIMARY KEY AUTOINCREMENT NOT NULL,\n",
            "      Name VARCHAR(50) UNIQUE NOT NULL\n",
            "    );\n",
            "    \n",
            "c\n",
            "\n",
            "      CREATE TABLE IF NOT EXISTS Users(\n",
            "      Id INTEGER PRIMARY KEY AUTOINCREMENT NOT NULL,\n",
            "      Name VARCHAR(30) NOT NULL,\n",
            "      Surname VARCHAR(30) NOT NULL,\n",
            "      Username VARCHAR(60) UNIQUE NOT NULL,\n",
            "      Password VARCHAR(40) NOT NULL,\n",
            "      DepartmentId INTEGER NOT NULL,\n",
            "      Policy BIT NOT NULL,\n",
            "\n",
            "      FOREIGN KEY(DepartmentId) REFERENCES Departments(Id) \n",
            "      );\n",
            "      \n",
            "c\n",
            "\n",
            "      CREATE TABLE IF NOT EXISTS Lessons(\n",
            "        Id INTEGER PRIMARY KEY AUTOINCREMENT NOT NULL,\n",
            "        Name VARCHAR(50) NOT NULL UNIQUE,\n",
            "        Code VARCHAR(10) NOT NULL UNIQUE,\n",
            "        Midterm1Effect INTEGER NOT NULL,\n",
            "        Midterm2Effect INTEGER NOT NULL,\n",
            "        FinalEffect INTEGER NOT NULL,\n",
            "        DepartmentId INTEGER NOT NULL,\n",
            "\n",
            "\n",
            "        FOREIGN KEY(DepartmentId) REFERENCES Departments(Id) \n",
            "      );\n",
            "    \n",
            "c\n",
            "\n",
            "      CREATE TABLE IF NOT EXISTS Grades(\n",
            "        Id INTEGER PRIMARY KEY AUTOINCREMENT NOT NULL,\n",
            "\n",
            "        UserId INTEGER NOT NULL,\n",
            "        LessonId INTEGER NOT NULL,\n",
            "\n",
            "        Midterm1 INTEGER NULL,\n",
            "        Midterm2 INTEGER NULL,\n",
            "        Final INTEGER NULL,\n",
            "        ExtraNote INTEGER NULL,\n",
            "\n",
            "        GeneralGrade INTEGER NULL,\n",
            "\n",
            "        FOREIGN KEY(UserId) REFERENCES Users(Id),\n",
            "        FOREIGN KEY(LessonId) REFERENCES Lessons(Id)\n",
            "      );\n",
            "    \n",
            "i\n",
            "\n",
            "      INSERT INTO Departments(Name) VALUES('Computer Engineering');\n",
            "      \n",
            "\n",
            "      INSERT INTO Departments(Name) VALUES('Industrial Engineering');\n",
            "      \n",
            "\n",
            "      INSERT INTO Departments(Name) VALUES('Mechanical Engineering');\n",
            "      \n",
            "r\n",
            "SELECT Id FROM Departments WHERE Name = ?\n",
            "r\n",
            "SELECT Id FROM Departments WHERE Name = ?\n",
            "r\n",
            "SELECT Id FROM Departments WHERE Name = ?\n",
            "(1,)\n",
            "(2,)\n",
            "(3,)\n",
            "i\n",
            "\n",
            "      INSERT INTO Users(Name,Surname,Username,Password,Department,Policy)\n",
            "      VALUES ('Fethi','Tekyaygil','fethitekyaygil','123',?,1)\n",
            "      \n",
            "table Users has no column named Department\n"
          ],
          "name": "stdout"
        }
      ]
    },
    {
      "cell_type": "code",
      "metadata": {
        "colab": {
          "base_uri": "https://localhost:8080/"
        },
        "id": "AuZYlzPWwn1J",
        "outputId": "7e1f20cf-5d21-4d41-a697-56f5a697d4f2"
      },
      "source": [
        "db_ops.GetUsers()"
      ],
      "execution_count": null,
      "outputs": [
        {
          "output_type": "stream",
          "text": [
            "r\n",
            "SELECT * FROM Users\n",
            "[]\n"
          ],
          "name": "stdout"
        }
      ]
    },
    {
      "cell_type": "code",
      "metadata": {
        "colab": {
          "base_uri": "https://localhost:8080/",
          "height": 387
        },
        "id": "eDMebzIdaTLX",
        "outputId": "a0affb4d-50c5-48a2-a531-6e406f092fc4"
      },
      "source": [
        "\n",
        "\n",
        "db_ops.InitializeRecords()\n"
      ],
      "execution_count": null,
      "outputs": [
        {
          "output_type": "stream",
          "text": [
            "Incorrect number of bindings supplied. The current statement uses 1, and there are 20 supplied.\n"
          ],
          "name": "stdout"
        },
        {
          "output_type": "error",
          "ename": "TypeError",
          "evalue": "ignored",
          "traceback": [
            "\u001b[0;31m---------------------------------------------------------------------------\u001b[0m",
            "\u001b[0;31mTypeError\u001b[0m                                 Traceback (most recent call last)",
            "\u001b[0;32m<ipython-input-53-574438b32761>\u001b[0m in \u001b[0;36m<module>\u001b[0;34m()\u001b[0m\n\u001b[1;32m      1\u001b[0m \u001b[0mdb_ops\u001b[0m \u001b[0;34m=\u001b[0m \u001b[0mDbOperations\u001b[0m\u001b[0;34m(\u001b[0m\u001b[0mbaglanti\u001b[0m\u001b[0;34m)\u001b[0m\u001b[0;34m\u001b[0m\u001b[0;34m\u001b[0m\u001b[0m\n\u001b[1;32m      2\u001b[0m \u001b[0mdb_ops\u001b[0m\u001b[0;34m.\u001b[0m\u001b[0mInitializeDatabase\u001b[0m\u001b[0;34m(\u001b[0m\u001b[0;34m)\u001b[0m\u001b[0;34m\u001b[0m\u001b[0;34m\u001b[0m\u001b[0m\n\u001b[0;32m----> 3\u001b[0;31m \u001b[0mdb_ops\u001b[0m\u001b[0;34m.\u001b[0m\u001b[0mInitializeRecords\u001b[0m\u001b[0;34m(\u001b[0m\u001b[0;34m)\u001b[0m\u001b[0;34m\u001b[0m\u001b[0;34m\u001b[0m\u001b[0m\n\u001b[0m",
            "\u001b[0;32m<ipython-input-52-d70056ff19fe>\u001b[0m in \u001b[0;36mInitializeRecords\u001b[0;34m(self)\u001b[0m\n\u001b[1;32m     24\u001b[0m   \u001b[0;32mdef\u001b[0m \u001b[0mInitializeRecords\u001b[0m\u001b[0;34m(\u001b[0m\u001b[0mself\u001b[0m\u001b[0;34m)\u001b[0m\u001b[0;34m:\u001b[0m\u001b[0;34m\u001b[0m\u001b[0;34m\u001b[0m\u001b[0m\n\u001b[1;32m     25\u001b[0m     \u001b[0mself\u001b[0m\u001b[0;34m.\u001b[0m\u001b[0mCreateDepartmentRecords\u001b[0m\u001b[0;34m(\u001b[0m\u001b[0;34m)\u001b[0m\u001b[0;34m\u001b[0m\u001b[0;34m\u001b[0m\u001b[0m\n\u001b[0;32m---> 26\u001b[0;31m     \u001b[0mself\u001b[0m\u001b[0;34m.\u001b[0m\u001b[0mCreateUserRecords\u001b[0m\u001b[0;34m(\u001b[0m\u001b[0;34m)\u001b[0m\u001b[0;34m\u001b[0m\u001b[0;34m\u001b[0m\u001b[0m\n\u001b[0m\u001b[1;32m     27\u001b[0m     \u001b[0mself\u001b[0m\u001b[0;34m.\u001b[0m\u001b[0mCreateLessonRecords\u001b[0m\u001b[0;34m(\u001b[0m\u001b[0;34m)\u001b[0m\u001b[0;34m\u001b[0m\u001b[0;34m\u001b[0m\u001b[0m\n\u001b[1;32m     28\u001b[0m     \u001b[0mself\u001b[0m\u001b[0;34m.\u001b[0m\u001b[0mCreateGradeRecords\u001b[0m\u001b[0;34m(\u001b[0m\u001b[0;34m)\u001b[0m\u001b[0;34m\u001b[0m\u001b[0;34m\u001b[0m\u001b[0m\n",
            "\u001b[0;32m<ipython-input-52-d70056ff19fe>\u001b[0m in \u001b[0;36mCreateUserRecords\u001b[0;34m(self)\u001b[0m\n\u001b[1;32m    114\u001b[0m       \u001b[0mme_sql_query\u001b[0m \u001b[0;34m=\u001b[0m \u001b[0mSqlQuery\u001b[0m\u001b[0;34m(\u001b[0m\u001b[0mquery\u001b[0m \u001b[0;34m=\u001b[0m \u001b[0;34m\"SELECT Id FROM Departments WHERE Name = ?\"\u001b[0m\u001b[0;34m,\u001b[0m\u001b[0mparameters\u001b[0m\u001b[0;34m=\u001b[0m\u001b[0;34m(\u001b[0m\u001b[0;34m\"Mechanical Engineering\"\u001b[0m\u001b[0;34m)\u001b[0m\u001b[0;34m)\u001b[0m\u001b[0;34m\u001b[0m\u001b[0;34m\u001b[0m\u001b[0m\n\u001b[1;32m    115\u001b[0m \u001b[0;34m\u001b[0m\u001b[0m\n\u001b[0;32m--> 116\u001b[0;31m       \u001b[0mce_id\u001b[0m \u001b[0;34m=\u001b[0m \u001b[0mself\u001b[0m\u001b[0;34m.\u001b[0m\u001b[0mExecuteSql\u001b[0m\u001b[0;34m(\u001b[0m\u001b[0mSqlQueries\u001b[0m\u001b[0;34m(\u001b[0m\u001b[0;34m[\u001b[0m\u001b[0mce_sql_query\u001b[0m\u001b[0;34m]\u001b[0m\u001b[0;34m)\u001b[0m\u001b[0;34m)\u001b[0m\u001b[0;34m[\u001b[0m\u001b[0;36m0\u001b[0m\u001b[0;34m]\u001b[0m\u001b[0;34m\u001b[0m\u001b[0;34m\u001b[0m\u001b[0m\n\u001b[0m\u001b[1;32m    117\u001b[0m       \u001b[0mie_id\u001b[0m \u001b[0;34m=\u001b[0m \u001b[0mself\u001b[0m\u001b[0;34m.\u001b[0m\u001b[0mExecuteSql\u001b[0m\u001b[0;34m(\u001b[0m\u001b[0mSqlQueries\u001b[0m\u001b[0;34m(\u001b[0m\u001b[0;34m[\u001b[0m\u001b[0mie_sql_query\u001b[0m\u001b[0;34m]\u001b[0m\u001b[0;34m)\u001b[0m\u001b[0;34m)\u001b[0m\u001b[0;34m[\u001b[0m\u001b[0;36m0\u001b[0m\u001b[0;34m]\u001b[0m\u001b[0;34m\u001b[0m\u001b[0;34m\u001b[0m\u001b[0m\n\u001b[1;32m    118\u001b[0m       \u001b[0mme_id\u001b[0m \u001b[0;34m=\u001b[0m \u001b[0mself\u001b[0m\u001b[0;34m.\u001b[0m\u001b[0mExecuteSql\u001b[0m\u001b[0;34m(\u001b[0m\u001b[0mSqlQueries\u001b[0m\u001b[0;34m(\u001b[0m\u001b[0;34m[\u001b[0m\u001b[0mme_sql_query\u001b[0m\u001b[0;34m]\u001b[0m\u001b[0;34m)\u001b[0m\u001b[0;34m)\u001b[0m\u001b[0;34m[\u001b[0m\u001b[0;36m0\u001b[0m\u001b[0;34m]\u001b[0m\u001b[0;34m\u001b[0m\u001b[0;34m\u001b[0m\u001b[0m\n",
            "\u001b[0;31mTypeError\u001b[0m: 'NoneType' object is not subscriptable"
          ]
        }
      ]
    },
    {
      "cell_type": "code",
      "metadata": {
        "id": "lrKJIEMVtaGK"
      },
      "source": [
        "db_ops.CreateDepartmentRecords()"
      ],
      "execution_count": null,
      "outputs": []
    },
    {
      "cell_type": "code",
      "metadata": {
        "colab": {
          "base_uri": "https://localhost:8080/"
        },
        "id": "4HXdns-rsmB5",
        "outputId": "8e08f031-53f4-405d-9f7f-9f09d340f096"
      },
      "source": [
        "db_ops.GetDepartments()"
      ],
      "execution_count": null,
      "outputs": [
        {
          "output_type": "stream",
          "text": [
            "[(1, 'Computer Engineering'), (2, 'Industrial Engineering'), (3, 'Mechanical Engineering')]\n"
          ],
          "name": "stdout"
        }
      ]
    },
    {
      "cell_type": "code",
      "metadata": {
        "colab": {
          "base_uri": "https://localhost:8080/"
        },
        "id": "VJAE2s5VsCzv",
        "outputId": "d083c907-b50d-4e4d-fc9c-099bcd5c48a7"
      },
      "source": [
        "cursor = baglanti.cursor()\n",
        "cursor.execute(\"SELECT * FROM Users\")\n",
        "\n",
        "cursor.fetchall()"
      ],
      "execution_count": null,
      "outputs": [
        {
          "output_type": "execute_result",
          "data": {
            "text/plain": [
              "[]"
            ]
          },
          "metadata": {
            "tags": []
          },
          "execution_count": 44
        }
      ]
    },
    {
      "cell_type": "markdown",
      "metadata": {
        "id": "RR9OCWobaHQU"
      },
      "source": [
        " ## Backend ve Business"
      ]
    },
    {
      "cell_type": "code",
      "metadata": {
        "id": "QmmUq0ZzaFO5"
      },
      "source": [
        ""
      ],
      "execution_count": null,
      "outputs": []
    },
    {
      "cell_type": "code",
      "metadata": {
        "id": "Jk3m2xL6aFpx"
      },
      "source": [
        ""
      ],
      "execution_count": null,
      "outputs": []
    },
    {
      "cell_type": "code",
      "metadata": {
        "id": "4hkBd18NaFhz"
      },
      "source": [
        ""
      ],
      "execution_count": null,
      "outputs": []
    },
    {
      "cell_type": "code",
      "metadata": {
        "id": "XknNl8JeaFZr"
      },
      "source": [
        ""
      ],
      "execution_count": null,
      "outputs": []
    },
    {
      "cell_type": "code",
      "metadata": {
        "id": "K7_pLf7NaFVX"
      },
      "source": [
        ""
      ],
      "execution_count": null,
      "outputs": []
    },
    {
      "cell_type": "code",
      "metadata": {
        "id": "q7lXEO2PQhbs"
      },
      "source": [
        "OgrenciListesi=[]"
      ],
      "execution_count": null,
      "outputs": []
    },
    {
      "cell_type": "code",
      "metadata": {
        "id": "tymzVANmkVDz"
      },
      "source": [
        "DersListesi=[]"
      ],
      "execution_count": null,
      "outputs": []
    },
    {
      "cell_type": "code",
      "metadata": {
        "id": "AesEc5wckToH"
      },
      "source": [
        "OgrenciDersNotuListesi=[]"
      ],
      "execution_count": null,
      "outputs": []
    },
    {
      "cell_type": "code",
      "metadata": {
        "id": "4ONrkl1OP-nB"
      },
      "source": [
        "def DersEkle(isim,dersKodu,mid1Etki,mid2Etki,finalEtki,donem):\n",
        "  if len([ders for ders in DersListesi if ders[\"DersKodu\"]==dersKodu])==0:\n",
        "    id = len(DersListesi)+1\n",
        "    DersListesi.append({\"Id\":id,\"Isim\":isim,\"DersKodu\":dersKodu,\n",
        "                        \"Mid1Etki\":mid1Etki,\"Mid2Etki\":mid2Etki,\n",
        "                        \"FinalEtki\":finalEtki,\"Donem\":donem})"
      ],
      "execution_count": null,
      "outputs": []
    },
    {
      "cell_type": "code",
      "metadata": {
        "id": "vsbrPfpGN3SA"
      },
      "source": [
        "#Öğrencilerimizi oluşturalım\n",
        "\n",
        "def OgrenciEkle(adiSoyadi,ogrenciNo,sifre,bolum,devamsizlik,girisYili,donem):\n",
        "  if len([eleman for eleman in OgrenciListesi if eleman[\"OgrenciNo\"]==ogrenciNo])==0:\n",
        "    OgrenciListesi.append({\"AdiSoyadi\":adiSoyadi,\"OgrenciNo\":ogrenciNo,\n",
        "                           \"Sifre\":sifre,\n",
        "                           \"Bolum\":bolum,\n",
        "                            \"Devamsizlik\":devamsizlik,\n",
        "                           \"girisYili\":girisYili,\"Donem\":donem})"
      ],
      "execution_count": null,
      "outputs": []
    },
    {
      "cell_type": "code",
      "metadata": {
        "id": "AUBGhNvHQ8k4"
      },
      "source": [
        "def DersEkleDuzenle(ogrenciNo,dersKodu,vize1=None,vize2=None,final=None):\n",
        "  isFirst=False\n",
        "  ogrenciNotuDictSorgu=[sozlukElemani for sozlukElemani in OgrenciDersNotuListesi if sozlukElemani[\"OgrenciNo\"]==ogrenciNo and sozlukElemani[\"DersKodu\"]==dersKodu]\n",
        "  \n",
        "  if len(ogrenciNotuDictSorgu)==0:\n",
        "    ogrenciNotuDict={\"OgrenciNo\":ogrenciNo,\"DersKodu\":dersKodu}\n",
        "    isFirst=True\n",
        "  elif len(ogrenciNotuDictSorgu)>0:\n",
        "    ogrenciNotuDict=ogrenciNotuDictSorgu[0]\n",
        "\n",
        "  if vize1 is not None:\n",
        "    ogrenciNotuDict[\"Vize1\"]=vize1\n",
        "    ogrenciNotuDict[\"Ortalama\"] = OrtalamaHesapla(ogrenciNotuDict)\n",
        "  if vize2 is not None:\n",
        "    ogrenciNotuDict[\"Vize2\"]=vize2\n",
        "    ogrenciNotuDict[\"Ortalama\"] = OrtalamaHesapla(ogrenciNotuDict)\n",
        "  if final is not None:\n",
        "    ogrenciNotuDict[\"Final\"]=final\n",
        "    ogrenciNotuDict[\"Ortalama\"] = OrtalamaHesapla(ogrenciNotuDict)\n",
        "    \n",
        "  if isFirst:\n",
        "     OgrenciDersNotuListesi.append(ogrenciNotuDict)\n",
        "\n",
        "def OrtalamaHesapla(ogrenciNotuDictionaryParametre):\n",
        "  ortalama=0\n",
        "  ders=[ders for ders in DersListesi if ders[\"DersKodu\"]==ogrenciNotuDictionaryParametre[\"DersKodu\"]][0]\n",
        "  if ders is not None:\n",
        "    if \"Vize1\" in ogrenciNotuDictionaryParametre.keys():\n",
        "      ortalama+=ders[\"Mid1Etki\"]*ogrenciNotuDictionaryParametre[\"Vize1\"]/100\n",
        "    if \"Vize2\" in ogrenciNotuDictionaryParametre.keys():\n",
        "      ortalama+=ders[\"Mid2Etki\"]*ogrenciNotuDictionaryParametre[\"Vize2\"]/100\n",
        "    if \"Final\" in ogrenciNotuDictionaryParametre.keys():\n",
        "      ortalama+=ders[\"FinalEtki\"]*ogrenciNotuDictionaryParametre[\"Final\"]/100\n",
        "\n",
        "    return ortalama"
      ],
      "execution_count": null,
      "outputs": []
    },
    {
      "cell_type": "code",
      "metadata": {
        "id": "hL3z1T-nSP_B"
      },
      "source": [
        "#Öğrenci        - ÖğrenciDersler (Fethi Matematik dersini alıyor ve aldığı matematik dersinde 1.vize notu 70) -               Dersler"
      ],
      "execution_count": null,
      "outputs": []
    },
    {
      "cell_type": "code",
      "metadata": {
        "id": "qrq1H9-SafEY"
      },
      "source": [
        "DersEkle(\"Python Programlama 1\",\"PY101\",20,30,50,1)\n",
        "DersEkle(\"Matematik 1\",\"MAT101\",30,30,40,1)\n",
        "DersEkle(\"Tarih 1\",\"HIST101\",25,30,45,1)\n",
        "\n",
        "\n",
        "DersEkle(\"Python Programlama 2\",\"PY102\",30,35,35,2)\n",
        "DersEkle(\"Veri Yapısı ve Algoritmalar 1\",\"ALG301\",25,35,40,5)"
      ],
      "execution_count": null,
      "outputs": []
    },
    {
      "cell_type": "code",
      "metadata": {
        "id": "1aYu36hSWRjX"
      },
      "source": [
        "OgrenciEkle(\"Fethi Tekyaygil\",\"1627\",\"123\",\"Bilgisayar Mühendisliği\",0,2014,2)\n",
        "OgrenciEkle(\"Taha Tekyaygil\",\"200\",\"qwer\",\"İşletme\",0,2015,1)"
      ],
      "execution_count": null,
      "outputs": []
    },
    {
      "cell_type": "code",
      "metadata": {
        "id": "9ZffN1EjRzLw"
      },
      "source": [
        "DersEkleDuzenle(\"1627\",\"PY101\",90) #Fethi Python 101 dersi alıyor\n",
        "DersEkleDuzenle(\"1627\",\"MAT101\",75)\n",
        "DersEkleDuzenle(\"1627\",\"HIST101\")\n",
        "DersEkleDuzenle(\"200\",\"PY101\")"
      ],
      "execution_count": null,
      "outputs": []
    },
    {
      "cell_type": "markdown",
      "metadata": {
        "id": "_K-_K6yxceEH"
      },
      "source": [
        "## UI"
      ]
    },
    {
      "cell_type": "code",
      "metadata": {
        "id": "Rl23LEHLZ-Yt"
      },
      "source": [
        "def UIKullaniciyiSelamla(adSoyad):\n",
        "  print(f'Hoşgeldin {adSoyad}!')"
      ],
      "execution_count": null,
      "outputs": []
    },
    {
      "cell_type": "code",
      "metadata": {
        "id": "eHWZZggKaAKK"
      },
      "source": [
        "def UIKullaniciIslemleri():\n",
        "  secim=input(\"Yapmak istediğiniz işlemi seçin! \\n* Dersleri görmek için 1\\n* Notları görmek için 2\\n \")\n",
        "  if secim == \"1\":\n",
        "    print(UIOgrenciDersleriGoruntule())\n",
        "  elif secim == \"2\":\n",
        "    UIOgrenciDersNotlariGoruntule()"
      ],
      "execution_count": null,
      "outputs": []
    },
    {
      "cell_type": "code",
      "metadata": {
        "id": "8sKga-YuX9QH"
      },
      "source": [
        "def HelperDersListesininSozlukOlustur():\n",
        "  global ogrenciDerslerVeNotlar\n",
        "\n",
        "  dersKodlari=[ogrenciDersNotu[\"DersKodu\"] for ogrenciDersNotu in ogrenciDerslerVeNotlar]\n",
        "  \n",
        "  dersIsimleri={}\n",
        "\n",
        "  index=1\n",
        "\n",
        "  for dersKodu in dersKodlari:\n",
        "    dersIsmi=[ders for ders in DersListesi if ders[\"DersKodu\"]==dersKodu][0][\"Isim\"]\n",
        "    \n",
        "    dersIsimleri[str(index)]=[dersIsmi,dersKodu]\n",
        "\n",
        "    index+=1\n",
        "\n",
        "  return dersIsimleri"
      ],
      "execution_count": null,
      "outputs": []
    },
    {
      "cell_type": "code",
      "metadata": {
        "id": "GhlP8k_-hty5"
      },
      "source": [
        "def DersListesiniEkranaYazdir(dersSozluk):\n",
        "  for key,value in dersSozluk.items():\n",
        "    print(f\"{key}. {value[0]} ({value[1]})\")"
      ],
      "execution_count": null,
      "outputs": []
    },
    {
      "cell_type": "code",
      "metadata": {
        "id": "7C6GQqp5aCHu"
      },
      "source": [
        "# Öğrenci Derslerini Görüntüle\n",
        "def UIOgrenciDersleriGoruntule():\n",
        "  sozluk = HelperDersListesininSozlukOlustur()\n",
        "  DersListesiniEkranaYazdir(sozluk)"
      ],
      "execution_count": null,
      "outputs": []
    },
    {
      "cell_type": "code",
      "metadata": {
        "id": "ODOeKAI6h5kN"
      },
      "source": [
        "#Başlangıçta Kullanıcının Tüm Ders ve Not Bilgisini getir\n",
        "def UIBaslangictaOgrenciDersVeNotlariniGetir(ogrenciNo):\n",
        "  return [ogrenciDersNotu for ogrenciDersNotu in OgrenciDersNotuListesi if ogrenciDersNotu[\"OgrenciNo\"]==ogrenciNo]"
      ],
      "execution_count": null,
      "outputs": []
    },
    {
      "cell_type": "code",
      "metadata": {
        "id": "IRQnAATZVpMC"
      },
      "source": [
        "#Başlangıçta Kullanıcının Notu Olan Tüm Derslerini Filtrele\n",
        "def UIBaslangictaOgrenciNotuOlanDersleriGetir():\n",
        "  global ogrenciDerslerVeNotlar\n",
        "\n",
        "  return [ders for ders in ogrenciDerslerVeNotlar if \"Ortalama\" in ders]"
      ],
      "execution_count": null,
      "outputs": []
    },
    {
      "cell_type": "code",
      "metadata": {
        "id": "YtmQlyPkgF8O"
      },
      "source": [
        "#Öğrenci Ders Notlarını Görüntüle\n",
        "def UIOgrenciDersNotlariGoruntule():\n",
        "  secim = input(\"*Tüm derslerin notlarını görmek için 1\\n*Tek dersin notunu görüntülemek için 2\\n  \")\n",
        "\n",
        "  if secim==\"1\":\n",
        "    UITumDerslerinNotlariniGor()\n",
        "  elif secim==\"2\":\n",
        "    UITekDersinNotlariniGor()"
      ],
      "execution_count": null,
      "outputs": []
    },
    {
      "cell_type": "code",
      "metadata": {
        "id": "kApD_8QNk802"
      },
      "source": [
        "def HelperNotGoruntule(notListesi):\n",
        "  for notuOlanDers in notListesi:\n",
        "    notuOlanDersTupleList=list(notuOlanDers.items())\n",
        "    for notuOlanDersTuple in notuOlanDersTupleList:\n",
        "      if notuOlanDersTuple[0] != \"OgrenciNo\":\n",
        "        print(f\"{notuOlanDersTuple[0]} : {notuOlanDersTuple[1]}\")\n",
        "    print(\" \")"
      ],
      "execution_count": null,
      "outputs": []
    },
    {
      "cell_type": "code",
      "metadata": {
        "id": "8MQPY9z4g8jf"
      },
      "source": [
        "#Öğrencinin Tüm Derslerinin Notlarını Görüntüle\n",
        "def UITumDerslerinNotlariniGor():\n",
        "  HelperNotGoruntule(notuOlanDersler)"
      ],
      "execution_count": null,
      "outputs": []
    },
    {
      "cell_type": "code",
      "metadata": {
        "id": "7GDj2mBZVLuA"
      },
      "source": [
        "def UITekDersinNotlariniGor():\n",
        "  global ogrenciDerslerVeNotlar\n",
        "\n",
        "  sozluk = HelperDersListesininSozlukOlustur()\n",
        "  DersListesiniEkranaYazdir(sozluk)\n",
        "  \n",
        "  deger=\"\"\n",
        "\n",
        "  while deger not in sozluk:\n",
        "    deger=input(\"Lütfen notunu görmek istediğini dersi seçin: \")\n",
        "  \n",
        "  dersKodu = sozluk[deger][1]\n",
        "\n",
        "  secilenDers = [notuOlanDers for notuOlanDers in notuOlanDersler if notuOlanDers[\"DersKodu\"] ==  dersKodu]\n",
        "\n",
        "  if len(secilenDers) == 0:\n",
        "    print(\"Bu dersin notu yok!\")\n",
        "  else:\n",
        "    HelperNotGoruntule(secilenDers)"
      ],
      "execution_count": null,
      "outputs": []
    },
    {
      "cell_type": "code",
      "metadata": {
        "id": "AkYivhpafxQa"
      },
      "source": [
        "\"\"\"\n",
        "1. Tüm derslerin notlarını görüntüleyecek\n",
        "2. Tek dersin notlarını görüntüleyecek\n",
        "\"\"\""
      ],
      "execution_count": null,
      "outputs": []
    },
    {
      "cell_type": "markdown",
      "metadata": {
        "id": "d0lNiZD-V85H"
      },
      "source": [
        "# App"
      ]
    },
    {
      "cell_type": "code",
      "metadata": {
        "id": "0qzxl9GmV42_"
      },
      "source": [
        "hak=3\n",
        "ogrenciNo = None\n",
        "sifre = None\n",
        "girisYapanOgrenci = None\n",
        "ogrenciDerslerVeNotlar = []\n",
        "notuOlanDersler = []"
      ],
      "execution_count": null,
      "outputs": []
    },
    {
      "cell_type": "code",
      "metadata": {
        "id": "jassc3ItlINP"
      },
      "source": [
        "while hak>0:\n",
        "  ogrenciNo=input(\"Ogrenci no: \")\n",
        "  sifre=input(\"Şifre: \")\n",
        "\n",
        "  girisYapanOgrenciSorguListesi=[ogrenci for ogrenci in OgrenciListesi \n",
        "                     if ogrenci[\"OgrenciNo\"]==ogrenciNo \n",
        "                     and ogrenci[\"Sifre\"]==sifre]\n",
        "  \n",
        "  if len(girisYapanOgrenciSorguListesi)>0:\n",
        "    girisYapanOgrenci=girisYapanOgrenciSorguListesi[0]\n",
        "\n",
        "  if girisYapanOgrenci is None: \n",
        "    hak-=1\n",
        "  else:\n",
        "    ogrenciDerslerVeNotlar = UIBaslangictaOgrenciDersVeNotlariniGetir(ogrenciNo) #tüm dersleri getirsin\n",
        "    notuOlanDersler = UIBaslangictaOgrenciNotuOlanDersleriGetir()\n",
        "    UIKullaniciyiSelamla(girisYapanOgrenci[\"AdiSoyadi\"])\n",
        "    UIKullaniciIslemleri()\n",
        "    break\n",
        "\n",
        "  if hak<=0:\n",
        "    print(\"Çok fazla hatalı deneme yaptınız lütfen öğrenci işleriyle iletişime geçin!\")\n",
        "    exit()"
      ],
      "execution_count": null,
      "outputs": []
    }
  ]
}