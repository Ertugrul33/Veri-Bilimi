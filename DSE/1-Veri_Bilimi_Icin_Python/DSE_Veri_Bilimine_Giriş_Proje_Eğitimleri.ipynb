{
  "nbformat": 4,
  "nbformat_minor": 0,
  "metadata": {
    "colab": {
      "name": "DSE Veri Bilimine Giriş - Proje Eğitimleri .ipynb",
      "provenance": [],
      "collapsed_sections": []
    },
    "kernelspec": {
      "name": "python3",
      "display_name": "Python 3"
    }
  },
  "cells": [
    {
      "cell_type": "code",
      "metadata": {
        "id": "UrcH0PIANawQ"
      },
      "source": [
        "#Öğrenci Bilgilendirme Sistemi"
      ],
      "execution_count": null,
      "outputs": []
    },
    {
      "cell_type": "code",
      "metadata": {
        "id": "OJLSQsrVMLTa"
      },
      "source": [
        "\"\"\"\n",
        "Öğrenciler\n",
        "  Dersler -> Notlar -> Midterm -> Final\n",
        "  Sınıflara Göre Ders Ortalaması\n",
        "  Bölüm,\n",
        "  Devamsızlık Bilgisi,\n",
        "  Giriş Yılı\n",
        "\"\"\""
      ],
      "execution_count": null,
      "outputs": []
    },
    {
      "cell_type": "markdown",
      "metadata": {
        "id": "GZe2HpRcZ0Ow"
      },
      "source": [
        "1. Kullanıcılar\n",
        "\n",
        "2. Dersler\n",
        "\n",
        "3. Notlar"
      ]
    },
    {
      "cell_type": "markdown",
      "metadata": {
        "id": "fPJFvOZSaPY1"
      },
      "source": [
        "## Veritabanı"
      ]
    },
    {
      "cell_type": "code",
      "metadata": {
        "id": "BvvQw2dzaREM"
      },
      "source": [
        "import sqlite3"
      ],
      "execution_count": null,
      "outputs": []
    },
    {
      "cell_type": "code",
      "metadata": {
        "id": "JypkjW82aTgh"
      },
      "source": [
        "baglanti = sqlite3.connect(\"obs.db\")"
      ],
      "execution_count": null,
      "outputs": []
    },
    {
      "cell_type": "code",
      "metadata": {
        "id": "PEy_yu7TlcO8"
      },
      "source": [
        "class SqlQueries():\n",
        "  def __init__(self, sqlQueries,operation=\"r\"):\n",
        "    self.sqlQueries = sqlQueries\n",
        "    self.operation = operation"
      ],
      "execution_count": null,
      "outputs": []
    },
    {
      "cell_type": "code",
      "metadata": {
        "id": "-RTOXZnclLCj"
      },
      "source": [
        "class SqlQuery():\n",
        "  def __init__(self,query,parameters=()):\n",
        "    self.query=query\n",
        "    self.parameters=parameters"
      ],
      "execution_count": null,
      "outputs": []
    },
    {
      "cell_type": "code",
      "metadata": {
        "id": "4eOpGIdPaTWA"
      },
      "source": [
        "class DbOperations():\n",
        "  def __init__(self,baglanti):\n",
        "    self.baglanti=baglanti\n",
        "    self.cursor = baglanti.cursor()\n",
        "\n",
        "  def ExecuteSql(self,sql_queries):\n",
        "    try:\n",
        "      for sql_query in sql_queries.sqlQueries:\n",
        "        self.cursor.execute(sql_query.query,sql_query.parameters)\n",
        "      if sql_queries.operation == \"r\":\n",
        "        return self.cursor.fetchall()\n",
        "      else:\n",
        "        self.baglanti.commit()\n",
        "    except Exception as e:\n",
        "      print(str(e))\n",
        "      \"\"\"\n",
        "  def GetUsers(self):\n",
        "    print(self.ExecuteSql(SqlQueries([SqlQuery(\"SELECT * FROM Users\")])))\n",
        "\n",
        "  def GetDepartments(self):\n",
        "    print(self.ExecuteSql(SqlQueries([SqlQuery(\"SELECT * FROM Departments\")])))\n",
        "    \"\"\""
      ],
      "execution_count": null,
      "outputs": []
    },
    {
      "cell_type": "code",
      "metadata": {
        "id": "O25sI8X2divV"
      },
      "source": [
        "class DbCreateOps(DbOperations):\n",
        "  def __init__(self,baglanti):\n",
        "    super().__init__(baglanti)\n",
        "\n",
        "\n",
        "  def InitializeDatabase(self):\n",
        "    self.CreateDepartmentsTable()\n",
        "    self.CreateUsersTable()\n",
        "    self.CreateLessonsTable()\n",
        "    self.CreateGradesTable()\n",
        "\n",
        "\n",
        "  def CreateUsersTable(self):\n",
        "    query='''\n",
        "      CREATE TABLE IF NOT EXISTS Users(\n",
        "      Id INTEGER PRIMARY KEY AUTOINCREMENT NOT NULL,\n",
        "      Name VARCHAR(30) NOT NULL,\n",
        "      Surname VARCHAR(30) NOT NULL,\n",
        "      Username VARCHAR(60) UNIQUE NOT NULL,\n",
        "      Password VARCHAR(40) NOT NULL,\n",
        "      DepartmentId INTEGER NOT NULL,\n",
        "      Policy BIT NOT NULL,\n",
        "\n",
        "      FOREIGN KEY(DepartmentId) REFERENCES Departments(Id) \n",
        "      );\n",
        "      '''\n",
        "      \n",
        "    sql_query = SqlQuery(query=query)\n",
        "    sql_queries = SqlQueries([sql_query],operation=\"c\")\n",
        "\n",
        "    self.ExecuteSql(sql_queries) #Policy = 1 Öğrenci , Policy = 0 Öğretmen\n",
        "      \n",
        "  def CreateLessonsTable(self):\n",
        "    query = '''\n",
        "      CREATE TABLE IF NOT EXISTS Lessons(\n",
        "        Id INTEGER PRIMARY KEY AUTOINCREMENT NOT NULL,\n",
        "        Name VARCHAR(50) NOT NULL UNIQUE,\n",
        "        Code VARCHAR(10) NOT NULL UNIQUE,\n",
        "        Midterm1Effect INTEGER NOT NULL,\n",
        "        Midterm2Effect INTEGER NOT NULL,\n",
        "        FinalEffect INTEGER NOT NULL,\n",
        "        DepartmentId INTEGER NOT NULL,\n",
        "\n",
        "\n",
        "        FOREIGN KEY(DepartmentId) REFERENCES Departments(Id) \n",
        "      );\n",
        "    '''\n",
        "\n",
        "    sql_query = SqlQuery(query=query)\n",
        "    sql_queries = SqlQueries([sql_query],operation=\"c\")\n",
        "    self.ExecuteSql(sql_queries)\n",
        "\n",
        "\n",
        "  def CreateDepartmentsTable(self):\n",
        "    query = '''\n",
        "    CREATE TABLE IF NOT EXISTS Departments(\n",
        "      Id INTEGER PRIMARY KEY AUTOINCREMENT NOT NULL,\n",
        "      Name VARCHAR(50) UNIQUE NOT NULL\n",
        "    );\n",
        "    '''\n",
        "\n",
        "    sql_query = SqlQuery(query=query)\n",
        "    sql_queries = SqlQueries([sql_query],operation=\"c\")\n",
        "    self.ExecuteSql(sql_queries)\n",
        "\n",
        "  def CreateGradesTable(self):\n",
        "    query = '''\n",
        "      CREATE TABLE IF NOT EXISTS Grades(\n",
        "        Id INTEGER PRIMARY KEY AUTOINCREMENT NOT NULL,\n",
        "\n",
        "        UserId INTEGER NOT NULL,\n",
        "        LessonId INTEGER NOT NULL,\n",
        "\n",
        "        Midterm1 INTEGER NULL,\n",
        "        Midterm2 INTEGER NULL,\n",
        "        Final INTEGER NULL,\n",
        "        ExtraNote INTEGER NULL,\n",
        "\n",
        "        GeneralGrade INTEGER NULL,\n",
        "\n",
        "        FOREIGN KEY(UserId) REFERENCES Users(Id),\n",
        "        FOREIGN KEY(LessonId) REFERENCES Lessons(Id)\n",
        "      );\n",
        "    '''\n",
        "    \n",
        "    sql_query = SqlQuery(query=query)\n",
        "    sql_queries = SqlQueries([sql_query],operation=\"c\")\n",
        "    self.ExecuteSql(sql_queries)"
      ],
      "execution_count": null,
      "outputs": []
    },
    {
      "cell_type": "code",
      "metadata": {
        "id": "pC6Wr4QteLtl"
      },
      "source": [
        "class DbInsertOps(DbOperations):\n",
        "  def __init__(self,baglanti):\n",
        "    super().__init__(baglanti)\n",
        "\n",
        "  def InitializeRecords(self):\n",
        "    self.InsertDepartmentRecords()\n",
        "    self.InsertUserRecords()\n",
        "    self.InsertLessonRecords()\n",
        "    self.InsertGradeRecords()\n",
        "\n",
        "\n",
        "  def GetDepartmentIdsForInsert(self):\n",
        "      ce_sql_query = SqlQuery(query = \"SELECT Id FROM Departments WHERE Name = ?\", parameters=(\"Computer Engineering\",))\n",
        "      ie_sql_query = SqlQuery(query = \"SELECT Id FROM Departments WHERE Name = ?\", parameters=(\"Industrial Engineering\",))\n",
        "      me_sql_query = SqlQuery(query = \"SELECT Id FROM Departments WHERE Name = ?\", parameters=(\"Mechanical Engineering\",))\n",
        "\n",
        "      ce_id = self.ExecuteSql(SqlQueries([ce_sql_query]))[0]\n",
        "      ie_id = self.ExecuteSql(SqlQueries([ie_sql_query]))[0]\n",
        "      me_id = self.ExecuteSql(SqlQueries([me_sql_query]))[0]\n",
        "\n",
        "      return (ce_id,ie_id,me_id)\n",
        "\n",
        "  def GetLessonIdsForInsert(self):\n",
        "    py101_id_query = SqlQuery(\"SELECT Id FROM Lessons WHERE Code = ?\",(\"PY101\",))\n",
        "    py102_id_query = SqlQuery(\"SELECT Id FROM Lessons WHERE Code = ?\",(\"PY102\",))\n",
        "    mat101_id_query = SqlQuery(\"SELECT Id FROM Lessons WHERE Code = ?\",(\"MAT101\",))\n",
        "    ye101_id_query = SqlQuery(\"SELECT Id FROM Lessons WHERE Code = ?\",(\"YE101\",))\n",
        "\n",
        "    py101_id = self.ExecuteSql(SqlQueries([py101_id_query]))[0][0]\n",
        "    py102_id = self.ExecuteSql(SqlQueries([py102_id_query]))[0][0]\n",
        "    mat101_id = self.ExecuteSql(SqlQueries([mat101_id_query]))[0][0]\n",
        "    ye101_id = self.ExecuteSql(SqlQueries([ye101_id_query]))[0][0]\n",
        "\n",
        "    return (py101_id, py102_id, mat101_id, ye101_id)\n",
        "\n",
        "\n",
        "  def GetUserIdsForInsert(self):\n",
        "    fethitekyaygil_id_query = SqlQuery(\"SELECT Id FROM Users WHERE username = ?\",(\"fethitekyaygil\",))\n",
        "    tahatekyaygil_id_query = SqlQuery(\"SELECT Id FROM Users WHERE username = ?\",(\"tahatekyaygil\",))\n",
        "    enesagdag_id_query = SqlQuery(\"SELECT Id FROM Users WHERE username = ?\",(\"enesagdag\",))\n",
        "    muratozcan_id_query = SqlQuery(\"SELECT Id FROM Users WHERE username = ?\",(\"muratozcan\",))\n",
        "\n",
        "    fethitekyaygil_id = self.ExecuteSql(SqlQueries([fethitekyaygil_id_query]))[0][0]\n",
        "    tahatekyaygil_id = self.ExecuteSql(SqlQueries([tahatekyaygil_id_query]))[0][0]\n",
        "    enesagdag_id = self.ExecuteSql(SqlQueries([enesagdag_id_query]))[0][0]\n",
        "    muratozcan_id = self.ExecuteSql(SqlQueries([muratozcan_id_query]))[0][0]\n",
        "\n",
        "    return (fethitekyaygil_id,tahatekyaygil_id,enesagdag_id,muratozcan_id)\n",
        "\n",
        "\n",
        "  def InsertUserRecords(self):\n",
        "      \n",
        "      ce_id, ie_id, me_id = self.GetDepartmentIdsForInsert()\n",
        "\n",
        "      query_list=[]\n",
        "      \n",
        "      query_list.append(SqlQuery('''\n",
        "      INSERT INTO Users(Name,Surname,Username,Password,DepartmentId,Policy)\n",
        "      VALUES ('Fethi','Tekyaygil','fethitekyaygil','123',?,1)\n",
        "      ''',(ce_id)))\n",
        "\n",
        "      query_list.append(SqlQuery('''\n",
        "      INSERT INTO Users(Name,Surname,Username,Password,DepartmentId,Policy)\n",
        "      VALUES ('Taha','Tekyaygil','tahatekyaygil','123456',?,1)\n",
        "      ''',(ce_id)))\n",
        "\n",
        "      query_list.append(SqlQuery('''\n",
        "      INSERT INTO Users(Name,Surname,Username,Password,DepartmentId,Policy)\n",
        "      VALUES ('Enes','Ağdağ','enesagdag','123432',?,1)\n",
        "      ''',(ie_id)))\n",
        "      \n",
        "      query_list.append(SqlQuery('''\n",
        "      INSERT INTO Users(Name,Surname,Username,Password,DepartmentId,Policy)\n",
        "      VALUES ('Murat','Özcan','muratozcan','123213',?,1)\n",
        "      ''',(me_id)))\n",
        "      \n",
        "      query_list.append(SqlQuery('''\n",
        "      INSERT INTO Users(Name,Surname,Username,Password,DepartmentId,Policy)\n",
        "      VALUES ('Hıdır','Sevinç','hidirsevinç','123333',?,0)\n",
        "      ''',(ce_id)))\n",
        "      \n",
        "      query_list.append(SqlQuery('''\n",
        "      INSERT INTO Users(Name,Surname,Username,Password,DepartmentId,Policy)\n",
        "      VALUES ('Yeşim','Çalık','yesimcalik','1233334',?,0)\n",
        "      ''',(ie_id)))\n",
        "\n",
        "      query_list.append(SqlQuery('''\n",
        "      INSERT INTO Users(Name,Surname,Username,Password,DepartmentId,Policy)\n",
        "      VALUES ('Sefer','Kurnaz','seferkurnaz','1233331212',?,0)\n",
        "      ''',(me_id)))\n",
        "      \n",
        "      \n",
        "      self.ExecuteSql(SqlQueries(query_list,operation=\"i\")) #i = insert\n",
        "\n",
        "  def InsertDepartmentRecords(self):\n",
        "      query_list=[]\n",
        "\n",
        "      query_list.append(SqlQuery('''\n",
        "      INSERT INTO Departments(Name) VALUES('Computer Engineering');\n",
        "      '''))\n",
        "\n",
        "      query_list.append(SqlQuery('''\n",
        "      INSERT INTO Departments(Name) VALUES('Industrial Engineering');\n",
        "      '''))\n",
        "\n",
        "      query_list.append(SqlQuery('''\n",
        "      INSERT INTO Departments(Name) VALUES('Mechanical Engineering');\n",
        "      '''))\n",
        "\n",
        "      self.ExecuteSql(SqlQueries(query_list,operation=\"i\"))\n",
        "\n",
        "\n",
        "  def InsertLessonRecords(self):\n",
        "      ce_id, ie_id, me_id = self.GetDepartmentIdsForInsert()\n",
        "\n",
        "      query_list=[]\n",
        "\n",
        "      query_list.append(SqlQuery('''\n",
        "      INSERT INTO Lessons(Name,Code,Midterm1Effect,Midterm2Effect,FinalEffect,DepartmentId)\n",
        "      VALUES ('Python Programlama 1','PY101','30','35','35',?)\n",
        "      ''', (ce_id)))\n",
        "\n",
        "      query_list.append(SqlQuery('''\n",
        "      INSERT INTO Lessons(Name,Code,Midterm1Effect,Midterm2Effect,FinalEffect,DepartmentId)\n",
        "      VALUES ('Python Programlama 2','PY102','40','25','35',?)\n",
        "      ''',(ce_id)))\n",
        "\n",
        "\n",
        "      query_list.append(SqlQuery('''\n",
        "      INSERT INTO Lessons(Name,Code,Midterm1Effect,Midterm2Effect,FinalEffect,DepartmentId)\n",
        "      VALUES ('Matematik 101','MAT101','20','25','55',?)\n",
        "      ''',(me_id)))\n",
        "\n",
        "\n",
        "      query_list.append(SqlQuery('''\n",
        "      INSERT INTO Lessons(Name,Code,Midterm1Effect,Midterm2Effect,FinalEffect,DepartmentId)\n",
        "      VALUES ('Yöneylem 101','YE101','30','35','35',?)\n",
        "      ''',(ie_id)))\n",
        "\n",
        "      self.ExecuteSql(SqlQueries(query_list,operation=\"i\"))\n",
        "\n",
        "  def InsertGradeRecords(self):\n",
        "      py101_id, py102_id, mat101_id, ye101_id = self.GetLessonIdsForInsert()\n",
        "      fethitekyaygil_id, tahatekyaygil_id, enesagdag_id, muratozcan_id = self.GetUserIdsForInsert()\n",
        "\n",
        "      query_list=[]\n",
        "\n",
        "      query_list.append(SqlQuery(\"INSERT INTO Grades (UserId,LessonId) VALUES(?,?)\",(fethitekyaygil_id, py101_id)))\n",
        "      query_list.append(SqlQuery(\"INSERT INTO Grades (UserId,LessonId) VALUES(?,?)\",(fethitekyaygil_id, mat101_id)))\n",
        "      query_list.append(SqlQuery(\"INSERT INTO Grades (UserId,LessonId) VALUES(?,?)\",(tahatekyaygil_id, py102_id)))\n",
        "      query_list.append(SqlQuery(\"INSERT INTO Grades (UserId,LessonId) VALUES(?,?)\",(muratozcan_id, ye101_id)))\n",
        "      query_list.append(SqlQuery(\"INSERT INTO Grades (UserId,LessonId) VALUES(?,?)\",(muratozcan_id, mat101_id)))\n",
        "      query_list.append(SqlQuery(\"INSERT INTO Grades (UserId,LessonId) VALUES(?,?)\",(enesagdag_id, ye101_id)))\n",
        "\n",
        "      self.ExecuteSql(SqlQueries(query_list,\"i\"))"
      ],
      "execution_count": null,
      "outputs": []
    },
    {
      "cell_type": "code",
      "metadata": {
        "id": "D6lVJHTchbYr"
      },
      "source": [
        "class DbGetOps(DbOperations):\n",
        "  def __init__(self,baglanti):\n",
        "    super().__init__(baglanti)\n",
        "\n",
        "  def GetUsers(self):\n",
        "    return self.ExecuteSql(\n",
        "        SqlQueries(\n",
        "            [SqlQuery(\"SELECT * FROM Users\")],operation=\"r\"))\n",
        "    \n",
        "  def GetLessons(self):\n",
        "    return self.ExecuteSql(\n",
        "        SqlQueries(\n",
        "            [SqlQuery(\"SELECT * FROM Lessons\")],operation=\"r\"))\n",
        "    \n",
        "  def GetDepartments(self):\n",
        "    return self.ExecuteSql(\n",
        "        SqlQueries(\n",
        "            [SqlQuery(\"SELECT * FROM Departments\")],operation=\"r\"))\n",
        "    \n",
        "  def GetGrades(self):\n",
        "    return self.ExecuteSql(\n",
        "        SqlQueries(\n",
        "            [SqlQuery(\"SELECT * FROM Grades\")],operation=\"r\"))"
      ],
      "execution_count": null,
      "outputs": []
    },
    {
      "cell_type": "code",
      "metadata": {
        "id": "vmVw9vMDxc6t"
      },
      "source": [
        "db_create_ops = DbCreateOps(baglanti)"
      ],
      "execution_count": null,
      "outputs": []
    },
    {
      "cell_type": "code",
      "metadata": {
        "id": "eDMebzIdaTLX"
      },
      "source": [
        "db_insert_ops = DbInsertOps(baglanti)"
      ],
      "execution_count": null,
      "outputs": []
    },
    {
      "cell_type": "code",
      "metadata": {
        "id": "o4cxTmaUfaUs"
      },
      "source": [
        "db_create_ops.InitializeDatabase()"
      ],
      "execution_count": null,
      "outputs": []
    },
    {
      "cell_type": "code",
      "metadata": {
        "id": "R-xDzJfx0f38"
      },
      "source": [
        "db_insert_ops.InitializeRecords()"
      ],
      "execution_count": null,
      "outputs": []
    },
    {
      "cell_type": "code",
      "metadata": {
        "id": "ImjA-APOhZaW"
      },
      "source": [
        "db_get_ops = DbGetOps(baglanti)"
      ],
      "execution_count": null,
      "outputs": []
    },
    {
      "cell_type": "code",
      "metadata": {
        "colab": {
          "base_uri": "https://localhost:8080/"
        },
        "id": "gUyLcznmh9uk",
        "outputId": "5c625e83-bdc2-4b54-905b-fbb3a1d519d9"
      },
      "source": [
        "db_get_ops.GetGrades()"
      ],
      "execution_count": null,
      "outputs": [
        {
          "output_type": "execute_result",
          "data": {
            "text/plain": [
              "[(1, 1, 1, None, None, None, None, None),\n",
              " (2, 1, 3, None, None, None, None, None),\n",
              " (3, 2, 2, None, None, None, None, None),\n",
              " (4, 4, 4, None, None, None, None, None),\n",
              " (5, 4, 3, None, None, None, None, None),\n",
              " (6, 3, 4, None, None, None, None, None)]"
            ]
          },
          "metadata": {
            "tags": []
          },
          "execution_count": 199
        }
      ]
    },
    {
      "cell_type": "code",
      "metadata": {
        "id": "4AEH_p5liRdq"
      },
      "source": [
        "db_get_ops.GetDepartments()"
      ],
      "execution_count": null,
      "outputs": []
    },
    {
      "cell_type": "code",
      "metadata": {
        "colab": {
          "base_uri": "https://localhost:8080/"
        },
        "id": "BrlSrhE5iTop",
        "outputId": "dbef74d3-b433-466f-8ddc-ba994526c1bc"
      },
      "source": [
        "db_get_ops.GetLessons()"
      ],
      "execution_count": null,
      "outputs": [
        {
          "output_type": "execute_result",
          "data": {
            "text/plain": [
              "[(1,)]"
            ]
          },
          "metadata": {
            "tags": []
          },
          "execution_count": 142
        }
      ]
    },
    {
      "cell_type": "markdown",
      "metadata": {
        "id": "RR9OCWobaHQU"
      },
      "source": [
        " ## Backend ve Business"
      ]
    },
    {
      "cell_type": "code",
      "metadata": {
        "id": "AOCnf-ohlyi0"
      },
      "source": [
        "class User():\n",
        "  def __init__(self,id,name,surname,username,password,departmentId,policy):\n",
        "    self.id = id\n",
        "    self.name = name\n",
        "    self.surname = surname\n",
        "    self.username = username\n",
        "    self.password = password\n",
        "    self.departmentId = departmentId\n",
        "    self.policy = policy"
      ],
      "execution_count": null,
      "outputs": []
    },
    {
      "cell_type": "code",
      "metadata": {
        "id": "w5Enz4FsjaHO"
      },
      "source": [
        "class UserManager(DbOperations):\n",
        "  def __init__(self,baglanti):\n",
        "    super().__init__(baglanti)\n",
        "\n",
        "  def CheckUsernamePasswordValidation(self,username,password):\n",
        "    return self.ExecuteSql(\n",
        "        SqlQueries(\n",
        "            [SqlQuery(\"SELECT * FROM Users WHERE Username = ? AND Password = ?\",parameters=(username,password))],operation=\"r\"\n",
        "        )\n",
        "    )\n",
        "\n",
        "  def GetUserLessons(self,userId):\n",
        "    user_lessons = self.ExecuteSql(\n",
        "        SqlQueries(\n",
        "            [SqlQuery('''SELECT l.Name, l.Code FROM Grades as g \n",
        "            JOIN Lessons as l ON g.LessonId = l.Id\n",
        "            WHERE g.UserId = ?\n",
        "            ''',(userId,))]\n",
        "        )\n",
        "    )\n",
        "\n",
        "    return [f\"{lesson[0]} ({lesson[1]})\" for lesson in user_lessons]\n",
        "\n",
        "\n",
        "  def MapUser(self,user_list_value):\n",
        "    return User(user_list_value[0],\n",
        "                user_list_value[1],\n",
        "                user_list_value[2],\n",
        "                user_list_value[3],\n",
        "                user_list_value[4],\n",
        "                user_list_value[5],\n",
        "                user_list_value[6])\n",
        "\n",
        "  def MapUsers(self,user_list_values):\n",
        "    user_list=[]\n",
        "\n",
        "    for user_list_value in user_list_values:\n",
        "      user_list.append(self.MapUser(user_list_value))\n",
        "\n",
        "    return user_list"
      ],
      "execution_count": null,
      "outputs": []
    },
    {
      "cell_type": "markdown",
      "metadata": {
        "id": "_K-_K6yxceEH"
      },
      "source": [
        "## UI"
      ]
    },
    {
      "cell_type": "code",
      "metadata": {
        "id": "Rl23LEHLZ-Yt"
      },
      "source": [
        "def UIKullaniciyiSelamla(adSoyad):\n",
        "  print(f'Hoşgeldin {adSoyad}!')"
      ],
      "execution_count": null,
      "outputs": []
    },
    {
      "cell_type": "code",
      "metadata": {
        "id": "eHWZZggKaAKK"
      },
      "source": [
        "def UIKullaniciIslemleri(userId):\n",
        "  secim=input(\"Yapmak istediğiniz işlemi seçin! \\n* Dersleri görmek için 1\\n* Notları görmek için 2\\n \")\n",
        "  if secim == \"1\":\n",
        "    print(UIOgrenciDersleriGoruntule(userId))\n",
        "  elif secim == \"2\":\n",
        "    UIOgrenciDersNotlariGoruntule()"
      ],
      "execution_count": null,
      "outputs": []
    },
    {
      "cell_type": "code",
      "metadata": {
        "id": "2s1aAI07oPU9"
      },
      "source": [
        "def UIOgrenciDersleriGoruntule(userId):\n",
        "  global user_manager\n",
        "\n",
        "  print(user_manager.GetUserLessons(userId))"
      ],
      "execution_count": null,
      "outputs": []
    },
    {
      "cell_type": "code",
      "metadata": {
        "id": "AkYivhpafxQa"
      },
      "source": [
        "\"\"\"\n",
        "1. Tüm derslerin notlarını görüntüleyecek\n",
        "2. Tek dersin notlarını görüntüleyecek\n",
        "\"\"\""
      ],
      "execution_count": null,
      "outputs": []
    },
    {
      "cell_type": "markdown",
      "metadata": {
        "id": "d0lNiZD-V85H"
      },
      "source": [
        "# App"
      ]
    },
    {
      "cell_type": "code",
      "metadata": {
        "id": "0qzxl9GmV42_"
      },
      "source": [
        "hak=3\n",
        "ogrenciNo = None\n",
        "sifre = None\n",
        "girisYapanOgrenci = None\n",
        "ogrenciDerslerVeNotlar = []\n",
        "notuOlanDersler = []\n",
        "user_manager = UserManager(baglanti)"
      ],
      "execution_count": null,
      "outputs": []
    },
    {
      "cell_type": "code",
      "metadata": {
        "id": "jassc3ItlINP",
        "colab": {
          "base_uri": "https://localhost:8080/"
        },
        "outputId": "d3064b0d-3e36-459d-8563-a7bd8f78fe9d"
      },
      "source": [
        "while hak>0:\n",
        "  if hak<=0:\n",
        "    print(\"Çok fazla hatalı deneme yaptınız lütfen öğrenci işleriyle iletişime geçin!\")\n",
        "    exit()\n",
        "\n",
        "  kullaniciAdi=input(\"Kullanıcı Adı: \")\n",
        "  sifre=input(\"Şifre: \")\n",
        "\n",
        "  girisYapanOgrenciSorguListesi = user_manager.CheckUsernamePasswordValidation(kullaniciAdi,sifre)\n",
        "\n",
        "  if len(girisYapanOgrenciSorguListesi) > 0:\n",
        "    girisYapanOgrenci = girisYapanOgrenciSorguListesi[0]\n",
        "    logged_user = user_manager.MapUser(girisYapanOgrenci)\n",
        "    break\n",
        "  else:\n",
        "    hak-=1\n",
        "    continue\n",
        "  \n",
        "\n",
        "\n",
        "\n",
        "UIKullaniciyiSelamla(f\"{logged_user.name} {logged_user.surname}\")\n",
        "UIKullaniciIslemleri(logged_user.id)\n",
        "\n",
        "\n",
        "\n",
        "  "
      ],
      "execution_count": null,
      "outputs": [
        {
          "output_type": "stream",
          "text": [
            "Kullanıcı Adı: fethitekyaygil\n",
            "Şifre: 123\n",
            "Hoşgeldin Fethi Tekyaygil!\n",
            "Yapmak istediğiniz işlemi seçin! \n",
            "* Dersleri görmek için 1\n",
            "* Notları görmek için 2\n",
            " 1\n",
            "['Python Programlama 1 (PY101)', 'Matematik 101 (MAT101)']\n",
            "None\n"
          ],
          "name": "stdout"
        }
      ]
    },
    {
      "cell_type": "code",
      "metadata": {
        "id": "oZcB3UVslG61"
      },
      "source": [
        "\"\"\"\n",
        "  ogrenciDerslerVeNotlar = UIBaslangictaOgrenciDersVeNotlariniGetir(ogrenciNo) #tüm dersleri getirsin\n",
        "  notuOlanDersler = UIBaslangictaOgrenciNotuOlanDersleriGetir()\n",
        "  UIKullaniciyiSelamla(girisYapanOgrenci[\"AdiSoyadi\"])\n",
        "  UIKullaniciIslemleri()\n",
        "\"\"\""
      ],
      "execution_count": null,
      "outputs": []
    }
  ]
}