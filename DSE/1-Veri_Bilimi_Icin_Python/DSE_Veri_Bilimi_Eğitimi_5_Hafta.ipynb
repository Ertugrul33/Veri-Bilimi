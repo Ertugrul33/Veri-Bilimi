{
  "nbformat": 4,
  "nbformat_minor": 0,
  "metadata": {
    "colab": {
      "name": "DSE Veri Bilimi Eğitimi - 5. Hafta.ipynb",
      "provenance": [],
      "collapsed_sections": [
        "WJreHgrGllCV",
        "MfFOsrA6AfmC",
        "6sOO_4CbBygM",
        "j00kbB-3L9ch"
      ]
    },
    "kernelspec": {
      "name": "python3",
      "display_name": "Python 3"
    }
  },
  "cells": [
    {
      "cell_type": "markdown",
      "metadata": {
        "id": "GlmfLrJcG5Jv"
      },
      "source": [
        "## Fonksiyonlar"
      ]
    },
    {
      "cell_type": "code",
      "metadata": {
        "id": "qUQkpNuaDRSJ"
      },
      "source": [
        "public int Topla(int sayi1,int sayi2){\n",
        "    \n",
        "}\n",
        "\n",
        "public void Karsilama(){\n",
        "    jhdlksjhd\n",
        "    jsdhgfjlgdsf\n",
        "    şkjdhfkdsf\n",
        "}\n",
        "\n",
        "kslhjdkhdfd"
      ],
      "execution_count": null,
      "outputs": []
    },
    {
      "cell_type": "code",
      "metadata": {
        "id": "U8ro768jCjeA"
      },
      "source": [
        "def Karsilama():\n",
        "  isim = input(\"İsminizi Girin: \")\n",
        "  print(f\"Merhaba {isim}.\")"
      ],
      "execution_count": 5,
      "outputs": []
    },
    {
      "cell_type": "code",
      "metadata": {
        "id": "XK3EmvFBEbhO"
      },
      "source": [
        "def Topla(sayi1, sayi2):\n",
        "  toplam=sayi1+sayi2\n",
        "  return toplam"
      ],
      "execution_count": 6,
      "outputs": []
    },
    {
      "cell_type": "code",
      "metadata": {
        "colab": {
          "base_uri": "https://localhost:8080/"
        },
        "id": "dK6c--gAFBG9",
        "outputId": "64d5e20d-d4b9-4350-e1af-f388fecee978"
      },
      "source": [
        "a=5\n",
        "print(a)"
      ],
      "execution_count": 9,
      "outputs": [
        {
          "output_type": "stream",
          "text": [
            "5\n"
          ],
          "name": "stdout"
        }
      ]
    },
    {
      "cell_type": "code",
      "metadata": {
        "id": "28NEMcO9FZnY"
      },
      "source": [
        "def Matematik(sayi1, sayi2):\n",
        "  toplam = sayi1+sayi2\n",
        "  fark = sayi1-sayi2\n",
        "  carpim = sayi1*sayi2\n",
        "  bolum = sayi1/sayi2\n",
        "  \n",
        "  return (toplam,carpim,fark,bolum)\n"
      ],
      "execution_count": 12,
      "outputs": []
    },
    {
      "cell_type": "code",
      "metadata": {
        "colab": {
          "base_uri": "https://localhost:8080/"
        },
        "id": "sIplEjQCF2Bc",
        "outputId": "4ec792fb-1bc8-4105-967e-306ca87cf94c"
      },
      "source": [
        "t, c, f, b = Matematik(15,10)\n",
        "print(t)\n",
        "print(c)\n",
        "print(f)\n",
        "print(b)"
      ],
      "execution_count": 14,
      "outputs": [
        {
          "output_type": "stream",
          "text": [
            "25\n",
            "150\n",
            "5\n",
            "1.5\n"
          ],
          "name": "stdout"
        }
      ]
    },
    {
      "cell_type": "code",
      "metadata": {
        "id": "sBt215-RGafw"
      },
      "source": [
        "def Matematik2(sayi1, sayi2):\n",
        "  toplam = sayi1+sayi2\n",
        "  fark = sayi1-sayi2\n",
        "  carpim = sayi1*sayi2\n",
        "  bolum = sayi1/sayi2\n",
        "  \n",
        "  return {\"Toplam\":toplam,\"Carpim\":carpim,\"Fark\":fark,\"Bolum\":bolum}"
      ],
      "execution_count": 31,
      "outputs": []
    },
    {
      "cell_type": "code",
      "metadata": {
        "colab": {
          "base_uri": "https://localhost:8080/",
          "height": 105
        },
        "id": "5tcDkagiGeDV",
        "outputId": "646d992a-a3c0-4550-f0b4-ebc9198935ec"
      },
      "source": [
        "Matematik2(15,10) -> dictionary.values()\n",
        "\n",
        "t,c,f,b = Matematik2(15,10)\n",
        "\n",
        "print(t)\n",
        "print(c)\n",
        "print(f)\n",
        "print(b)\n",
        "\"\"\"\n",
        "for eleman in d.items():\n",
        "  print(f\"{eleman[0]} = {eleman[1]}\")\n",
        "\"\"\""
      ],
      "execution_count": 32,
      "outputs": [
        {
          "output_type": "stream",
          "text": [
            "Toplam2\n",
            "Carpim\n",
            "Fark\n",
            "Bolum\n"
          ],
          "name": "stdout"
        },
        {
          "output_type": "execute_result",
          "data": {
            "application/vnd.google.colaboratory.intrinsic+json": {
              "type": "string"
            },
            "text/plain": [
              "'\\nfor eleman in d.items():\\n  print(f\"{eleman[0]} = {eleman[1]}\")\\n'"
            ]
          },
          "metadata": {
            "tags": []
          },
          "execution_count": 32
        }
      ]
    },
    {
      "cell_type": "code",
      "metadata": {
        "id": "dkL9SVsLFyKL"
      },
      "source": [
        "toplamSayi = Topla(1,2)"
      ],
      "execution_count": null,
      "outputs": []
    },
    {
      "cell_type": "code",
      "metadata": {
        "colab": {
          "base_uri": "https://localhost:8080/"
        },
        "id": "02MQp_XTEoSC",
        "outputId": "a8794f39-e526-4dba-f45d-33d168ba54ff"
      },
      "source": [
        "toplamSayi = Topla(5,2)\n",
        "print(toplamSayi)"
      ],
      "execution_count": 11,
      "outputs": [
        {
          "output_type": "stream",
          "text": [
            "7\n"
          ],
          "name": "stdout"
        }
      ]
    },
    {
      "cell_type": "code",
      "metadata": {
        "colab": {
          "base_uri": "https://localhost:8080/"
        },
        "id": "KlphiQM8EA03",
        "outputId": "07fef271-31e9-4103-87fd-5c0ffd9f0a3d"
      },
      "source": [
        "Karsilama()"
      ],
      "execution_count": 4,
      "outputs": [
        {
          "output_type": "stream",
          "text": [
            "İsminizi Girin: Fethi\n",
            "Merhaba Fethi!\n"
          ],
          "name": "stdout"
        }
      ]
    },
    {
      "cell_type": "code",
      "metadata": {
        "id": "_vwzRafxFScU"
      },
      "source": [
        ""
      ],
      "execution_count": null,
      "outputs": []
    },
    {
      "cell_type": "code",
      "metadata": {
        "id": "xr-F8cjrCjYg"
      },
      "source": [
        "lgsaljhgdsf\n",
        "jksadljkashd\n",
        "lajsdghljasd\n",
        "ljasghdhljsad\n",
        "\n",
        "Karsilama()\n",
        "\n",
        "sahjgdlajhsgd\n",
        "ljasghdljagsfdljsa\n",
        "lkjsadfljksdhf\n",
        "lkjadshflhjkdsaf\n",
        "şkjjdsakhf\n",
        "\n",
        "Karsilama()\n",
        "\n",
        "\n",
        "çsdkgflhjsdgflhjdsgfjdas\n",
        "lksadhfljdshafjlhsdaf\n",
        "şksdajhfljdshfjlkdsaf\n",
        "şkjdsahfldshfds\n",
        "ljdsgafdsgfljsgdf\n",
        "\n",
        "Karsilama()"
      ],
      "execution_count": null,
      "outputs": []
    },
    {
      "cell_type": "code",
      "metadata": {
        "id": "ZtAOpeGDCjQo"
      },
      "source": [
        ""
      ],
      "execution_count": null,
      "outputs": []
    },
    {
      "cell_type": "code",
      "metadata": {
        "id": "xmv4r_jCboXC"
      },
      "source": [
        "def merhaba():\n",
        "  # { -> : \n",
        "  print(\"Herkese Merhaba!!\")"
      ],
      "execution_count": null,
      "outputs": []
    },
    {
      "cell_type": "code",
      "metadata": {
        "id": "9WyymUQqgSBQ"
      },
      "source": [
        "merhaba()   #fonksiyonu çağırma   #parametre almayan fonksiyonlar"
      ],
      "execution_count": null,
      "outputs": []
    },
    {
      "cell_type": "code",
      "metadata": {
        "id": "0mNT-X0DoP7y"
      },
      "source": [
        "def merhaba(isim):\n",
        "  print(\"Merhaba \" + isim)"
      ],
      "execution_count": null,
      "outputs": []
    },
    {
      "cell_type": "code",
      "metadata": {
        "id": "DxZKzFIuoW08"
      },
      "source": [
        "merhaba(\"Fethi\")"
      ],
      "execution_count": null,
      "outputs": []
    },
    {
      "cell_type": "code",
      "metadata": {
        "id": "3AoI1i0igZC7"
      },
      "source": [
        "def func1():\n",
        "  print(\"Hello World!!\")"
      ],
      "execution_count": null,
      "outputs": []
    },
    {
      "cell_type": "code",
      "metadata": {
        "id": "iiSPTWt3hJHo"
      },
      "source": [
        "def toplam(a,b):\n",
        "  print(a+b)\n",
        "\n"
      ],
      "execution_count": null,
      "outputs": []
    },
    {
      "cell_type": "code",
      "metadata": {
        "id": "WNgM1TR4haRG"
      },
      "source": [
        "toplam(6,7)"
      ],
      "execution_count": null,
      "outputs": []
    },
    {
      "cell_type": "code",
      "metadata": {
        "id": "MfnQx9FFhd5H"
      },
      "source": [
        "t = toplam(8,9)\n",
        "print(t)"
      ],
      "execution_count": null,
      "outputs": []
    },
    {
      "cell_type": "code",
      "metadata": {
        "id": "NiymGvuihkZ2"
      },
      "source": [
        "#iki sayı toplam çarpım\n",
        "def func(x,y):\n",
        "  toplam = x + y\n",
        "  carpim = x * y\n",
        "  return (toplam,carpim)"
      ],
      "execution_count": null,
      "outputs": []
    },
    {
      "cell_type": "code",
      "metadata": {
        "id": "SbtW4TLdh7Pp"
      },
      "source": [
        "t,c = func(23,45)\n",
        "\n",
        "print(t,c)"
      ],
      "execution_count": null,
      "outputs": []
    },
    {
      "cell_type": "code",
      "metadata": {
        "id": "Nca_Rpf9iC-x"
      },
      "source": [
        "print(\"Değerlerin toplamı: \" + str(t) + \", Değerlerin çarpımı: \" + str(c))"
      ],
      "execution_count": null,
      "outputs": []
    },
    {
      "cell_type": "code",
      "metadata": {
        "id": "ixnzYyJLH-Uh"
      },
      "source": [
        "def SayiFiltrele(filtrelenecekSayi):\n",
        "  sayiListesi = [2,8,9]\n",
        "\n",
        "  if filtrelenecekSayi in sayiListesi:\n",
        "    print(\"HATA!\")\n",
        "  else:\n",
        "    print(\"SAYI UYGUN!\")"
      ],
      "execution_count": 33,
      "outputs": []
    },
    {
      "cell_type": "code",
      "metadata": {
        "colab": {
          "base_uri": "https://localhost:8080/"
        },
        "id": "bTR5rP_GH-MZ",
        "outputId": "d20762b6-02a9-4310-cbd2-bc6f640f8453"
      },
      "source": [
        "SayiFiltrele(7)"
      ],
      "execution_count": 34,
      "outputs": [
        {
          "output_type": "stream",
          "text": [
            "SAYI UYGUN!\n"
          ],
          "name": "stdout"
        }
      ]
    },
    {
      "cell_type": "code",
      "metadata": {
        "colab": {
          "base_uri": "https://localhost:8080/"
        },
        "id": "uggopbaNH-EB",
        "outputId": "5f3dc47f-9734-415d-aa21-1f36e858bfe3"
      },
      "source": [
        "SayiFiltrele(2)"
      ],
      "execution_count": 35,
      "outputs": [
        {
          "output_type": "stream",
          "text": [
            "HATA!\n"
          ],
          "name": "stdout"
        }
      ]
    },
    {
      "cell_type": "code",
      "metadata": {
        "colab": {
          "base_uri": "https://localhost:8080/"
        },
        "id": "QC37Fw3XH97e",
        "outputId": "7b434280-ae57-455c-cc08-538b4c04c323"
      },
      "source": [
        "SayiFiltrele(12)"
      ],
      "execution_count": 36,
      "outputs": [
        {
          "output_type": "stream",
          "text": [
            "SAYI UYGUN!\n"
          ],
          "name": "stdout"
        }
      ]
    },
    {
      "cell_type": "code",
      "metadata": {
        "id": "JguOZfpTH9zW"
      },
      "source": [
        "def Faktoriyel(sayi):\n",
        "  carpim = 1\n",
        "  for i in range(1,sayi+1):\n",
        "    carpim *= i\n",
        "  return carpim"
      ],
      "execution_count": 37,
      "outputs": []
    },
    {
      "cell_type": "code",
      "metadata": {
        "id": "N4I4-WPxJz2D"
      },
      "source": [
        "#Recursive ile Faktöriyel Hesaplama\n",
        "\n",
        "def FaktoriyelR(sayi):\n",
        "\n",
        "  if sayi <=1:\n",
        "    return 1\n",
        "\n",
        "  return sayi*FaktoriyelR(sayi-1)\n",
        "\n",
        "\n",
        "FaktoriyelR(5)  =>  5 * 24 = 120\n",
        "\n",
        "FaktoriyelR(4) =>  4 * 6\n",
        "\n",
        "FaktoriyelR(3) => 3 * 2\n",
        "\n",
        "FaktoriyelR(2) => 2 * 1\n",
        "\n",
        "FaktoriyelR(1) => 1"
      ],
      "execution_count": 41,
      "outputs": []
    },
    {
      "cell_type": "code",
      "metadata": {
        "colab": {
          "base_uri": "https://localhost:8080/"
        },
        "id": "VM8ml1wYH9rQ",
        "outputId": "5903979e-6fc9-4cc3-8250-3db1e813a414"
      },
      "source": [
        "FaktoriyelR(5)"
      ],
      "execution_count": 44,
      "outputs": [
        {
          "output_type": "execute_result",
          "data": {
            "text/plain": [
              "120"
            ]
          },
          "metadata": {
            "tags": []
          },
          "execution_count": 44
        }
      ]
    },
    {
      "cell_type": "code",
      "metadata": {
        "id": "5IS0ARTJiPY1"
      },
      "source": [
        "# Bir fonksiyon yazalım, girilen sayının karesini alsın ama 5 rakamı girince de sonlandırsın ve bize hata mesajı versin.\n",
        "def kare(x):\n",
        "  if x == 5:\n",
        "    return \"5 girdiğiniz için fonksiyon sonlandırıldı\"\n",
        "\n",
        "  sonuc = x **2\n",
        "  return sonuc"
      ],
      "execution_count": null,
      "outputs": []
    },
    {
      "cell_type": "code",
      "metadata": {
        "id": "w0Am5qkekKNH"
      },
      "source": [
        "kare(10)"
      ],
      "execution_count": null,
      "outputs": []
    },
    {
      "cell_type": "code",
      "metadata": {
        "id": "-A1MrkLDkMju"
      },
      "source": [
        "kare(5)"
      ],
      "execution_count": null,
      "outputs": []
    },
    {
      "cell_type": "code",
      "metadata": {
        "id": "gsu2kbuJnKmx"
      },
      "source": [
        "d = kare(5)\n",
        "print(d)"
      ],
      "execution_count": null,
      "outputs": []
    },
    {
      "cell_type": "code",
      "metadata": {
        "id": "ewtG6xuRkQsy"
      },
      "source": [
        "# girilen sayının pozitif negatif ya da sıfır olduğunu söyleyen bir fonksiyon yazalım.\n",
        "\n",
        "\n",
        "\n",
        "def func(x):\n",
        "  if x > 0:\n",
        "    return (\"Pozitif\")\n",
        "  elif x < 0:\n",
        "    return (\"Negatif\")\n",
        "  else:\n",
        "    return (\"Sıfır\")\n",
        "\n"
      ],
      "execution_count": null,
      "outputs": []
    },
    {
      "cell_type": "code",
      "metadata": {
        "id": "UQ3T_8UTlJ8u"
      },
      "source": [
        "for i in [-2,5,6,0,-4,-7]:\n",
        "  print(func(i))"
      ],
      "execution_count": null,
      "outputs": []
    },
    {
      "cell_type": "code",
      "metadata": {
        "id": "_gih-r9xlZBr"
      },
      "source": [
        "# faktöriyel hesabı yapan fonksiyonu yazalım.\n",
        "\n",
        "\n",
        "\n",
        "def faktoriyel(sayi):\n",
        "  faktoriyel = 1\n",
        "  if (sayi == 0 or sayi == 1):\n",
        "    print(\"Faktoriyel: \", faktoriyel)\n",
        "  else:\n",
        "    while (sayi >= 1):\n",
        "      faktoriyel *= sayi\n",
        "      sayi -= 1\n",
        "    print(\"Faktoriyel: \", faktoriyel)\n",
        "\n",
        "\n"
      ],
      "execution_count": null,
      "outputs": []
    },
    {
      "cell_type": "code",
      "metadata": {
        "id": "T5ykiNt_yeck"
      },
      "source": [
        "faktoriyel(5)"
      ],
      "execution_count": null,
      "outputs": []
    },
    {
      "cell_type": "code",
      "metadata": {
        "id": "OQBMccOwyhl9"
      },
      "source": [
        "#for ile yazalım\n",
        "\n",
        "def faktoriyel2(sayi):\n",
        "  faktoriyel = 1\n",
        "  if (sayi == 0 or sayi == 1):\n",
        "    print(\"Faktoriyel: \", faktoriyel)\n",
        "  else:\n",
        "    for i in range(faktoriyel, sayi+1):\n",
        "       faktoriyel *= i      \n",
        "    print(\"Faktoriyel: \", faktoriyel)\n"
      ],
      "execution_count": null,
      "outputs": []
    },
    {
      "cell_type": "code",
      "metadata": {
        "id": "3e4oPm5yy3Co"
      },
      "source": [
        "faktoriyel2(6)"
      ],
      "execution_count": null,
      "outputs": []
    },
    {
      "cell_type": "code",
      "metadata": {
        "id": "-b8t6CgSl3Yu"
      },
      "source": [
        "x = faktoriyel2(6)\n",
        "print(x)"
      ],
      "execution_count": null,
      "outputs": []
    },
    {
      "cell_type": "code",
      "metadata": {
        "id": "blFFawxml7wW"
      },
      "source": [
        "def faktoriyel3(sayi):\n",
        "  faktoriyel = 1\n",
        "  if (sayi == 0 or sayi == 1):\n",
        "    return (\"Faktoriyel: \", faktoriyel)\n",
        "  else:\n",
        "    for i in range(faktoriyel, sayi+1):\n",
        "       faktoriyel *= i      \n",
        "    return (\"Faktoriyel: \", faktoriyel)"
      ],
      "execution_count": null,
      "outputs": []
    },
    {
      "cell_type": "code",
      "metadata": {
        "id": "HVWS7rb9mAIf"
      },
      "source": [
        "x = faktoriyel3(6)\n",
        "print(x)"
      ],
      "execution_count": null,
      "outputs": []
    },
    {
      "cell_type": "code",
      "metadata": {
        "id": "R91n8F0qKooz"
      },
      "source": [
        "# positional arguments\n",
        "# keyword arguments"
      ],
      "execution_count": null,
      "outputs": []
    },
    {
      "cell_type": "code",
      "metadata": {
        "id": "vxvQMHjgKoff"
      },
      "source": [
        "def Karsilama(isim,soyisim):\n",
        "  print(f\"Hello {isim} {soyisim}\")"
      ],
      "execution_count": 45,
      "outputs": []
    },
    {
      "cell_type": "code",
      "metadata": {
        "colab": {
          "base_uri": "https://localhost:8080/"
        },
        "id": "yii8LetCK2Q_",
        "outputId": "a8c0a2f1-0e6e-4eb2-8cc2-ed978c02196c"
      },
      "source": [
        "Karsilama(soyisim=\"Tekyaygil\",isim=\"Fethi\")"
      ],
      "execution_count": 48,
      "outputs": [
        {
          "output_type": "stream",
          "text": [
            "Hello Fethi Tekyaygil\n"
          ],
          "name": "stdout"
        }
      ]
    },
    {
      "cell_type": "code",
      "metadata": {
        "id": "afnwm66gKoWG"
      },
      "source": [
        "def Karsilama2(isim,soyisim,isSoyisimBuyuk=False):\n",
        "  if isSoyisimBuyuk:\n",
        "    soyisim = soyisim.upper()\n",
        "  \n",
        "  print(f\"Hello {isim} {soyisim}\")\n"
      ],
      "execution_count": 62,
      "outputs": []
    },
    {
      "cell_type": "code",
      "metadata": {
        "colab": {
          "base_uri": "https://localhost:8080/"
        },
        "id": "q4fHvLfOMVQr",
        "outputId": "ec066253-be6f-49e2-f9c9-53803dce8dad"
      },
      "source": [
        "Karsilama2(\"Fethi\",\"Tekyaygil\")"
      ],
      "execution_count": 63,
      "outputs": [
        {
          "output_type": "stream",
          "text": [
            "Hello Fethi Tekyaygil\n"
          ],
          "name": "stdout"
        }
      ]
    },
    {
      "cell_type": "code",
      "metadata": {
        "id": "HIUms-AlzQu9"
      },
      "source": [
        "# boolean değişkenli bir büyük harf küçük harf çıktısı veren fonksiyon yazalım.\n",
        "\n",
        "def merhaba2(isim, buyukHarf = False):\n",
        "  if buyukHarf:\n",
        "    print(\"Merhaba \" + isim.upper())\n",
        "  else:\n",
        "    print(\"Merhaba \" + isim)"
      ],
      "execution_count": null,
      "outputs": []
    },
    {
      "cell_type": "code",
      "metadata": {
        "id": "DkHm9Vtw0O4M"
      },
      "source": [
        "merhaba2(\"Fethi\",False)"
      ],
      "execution_count": null,
      "outputs": []
    },
    {
      "cell_type": "code",
      "metadata": {
        "id": "dYyDrfTn0TOS"
      },
      "source": [
        "merhaba2(\"Fethi\", buyukHarf = True)"
      ],
      "execution_count": null,
      "outputs": []
    },
    {
      "cell_type": "code",
      "metadata": {
        "id": "24eIpS0lNLoZ"
      },
      "source": [
        "Topla(1,2)\n",
        "\n",
        "Topla(1,2,3,4)"
      ],
      "execution_count": null,
      "outputs": []
    },
    {
      "cell_type": "code",
      "metadata": {
        "id": "USFC0-_CNhE2"
      },
      "source": [
        "# kwargs => keyword arguments\n",
        "# args => positional arguments"
      ],
      "execution_count": null,
      "outputs": []
    },
    {
      "cell_type": "code",
      "metadata": {
        "id": "hOCg1CheNlyU"
      },
      "source": [
        "def Topla(*args):\n",
        "  print(sum(args))"
      ],
      "execution_count": 71,
      "outputs": []
    },
    {
      "cell_type": "code",
      "metadata": {
        "colab": {
          "base_uri": "https://localhost:8080/"
        },
        "id": "BawQV9CtNzcl",
        "outputId": "1d7c0cd0-4c10-4fa7-96c5-8f9346de220f"
      },
      "source": [
        "Topla(1,2,3,4,5,6,7)"
      ],
      "execution_count": 69,
      "outputs": [
        {
          "output_type": "stream",
          "text": [
            "(1, 2, 3, 4, 5, 6, 7)\n",
            "<class 'tuple'>\n",
            "28\n"
          ],
          "name": "stdout"
        }
      ]
    },
    {
      "cell_type": "code",
      "metadata": {
        "colab": {
          "base_uri": "https://localhost:8080/"
        },
        "id": "7JVB6K5hNzSp",
        "outputId": "90925832-3e7e-4eef-a9d1-f5c4a7b1cba1"
      },
      "source": [
        "Topla(1,2,3,4)"
      ],
      "execution_count": 70,
      "outputs": [
        {
          "output_type": "stream",
          "text": [
            "(1, 2, 3, 4)\n",
            "<class 'tuple'>\n",
            "10\n"
          ],
          "name": "stdout"
        }
      ]
    },
    {
      "cell_type": "code",
      "metadata": {
        "id": "ViNW75vkN85B"
      },
      "source": [
        "def Topla2(**kwargs):\n",
        "  print(kwargs)\n",
        "  print(type(kwargs))\n",
        "\n",
        "  print(sum(list(kwargs.values())))\n"
      ],
      "execution_count": 80,
      "outputs": []
    },
    {
      "cell_type": "code",
      "metadata": {
        "colab": {
          "base_uri": "https://localhost:8080/"
        },
        "id": "3NrAEEgLOhBW",
        "outputId": "048f250e-6aea-4f1e-9304-a5c0826eb01d"
      },
      "source": [
        "Topla2(sayi1=7,sayi2=21,sayi3=98,sayi4=102)"
      ],
      "execution_count": 81,
      "outputs": [
        {
          "output_type": "stream",
          "text": [
            "{'sayi1': 7, 'sayi2': 21, 'sayi3': 98, 'sayi4': 102}\n",
            "<class 'dict'>\n",
            "228\n"
          ],
          "name": "stdout"
        }
      ]
    },
    {
      "cell_type": "code",
      "metadata": {
        "id": "AzJDy8xD1Rbm"
      },
      "source": [
        "def carp(*args):\n",
        "  sonuc = 1\n",
        "  for i in args:\n",
        "    sonuc *= i\n",
        "  print(sonuc)\n",
        "\n",
        "# *args ifade demet tipli veri tutar.\n",
        "(1,2,3,4,5) #tuple"
      ],
      "execution_count": null,
      "outputs": []
    },
    {
      "cell_type": "code",
      "metadata": {
        "id": "crk-VWf912z_"
      },
      "source": [
        "carp(4,5,6,7,8)"
      ],
      "execution_count": null,
      "outputs": []
    },
    {
      "cell_type": "code",
      "metadata": {
        "id": "sp9bJPmu1-lF"
      },
      "source": [
        "carp(2,3,4,5)"
      ],
      "execution_count": null,
      "outputs": []
    },
    {
      "cell_type": "code",
      "metadata": {
        "id": "M_gEN02J7Z6P"
      },
      "source": [
        "#maaş hesabını fonksiyon olarak yazalım.\n",
        "\n",
        "\n",
        "def maashesabi(maas):\n",
        "\n",
        "  if maas < 0:\n",
        "    return(\"Geçersiz değer\")\n",
        "  else:\n",
        "\n",
        "    if 0 < maas <= 1000:\n",
        "      maas = maas + maas * 0.15\n",
        "    elif maas <= 2000:\n",
        "      maas = maas + maas * 0.1\n",
        "    elif maas <= 3000:\n",
        "      maas = maas + maas * 0.05\n",
        "    else:\n",
        "      maas = maas + maas * 0.025\n",
        "\n",
        "    return (\"Yeni maaşınız\", maas)"
      ],
      "execution_count": null,
      "outputs": []
    },
    {
      "cell_type": "code",
      "metadata": {
        "id": "Tp8kE5iH7-_x"
      },
      "source": [
        "maashesabi(-5)"
      ],
      "execution_count": null,
      "outputs": []
    },
    {
      "cell_type": "code",
      "metadata": {
        "id": "I9BT87fl-Kgr"
      },
      "source": [
        "#maaşı kullanıcıdan isteyen fonksiyon olarak tekrar yazalım.\n",
        "\n",
        "\n",
        "def maashesabi2():\n",
        "\n",
        "  maas = float(input(\"Lütfen maaşınızı giriniz: \"))\n",
        "\n",
        "  if maas < 0:\n",
        "    return(\"Geçersiz değer\")\n",
        "  else:\n",
        "    if 0 < maas <= 1000:\n",
        "      maas = maas + maas * 0.15\n",
        "    elif maas <= 2000:\n",
        "      maas = maas + maas * 0.1\n",
        "    elif maas <= 3000:\n",
        "      maas = maas + maas * 0.05\n",
        "    else:\n",
        "      maas = maas + maas * 0.025\n",
        "\n",
        "    return (\"Yeni maaşınız\", maas)\n",
        " "
      ],
      "execution_count": null,
      "outputs": []
    },
    {
      "cell_type": "code",
      "metadata": {
        "id": "bF1ty6Cc8U_X"
      },
      "source": [
        "yeni_maasim = maashesabi2() \n",
        "print(yeni_maasim)"
      ],
      "execution_count": null,
      "outputs": []
    },
    {
      "cell_type": "code",
      "metadata": {
        "id": "gO2QeEhISHq_"
      },
      "source": [
        "isim = \"Fethi\"\n",
        "print(f\"Hello {isim}\")"
      ],
      "execution_count": null,
      "outputs": []
    },
    {
      "cell_type": "markdown",
      "metadata": {
        "id": "WJreHgrGllCV"
      },
      "source": [
        "## Methodlar\n",
        "\n",
        "\n",
        "Methodlar fonksiyonlar gibidir fakat çağrılma olayı bir nesne(object) üzerinden yapılır.\n"
      ]
    },
    {
      "cell_type": "code",
      "metadata": {
        "id": "G56qfrjqDEDP"
      },
      "source": [
        "s = input(\"Bir isim giriniz: \")\n",
        "\n",
        "upper = s.capitalize()\n",
        "\n",
        "print(upper)"
      ],
      "execution_count": null,
      "outputs": []
    },
    {
      "cell_type": "code",
      "metadata": {
        "id": "7DzoBNeApbzZ"
      },
      "source": [
        "#verilen bir listedeki en büyük değere sahip elemanın indexini döndürsün.\n",
        "\n",
        "myList = [45,7,23,6,12,78]\n",
        "\n",
        "maxElement = max(myList)\n",
        "\n",
        "maxIndex = myList.index(maxElement)\n",
        "\n",
        "print(maxIndex)"
      ],
      "execution_count": null,
      "outputs": []
    },
    {
      "cell_type": "markdown",
      "metadata": {
        "id": "MfFOsrA6AfmC"
      },
      "source": [
        "# Global & Yerel Değişkenler"
      ]
    },
    {
      "cell_type": "code",
      "metadata": {
        "colab": {
          "base_uri": "https://localhost:8080/"
        },
        "id": "n7Th9FbXS440",
        "outputId": "b12414eb-464f-48a0-97b7-cd348b5adc1d"
      },
      "source": [
        "isim = \"Fethi\"\n",
        "\n",
        "def Func():\n",
        "  global isim\n",
        "  isim = \"Taha\"\n",
        "\n",
        "Func()\n",
        "print(isim)"
      ],
      "execution_count": 90,
      "outputs": [
        {
          "output_type": "stream",
          "text": [
            "Taha\n"
          ],
          "name": "stdout"
        }
      ]
    },
    {
      "cell_type": "code",
      "metadata": {
        "id": "7_UD1zAn_lxX"
      },
      "source": [
        "x = 5\n",
        "\n",
        "print(x)"
      ],
      "execution_count": null,
      "outputs": []
    },
    {
      "cell_type": "code",
      "metadata": {
        "id": "IisEjgqpAqCi"
      },
      "source": [
        "def yazdir():\n",
        "  x = 4\n",
        "  return(x)"
      ],
      "execution_count": null,
      "outputs": []
    },
    {
      "cell_type": "code",
      "metadata": {
        "id": "6dhEuYDjAylB"
      },
      "source": [
        "yazdir()"
      ],
      "execution_count": null,
      "outputs": []
    },
    {
      "cell_type": "code",
      "metadata": {
        "id": "dPUxfagJA7Gn"
      },
      "source": [
        "print(x)"
      ],
      "execution_count": null,
      "outputs": []
    },
    {
      "cell_type": "markdown",
      "metadata": {
        "id": "6sOO_4CbBygM"
      },
      "source": [
        "# Modüller\n",
        "\n",
        "import numpy\n",
        "\n",
        "import tensorflow as tf\n",
        "\n",
        "import myModules\n",
        "\n",
        "myModules.myFunc()\n",
        "\n",
        "from myModules import *\n",
        "\n",
        "myFunc()"
      ]
    },
    {
      "cell_type": "code",
      "metadata": {
        "id": "lXXBTa3EUQog"
      },
      "source": [
        "import random as rnd"
      ],
      "execution_count": 91,
      "outputs": []
    },
    {
      "cell_type": "code",
      "metadata": {
        "colab": {
          "base_uri": "https://localhost:8080/"
        },
        "id": "GkGJ0ddvURTg",
        "outputId": "4d83f4b1-24bb-4e0d-a17b-50076f08180b"
      },
      "source": [
        "rnd.randint(0,10)"
      ],
      "execution_count": 92,
      "outputs": [
        {
          "output_type": "execute_result",
          "data": {
            "text/plain": [
              "1"
            ]
          },
          "metadata": {
            "tags": []
          },
          "execution_count": 92
        }
      ]
    },
    {
      "cell_type": "code",
      "metadata": {
        "id": "fyf2VtDZ3ALS"
      },
      "source": [
        "kelimeler = [\"yapay\",\"zeka\",\"makine\",\"öğrenimi\",\"python\",\"programlama\"]\n",
        "\n",
        "#from random import *\n",
        "import random as rnd\n",
        "\n",
        "\n",
        "def randomWord(kelimeler):\n",
        "  index = rnd.randint(0, len(kelimeler)-1)\n",
        "  return kelimeler[index]"
      ],
      "execution_count": null,
      "outputs": []
    },
    {
      "cell_type": "code",
      "metadata": {
        "id": "vdt230OzC_DR"
      },
      "source": [
        "kelime = randomWord(kelimeler)\n",
        "print(kelime)"
      ],
      "execution_count": null,
      "outputs": []
    },
    {
      "cell_type": "markdown",
      "metadata": {
        "id": "d9gF7NWfIbmD"
      },
      "source": [
        "# Generatorlar"
      ]
    },
    {
      "cell_type": "code",
      "metadata": {
        "id": "i3UKxGbnU2AQ"
      },
      "source": [
        "def fonksiyon(sayi):\n",
        "  l=[1,2,3]\n",
        "  for item in l:\n",
        "    yield sayi**item #-> 3   9   27  "
      ],
      "execution_count": 93,
      "outputs": []
    },
    {
      "cell_type": "code",
      "metadata": {
        "colab": {
          "base_uri": "https://localhost:8080/"
        },
        "id": "Ky_ku1AYVPeP",
        "outputId": "280289d5-6e44-4e91-8bbb-5e6a3e5eef9a"
      },
      "source": [
        "result = fonksiyon(3)\n",
        "list(result)"
      ],
      "execution_count": 97,
      "outputs": [
        {
          "output_type": "execute_result",
          "data": {
            "text/plain": [
              "[3, 9, 27]"
            ]
          },
          "metadata": {
            "tags": []
          },
          "execution_count": 97
        }
      ]
    },
    {
      "cell_type": "code",
      "metadata": {
        "colab": {
          "base_uri": "https://localhost:8080/"
        },
        "id": "AAKV5MQcIdhM",
        "outputId": "2df89db6-4f74-4836-d18f-825c4fe0d4ae"
      },
      "source": [
        "def func(a):\n",
        "  yield a+2\n",
        "  yield a-2\n",
        "  yield a*2\n",
        "  yield a/2\n",
        "\n",
        "sonuc=func(2)\n",
        "print(type(sonuc))\n",
        "print(sonuc)\n",
        "print(list(sonuc))"
      ],
      "execution_count": 98,
      "outputs": [
        {
          "output_type": "stream",
          "text": [
            "<class 'generator'>\n",
            "<generator object func at 0x7f7b2992cfc0>\n",
            "[4, 0, 4, 1.0]\n"
          ],
          "name": "stdout"
        }
      ]
    },
    {
      "cell_type": "code",
      "metadata": {
        "id": "sj6haHbjU00R"
      },
      "source": [
        ""
      ],
      "execution_count": null,
      "outputs": []
    },
    {
      "cell_type": "code",
      "metadata": {
        "id": "kBGbMdq4U0th"
      },
      "source": [
        ""
      ],
      "execution_count": null,
      "outputs": []
    },
    {
      "cell_type": "code",
      "metadata": {
        "id": "y72aFHwsU0oq"
      },
      "source": [
        ""
      ],
      "execution_count": null,
      "outputs": []
    },
    {
      "cell_type": "code",
      "metadata": {
        "colab": {
          "base_uri": "https://localhost:8080/"
        },
        "id": "CUocejX9QQ9q",
        "outputId": "e133d48f-d88e-4952-eb30-acc81096da78"
      },
      "source": [
        "\n",
        "liste=[(24,\"Fethi\"),(12,\"Taha\"),(23,\"Enes\"),(23,\"Yaren\"),(24,\"Seran\")]\n",
        "\n",
        "d = {k:v for k,v in liste if k>20}\n",
        "d"
      ],
      "execution_count": 99,
      "outputs": [
        {
          "output_type": "execute_result",
          "data": {
            "text/plain": [
              "{23: 'Yaren', 24: 'Seran'}"
            ]
          },
          "metadata": {
            "tags": []
          },
          "execution_count": 99
        }
      ]
    },
    {
      "cell_type": "code",
      "metadata": {
        "id": "8GXV7ObtWQmm"
      },
      "source": [
        "(24,\"Fethi\"),(23,\"Enes\"),(23,\"Yaren\"),(24,\"Seran\")"
      ],
      "execution_count": null,
      "outputs": []
    },
    {
      "cell_type": "code",
      "metadata": {
        "id": "V4UXwKqZWTP8"
      },
      "source": [
        ""
      ],
      "execution_count": null,
      "outputs": []
    }
  ]
}