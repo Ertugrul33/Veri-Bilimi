{
 "cells": [
  {
   "cell_type": "code",
   "execution_count": 1,
   "id": "696f2f1a",
   "metadata": {},
   "outputs": [],
   "source": [
    "import numpy as np"
   ]
  },
  {
   "cell_type": "code",
   "execution_count": 3,
   "id": "288eeb74",
   "metadata": {},
   "outputs": [
    {
     "data": {
      "text/plain": [
       "array([[ 0,  1,  2,  3,  4],\n",
       "       [ 5,  6,  7,  8,  9],\n",
       "       [10, 11, 12, 13, 14]])"
      ]
     },
     "execution_count": 3,
     "metadata": {},
     "output_type": "execute_result"
    }
   ],
   "source": [
    "ND = np.arange(15).reshape(3,5)\n",
    "ND"
   ]
  },
  {
   "cell_type": "code",
   "execution_count": 4,
   "id": "03f2bc30",
   "metadata": {},
   "outputs": [
    {
     "data": {
      "text/plain": [
       "6"
      ]
     },
     "execution_count": 4,
     "metadata": {},
     "output_type": "execute_result"
    }
   ],
   "source": [
    "ND[1,1]"
   ]
  },
  {
   "cell_type": "code",
   "execution_count": 5,
   "id": "f1ba315a",
   "metadata": {},
   "outputs": [
    {
     "data": {
      "text/plain": [
       "6"
      ]
     },
     "execution_count": 5,
     "metadata": {},
     "output_type": "execute_result"
    }
   ],
   "source": [
    "ND[1][1]"
   ]
  },
  {
   "cell_type": "code",
   "execution_count": 6,
   "id": "0bbbb94f",
   "metadata": {},
   "outputs": [
    {
     "data": {
      "text/plain": [
       "13"
      ]
     },
     "execution_count": 6,
     "metadata": {},
     "output_type": "execute_result"
    }
   ],
   "source": [
    "ND[2, 3]"
   ]
  },
  {
   "cell_type": "code",
   "execution_count": 7,
   "id": "8c547470",
   "metadata": {},
   "outputs": [
    {
     "data": {
      "text/plain": [
       "array([[ 0,  1,  2,  3,  4],\n",
       "       [ 5,  6,  7,  8,  9],\n",
       "       [10, 11, 12, 13, 14]])"
      ]
     },
     "execution_count": 7,
     "metadata": {},
     "output_type": "execute_result"
    }
   ],
   "source": [
    "ND"
   ]
  },
  {
   "cell_type": "code",
   "execution_count": 8,
   "id": "e54717d5",
   "metadata": {},
   "outputs": [
    {
     "data": {
      "text/plain": [
       "array([5, 6, 7, 8, 9])"
      ]
     },
     "execution_count": 8,
     "metadata": {},
     "output_type": "execute_result"
    }
   ],
   "source": [
    "ND[1]"
   ]
  },
  {
   "cell_type": "code",
   "execution_count": 10,
   "id": "eccbc4c8",
   "metadata": {},
   "outputs": [
    {
     "data": {
      "text/plain": [
       "array([ 2,  7, 12])"
      ]
     },
     "execution_count": 10,
     "metadata": {},
     "output_type": "execute_result"
    }
   ],
   "source": [
    "ND[:, 2]"
   ]
  },
  {
   "cell_type": "code",
   "execution_count": 11,
   "id": "9ead6912",
   "metadata": {},
   "outputs": [
    {
     "data": {
      "text/plain": [
       "0"
      ]
     },
     "execution_count": 11,
     "metadata": {},
     "output_type": "execute_result"
    }
   ],
   "source": [
    "ND[0,0]"
   ]
  },
  {
   "cell_type": "code",
   "execution_count": 12,
   "id": "1b26836f",
   "metadata": {},
   "outputs": [
    {
     "data": {
      "text/plain": [
       "array([5, 6, 7, 8, 9])"
      ]
     },
     "execution_count": 12,
     "metadata": {},
     "output_type": "execute_result"
    }
   ],
   "source": [
    "ND[1]"
   ]
  },
  {
   "cell_type": "code",
   "execution_count": 13,
   "id": "055efbfa",
   "metadata": {},
   "outputs": [
    {
     "data": {
      "text/plain": [
       "array([10, 11, 12, 13, 14])"
      ]
     },
     "execution_count": 13,
     "metadata": {},
     "output_type": "execute_result"
    }
   ],
   "source": [
    "ND[-1]"
   ]
  },
  {
   "cell_type": "code",
   "execution_count": 14,
   "id": "1c9f03a0",
   "metadata": {},
   "outputs": [
    {
     "data": {
      "text/plain": [
       "array([[ 0,  1,  2,  3,  4],\n",
       "       [ 5,  6,  7,  8,  9],\n",
       "       [10, 11, 12, 13, 14]])"
      ]
     },
     "execution_count": 14,
     "metadata": {},
     "output_type": "execute_result"
    }
   ],
   "source": [
    "ND"
   ]
  },
  {
   "cell_type": "code",
   "execution_count": 15,
   "id": "7e9927f1",
   "metadata": {},
   "outputs": [
    {
     "data": {
      "text/plain": [
       "8"
      ]
     },
     "execution_count": 15,
     "metadata": {},
     "output_type": "execute_result"
    }
   ],
   "source": [
    "ND[-2, -2]"
   ]
  },
  {
   "cell_type": "code",
   "execution_count": 16,
   "id": "6e542b7f",
   "metadata": {},
   "outputs": [
    {
     "data": {
      "text/plain": [
       "array([[ 0,  1,  2,  3,  4],\n",
       "       [ 5,  6,  7,  8,  9],\n",
       "       [10, 11, 12, 13, 14]])"
      ]
     },
     "execution_count": 16,
     "metadata": {},
     "output_type": "execute_result"
    }
   ],
   "source": [
    "ND"
   ]
  },
  {
   "cell_type": "code",
   "execution_count": 17,
   "id": "f53bc2c7",
   "metadata": {},
   "outputs": [
    {
     "data": {
      "text/plain": [
       "0"
      ]
     },
     "execution_count": 17,
     "metadata": {},
     "output_type": "execute_result"
    }
   ],
   "source": [
    "ND[0,0]"
   ]
  },
  {
   "cell_type": "code",
   "execution_count": 18,
   "id": "f56a6cde",
   "metadata": {},
   "outputs": [
    {
     "data": {
      "text/plain": [
       "array([[99,  1,  2,  3,  4],\n",
       "       [ 5,  6,  7,  8,  9],\n",
       "       [10, 11, 12, 13, 14]])"
      ]
     },
     "execution_count": 18,
     "metadata": {},
     "output_type": "execute_result"
    }
   ],
   "source": [
    "ND[0,0] = 99\n",
    "ND"
   ]
  },
  {
   "cell_type": "code",
   "execution_count": 19,
   "id": "ac494261",
   "metadata": {},
   "outputs": [
    {
     "data": {
      "text/plain": [
       "array([[99,  1, 44,  3,  4],\n",
       "       [ 5,  6, 44,  8,  9],\n",
       "       [10, 11, 44, 13, 14]])"
      ]
     },
     "execution_count": 19,
     "metadata": {},
     "output_type": "execute_result"
    }
   ],
   "source": [
    "ND[:,2] = 44\n",
    "ND"
   ]
  },
  {
   "cell_type": "code",
   "execution_count": 20,
   "id": "515fccaa",
   "metadata": {},
   "outputs": [
    {
     "data": {
      "text/plain": [
       "array([[99,  1, 44,  3,  4],\n",
       "       [ 5,  6, 44,  8,  9],\n",
       "       [10, 11, 44, 13, 14]])"
      ]
     },
     "execution_count": 20,
     "metadata": {},
     "output_type": "execute_result"
    }
   ],
   "source": [
    "ND"
   ]
  },
  {
   "cell_type": "code",
   "execution_count": 21,
   "id": "1d67e6e3",
   "metadata": {},
   "outputs": [
    {
     "data": {
      "text/plain": [
       "array([[ 1, 44,  3,  4],\n",
       "       [ 6, 44,  8,  9],\n",
       "       [11, 44, 13, 14]])"
      ]
     },
     "execution_count": 21,
     "metadata": {},
     "output_type": "execute_result"
    }
   ],
   "source": [
    "ND = np.delete(ND, 0, axis=1)\n",
    "ND"
   ]
  },
  {
   "cell_type": "code",
   "execution_count": 22,
   "id": "99a2dfad",
   "metadata": {},
   "outputs": [
    {
     "data": {
      "text/plain": [
       "array([[ 1, 44,  3,  4],\n",
       "       [ 6, 44,  8,  9]])"
      ]
     },
     "execution_count": 22,
     "metadata": {},
     "output_type": "execute_result"
    }
   ],
   "source": [
    "ND = np.delete(ND, -1, axis=0)\n",
    "ND"
   ]
  },
  {
   "cell_type": "code",
   "execution_count": 23,
   "id": "be34841d",
   "metadata": {},
   "outputs": [
    {
     "data": {
      "text/plain": [
       "array([[ 1, 44,  3,  4],\n",
       "       [ 6, 44,  8,  9]])"
      ]
     },
     "execution_count": 23,
     "metadata": {},
     "output_type": "execute_result"
    }
   ],
   "source": [
    "ND"
   ]
  },
  {
   "cell_type": "code",
   "execution_count": 24,
   "id": "ab132fa2",
   "metadata": {},
   "outputs": [
    {
     "data": {
      "text/plain": [
       "array([[ 1, 44,  3,  4],\n",
       "       [ 6, 44,  8,  9],\n",
       "       [ 7,  7,  7,  7]])"
      ]
     },
     "execution_count": 24,
     "metadata": {},
     "output_type": "execute_result"
    }
   ],
   "source": [
    "ND = np.append(ND, [[7,7,7,7]], axis=0)\n",
    "ND"
   ]
  },
  {
   "cell_type": "code",
   "execution_count": 25,
   "id": "0a313d1a",
   "metadata": {},
   "outputs": [
    {
     "data": {
      "text/plain": [
       "array([[ 6,  6,  6,  6],\n",
       "       [ 1, 44,  3,  4],\n",
       "       [ 6, 44,  8,  9],\n",
       "       [ 7,  7,  7,  7]])"
      ]
     },
     "execution_count": 25,
     "metadata": {},
     "output_type": "execute_result"
    }
   ],
   "source": [
    "ND = np.insert(ND, 0, [[6,6,6,6]], axis=0)\n",
    "ND"
   ]
  },
  {
   "cell_type": "code",
   "execution_count": 26,
   "id": "2cc25960",
   "metadata": {},
   "outputs": [
    {
     "data": {
      "text/plain": [
       "array([[ 6,  6,  6,  6],\n",
       "       [ 1, 44,  3,  4],\n",
       "       [ 6, 44,  8,  9],\n",
       "       [ 7,  7,  7,  7]])"
      ]
     },
     "execution_count": 26,
     "metadata": {},
     "output_type": "execute_result"
    }
   ],
   "source": [
    "ND"
   ]
  },
  {
   "cell_type": "code",
   "execution_count": 28,
   "id": "9ccb6882",
   "metadata": {},
   "outputs": [
    {
     "data": {
      "text/plain": [
       "array([[ 6,  6,  6,  6, 99],\n",
       "       [ 1, 44,  3,  4, 99],\n",
       "       [ 6, 44,  8,  9, 99],\n",
       "       [ 7,  7,  7,  7, 99]])"
      ]
     },
     "execution_count": 28,
     "metadata": {},
     "output_type": "execute_result"
    }
   ],
   "source": [
    "ND = np.append(ND, [[99],[99],[99],[99]], axis=1)\n",
    "ND"
   ]
  },
  {
   "cell_type": "code",
   "execution_count": 30,
   "id": "ee1bd553",
   "metadata": {},
   "outputs": [
    {
     "data": {
      "text/plain": [
       "array([[  6,  55,  55, 555,  22,   6,   6,   6,  99],\n",
       "       [  1,  55,  55, 555,  22,  44,   3,   4,  99],\n",
       "       [  6,  55,  55, 555,  22,  44,   8,   9,  99],\n",
       "       [  7,  55,  55, 555,  22,   7,   7,   7,  99]])"
      ]
     },
     "execution_count": 30,
     "metadata": {},
     "output_type": "execute_result"
    }
   ],
   "source": [
    "ND = np.insert(ND, 1, [[55],[55],[555],[22]], axis=1)\n",
    "ND"
   ]
  },
  {
   "cell_type": "code",
   "execution_count": null,
   "id": "d5ee5b84",
   "metadata": {},
   "outputs": [],
   "source": []
  },
  {
   "cell_type": "code",
   "execution_count": null,
   "id": "4da4738a",
   "metadata": {},
   "outputs": [],
   "source": []
  },
  {
   "cell_type": "code",
   "execution_count": null,
   "id": "2a16f7bb",
   "metadata": {},
   "outputs": [],
   "source": []
  }
 ],
 "metadata": {
  "kernelspec": {
   "display_name": "Python 3",
   "language": "python",
   "name": "python3"
  },
  "language_info": {
   "codemirror_mode": {
    "name": "ipython",
    "version": 3
   },
   "file_extension": ".py",
   "mimetype": "text/x-python",
   "name": "python",
   "nbconvert_exporter": "python",
   "pygments_lexer": "ipython3",
   "version": "3.9.2"
  }
 },
 "nbformat": 4,
 "nbformat_minor": 5
}
