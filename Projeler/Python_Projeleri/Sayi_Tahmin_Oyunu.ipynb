{
 "cells": [
  {
   "cell_type": "code",
   "execution_count": 1,
   "metadata": {},
   "outputs": [],
   "source": [
    "import random"
   ]
  },
  {
   "cell_type": "code",
   "execution_count": null,
   "metadata": {},
   "outputs": [
    {
     "name": "stdout",
     "output_type": "stream",
     "text": [
      "Rastgele Sayı Üretildi. Bir Sayı Giriniz(Hak: 5): 50\n",
      "Büyük Bir Değer Girdiniz. Tekrar Sayı Giriniz(Hak: 4): 40\n"
     ]
    }
   ],
   "source": [
    "rastgele_sayi = random.randint(1,100)\n",
    "tahmin = int(input(\"Rastgele Sayı Üretildi. Bir Sayı Giriniz(Hak: 5): \"))\n",
    "for i in range(5, 1, -1):\n",
    "    if tahmin < rastgele_sayi:\n",
    "        tahmin = int(input(\"Küçük Bir Değer Girdiniz. Tekrar Sayı Giriniz(Hak: \" + str(i - 1) + \"): \"))\n",
    "    if tahmin > rastgele_sayi:\n",
    "        tahmin = int(input(\"Büyük Bir Değer Girdiniz. Tekrar Sayı Giriniz(Hak: \" + str(i - 1) + \"): \"))\n",
    "    if tahmin == rastgele_sayi:\n",
    "        print(\"Sayıyı Buldunuz Tebrikler!\")\n",
    "        break\n",
    "    if i == 2:\n",
    "        print(\"Sayıyı Bulamadınız. Doğru Sayı: \", rastgele_sayi)\n",
    "        break\n",
    "        "
   ]
  },
  {
   "cell_type": "code",
   "execution_count": null,
   "metadata": {},
   "outputs": [],
   "source": []
  }
 ],
 "metadata": {
  "kernelspec": {
   "display_name": "Python 3",
   "language": "python",
   "name": "python3"
  },
  "language_info": {
   "codemirror_mode": {
    "name": "ipython",
    "version": 3
   },
   "file_extension": ".py",
   "mimetype": "text/x-python",
   "name": "python",
   "nbconvert_exporter": "python",
   "pygments_lexer": "ipython3",
   "version": "3.8.3"
  }
 },
 "nbformat": 4,
 "nbformat_minor": 4
}
