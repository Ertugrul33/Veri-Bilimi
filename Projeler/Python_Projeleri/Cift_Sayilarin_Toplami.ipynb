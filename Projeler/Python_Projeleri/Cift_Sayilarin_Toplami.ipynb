{
 "cells": [
  {
   "cell_type": "markdown",
   "metadata": {},
   "source": [
    "# 1'den n'e Kadar Olan Çift Sayıların Toplamı"
   ]
  },
  {
   "cell_type": "markdown",
   "metadata": {},
   "source": [
    "## İlk Aklıma Gelen Kod"
   ]
  },
  {
   "cell_type": "code",
   "execution_count": null,
   "metadata": {},
   "outputs": [],
   "source": [
    "n = int(input(\"Son Değeri Giriniz: \"))\n",
    "A = []\n",
    "for i in range(1, n+1):\n",
    "    if i == 2:\n",
    "        A.append(i)\n",
    "        sayi = i\n",
    "    elif i % 2 == 0:\n",
    "        A.append(i)\n",
    "        sayi += i\n",
    "print(\"Çift Sayılar: \", A)\n",
    "print(\"Toplam: \", sayi)"
   ]
  },
  {
   "cell_type": "markdown",
   "metadata": {},
   "source": [
    "## 2. Yöntem"
   ]
  },
  {
   "cell_type": "code",
   "execution_count": null,
   "metadata": {},
   "outputs": [],
   "source": [
    "n = int(input(\"Son Değeri Giriniz: \"))\n",
    "A = []\n",
    "Toplam = 0\n",
    "for i in range(1, n+1):\n",
    "    if i % 2 == 0:\n",
    "        A.append(i)\n",
    "        Toplam += i\n",
    "print(\"Çift Sayılar: \", A)\n",
    "print(\"Toplam: \", Toplam)"
   ]
  },
  {
   "cell_type": "markdown",
   "metadata": {},
   "source": [
    "## 3. Yöntem"
   ]
  },
  {
   "cell_type": "code",
   "execution_count": null,
   "metadata": {},
   "outputs": [],
   "source": [
    "n = int(input(\"Son Değeri Giriniz: \"))\n",
    "i = 2\n",
    "Toplam = 0\n",
    "A = []\n",
    "while i < n:\n",
    "    Toplam += i\n",
    "    A.append(i)\n",
    "    i += 2\n",
    "print(\"Çift Sayılar: \", A)\n",
    "print(\"Toplam: \", Toplam)"
   ]
  },
  {
   "cell_type": "markdown",
   "metadata": {},
   "source": [
    "## 4. Yöntem"
   ]
  },
  {
   "cell_type": "code",
   "execution_count": 3,
   "metadata": {},
   "outputs": [
    {
     "name": "stdout",
     "output_type": "stream",
     "text": [
      "Son Değeri Giriniz: 10\n",
      "Toplam:  30\n"
     ]
    }
   ],
   "source": [
    "n = int(input(\"Son Değeri Giriniz: \"))\n",
    "if n % 2 == 0:\n",
    "    Toplam = int((n/2)*((n/2)+1))\n",
    "    print(\"Toplam: \", Toplam)\n",
    "else:\n",
    "    i = 0\n",
    "    Toplam = 0\n",
    "    while i < n:\n",
    "        Toplam += i\n",
    "        print(i)\n",
    "        i += 2\n",
    "    print(\"Toplam: \", Toplam)"
   ]
  }
 ],
 "metadata": {
  "kernelspec": {
   "display_name": "Python 3",
   "language": "python",
   "name": "python3"
  },
  "language_info": {
   "codemirror_mode": {
    "name": "ipython",
    "version": 3
   },
   "file_extension": ".py",
   "mimetype": "text/x-python",
   "name": "python",
   "nbconvert_exporter": "python",
   "pygments_lexer": "ipython3",
   "version": "3.8.3"
  }
 },
 "nbformat": 4,
 "nbformat_minor": 4
}
