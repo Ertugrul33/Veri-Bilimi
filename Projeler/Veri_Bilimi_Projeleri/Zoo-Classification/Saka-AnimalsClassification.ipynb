{
 "cells": [
  {
   "cell_type": "code",
   "execution_count": 8,
   "metadata": {},
   "outputs": [],
   "source": [
    "import pandas as pd\n",
    "import numpy as np"
   ]
  },
  {
   "cell_type": "code",
   "execution_count": 9,
   "metadata": {},
   "outputs": [],
   "source": [
    "dataFrame = pd.read_csv(\"zoo.csv\")"
   ]
  },
  {
   "cell_type": "code",
   "execution_count": 10,
   "metadata": {},
   "outputs": [
    {
     "data": {
      "text/html": [
       "<div>\n",
       "<style scoped>\n",
       "    .dataframe tbody tr th:only-of-type {\n",
       "        vertical-align: middle;\n",
       "    }\n",
       "\n",
       "    .dataframe tbody tr th {\n",
       "        vertical-align: top;\n",
       "    }\n",
       "\n",
       "    .dataframe thead th {\n",
       "        text-align: right;\n",
       "    }\n",
       "</style>\n",
       "<table border=\"1\" class=\"dataframe\">\n",
       "  <thead>\n",
       "    <tr style=\"text-align: right;\">\n",
       "      <th></th>\n",
       "      <th>animal_name</th>\n",
       "      <th>hair</th>\n",
       "      <th>feathers</th>\n",
       "      <th>eggs</th>\n",
       "      <th>milk</th>\n",
       "      <th>airborne</th>\n",
       "      <th>aquatic</th>\n",
       "      <th>predator</th>\n",
       "      <th>toothed</th>\n",
       "      <th>backbone</th>\n",
       "      <th>breathes</th>\n",
       "      <th>venomous</th>\n",
       "      <th>fins</th>\n",
       "      <th>legs</th>\n",
       "      <th>tail</th>\n",
       "      <th>domestic</th>\n",
       "      <th>catsize</th>\n",
       "      <th>class_type</th>\n",
       "    </tr>\n",
       "  </thead>\n",
       "  <tbody>\n",
       "    <tr>\n",
       "      <th>0</th>\n",
       "      <td>aardvark</td>\n",
       "      <td>1</td>\n",
       "      <td>0</td>\n",
       "      <td>0</td>\n",
       "      <td>1</td>\n",
       "      <td>0</td>\n",
       "      <td>0</td>\n",
       "      <td>1</td>\n",
       "      <td>1</td>\n",
       "      <td>1</td>\n",
       "      <td>1</td>\n",
       "      <td>0</td>\n",
       "      <td>0</td>\n",
       "      <td>4</td>\n",
       "      <td>0</td>\n",
       "      <td>0</td>\n",
       "      <td>1</td>\n",
       "      <td>1</td>\n",
       "    </tr>\n",
       "    <tr>\n",
       "      <th>1</th>\n",
       "      <td>antelope</td>\n",
       "      <td>1</td>\n",
       "      <td>0</td>\n",
       "      <td>0</td>\n",
       "      <td>1</td>\n",
       "      <td>0</td>\n",
       "      <td>0</td>\n",
       "      <td>0</td>\n",
       "      <td>1</td>\n",
       "      <td>1</td>\n",
       "      <td>1</td>\n",
       "      <td>0</td>\n",
       "      <td>0</td>\n",
       "      <td>4</td>\n",
       "      <td>1</td>\n",
       "      <td>0</td>\n",
       "      <td>1</td>\n",
       "      <td>1</td>\n",
       "    </tr>\n",
       "    <tr>\n",
       "      <th>2</th>\n",
       "      <td>bass</td>\n",
       "      <td>0</td>\n",
       "      <td>0</td>\n",
       "      <td>1</td>\n",
       "      <td>0</td>\n",
       "      <td>0</td>\n",
       "      <td>1</td>\n",
       "      <td>1</td>\n",
       "      <td>1</td>\n",
       "      <td>1</td>\n",
       "      <td>0</td>\n",
       "      <td>0</td>\n",
       "      <td>1</td>\n",
       "      <td>0</td>\n",
       "      <td>1</td>\n",
       "      <td>0</td>\n",
       "      <td>0</td>\n",
       "      <td>4</td>\n",
       "    </tr>\n",
       "    <tr>\n",
       "      <th>3</th>\n",
       "      <td>bear</td>\n",
       "      <td>1</td>\n",
       "      <td>0</td>\n",
       "      <td>0</td>\n",
       "      <td>1</td>\n",
       "      <td>0</td>\n",
       "      <td>0</td>\n",
       "      <td>1</td>\n",
       "      <td>1</td>\n",
       "      <td>1</td>\n",
       "      <td>1</td>\n",
       "      <td>0</td>\n",
       "      <td>0</td>\n",
       "      <td>4</td>\n",
       "      <td>0</td>\n",
       "      <td>0</td>\n",
       "      <td>1</td>\n",
       "      <td>1</td>\n",
       "    </tr>\n",
       "    <tr>\n",
       "      <th>4</th>\n",
       "      <td>boar</td>\n",
       "      <td>1</td>\n",
       "      <td>0</td>\n",
       "      <td>0</td>\n",
       "      <td>1</td>\n",
       "      <td>0</td>\n",
       "      <td>0</td>\n",
       "      <td>1</td>\n",
       "      <td>1</td>\n",
       "      <td>1</td>\n",
       "      <td>1</td>\n",
       "      <td>0</td>\n",
       "      <td>0</td>\n",
       "      <td>4</td>\n",
       "      <td>1</td>\n",
       "      <td>0</td>\n",
       "      <td>1</td>\n",
       "      <td>1</td>\n",
       "    </tr>\n",
       "  </tbody>\n",
       "</table>\n",
       "</div>"
      ],
      "text/plain": [
       "  animal_name  hair  feathers  eggs  milk  airborne  aquatic  predator  \\\n",
       "0    aardvark     1         0     0     1         0        0         1   \n",
       "1    antelope     1         0     0     1         0        0         0   \n",
       "2        bass     0         0     1     0         0        1         1   \n",
       "3        bear     1         0     0     1         0        0         1   \n",
       "4        boar     1         0     0     1         0        0         1   \n",
       "\n",
       "   toothed  backbone  breathes  venomous  fins  legs  tail  domestic  catsize  \\\n",
       "0        1         1         1         0     0     4     0         0        1   \n",
       "1        1         1         1         0     0     4     1         0        1   \n",
       "2        1         1         0         0     1     0     1         0        0   \n",
       "3        1         1         1         0     0     4     0         0        1   \n",
       "4        1         1         1         0     0     4     1         0        1   \n",
       "\n",
       "   class_type  \n",
       "0           1  \n",
       "1           1  \n",
       "2           4  \n",
       "3           1  \n",
       "4           1  "
      ]
     },
     "execution_count": 10,
     "metadata": {},
     "output_type": "execute_result"
    }
   ],
   "source": [
    "dataFrame.head()"
   ]
  },
  {
   "cell_type": "code",
   "execution_count": 11,
   "metadata": {},
   "outputs": [
    {
     "data": {
      "text/plain": [
       "animal_name    0\n",
       "hair           0\n",
       "feathers       0\n",
       "eggs           0\n",
       "milk           0\n",
       "airborne       0\n",
       "aquatic        0\n",
       "predator       0\n",
       "toothed        0\n",
       "backbone       0\n",
       "breathes       0\n",
       "venomous       0\n",
       "fins           0\n",
       "legs           0\n",
       "tail           0\n",
       "domestic       0\n",
       "catsize        0\n",
       "class_type     0\n",
       "dtype: int64"
      ]
     },
     "execution_count": 11,
     "metadata": {},
     "output_type": "execute_result"
    }
   ],
   "source": [
    "dataFrame.isnull().sum()"
   ]
  },
  {
   "cell_type": "code",
   "execution_count": 12,
   "metadata": {},
   "outputs": [
    {
     "data": {
      "text/plain": [
       "0      aardvark\n",
       "1      antelope\n",
       "2          bass\n",
       "3          bear\n",
       "4          boar\n",
       "         ...   \n",
       "96      wallaby\n",
       "97         wasp\n",
       "98         wolf\n",
       "99         worm\n",
       "100        wren\n",
       "Name: animal_name, Length: 101, dtype: object"
      ]
     },
     "execution_count": 12,
     "metadata": {},
     "output_type": "execute_result"
    }
   ],
   "source": [
    "dataFrame[\"animal_name\"]"
   ]
  },
  {
   "cell_type": "code",
   "execution_count": 13,
   "metadata": {},
   "outputs": [],
   "source": [
    "dataFrame=dataFrame.drop(\"animal_name\",axis=1)"
   ]
  },
  {
   "cell_type": "code",
   "execution_count": 14,
   "metadata": {},
   "outputs": [
    {
     "data": {
      "text/plain": [
       "backbone     -0.828845\n",
       "milk         -0.723683\n",
       "tail         -0.631830\n",
       "hair         -0.562384\n",
       "catsize      -0.521030\n",
       "breathes     -0.519308\n",
       "toothed      -0.471527\n",
       "feathers     -0.197520\n",
       "domestic     -0.181043\n",
       "airborne      0.022677\n",
       "predator      0.061179\n",
       "fins          0.099430\n",
       "legs          0.131693\n",
       "venomous      0.321476\n",
       "aquatic       0.326639\n",
       "eggs          0.661825\n",
       "class_type    1.000000\n",
       "Name: class_type, dtype: float64"
      ]
     },
     "execution_count": 14,
     "metadata": {},
     "output_type": "execute_result"
    }
   ],
   "source": [
    "dataFrame.corr()[\"class_type\"].sort_values()"
   ]
  },
  {
   "cell_type": "code",
   "execution_count": 15,
   "metadata": {},
   "outputs": [],
   "source": [
    "import matplotlib.pyplot as plt\n",
    "import seaborn as sbn"
   ]
  },
  {
   "cell_type": "code",
   "execution_count": 16,
   "metadata": {},
   "outputs": [
    {
     "data": {
      "text/plain": [
       "<AxesSubplot:xlabel='class_type', ylabel='count'>"
      ]
     },
     "execution_count": 16,
     "metadata": {},
     "output_type": "execute_result"
    },
    {
     "data": {
      "image/png": "[encoded data removed]",
      "text/plain": [
       "<Figure size 432x288 with 1 Axes>"
      ]
     },
     "metadata": {
      "needs_background": "light"
     },
     "output_type": "display_data"
    }
   ],
   "source": [
    "sbn.countplot(x=\"class_type\",data = dataFrame)"
   ]
  },
  {
   "cell_type": "markdown",
   "metadata": {},
   "source": [
    "#SINIFLANDIRMA MODELİ"
   ]
  },
  {
   "cell_type": "code",
   "execution_count": 17,
   "metadata": {},
   "outputs": [],
   "source": [
    "y=dataFrame[\"class_type\"].values\n",
    "x=dataFrame.drop(\"class_type\",axis=1).values"
   ]
  },
  {
   "cell_type": "code",
   "execution_count": 18,
   "metadata": {},
   "outputs": [],
   "source": [
    "from sklearn.model_selection import train_test_split"
   ]
  },
  {
   "cell_type": "code",
   "execution_count": 19,
   "metadata": {},
   "outputs": [],
   "source": [
    "x_train, x_test, y_train, y_test = train_test_split(x,y,test_size=0.2,random_state=15)"
   ]
  },
  {
   "cell_type": "code",
   "execution_count": 20,
   "metadata": {},
   "outputs": [],
   "source": [
    "import tensorflow as tf\n",
    "from tensorflow.keras.models import Sequential\n",
    "from tensorflow.keras.layers import Dense\n",
    "from tensorflow.keras.callbacks import EarlyStopping"
   ]
  },
  {
   "cell_type": "code",
   "execution_count": 21,
   "metadata": {},
   "outputs": [
    {
     "data": {
      "text/plain": [
       "(80, 16)"
      ]
     },
     "execution_count": 21,
     "metadata": {},
     "output_type": "execute_result"
    }
   ],
   "source": [
    "x_train.shape"
   ]
  },
  {
   "cell_type": "code",
   "execution_count": 22,
   "metadata": {},
   "outputs": [],
   "source": [
    "model = Sequential()\n",
    "\n",
    "model.add(Dense(16,activation=\"relu\")) \n",
    "model.add(Dense(8,activation=\"relu\"))\n",
    "model.add(Dense(8,activation=\"relu\")) \n",
    "\n",
    "model.add(Dense(1)) ######\n",
    "\n",
    "model.compile(optimizer=\"adam\",loss=\"mse\")"
   ]
  },
  {
   "cell_type": "code",
   "execution_count": 23,
   "metadata": {},
   "outputs": [
    {
     "name": "stdout",
     "output_type": "stream",
     "text": [
      "Train on 80 samples, validate on 21 samples\n",
      "Epoch 1/22\n",
      "80/80 [==============================] - 0s 6ms/sample - loss: 9.7785 - val_loss: 10.2172\n",
      "Epoch 2/22\n",
      "80/80 [==============================] - 0s 112us/sample - loss: 9.3766 - val_loss: 9.8292\n",
      "Epoch 3/22\n",
      "80/80 [==============================] - 0s 112us/sample - loss: 8.9745 - val_loss: 9.4561\n",
      "Epoch 4/22\n",
      "80/80 [==============================] - 0s 150us/sample - loss: 8.6007 - val_loss: 9.0792\n",
      "Epoch 5/22\n",
      "80/80 [==============================] - 0s 112us/sample - loss: 8.2227 - val_loss: 8.7102\n",
      "Epoch 6/22\n",
      "80/80 [==============================] - 0s 125us/sample - loss: 7.9144 - val_loss: 8.3535\n",
      "Epoch 7/22\n",
      "80/80 [==============================] - 0s 137us/sample - loss: 7.6080 - val_loss: 8.0200\n",
      "Epoch 8/22\n",
      "80/80 [==============================] - 0s 137us/sample - loss: 7.2895 - val_loss: 7.7066\n",
      "Epoch 9/22\n",
      "80/80 [==============================] - 0s 125us/sample - loss: 7.0619 - val_loss: 7.3997\n",
      "Epoch 10/22\n",
      "80/80 [==============================] - 0s 125us/sample - loss: 6.8476 - val_loss: 7.1103\n",
      "Epoch 11/22\n",
      "80/80 [==============================] - 0s 100us/sample - loss: 6.5965 - val_loss: 6.8509\n",
      "Epoch 12/22\n",
      "80/80 [==============================] - 0s 100us/sample - loss: 6.4178 - val_loss: 6.6060\n",
      "Epoch 13/22\n",
      "80/80 [==============================] - 0s 112us/sample - loss: 6.2368 - val_loss: 6.3728\n",
      "Epoch 14/22\n",
      "80/80 [==============================] - 0s 112us/sample - loss: 6.0738 - val_loss: 6.1591\n",
      "Epoch 15/22\n",
      "80/80 [==============================] - 0s 112us/sample - loss: 5.9154 - val_loss: 5.9605\n",
      "Epoch 16/22\n",
      "80/80 [==============================] - 0s 112us/sample - loss: 5.7798 - val_loss: 5.7765\n",
      "Epoch 17/22\n",
      "80/80 [==============================] - 0s 150us/sample - loss: 5.6664 - val_loss: 5.5966\n",
      "Epoch 18/22\n",
      "80/80 [==============================] - 0s 112us/sample - loss: 5.5503 - val_loss: 5.4243\n",
      "Epoch 19/22\n",
      "80/80 [==============================] - 0s 100us/sample - loss: 5.4248 - val_loss: 5.2650\n",
      "Epoch 20/22\n",
      "80/80 [==============================] - 0s 137us/sample - loss: 5.3483 - val_loss: 5.0934\n",
      "Epoch 21/22\n",
      "80/80 [==============================] - 0s 112us/sample - loss: 5.2241 - val_loss: 4.9462\n",
      "Epoch 22/22\n",
      "80/80 [==============================] - 0s 112us/sample - loss: 5.1273 - val_loss: 4.8072\n"
     ]
    },
    {
     "data": {
      "text/plain": [
       "<tensorflow.python.keras.callbacks.History at 0x1a9aa16bb88>"
      ]
     },
     "execution_count": 23,
     "metadata": {},
     "output_type": "execute_result"
    }
   ],
   "source": [
    "model.fit(x=x_train,y=y_train,epochs=22,validation_data=(x_test,y_test)) ###epochs"
   ]
  },
  {
   "cell_type": "code",
   "execution_count": 24,
   "metadata": {},
   "outputs": [
    {
     "data": {
      "text/plain": [
       "{'loss': [9.77849178314209,\n",
       "  9.376557350158691,\n",
       "  8.974524307250977,\n",
       "  8.60065975189209,\n",
       "  8.222711753845214,\n",
       "  7.914414024353027,\n",
       "  7.607989311218262,\n",
       "  7.289480590820313,\n",
       "  7.06185302734375,\n",
       "  6.847641277313232,\n",
       "  6.596511936187744,\n",
       "  6.417825412750244,\n",
       "  6.2367753982543945,\n",
       "  6.073846530914307,\n",
       "  5.915425586700439,\n",
       "  5.779848670959472,\n",
       "  5.666410255432129,\n",
       "  5.5502935409545895,\n",
       "  5.42481632232666,\n",
       "  5.34827070236206,\n",
       "  5.224120140075684,\n",
       "  5.127310752868652],\n",
       " 'val_loss': [10.217161178588867,\n",
       "  9.829216957092285,\n",
       "  9.456140518188477,\n",
       "  9.079151153564453,\n",
       "  8.71015739440918,\n",
       "  8.353490829467773,\n",
       "  8.019997596740723,\n",
       "  7.706602573394775,\n",
       "  7.399680137634277,\n",
       "  7.110315322875977,\n",
       "  6.850858211517334,\n",
       "  6.605968475341797,\n",
       "  6.372828960418701,\n",
       "  6.159124374389648,\n",
       "  5.960475444793701,\n",
       "  5.776484489440918,\n",
       "  5.5966057777404785,\n",
       "  5.424259662628174,\n",
       "  5.265037536621094,\n",
       "  5.09340763092041,\n",
       "  4.946225643157959,\n",
       "  4.807150840759277]}"
      ]
     },
     "execution_count": 24,
     "metadata": {},
     "output_type": "execute_result"
    }
   ],
   "source": [
    "model.history.history"
   ]
  },
  {
   "cell_type": "code",
   "execution_count": 25,
   "metadata": {},
   "outputs": [],
   "source": [
    "modelKaybi1 = pd.DataFrame(model.history.history)"
   ]
  },
  {
   "cell_type": "code",
   "execution_count": 26,
   "metadata": {},
   "outputs": [
    {
     "data": {
      "text/plain": [
       "<AxesSubplot:>"
      ]
     },
     "execution_count": 26,
     "metadata": {},
     "output_type": "execute_result"
    },
    {
     "data": {
      "image/png": "[encoded data removed]",
      "text/plain": [
       "<Figure size 432x288 with 1 Axes>"
      ]
     },
     "metadata": {
      "needs_background": "light"
     },
     "output_type": "display_data"
    }
   ],
   "source": [
    "modelKaybi1.plot()"
   ]
  },
  {
   "cell_type": "code",
   "execution_count": 27,
   "metadata": {},
   "outputs": [],
   "source": [
    "tahminler=model.predict(x_test).round()"
   ]
  },
  {
   "cell_type": "code",
   "execution_count": 28,
   "metadata": {},
   "outputs": [
    {
     "data": {
      "text/plain": [
       "array([[1.],\n",
       "       [3.],\n",
       "       [2.],\n",
       "       [3.],\n",
       "       [4.],\n",
       "       [3.],\n",
       "       [2.],\n",
       "       [3.],\n",
       "       [1.],\n",
       "       [2.],\n",
       "       [1.],\n",
       "       [1.],\n",
       "       [2.],\n",
       "       [1.],\n",
       "       [1.],\n",
       "       [3.],\n",
       "       [1.],\n",
       "       [2.],\n",
       "       [2.],\n",
       "       [3.],\n",
       "       [2.]], dtype=float32)"
      ]
     },
     "execution_count": 28,
     "metadata": {},
     "output_type": "execute_result"
    }
   ],
   "source": [
    "tahminler"
   ]
  },
  {
   "cell_type": "code",
   "execution_count": 29,
   "metadata": {},
   "outputs": [],
   "source": [
    "from sklearn.metrics import classification_report, confusion_matrix"
   ]
  },
  {
   "cell_type": "code",
   "execution_count": 30,
   "metadata": {},
   "outputs": [
    {
     "name": "stdout",
     "output_type": "stream",
     "text": [
      "              precision    recall  f1-score   support\n",
      "\n",
      "         1.0       0.00      0.00      0.00         4\n",
      "         2.0       0.86      0.75      0.80         8\n",
      "         3.0       0.00      0.00      0.00         0\n",
      "         4.0       0.00      0.00      0.00         5\n",
      "         5.0       0.00      0.00      0.00         2\n",
      "         7.0       0.00      0.00      0.00         2\n",
      "\n",
      "    accuracy                           0.29        21\n",
      "   macro avg       0.14      0.12      0.13        21\n",
      "weighted avg       0.33      0.29      0.30        21\n",
      "\n"
     ]
    },
    {
     "name": "stderr",
     "output_type": "stream",
     "text": [
      "C:\\ProgramData\\Anaconda3\\envs\\tf\\lib\\site-packages\\sklearn\\metrics\\_classification.py:1221: UndefinedMetricWarning: Precision and F-score are ill-defined and being set to 0.0 in labels with no predicted samples. Use `zero_division` parameter to control this behavior.\n",
      "  _warn_prf(average, modifier, msg_start, len(result))\n",
      "C:\\ProgramData\\Anaconda3\\envs\\tf\\lib\\site-packages\\sklearn\\metrics\\_classification.py:1221: UndefinedMetricWarning: Recall and F-score are ill-defined and being set to 0.0 in labels with no true samples. Use `zero_division` parameter to control this behavior.\n",
      "  _warn_prf(average, modifier, msg_start, len(result))\n"
     ]
    }
   ],
   "source": [
    "print(classification_report(y_test,tahminler))"
   ]
  },
  {
   "cell_type": "code",
   "execution_count": 31,
   "metadata": {},
   "outputs": [],
   "source": [
    "yeni = [[1,0,0,1,0,0,1,1,1,1,0,0,4,0,0,1]] #Ayiyi test ettik ama doğru sonuç bulamadık"
   ]
  },
  {
   "cell_type": "code",
   "execution_count": 32,
   "metadata": {},
   "outputs": [
    {
     "data": {
      "text/plain": [
       "array([[2.5910342]], dtype=float32)"
      ]
     },
     "execution_count": 32,
     "metadata": {},
     "output_type": "execute_result"
    }
   ],
   "source": [
    "model.predict(yeni)"
   ]
  },
  {
   "cell_type": "code",
   "execution_count": 33,
   "metadata": {},
   "outputs": [],
   "source": [
    "yeni2 = [[0,0,1,0,0,1,1,1,1,0,0,1,0,1,0,0]] # Balık"
   ]
  },
  {
   "cell_type": "code",
   "execution_count": 80,
   "metadata": {},
   "outputs": [
    {
     "data": {
      "text/plain": [
       "array([[4.0201836]], dtype=float32)"
      ]
     },
     "execution_count": 80,
     "metadata": {},
     "output_type": "execute_result"
    }
   ],
   "source": [
    "model.predict(yeni2)"
   ]
  },
  {
   "cell_type": "code",
   "execution_count": null,
   "metadata": {},
   "outputs": [],
   "source": [
    "#Pek doğru sonuçlar olmadığı için Earlystopping uyguladık."
   ]
  },
  {
   "cell_type": "markdown",
   "metadata": {},
   "source": [
    "# Erken Durma(Earlystopping)"
   ]
  },
  {
   "cell_type": "code",
   "execution_count": 55,
   "metadata": {},
   "outputs": [],
   "source": [
    "model = Sequential()\n",
    "\n",
    "model.add(Dense(16,activation=\"relu\")) \n",
    "model.add(Dense(8,activation=\"relu\"))\n",
    "model.add(Dense(8,activation=\"relu\")) \n",
    "\n",
    "model.add(Dense(1)) ######\n",
    "\n",
    "model.compile(optimizer=\"adam\",loss=\"mse\")"
   ]
  },
  {
   "cell_type": "code",
   "execution_count": 56,
   "metadata": {},
   "outputs": [],
   "source": [
    "earlyStopping = EarlyStopping(monitor=\"val_loss\", mode=\"min\", verbose=1, patience=10) "
   ]
  },
  {
   "cell_type": "code",
   "execution_count": 57,
   "metadata": {},
   "outputs": [
    {
     "name": "stdout",
     "output_type": "stream",
     "text": [
      "Train on 80 samples, validate on 21 samples\n",
      "Epoch 1/300\n",
      "80/80 [==============================] - 0s 4ms/sample - loss: 21.1607 - val_loss: 20.0477\n",
      "Epoch 2/300\n",
      "80/80 [==============================] - 0s 113us/sample - loss: 20.1224 - val_loss: 19.1143\n",
      "Epoch 3/300\n",
      "80/80 [==============================] - 0s 100us/sample - loss: 19.1682 - val_loss: 18.2691\n",
      "Epoch 4/300\n",
      "80/80 [==============================] - 0s 125us/sample - loss: 18.3494 - val_loss: 17.5067\n",
      "Epoch 5/300\n",
      "80/80 [==============================] - 0s 125us/sample - loss: 17.6356 - val_loss: 16.8408\n",
      "Epoch 6/300\n",
      "80/80 [==============================] - 0s 100us/sample - loss: 16.9149 - val_loss: 16.2578\n",
      "Epoch 7/300\n",
      "80/80 [==============================] - 0s 125us/sample - loss: 16.3307 - val_loss: 15.7337\n",
      "Epoch 8/300\n",
      "80/80 [==============================] - 0s 125us/sample - loss: 15.7556 - val_loss: 15.2490\n",
      "Epoch 9/300\n",
      "80/80 [==============================] - 0s 125us/sample - loss: 15.2172 - val_loss: 14.7862\n",
      "Epoch 10/300\n",
      "80/80 [==============================] - 0s 125us/sample - loss: 14.6918 - val_loss: 14.3679\n",
      "Epoch 11/300\n",
      "80/80 [==============================] - 0s 125us/sample - loss: 14.1876 - val_loss: 13.9810\n",
      "Epoch 12/300\n",
      "80/80 [==============================] - 0s 112us/sample - loss: 13.7109 - val_loss: 13.5941\n",
      "Epoch 13/300\n",
      "80/80 [==============================] - 0s 125us/sample - loss: 13.2712 - val_loss: 13.2388\n",
      "Epoch 14/300\n",
      "80/80 [==============================] - 0s 150us/sample - loss: 12.8679 - val_loss: 12.8810\n",
      "Epoch 15/300\n",
      "80/80 [==============================] - 0s 125us/sample - loss: 12.4744 - val_loss: 12.5284\n",
      "Epoch 16/300\n",
      "80/80 [==============================] - 0s 125us/sample - loss: 12.1089 - val_loss: 12.1517\n",
      "Epoch 17/300\n",
      "80/80 [==============================] - 0s 125us/sample - loss: 11.7795 - val_loss: 11.7690\n",
      "Epoch 18/300\n",
      "80/80 [==============================] - 0s 125us/sample - loss: 11.4375 - val_loss: 11.3969\n",
      "Epoch 19/300\n",
      "80/80 [==============================] - 0s 100us/sample - loss: 11.1022 - val_loss: 11.0229\n",
      "Epoch 20/300\n",
      "80/80 [==============================] - 0s 137us/sample - loss: 10.7716 - val_loss: 10.6466\n",
      "Epoch 21/300\n",
      "80/80 [==============================] - 0s 100us/sample - loss: 10.4650 - val_loss: 10.2998\n",
      "Epoch 22/300\n",
      "80/80 [==============================] - 0s 100us/sample - loss: 10.1704 - val_loss: 9.9513\n",
      "Epoch 23/300\n",
      "80/80 [==============================] - 0s 137us/sample - loss: 9.8993 - val_loss: 9.5983\n",
      "Epoch 24/300\n",
      "80/80 [==============================] - 0s 112us/sample - loss: 9.6042 - val_loss: 9.2617\n",
      "Epoch 25/300\n",
      "80/80 [==============================] - 0s 112us/sample - loss: 9.3082 - val_loss: 8.9293\n",
      "Epoch 26/300\n",
      "80/80 [==============================] - 0s 137us/sample - loss: 9.0588 - val_loss: 8.5908\n",
      "Epoch 27/300\n",
      "80/80 [==============================] - 0s 100us/sample - loss: 8.7924 - val_loss: 8.2613\n",
      "Epoch 28/300\n",
      "80/80 [==============================] - 0s 113us/sample - loss: 8.5303 - val_loss: 7.9445\n",
      "Epoch 29/300\n",
      "80/80 [==============================] - 0s 125us/sample - loss: 8.2698 - val_loss: 7.6502\n",
      "Epoch 30/300\n",
      "80/80 [==============================] - 0s 125us/sample - loss: 8.0435 - val_loss: 7.3729\n",
      "Epoch 31/300\n",
      "80/80 [==============================] - 0s 112us/sample - loss: 7.8010 - val_loss: 7.1063\n",
      "Epoch 32/300\n",
      "80/80 [==============================] - 0s 125us/sample - loss: 7.5946 - val_loss: 6.8427\n",
      "Epoch 33/300\n",
      "80/80 [==============================] - 0s 125us/sample - loss: 7.3675 - val_loss: 6.5909\n",
      "Epoch 34/300\n",
      "80/80 [==============================] - 0s 137us/sample - loss: 7.1656 - val_loss: 6.3476\n",
      "Epoch 35/300\n",
      "80/80 [==============================] - 0s 125us/sample - loss: 6.9831 - val_loss: 6.1207\n",
      "Epoch 36/300\n",
      "80/80 [==============================] - 0s 125us/sample - loss: 6.8040 - val_loss: 5.9127\n",
      "Epoch 37/300\n",
      "80/80 [==============================] - 0s 125us/sample - loss: 6.6132 - val_loss: 5.7255\n",
      "Epoch 38/300\n",
      "80/80 [==============================] - 0s 137us/sample - loss: 6.4432 - val_loss: 5.5431\n",
      "Epoch 39/300\n",
      "80/80 [==============================] - 0s 125us/sample - loss: 6.2995 - val_loss: 5.3607\n",
      "Epoch 40/300\n",
      "80/80 [==============================] - 0s 112us/sample - loss: 6.1696 - val_loss: 5.1856\n",
      "Epoch 41/300\n",
      "80/80 [==============================] - 0s 112us/sample - loss: 6.0009 - val_loss: 5.0315\n",
      "Epoch 42/300\n",
      "80/80 [==============================] - 0s 137us/sample - loss: 5.8772 - val_loss: 4.8797\n",
      "Epoch 43/300\n",
      "80/80 [==============================] - 0s 100us/sample - loss: 5.7515 - val_loss: 4.7319\n",
      "Epoch 44/300\n",
      "80/80 [==============================] - 0s 112us/sample - loss: 5.6283 - val_loss: 4.5955\n",
      "Epoch 45/300\n",
      "80/80 [==============================] - 0s 125us/sample - loss: 5.5009 - val_loss: 4.4695\n",
      "Epoch 46/300\n",
      "80/80 [==============================] - 0s 112us/sample - loss: 5.3821 - val_loss: 4.3496\n",
      "Epoch 47/300\n",
      "80/80 [==============================] - 0s 112us/sample - loss: 5.2602 - val_loss: 4.2389\n",
      "Epoch 48/300\n",
      "80/80 [==============================] - 0s 125us/sample - loss: 5.1431 - val_loss: 4.1350\n",
      "Epoch 49/300\n",
      "80/80 [==============================] - 0s 112us/sample - loss: 5.0392 - val_loss: 4.0337\n",
      "Epoch 50/300\n",
      "80/80 [==============================] - 0s 112us/sample - loss: 4.9219 - val_loss: 3.9415\n",
      "Epoch 51/300\n",
      "80/80 [==============================] - 0s 137us/sample - loss: 4.8195 - val_loss: 3.8525\n",
      "Epoch 52/300\n",
      "80/80 [==============================] - 0s 125us/sample - loss: 4.7072 - val_loss: 3.7737\n",
      "Epoch 53/300\n",
      "80/80 [==============================] - 0s 112us/sample - loss: 4.6022 - val_loss: 3.6932\n",
      "Epoch 54/300\n",
      "80/80 [==============================] - 0s 125us/sample - loss: 4.5071 - val_loss: 3.6142\n",
      "Epoch 55/300\n",
      "80/80 [==============================] - 0s 112us/sample - loss: 4.3926 - val_loss: 3.5435\n",
      "Epoch 56/300\n",
      "80/80 [==============================] - 0s 125us/sample - loss: 4.2902 - val_loss: 3.4758\n",
      "Epoch 57/300\n",
      "80/80 [==============================] - 0s 125us/sample - loss: 4.1917 - val_loss: 3.4060\n",
      "Epoch 58/300\n",
      "80/80 [==============================] - 0s 125us/sample - loss: 4.0908 - val_loss: 3.3383\n",
      "Epoch 59/300\n",
      "80/80 [==============================] - 0s 100us/sample - loss: 3.9880 - val_loss: 3.2749\n",
      "Epoch 60/300\n",
      "80/80 [==============================] - 0s 100us/sample - loss: 3.8910 - val_loss: 3.2120\n",
      "Epoch 61/300\n",
      "80/80 [==============================] - 0s 112us/sample - loss: 3.7852 - val_loss: 3.1507\n",
      "Epoch 62/300\n",
      "80/80 [==============================] - 0s 112us/sample - loss: 3.6891 - val_loss: 3.0874\n",
      "Epoch 63/300\n",
      "80/80 [==============================] - 0s 100us/sample - loss: 3.5856 - val_loss: 3.0255\n",
      "Epoch 64/300\n",
      "80/80 [==============================] - 0s 125us/sample - loss: 3.4911 - val_loss: 2.9632\n",
      "Epoch 65/300\n",
      "80/80 [==============================] - 0s 100us/sample - loss: 3.3887 - val_loss: 2.8995\n",
      "Epoch 66/300\n",
      "80/80 [==============================] - 0s 100us/sample - loss: 3.2833 - val_loss: 2.8372\n",
      "Epoch 67/300\n",
      "80/80 [==============================] - 0s 100us/sample - loss: 3.1937 - val_loss: 2.7751\n",
      "Epoch 68/300\n",
      "80/80 [==============================] - 0s 150us/sample - loss: 3.0859 - val_loss: 2.7175\n",
      "Epoch 69/300\n",
      "80/80 [==============================] - 0s 100us/sample - loss: 2.9884 - val_loss: 2.6577\n",
      "Epoch 70/300\n",
      "80/80 [==============================] - 0s 100us/sample - loss: 2.8877 - val_loss: 2.5997\n",
      "Epoch 71/300\n",
      "80/80 [==============================] - 0s 150us/sample - loss: 2.7951 - val_loss: 2.5402\n",
      "Epoch 72/300\n",
      "80/80 [==============================] - 0s 112us/sample - loss: 2.6973 - val_loss: 2.4818\n",
      "Epoch 73/300\n",
      "80/80 [==============================] - 0s 87us/sample - loss: 2.5984 - val_loss: 2.4248\n",
      "Epoch 74/300\n",
      "80/80 [==============================] - 0s 113us/sample - loss: 2.5114 - val_loss: 2.3664\n",
      "Epoch 75/300\n",
      "80/80 [==============================] - 0s 125us/sample - loss: 2.4108 - val_loss: 2.3110\n",
      "Epoch 76/300\n",
      "80/80 [==============================] - 0s 126us/sample - loss: 2.3287 - val_loss: 2.2559\n",
      "Epoch 77/300\n",
      "80/80 [==============================] - 0s 100us/sample - loss: 2.2348 - val_loss: 2.2022\n",
      "Epoch 78/300\n",
      "80/80 [==============================] - 0s 137us/sample - loss: 2.1451 - val_loss: 2.1509\n",
      "Epoch 79/300\n"
     ]
    },
    {
     "name": "stdout",
     "output_type": "stream",
     "text": [
      "80/80 [==============================] - 0s 100us/sample - loss: 2.0614 - val_loss: 2.0963\n",
      "Epoch 80/300\n",
      "80/80 [==============================] - 0s 112us/sample - loss: 1.9814 - val_loss: 2.0430\n",
      "Epoch 81/300\n",
      "80/80 [==============================] - 0s 137us/sample - loss: 1.9001 - val_loss: 1.9896\n",
      "Epoch 82/300\n",
      "80/80 [==============================] - 0s 112us/sample - loss: 1.8316 - val_loss: 1.9356\n",
      "Epoch 83/300\n",
      "80/80 [==============================] - 0s 112us/sample - loss: 1.7623 - val_loss: 1.8826\n",
      "Epoch 84/300\n",
      "80/80 [==============================] - 0s 112us/sample - loss: 1.6919 - val_loss: 1.8348\n",
      "Epoch 85/300\n",
      "80/80 [==============================] - 0s 125us/sample - loss: 1.6298 - val_loss: 1.7875\n",
      "Epoch 86/300\n",
      "80/80 [==============================] - 0s 87us/sample - loss: 1.5686 - val_loss: 1.7406\n",
      "Epoch 87/300\n",
      "80/80 [==============================] - 0s 112us/sample - loss: 1.5112 - val_loss: 1.6963\n",
      "Epoch 88/300\n",
      "80/80 [==============================] - 0s 125us/sample - loss: 1.4640 - val_loss: 1.6531\n",
      "Epoch 89/300\n",
      "80/80 [==============================] - 0s 112us/sample - loss: 1.4086 - val_loss: 1.6115\n",
      "Epoch 90/300\n",
      "80/80 [==============================] - 0s 87us/sample - loss: 1.3632 - val_loss: 1.5727\n",
      "Epoch 91/300\n",
      "80/80 [==============================] - 0s 125us/sample - loss: 1.3229 - val_loss: 1.5359\n",
      "Epoch 92/300\n",
      "80/80 [==============================] - 0s 100us/sample - loss: 1.2817 - val_loss: 1.5007\n",
      "Epoch 93/300\n",
      "80/80 [==============================] - 0s 100us/sample - loss: 1.2382 - val_loss: 1.4639\n",
      "Epoch 94/300\n",
      "80/80 [==============================] - 0s 100us/sample - loss: 1.2069 - val_loss: 1.4295\n",
      "Epoch 95/300\n",
      "80/80 [==============================] - 0s 112us/sample - loss: 1.1693 - val_loss: 1.3938\n",
      "Epoch 96/300\n",
      "80/80 [==============================] - 0s 100us/sample - loss: 1.1423 - val_loss: 1.3628\n",
      "Epoch 97/300\n",
      "80/80 [==============================] - 0s 100us/sample - loss: 1.1110 - val_loss: 1.3316\n",
      "Epoch 98/300\n",
      "80/80 [==============================] - 0s 100us/sample - loss: 1.0835 - val_loss: 1.3015\n",
      "Epoch 99/300\n",
      "80/80 [==============================] - 0s 112us/sample - loss: 1.0567 - val_loss: 1.2724\n",
      "Epoch 100/300\n",
      "80/80 [==============================] - 0s 100us/sample - loss: 1.0287 - val_loss: 1.2442\n",
      "Epoch 101/300\n",
      "80/80 [==============================] - 0s 87us/sample - loss: 1.0047 - val_loss: 1.2169\n",
      "Epoch 102/300\n",
      "80/80 [==============================] - 0s 125us/sample - loss: 0.9832 - val_loss: 1.1920\n",
      "Epoch 103/300\n",
      "80/80 [==============================] - 0s 112us/sample - loss: 0.9580 - val_loss: 1.1685\n",
      "Epoch 104/300\n",
      "80/80 [==============================] - 0s 100us/sample - loss: 0.9355 - val_loss: 1.1449\n",
      "Epoch 105/300\n",
      "80/80 [==============================] - 0s 100us/sample - loss: 0.9129 - val_loss: 1.1226\n",
      "Epoch 106/300\n",
      "80/80 [==============================] - 0s 125us/sample - loss: 0.8917 - val_loss: 1.1006\n",
      "Epoch 107/300\n",
      "80/80 [==============================] - 0s 113us/sample - loss: 0.8710 - val_loss: 1.0802\n",
      "Epoch 108/300\n",
      "80/80 [==============================] - 0s 112us/sample - loss: 0.8517 - val_loss: 1.0605\n",
      "Epoch 109/300\n",
      "80/80 [==============================] - 0s 112us/sample - loss: 0.8293 - val_loss: 1.0428\n",
      "Epoch 110/300\n",
      "80/80 [==============================] - 0s 137us/sample - loss: 0.8118 - val_loss: 1.0247\n",
      "Epoch 111/300\n",
      "80/80 [==============================] - 0s 87us/sample - loss: 0.7917 - val_loss: 1.0055\n",
      "Epoch 112/300\n",
      "80/80 [==============================] - 0s 125us/sample - loss: 0.7725 - val_loss: 0.9870\n",
      "Epoch 113/300\n",
      "80/80 [==============================] - 0s 137us/sample - loss: 0.7542 - val_loss: 0.9688\n",
      "Epoch 114/300\n",
      "80/80 [==============================] - 0s 112us/sample - loss: 0.7366 - val_loss: 0.9516\n",
      "Epoch 115/300\n",
      "80/80 [==============================] - 0s 150us/sample - loss: 0.7188 - val_loss: 0.9363\n",
      "Epoch 116/300\n",
      "80/80 [==============================] - 0s 162us/sample - loss: 0.6995 - val_loss: 0.9198\n",
      "Epoch 117/300\n",
      "80/80 [==============================] - 0s 112us/sample - loss: 0.6850 - val_loss: 0.9042\n",
      "Epoch 118/300\n",
      "80/80 [==============================] - 0s 112us/sample - loss: 0.6621 - val_loss: 0.8881\n",
      "Epoch 119/300\n",
      "80/80 [==============================] - 0s 125us/sample - loss: 0.6462 - val_loss: 0.8711\n",
      "Epoch 120/300\n",
      "80/80 [==============================] - 0s 112us/sample - loss: 0.6284 - val_loss: 0.8560\n",
      "Epoch 121/300\n",
      "80/80 [==============================] - 0s 100us/sample - loss: 0.6111 - val_loss: 0.8417\n",
      "Epoch 122/300\n",
      "80/80 [==============================] - 0s 125us/sample - loss: 0.5943 - val_loss: 0.8290\n",
      "Epoch 123/300\n",
      "80/80 [==============================] - 0s 112us/sample - loss: 0.5778 - val_loss: 0.8186\n",
      "Epoch 124/300\n",
      "80/80 [==============================] - 0s 100us/sample - loss: 0.5608 - val_loss: 0.8100\n",
      "Epoch 125/300\n",
      "80/80 [==============================] - 0s 150us/sample - loss: 0.5443 - val_loss: 0.8009\n",
      "Epoch 126/300\n",
      "80/80 [==============================] - 0s 125us/sample - loss: 0.5304 - val_loss: 0.7934\n",
      "Epoch 127/300\n",
      "80/80 [==============================] - 0s 112us/sample - loss: 0.5167 - val_loss: 0.7840\n",
      "Epoch 128/300\n",
      "80/80 [==============================] - 0s 137us/sample - loss: 0.5011 - val_loss: 0.7741\n",
      "Epoch 129/300\n",
      "80/80 [==============================] - 0s 128us/sample - loss: 0.4879 - val_loss: 0.7620\n",
      "Epoch 130/300\n",
      "80/80 [==============================] - 0s 112us/sample - loss: 0.4741 - val_loss: 0.7516\n",
      "Epoch 131/300\n",
      "80/80 [==============================] - 0s 125us/sample - loss: 0.4593 - val_loss: 0.7460\n",
      "Epoch 132/300\n",
      "80/80 [==============================] - 0s 138us/sample - loss: 0.4468 - val_loss: 0.7395\n",
      "Epoch 133/300\n",
      "80/80 [==============================] - 0s 113us/sample - loss: 0.4329 - val_loss: 0.7314\n",
      "Epoch 134/300\n",
      "80/80 [==============================] - 0s 125us/sample - loss: 0.4229 - val_loss: 0.7233\n",
      "Epoch 135/300\n",
      "80/80 [==============================] - 0s 112us/sample - loss: 0.4078 - val_loss: 0.7172\n",
      "Epoch 136/300\n",
      "80/80 [==============================] - 0s 113us/sample - loss: 0.3997 - val_loss: 0.7104\n",
      "Epoch 137/300\n",
      "80/80 [==============================] - 0s 125us/sample - loss: 0.3872 - val_loss: 0.7037\n",
      "Epoch 138/300\n",
      "80/80 [==============================] - 0s 125us/sample - loss: 0.3766 - val_loss: 0.6952\n",
      "Epoch 139/300\n",
      "80/80 [==============================] - 0s 112us/sample - loss: 0.3661 - val_loss: 0.6887\n",
      "Epoch 140/300\n",
      "80/80 [==============================] - 0s 137us/sample - loss: 0.3574 - val_loss: 0.6826\n",
      "Epoch 141/300\n",
      "80/80 [==============================] - 0s 137us/sample - loss: 0.3483 - val_loss: 0.6760\n",
      "Epoch 142/300\n",
      "80/80 [==============================] - 0s 100us/sample - loss: 0.3395 - val_loss: 0.6693\n",
      "Epoch 143/300\n",
      "80/80 [==============================] - 0s 112us/sample - loss: 0.3309 - val_loss: 0.6633\n",
      "Epoch 144/300\n",
      "80/80 [==============================] - 0s 137us/sample - loss: 0.3228 - val_loss: 0.6570\n",
      "Epoch 145/300\n",
      "80/80 [==============================] - 0s 125us/sample - loss: 0.3140 - val_loss: 0.6496\n",
      "Epoch 146/300\n",
      "80/80 [==============================] - 0s 112us/sample - loss: 0.3071 - val_loss: 0.6423\n",
      "Epoch 147/300\n",
      "80/80 [==============================] - 0s 150us/sample - loss: 0.2989 - val_loss: 0.6343\n",
      "Epoch 148/300\n",
      "80/80 [==============================] - 0s 112us/sample - loss: 0.2916 - val_loss: 0.6264\n",
      "Epoch 149/300\n",
      "80/80 [==============================] - 0s 100us/sample - loss: 0.2828 - val_loss: 0.6206\n",
      "Epoch 150/300\n",
      "80/80 [==============================] - 0s 150us/sample - loss: 0.2762 - val_loss: 0.6109\n",
      "Epoch 151/300\n",
      "80/80 [==============================] - 0s 125us/sample - loss: 0.2696 - val_loss: 0.6041\n",
      "Epoch 152/300\n",
      "80/80 [==============================] - 0s 112us/sample - loss: 0.2635 - val_loss: 0.5959\n",
      "Epoch 153/300\n",
      "80/80 [==============================] - 0s 150us/sample - loss: 0.2560 - val_loss: 0.5900\n",
      "Epoch 154/300\n",
      "80/80 [==============================] - 0s 125us/sample - loss: 0.2510 - val_loss: 0.5856\n",
      "Epoch 155/300\n",
      "80/80 [==============================] - 0s 137us/sample - loss: 0.2461 - val_loss: 0.5799\n",
      "Epoch 156/300\n",
      "80/80 [==============================] - 0s 125us/sample - loss: 0.2402 - val_loss: 0.5752\n",
      "Epoch 157/300\n"
     ]
    },
    {
     "name": "stdout",
     "output_type": "stream",
     "text": [
      "80/80 [==============================] - 0s 125us/sample - loss: 0.2358 - val_loss: 0.5669\n",
      "Epoch 158/300\n",
      "80/80 [==============================] - 0s 125us/sample - loss: 0.2302 - val_loss: 0.5609\n",
      "Epoch 159/300\n",
      "80/80 [==============================] - 0s 138us/sample - loss: 0.2265 - val_loss: 0.5509\n",
      "Epoch 160/300\n",
      "80/80 [==============================] - 0s 137us/sample - loss: 0.2221 - val_loss: 0.5435\n",
      "Epoch 161/300\n",
      "80/80 [==============================] - 0s 125us/sample - loss: 0.2175 - val_loss: 0.5394\n",
      "Epoch 162/300\n",
      "80/80 [==============================] - 0s 138us/sample - loss: 0.2132 - val_loss: 0.5333\n",
      "Epoch 163/300\n",
      "80/80 [==============================] - 0s 125us/sample - loss: 0.2088 - val_loss: 0.5276\n",
      "Epoch 164/300\n",
      "80/80 [==============================] - 0s 125us/sample - loss: 0.2049 - val_loss: 0.5244\n",
      "Epoch 165/300\n",
      "80/80 [==============================] - 0s 137us/sample - loss: 0.2006 - val_loss: 0.5212\n",
      "Epoch 166/300\n",
      "80/80 [==============================] - 0s 112us/sample - loss: 0.1963 - val_loss: 0.5141\n",
      "Epoch 167/300\n",
      "80/80 [==============================] - 0s 137us/sample - loss: 0.1915 - val_loss: 0.5059\n",
      "Epoch 168/300\n",
      "80/80 [==============================] - 0s 137us/sample - loss: 0.1879 - val_loss: 0.4962\n",
      "Epoch 169/300\n",
      "80/80 [==============================] - 0s 112us/sample - loss: 0.1837 - val_loss: 0.4890\n",
      "Epoch 170/300\n",
      "80/80 [==============================] - 0s 112us/sample - loss: 0.1801 - val_loss: 0.4824\n",
      "Epoch 171/300\n",
      "80/80 [==============================] - 0s 125us/sample - loss: 0.1768 - val_loss: 0.4786\n",
      "Epoch 172/300\n",
      "80/80 [==============================] - 0s 100us/sample - loss: 0.1720 - val_loss: 0.4753\n",
      "Epoch 173/300\n",
      "80/80 [==============================] - 0s 100us/sample - loss: 0.1695 - val_loss: 0.4743\n",
      "Epoch 174/300\n",
      "80/80 [==============================] - 0s 138us/sample - loss: 0.1656 - val_loss: 0.4711\n",
      "Epoch 175/300\n",
      "80/80 [==============================] - 0s 100us/sample - loss: 0.1622 - val_loss: 0.4657\n",
      "Epoch 176/300\n",
      "80/80 [==============================] - 0s 125us/sample - loss: 0.1591 - val_loss: 0.4612\n",
      "Epoch 177/300\n",
      "80/80 [==============================] - 0s 112us/sample - loss: 0.1563 - val_loss: 0.4559\n",
      "Epoch 178/300\n",
      "80/80 [==============================] - 0s 112us/sample - loss: 0.1537 - val_loss: 0.4521\n",
      "Epoch 179/300\n",
      "80/80 [==============================] - 0s 100us/sample - loss: 0.1499 - val_loss: 0.4441\n",
      "Epoch 180/300\n",
      "80/80 [==============================] - 0s 125us/sample - loss: 0.1480 - val_loss: 0.4367\n",
      "Epoch 181/300\n",
      "80/80 [==============================] - 0s 112us/sample - loss: 0.1451 - val_loss: 0.4349\n",
      "Epoch 182/300\n",
      "80/80 [==============================] - 0s 125us/sample - loss: 0.1422 - val_loss: 0.4324\n",
      "Epoch 183/300\n",
      "80/80 [==============================] - 0s 87us/sample - loss: 0.1397 - val_loss: 0.4284\n",
      "Epoch 184/300\n",
      "80/80 [==============================] - ETA: 0s - loss: 0.166 - 0s 137us/sample - loss: 0.1376 - val_loss: 0.4225\n",
      "Epoch 185/300\n",
      "80/80 [==============================] - 0s 112us/sample - loss: 0.1353 - val_loss: 0.4194\n",
      "Epoch 186/300\n",
      "80/80 [==============================] - 0s 112us/sample - loss: 0.1333 - val_loss: 0.4131\n",
      "Epoch 187/300\n",
      "80/80 [==============================] - 0s 112us/sample - loss: 0.1310 - val_loss: 0.4031\n",
      "Epoch 188/300\n",
      "80/80 [==============================] - 0s 125us/sample - loss: 0.1290 - val_loss: 0.3922\n",
      "Epoch 189/300\n",
      "80/80 [==============================] - 0s 100us/sample - loss: 0.1273 - val_loss: 0.3834\n",
      "Epoch 190/300\n",
      "80/80 [==============================] - 0s 113us/sample - loss: 0.1252 - val_loss: 0.3769\n",
      "Epoch 191/300\n",
      "80/80 [==============================] - 0s 112us/sample - loss: 0.1234 - val_loss: 0.3724\n",
      "Epoch 192/300\n",
      "80/80 [==============================] - 0s 112us/sample - loss: 0.1205 - val_loss: 0.3625\n",
      "Epoch 193/300\n",
      "80/80 [==============================] - 0s 112us/sample - loss: 0.1185 - val_loss: 0.3476\n",
      "Epoch 194/300\n",
      "80/80 [==============================] - 0s 137us/sample - loss: 0.1146 - val_loss: 0.3373\n",
      "Epoch 195/300\n",
      "80/80 [==============================] - 0s 100us/sample - loss: 0.1117 - val_loss: 0.3297\n",
      "Epoch 196/300\n",
      "80/80 [==============================] - 0s 100us/sample - loss: 0.1086 - val_loss: 0.3230\n",
      "Epoch 197/300\n",
      "80/80 [==============================] - 0s 125us/sample - loss: 0.1073 - val_loss: 0.3137\n",
      "Epoch 198/300\n",
      "80/80 [==============================] - 0s 112us/sample - loss: 0.1043 - val_loss: 0.3076\n",
      "Epoch 199/300\n",
      "80/80 [==============================] - 0s 112us/sample - loss: 0.1018 - val_loss: 0.3024\n",
      "Epoch 200/300\n",
      "80/80 [==============================] - 0s 112us/sample - loss: 0.0994 - val_loss: 0.2963\n",
      "Epoch 201/300\n",
      "80/80 [==============================] - 0s 112us/sample - loss: 0.0975 - val_loss: 0.2913\n",
      "Epoch 202/300\n",
      "80/80 [==============================] - 0s 112us/sample - loss: 0.0956 - val_loss: 0.2860\n",
      "Epoch 203/300\n",
      "80/80 [==============================] - 0s 100us/sample - loss: 0.0934 - val_loss: 0.2816\n",
      "Epoch 204/300\n",
      "80/80 [==============================] - 0s 125us/sample - loss: 0.0913 - val_loss: 0.2779\n",
      "Epoch 205/300\n",
      "80/80 [==============================] - 0s 125us/sample - loss: 0.0897 - val_loss: 0.2713\n",
      "Epoch 206/300\n",
      "80/80 [==============================] - 0s 112us/sample - loss: 0.0875 - val_loss: 0.2671\n",
      "Epoch 207/300\n",
      "80/80 [==============================] - 0s 150us/sample - loss: 0.0858 - val_loss: 0.2609\n",
      "Epoch 208/300\n",
      "80/80 [==============================] - 0s 125us/sample - loss: 0.0847 - val_loss: 0.2562\n",
      "Epoch 209/300\n",
      "80/80 [==============================] - 0s 113us/sample - loss: 0.0835 - val_loss: 0.2547\n",
      "Epoch 210/300\n",
      "80/80 [==============================] - 0s 125us/sample - loss: 0.0824 - val_loss: 0.2542\n",
      "Epoch 211/300\n",
      "80/80 [==============================] - 0s 113us/sample - loss: 0.0815 - val_loss: 0.2538\n",
      "Epoch 212/300\n",
      "80/80 [==============================] - 0s 100us/sample - loss: 0.0803 - val_loss: 0.2525\n",
      "Epoch 213/300\n",
      "80/80 [==============================] - 0s 125us/sample - loss: 0.0795 - val_loss: 0.2531\n",
      "Epoch 214/300\n",
      "80/80 [==============================] - 0s 112us/sample - loss: 0.0786 - val_loss: 0.2512\n",
      "Epoch 215/300\n",
      "80/80 [==============================] - 0s 112us/sample - loss: 0.0778 - val_loss: 0.2488\n",
      "Epoch 216/300\n",
      "80/80 [==============================] - 0s 100us/sample - loss: 0.0767 - val_loss: 0.2460\n",
      "Epoch 217/300\n",
      "80/80 [==============================] - 0s 125us/sample - loss: 0.0760 - val_loss: 0.2424\n",
      "Epoch 218/300\n",
      "80/80 [==============================] - 0s 112us/sample - loss: 0.0752 - val_loss: 0.2398\n",
      "Epoch 219/300\n",
      "80/80 [==============================] - 0s 100us/sample - loss: 0.0741 - val_loss: 0.2393\n",
      "Epoch 220/300\n",
      "80/80 [==============================] - 0s 112us/sample - loss: 0.0732 - val_loss: 0.2403\n",
      "Epoch 221/300\n",
      "80/80 [==============================] - 0s 113us/sample - loss: 0.0726 - val_loss: 0.2387\n",
      "Epoch 222/300\n",
      "80/80 [==============================] - 0s 112us/sample - loss: 0.0720 - val_loss: 0.2363\n",
      "Epoch 223/300\n",
      "80/80 [==============================] - 0s 125us/sample - loss: 0.0710 - val_loss: 0.2350\n",
      "Epoch 224/300\n",
      "80/80 [==============================] - 0s 125us/sample - loss: 0.0701 - val_loss: 0.2312\n",
      "Epoch 225/300\n",
      "80/80 [==============================] - 0s 112us/sample - loss: 0.0694 - val_loss: 0.2285\n",
      "Epoch 226/300\n",
      "80/80 [==============================] - 0s 112us/sample - loss: 0.0687 - val_loss: 0.2250\n",
      "Epoch 227/300\n",
      "80/80 [==============================] - 0s 113us/sample - loss: 0.0680 - val_loss: 0.2235\n",
      "Epoch 228/300\n",
      "80/80 [==============================] - 0s 112us/sample - loss: 0.0672 - val_loss: 0.2227\n",
      "Epoch 229/300\n",
      "80/80 [==============================] - 0s 100us/sample - loss: 0.0662 - val_loss: 0.2206\n",
      "Epoch 230/300\n",
      "80/80 [==============================] - 0s 137us/sample - loss: 0.0658 - val_loss: 0.2167\n",
      "Epoch 231/300\n",
      "80/80 [==============================] - 0s 113us/sample - loss: 0.0648 - val_loss: 0.2149\n",
      "Epoch 232/300\n",
      "80/80 [==============================] - 0s 109us/sample - loss: 0.0645 - val_loss: 0.2122\n",
      "Epoch 233/300\n",
      "80/80 [==============================] - 0s 125us/sample - loss: 0.0635 - val_loss: 0.2119\n",
      "Epoch 234/300\n",
      "80/80 [==============================] - 0s 112us/sample - loss: 0.0632 - val_loss: 0.2120\n"
     ]
    },
    {
     "name": "stdout",
     "output_type": "stream",
     "text": [
      "Epoch 235/300\n",
      "80/80 [==============================] - 0s 100us/sample - loss: 0.0623 - val_loss: 0.2114\n",
      "Epoch 236/300\n",
      "80/80 [==============================] - 0s 112us/sample - loss: 0.0616 - val_loss: 0.2120\n",
      "Epoch 237/300\n",
      "80/80 [==============================] - 0s 125us/sample - loss: 0.0612 - val_loss: 0.2121\n",
      "Epoch 238/300\n",
      "80/80 [==============================] - 0s 100us/sample - loss: 0.0603 - val_loss: 0.2105\n",
      "Epoch 239/300\n",
      "80/80 [==============================] - 0s 100us/sample - loss: 0.0598 - val_loss: 0.2084\n",
      "Epoch 240/300\n",
      "80/80 [==============================] - 0s 125us/sample - loss: 0.0592 - val_loss: 0.2066\n",
      "Epoch 241/300\n",
      "80/80 [==============================] - 0s 112us/sample - loss: 0.0587 - val_loss: 0.2051\n",
      "Epoch 242/300\n",
      "80/80 [==============================] - 0s 125us/sample - loss: 0.0581 - val_loss: 0.2027\n",
      "Epoch 243/300\n",
      "80/80 [==============================] - 0s 137us/sample - loss: 0.0575 - val_loss: 0.1997\n",
      "Epoch 244/300\n",
      "80/80 [==============================] - 0s 100us/sample - loss: 0.0570 - val_loss: 0.1977\n",
      "Epoch 245/300\n",
      "80/80 [==============================] - 0s 125us/sample - loss: 0.0565 - val_loss: 0.1948\n",
      "Epoch 246/300\n",
      "80/80 [==============================] - 0s 112us/sample - loss: 0.0560 - val_loss: 0.1933\n",
      "Epoch 247/300\n",
      "80/80 [==============================] - 0s 125us/sample - loss: 0.0555 - val_loss: 0.1933\n",
      "Epoch 248/300\n",
      "80/80 [==============================] - 0s 100us/sample - loss: 0.0548 - val_loss: 0.1928\n",
      "Epoch 249/300\n",
      "80/80 [==============================] - 0s 112us/sample - loss: 0.0544 - val_loss: 0.1939\n",
      "Epoch 250/300\n",
      "80/80 [==============================] - 0s 125us/sample - loss: 0.0538 - val_loss: 0.1936\n",
      "Epoch 251/300\n",
      "80/80 [==============================] - 0s 112us/sample - loss: 0.0535 - val_loss: 0.1930\n",
      "Epoch 252/300\n",
      "80/80 [==============================] - 0s 100us/sample - loss: 0.0532 - val_loss: 0.1934\n",
      "Epoch 253/300\n",
      "80/80 [==============================] - 0s 137us/sample - loss: 0.0527 - val_loss: 0.1928\n",
      "Epoch 254/300\n",
      "80/80 [==============================] - 0s 100us/sample - loss: 0.0521 - val_loss: 0.1927\n",
      "Epoch 255/300\n",
      "80/80 [==============================] - 0s 119us/sample - loss: 0.0518 - val_loss: 0.1918\n",
      "Epoch 256/300\n",
      "80/80 [==============================] - 0s 112us/sample - loss: 0.0513 - val_loss: 0.1897\n",
      "Epoch 257/300\n",
      "80/80 [==============================] - 0s 125us/sample - loss: 0.0508 - val_loss: 0.1871\n",
      "Epoch 258/300\n",
      "80/80 [==============================] - 0s 87us/sample - loss: 0.0505 - val_loss: 0.1858\n",
      "Epoch 259/300\n",
      "80/80 [==============================] - 0s 137us/sample - loss: 0.0499 - val_loss: 0.1856\n",
      "Epoch 260/300\n",
      "80/80 [==============================] - 0s 125us/sample - loss: 0.0496 - val_loss: 0.1846\n",
      "Epoch 261/300\n",
      "80/80 [==============================] - 0s 112us/sample - loss: 0.0494 - val_loss: 0.1839\n",
      "Epoch 262/300\n",
      "80/80 [==============================] - 0s 100us/sample - loss: 0.0489 - val_loss: 0.1821\n",
      "Epoch 263/300\n",
      "80/80 [==============================] - 0s 138us/sample - loss: 0.0485 - val_loss: 0.1813\n",
      "Epoch 264/300\n",
      "80/80 [==============================] - 0s 112us/sample - loss: 0.0480 - val_loss: 0.1795\n",
      "Epoch 265/300\n",
      "80/80 [==============================] - 0s 112us/sample - loss: 0.0477 - val_loss: 0.1783\n",
      "Epoch 266/300\n",
      "80/80 [==============================] - 0s 112us/sample - loss: 0.0474 - val_loss: 0.1778\n",
      "Epoch 267/300\n",
      "80/80 [==============================] - 0s 125us/sample - loss: 0.0470 - val_loss: 0.1782\n",
      "Epoch 268/300\n",
      "80/80 [==============================] - 0s 112us/sample - loss: 0.0466 - val_loss: 0.1770\n",
      "Epoch 269/300\n",
      "80/80 [==============================] - 0s 125us/sample - loss: 0.0463 - val_loss: 0.1762\n",
      "Epoch 270/300\n",
      "80/80 [==============================] - 0s 112us/sample - loss: 0.0459 - val_loss: 0.1751\n",
      "Epoch 271/300\n",
      "80/80 [==============================] - 0s 112us/sample - loss: 0.0456 - val_loss: 0.1737\n",
      "Epoch 272/300\n",
      "80/80 [==============================] - 0s 113us/sample - loss: 0.0452 - val_loss: 0.1737\n",
      "Epoch 273/300\n",
      "80/80 [==============================] - 0s 112us/sample - loss: 0.0449 - val_loss: 0.1730\n",
      "Epoch 274/300\n",
      "80/80 [==============================] - 0s 112us/sample - loss: 0.0446 - val_loss: 0.1726\n",
      "Epoch 275/300\n",
      "80/80 [==============================] - 0s 107us/sample - loss: 0.0444 - val_loss: 0.1716\n",
      "Epoch 276/300\n",
      "80/80 [==============================] - 0s 137us/sample - loss: 0.0440 - val_loss: 0.1703\n",
      "Epoch 277/300\n",
      "80/80 [==============================] - 0s 113us/sample - loss: 0.0436 - val_loss: 0.1693\n",
      "Epoch 278/300\n",
      "80/80 [==============================] - 0s 112us/sample - loss: 0.0434 - val_loss: 0.1679\n",
      "Epoch 279/300\n",
      "80/80 [==============================] - 0s 112us/sample - loss: 0.0430 - val_loss: 0.1662\n",
      "Epoch 280/300\n",
      "80/80 [==============================] - 0s 125us/sample - loss: 0.0428 - val_loss: 0.1657\n",
      "Epoch 281/300\n",
      "80/80 [==============================] - 0s 100us/sample - loss: 0.0426 - val_loss: 0.1662\n",
      "Epoch 282/300\n",
      "80/80 [==============================] - 0s 112us/sample - loss: 0.0421 - val_loss: 0.1659\n",
      "Epoch 283/300\n",
      "80/80 [==============================] - 0s 125us/sample - loss: 0.0418 - val_loss: 0.1657\n",
      "Epoch 284/300\n",
      "80/80 [==============================] - 0s 125us/sample - loss: 0.0415 - val_loss: 0.1648\n",
      "Epoch 285/300\n",
      "80/80 [==============================] - 0s 100us/sample - loss: 0.0414 - val_loss: 0.1641\n",
      "Epoch 286/300\n",
      "80/80 [==============================] - 0s 137us/sample - loss: 0.0410 - val_loss: 0.1649\n",
      "Epoch 287/300\n",
      "80/80 [==============================] - 0s 112us/sample - loss: 0.0406 - val_loss: 0.1644\n",
      "Epoch 288/300\n",
      "80/80 [==============================] - 0s 107us/sample - loss: 0.0403 - val_loss: 0.1640\n",
      "Epoch 289/300\n",
      "80/80 [==============================] - 0s 112us/sample - loss: 0.0399 - val_loss: 0.1629\n",
      "Epoch 290/300\n",
      "80/80 [==============================] - 0s 125us/sample - loss: 0.0397 - val_loss: 0.1623\n",
      "Epoch 291/300\n",
      "80/80 [==============================] - 0s 112us/sample - loss: 0.0393 - val_loss: 0.1614\n",
      "Epoch 292/300\n",
      "80/80 [==============================] - 0s 113us/sample - loss: 0.0390 - val_loss: 0.1602\n",
      "Epoch 293/300\n",
      "80/80 [==============================] - 0s 137us/sample - loss: 0.0388 - val_loss: 0.1597\n",
      "Epoch 294/300\n",
      "80/80 [==============================] - 0s 100us/sample - loss: 0.0384 - val_loss: 0.1585\n",
      "Epoch 295/300\n",
      "80/80 [==============================] - 0s 112us/sample - loss: 0.0383 - val_loss: 0.1574\n",
      "Epoch 296/300\n",
      "80/80 [==============================] - 0s 125us/sample - loss: 0.0381 - val_loss: 0.1572\n",
      "Epoch 297/300\n",
      "80/80 [==============================] - 0s 137us/sample - loss: 0.0378 - val_loss: 0.1578\n",
      "Epoch 298/300\n",
      "80/80 [==============================] - 0s 100us/sample - loss: 0.0375 - val_loss: 0.1577\n",
      "Epoch 299/300\n",
      "80/80 [==============================] - 0s 112us/sample - loss: 0.0373 - val_loss: 0.1580\n",
      "Epoch 300/300\n",
      "80/80 [==============================] - 0s 100us/sample - loss: 0.0370 - val_loss: 0.1582\n"
     ]
    },
    {
     "data": {
      "text/plain": [
       "<tensorflow.python.keras.callbacks.History at 0x1a9ad0b5e08>"
      ]
     },
     "execution_count": 57,
     "metadata": {},
     "output_type": "execute_result"
    }
   ],
   "source": [
    "model.fit(x=x_train, y=y_train, epochs = 300, validation_data = (x_test,y_test), verbose = 1, callbacks=[earlyStopping])"
   ]
  },
  {
   "cell_type": "code",
   "execution_count": 58,
   "metadata": {},
   "outputs": [],
   "source": [
    "modelKaybi2 = pd.DataFrame(model.history.history)"
   ]
  },
  {
   "cell_type": "code",
   "execution_count": 59,
   "metadata": {},
   "outputs": [
    {
     "data": {
      "text/plain": [
       "<AxesSubplot:>"
      ]
     },
     "execution_count": 59,
     "metadata": {},
     "output_type": "execute_result"
    },
    {
     "data": {
      "image/png": "[encoded data removed]",
      "text/plain": [
       "<Figure size 432x288 with 1 Axes>"
      ]
     },
     "metadata": {
      "needs_background": "light"
     },
     "output_type": "display_data"
    }
   ],
   "source": [
    "modelKaybi2.plot()"
   ]
  },
  {
   "cell_type": "markdown",
   "metadata": {},
   "source": [
    "# TAHMİN ETME\n",
    "#Burada kendimiz özelliklerini giriyoruz ve  yapay zeka ile memelimi,balık mı,böcek mi türünü tahmin ediyor.\n"
   ]
  },
  {
   "cell_type": "code",
   "execution_count": 60,
   "metadata": {},
   "outputs": [],
   "source": [
    "# 1-Memeli 2-Kuş 3-Sürüngen 4-Balık 5-Amfibi 6-Böcek 7-Omurgasız "
   ]
  },
  {
   "cell_type": "code",
   "execution_count": 61,
   "metadata": {},
   "outputs": [],
   "source": [
    "dataClass = pd.read_csv(\"class.csv\")"
   ]
  },
  {
   "cell_type": "code",
   "execution_count": 62,
   "metadata": {},
   "outputs": [
    {
     "data": {
      "text/html": [
       "<div>\n",
       "<style scoped>\n",
       "    .dataframe tbody tr th:only-of-type {\n",
       "        vertical-align: middle;\n",
       "    }\n",
       "\n",
       "    .dataframe tbody tr th {\n",
       "        vertical-align: top;\n",
       "    }\n",
       "\n",
       "    .dataframe thead th {\n",
       "        text-align: right;\n",
       "    }\n",
       "</style>\n",
       "<table border=\"1\" class=\"dataframe\">\n",
       "  <thead>\n",
       "    <tr style=\"text-align: right;\">\n",
       "      <th></th>\n",
       "      <th>Class_Number</th>\n",
       "      <th>Number_Of_Animal_Species_In_Class</th>\n",
       "      <th>Class_Type</th>\n",
       "      <th>Animal_Names</th>\n",
       "    </tr>\n",
       "  </thead>\n",
       "  <tbody>\n",
       "    <tr>\n",
       "      <th>0</th>\n",
       "      <td>1</td>\n",
       "      <td>41</td>\n",
       "      <td>Mammal</td>\n",
       "      <td>aardvark, antelope, bear, boar, buffalo, calf,...</td>\n",
       "    </tr>\n",
       "    <tr>\n",
       "      <th>1</th>\n",
       "      <td>2</td>\n",
       "      <td>20</td>\n",
       "      <td>Bird</td>\n",
       "      <td>chicken, crow, dove, duck, flamingo, gull, haw...</td>\n",
       "    </tr>\n",
       "    <tr>\n",
       "      <th>2</th>\n",
       "      <td>3</td>\n",
       "      <td>5</td>\n",
       "      <td>Reptile</td>\n",
       "      <td>pitviper, seasnake, slowworm, tortoise, tuatara</td>\n",
       "    </tr>\n",
       "    <tr>\n",
       "      <th>3</th>\n",
       "      <td>4</td>\n",
       "      <td>13</td>\n",
       "      <td>Fish</td>\n",
       "      <td>bass, carp, catfish, chub, dogfish, haddock, h...</td>\n",
       "    </tr>\n",
       "    <tr>\n",
       "      <th>4</th>\n",
       "      <td>5</td>\n",
       "      <td>4</td>\n",
       "      <td>Amphibian</td>\n",
       "      <td>frog, frog, newt, toad</td>\n",
       "    </tr>\n",
       "    <tr>\n",
       "      <th>5</th>\n",
       "      <td>6</td>\n",
       "      <td>8</td>\n",
       "      <td>Bug</td>\n",
       "      <td>flea, gnat, honeybee, housefly, ladybird, moth...</td>\n",
       "    </tr>\n",
       "    <tr>\n",
       "      <th>6</th>\n",
       "      <td>7</td>\n",
       "      <td>10</td>\n",
       "      <td>Invertebrate</td>\n",
       "      <td>clam, crab, crayfish, lobster, octopus, scorpi...</td>\n",
       "    </tr>\n",
       "  </tbody>\n",
       "</table>\n",
       "</div>"
      ],
      "text/plain": [
       "   Class_Number  Number_Of_Animal_Species_In_Class    Class_Type  \\\n",
       "0             1                                 41        Mammal   \n",
       "1             2                                 20          Bird   \n",
       "2             3                                  5       Reptile   \n",
       "3             4                                 13          Fish   \n",
       "4             5                                  4     Amphibian   \n",
       "5             6                                  8           Bug   \n",
       "6             7                                 10  Invertebrate   \n",
       "\n",
       "                                        Animal_Names  \n",
       "0  aardvark, antelope, bear, boar, buffalo, calf,...  \n",
       "1  chicken, crow, dove, duck, flamingo, gull, haw...  \n",
       "2    pitviper, seasnake, slowworm, tortoise, tuatara  \n",
       "3  bass, carp, catfish, chub, dogfish, haddock, h...  \n",
       "4                             frog, frog, newt, toad  \n",
       "5  flea, gnat, honeybee, housefly, ladybird, moth...  \n",
       "6  clam, crab, crayfish, lobster, octopus, scorpi...  "
      ]
     },
     "execution_count": 62,
     "metadata": {},
     "output_type": "execute_result"
    }
   ],
   "source": [
    "dataClass"
   ]
  },
  {
   "cell_type": "code",
   "execution_count": 63,
   "metadata": {},
   "outputs": [],
   "source": [
    "yeniBalik = [[0,0,1,0,0,1,1,1,1,0,0,1,0,1,0,0]] #Balik"
   ]
  },
  {
   "cell_type": "code",
   "execution_count": 64,
   "metadata": {},
   "outputs": [
    {
     "data": {
      "text/plain": [
       "array([[4.]], dtype=float32)"
      ]
     },
     "execution_count": 64,
     "metadata": {},
     "output_type": "execute_result"
    }
   ],
   "source": [
    "model.predict(yeniBalik).round()"
   ]
  },
  {
   "cell_type": "code",
   "execution_count": 65,
   "metadata": {},
   "outputs": [],
   "source": [
    "yeniAyi = [[1,0,0,1,0,0,1,1,1,1,0,0,4,0,0,1]] # Ayinin"
   ]
  },
  {
   "cell_type": "code",
   "execution_count": 66,
   "metadata": {},
   "outputs": [
    {
     "data": {
      "text/plain": [
       "array([[1.]], dtype=float32)"
      ]
     },
     "execution_count": 66,
     "metadata": {},
     "output_type": "execute_result"
    }
   ],
   "source": [
    "model.predict(yeniAyi).round()"
   ]
  },
  {
   "cell_type": "code",
   "execution_count": 67,
   "metadata": {},
   "outputs": [
    {
     "data": {
      "text/html": [
       "<div>\n",
       "<style scoped>\n",
       "    .dataframe tbody tr th:only-of-type {\n",
       "        vertical-align: middle;\n",
       "    }\n",
       "\n",
       "    .dataframe tbody tr th {\n",
       "        vertical-align: top;\n",
       "    }\n",
       "\n",
       "    .dataframe thead th {\n",
       "        text-align: right;\n",
       "    }\n",
       "</style>\n",
       "<table border=\"1\" class=\"dataframe\">\n",
       "  <thead>\n",
       "    <tr style=\"text-align: right;\">\n",
       "      <th></th>\n",
       "      <th>hair</th>\n",
       "      <th>feathers</th>\n",
       "      <th>eggs</th>\n",
       "      <th>milk</th>\n",
       "      <th>airborne</th>\n",
       "      <th>aquatic</th>\n",
       "      <th>predator</th>\n",
       "      <th>toothed</th>\n",
       "      <th>backbone</th>\n",
       "      <th>breathes</th>\n",
       "      <th>venomous</th>\n",
       "      <th>fins</th>\n",
       "      <th>legs</th>\n",
       "      <th>tail</th>\n",
       "      <th>domestic</th>\n",
       "      <th>catsize</th>\n",
       "      <th>class_type</th>\n",
       "    </tr>\n",
       "  </thead>\n",
       "  <tbody>\n",
       "    <tr>\n",
       "      <th>0</th>\n",
       "      <td>1</td>\n",
       "      <td>0</td>\n",
       "      <td>0</td>\n",
       "      <td>1</td>\n",
       "      <td>0</td>\n",
       "      <td>0</td>\n",
       "      <td>1</td>\n",
       "      <td>1</td>\n",
       "      <td>1</td>\n",
       "      <td>1</td>\n",
       "      <td>0</td>\n",
       "      <td>0</td>\n",
       "      <td>4</td>\n",
       "      <td>0</td>\n",
       "      <td>0</td>\n",
       "      <td>1</td>\n",
       "      <td>1</td>\n",
       "    </tr>\n",
       "    <tr>\n",
       "      <th>1</th>\n",
       "      <td>1</td>\n",
       "      <td>0</td>\n",
       "      <td>0</td>\n",
       "      <td>1</td>\n",
       "      <td>0</td>\n",
       "      <td>0</td>\n",
       "      <td>0</td>\n",
       "      <td>1</td>\n",
       "      <td>1</td>\n",
       "      <td>1</td>\n",
       "      <td>0</td>\n",
       "      <td>0</td>\n",
       "      <td>4</td>\n",
       "      <td>1</td>\n",
       "      <td>0</td>\n",
       "      <td>1</td>\n",
       "      <td>1</td>\n",
       "    </tr>\n",
       "    <tr>\n",
       "      <th>2</th>\n",
       "      <td>0</td>\n",
       "      <td>0</td>\n",
       "      <td>1</td>\n",
       "      <td>0</td>\n",
       "      <td>0</td>\n",
       "      <td>1</td>\n",
       "      <td>1</td>\n",
       "      <td>1</td>\n",
       "      <td>1</td>\n",
       "      <td>0</td>\n",
       "      <td>0</td>\n",
       "      <td>1</td>\n",
       "      <td>0</td>\n",
       "      <td>1</td>\n",
       "      <td>0</td>\n",
       "      <td>0</td>\n",
       "      <td>4</td>\n",
       "    </tr>\n",
       "    <tr>\n",
       "      <th>3</th>\n",
       "      <td>1</td>\n",
       "      <td>0</td>\n",
       "      <td>0</td>\n",
       "      <td>1</td>\n",
       "      <td>0</td>\n",
       "      <td>0</td>\n",
       "      <td>1</td>\n",
       "      <td>1</td>\n",
       "      <td>1</td>\n",
       "      <td>1</td>\n",
       "      <td>0</td>\n",
       "      <td>0</td>\n",
       "      <td>4</td>\n",
       "      <td>0</td>\n",
       "      <td>0</td>\n",
       "      <td>1</td>\n",
       "      <td>1</td>\n",
       "    </tr>\n",
       "    <tr>\n",
       "      <th>4</th>\n",
       "      <td>1</td>\n",
       "      <td>0</td>\n",
       "      <td>0</td>\n",
       "      <td>1</td>\n",
       "      <td>0</td>\n",
       "      <td>0</td>\n",
       "      <td>1</td>\n",
       "      <td>1</td>\n",
       "      <td>1</td>\n",
       "      <td>1</td>\n",
       "      <td>0</td>\n",
       "      <td>0</td>\n",
       "      <td>4</td>\n",
       "      <td>1</td>\n",
       "      <td>0</td>\n",
       "      <td>1</td>\n",
       "      <td>1</td>\n",
       "    </tr>\n",
       "    <tr>\n",
       "      <th>...</th>\n",
       "      <td>...</td>\n",
       "      <td>...</td>\n",
       "      <td>...</td>\n",
       "      <td>...</td>\n",
       "      <td>...</td>\n",
       "      <td>...</td>\n",
       "      <td>...</td>\n",
       "      <td>...</td>\n",
       "      <td>...</td>\n",
       "      <td>...</td>\n",
       "      <td>...</td>\n",
       "      <td>...</td>\n",
       "      <td>...</td>\n",
       "      <td>...</td>\n",
       "      <td>...</td>\n",
       "      <td>...</td>\n",
       "      <td>...</td>\n",
       "    </tr>\n",
       "    <tr>\n",
       "      <th>96</th>\n",
       "      <td>1</td>\n",
       "      <td>0</td>\n",
       "      <td>0</td>\n",
       "      <td>1</td>\n",
       "      <td>0</td>\n",
       "      <td>0</td>\n",
       "      <td>0</td>\n",
       "      <td>1</td>\n",
       "      <td>1</td>\n",
       "      <td>1</td>\n",
       "      <td>0</td>\n",
       "      <td>0</td>\n",
       "      <td>2</td>\n",
       "      <td>1</td>\n",
       "      <td>0</td>\n",
       "      <td>1</td>\n",
       "      <td>1</td>\n",
       "    </tr>\n",
       "    <tr>\n",
       "      <th>97</th>\n",
       "      <td>1</td>\n",
       "      <td>0</td>\n",
       "      <td>1</td>\n",
       "      <td>0</td>\n",
       "      <td>1</td>\n",
       "      <td>0</td>\n",
       "      <td>0</td>\n",
       "      <td>0</td>\n",
       "      <td>0</td>\n",
       "      <td>1</td>\n",
       "      <td>1</td>\n",
       "      <td>0</td>\n",
       "      <td>6</td>\n",
       "      <td>0</td>\n",
       "      <td>0</td>\n",
       "      <td>0</td>\n",
       "      <td>6</td>\n",
       "    </tr>\n",
       "    <tr>\n",
       "      <th>98</th>\n",
       "      <td>1</td>\n",
       "      <td>0</td>\n",
       "      <td>0</td>\n",
       "      <td>1</td>\n",
       "      <td>0</td>\n",
       "      <td>0</td>\n",
       "      <td>1</td>\n",
       "      <td>1</td>\n",
       "      <td>1</td>\n",
       "      <td>1</td>\n",
       "      <td>0</td>\n",
       "      <td>0</td>\n",
       "      <td>4</td>\n",
       "      <td>1</td>\n",
       "      <td>0</td>\n",
       "      <td>1</td>\n",
       "      <td>1</td>\n",
       "    </tr>\n",
       "    <tr>\n",
       "      <th>99</th>\n",
       "      <td>0</td>\n",
       "      <td>0</td>\n",
       "      <td>1</td>\n",
       "      <td>0</td>\n",
       "      <td>0</td>\n",
       "      <td>0</td>\n",
       "      <td>0</td>\n",
       "      <td>0</td>\n",
       "      <td>0</td>\n",
       "      <td>1</td>\n",
       "      <td>0</td>\n",
       "      <td>0</td>\n",
       "      <td>0</td>\n",
       "      <td>0</td>\n",
       "      <td>0</td>\n",
       "      <td>0</td>\n",
       "      <td>7</td>\n",
       "    </tr>\n",
       "    <tr>\n",
       "      <th>100</th>\n",
       "      <td>0</td>\n",
       "      <td>1</td>\n",
       "      <td>1</td>\n",
       "      <td>0</td>\n",
       "      <td>1</td>\n",
       "      <td>0</td>\n",
       "      <td>0</td>\n",
       "      <td>0</td>\n",
       "      <td>1</td>\n",
       "      <td>1</td>\n",
       "      <td>0</td>\n",
       "      <td>0</td>\n",
       "      <td>2</td>\n",
       "      <td>1</td>\n",
       "      <td>0</td>\n",
       "      <td>0</td>\n",
       "      <td>2</td>\n",
       "    </tr>\n",
       "  </tbody>\n",
       "</table>\n",
       "<p>101 rows × 17 columns</p>\n",
       "</div>"
      ],
      "text/plain": [
       "     hair  feathers  eggs  milk  airborne  aquatic  predator  toothed  \\\n",
       "0       1         0     0     1         0        0         1        1   \n",
       "1       1         0     0     1         0        0         0        1   \n",
       "2       0         0     1     0         0        1         1        1   \n",
       "3       1         0     0     1         0        0         1        1   \n",
       "4       1         0     0     1         0        0         1        1   \n",
       "..    ...       ...   ...   ...       ...      ...       ...      ...   \n",
       "96      1         0     0     1         0        0         0        1   \n",
       "97      1         0     1     0         1        0         0        0   \n",
       "98      1         0     0     1         0        0         1        1   \n",
       "99      0         0     1     0         0        0         0        0   \n",
       "100     0         1     1     0         1        0         0        0   \n",
       "\n",
       "     backbone  breathes  venomous  fins  legs  tail  domestic  catsize  \\\n",
       "0           1         1         0     0     4     0         0        1   \n",
       "1           1         1         0     0     4     1         0        1   \n",
       "2           1         0         0     1     0     1         0        0   \n",
       "3           1         1         0     0     4     0         0        1   \n",
       "4           1         1         0     0     4     1         0        1   \n",
       "..        ...       ...       ...   ...   ...   ...       ...      ...   \n",
       "96          1         1         0     0     2     1         0        1   \n",
       "97          0         1         1     0     6     0         0        0   \n",
       "98          1         1         0     0     4     1         0        1   \n",
       "99          0         1         0     0     0     0         0        0   \n",
       "100         1         1         0     0     2     1         0        0   \n",
       "\n",
       "     class_type  \n",
       "0             1  \n",
       "1             1  \n",
       "2             4  \n",
       "3             1  \n",
       "4             1  \n",
       "..          ...  \n",
       "96            1  \n",
       "97            6  \n",
       "98            1  \n",
       "99            7  \n",
       "100           2  \n",
       "\n",
       "[101 rows x 17 columns]"
      ]
     },
     "execution_count": 67,
     "metadata": {},
     "output_type": "execute_result"
    }
   ],
   "source": [
    "dataFrame"
   ]
  },
  {
   "cell_type": "code",
   "execution_count": 68,
   "metadata": {},
   "outputs": [],
   "source": [
    "yeniSol = [[0,0,1,0,0,0,0,0,0,1,0,0,0,0,0,0]] #Solucan"
   ]
  },
  {
   "cell_type": "code",
   "execution_count": 69,
   "metadata": {},
   "outputs": [
    {
     "data": {
      "text/plain": [
       "array([[7.]], dtype=float32)"
      ]
     },
     "execution_count": 69,
     "metadata": {},
     "output_type": "execute_result"
    }
   ],
   "source": [
    "model.predict(yeniSol).round()"
   ]
  },
  {
   "cell_type": "code",
   "execution_count": null,
   "metadata": {},
   "outputs": [],
   "source": []
  },
  {
   "cell_type": "code",
   "execution_count": 70,
   "metadata": {},
   "outputs": [],
   "source": [
    "yeniBöcek = [[1,0,1,0,1,0,0,0,0,1,1,0,6,0,0,0]] #Böcek"
   ]
  },
  {
   "cell_type": "code",
   "execution_count": 71,
   "metadata": {},
   "outputs": [
    {
     "data": {
      "text/plain": [
       "array([[6.]], dtype=float32)"
      ]
     },
     "execution_count": 71,
     "metadata": {},
     "output_type": "execute_result"
    }
   ],
   "source": [
    "model.predict(yeniBöcek ).round() "
   ]
  },
  {
   "cell_type": "code",
   "execution_count": 72,
   "metadata": {},
   "outputs": [],
   "source": [
    "yeniSemender = [[0,0,1,0,0,1,1,1,1,1,0,0,4,1,0,0]]"
   ]
  },
  {
   "cell_type": "code",
   "execution_count": 73,
   "metadata": {},
   "outputs": [
    {
     "data": {
      "text/plain": [
       "array([[4.]], dtype=float32)"
      ]
     },
     "execution_count": 73,
     "metadata": {},
     "output_type": "execute_result"
    }
   ],
   "source": [
    "model.predict(yeniSemender).round() "
   ]
  },
  {
   "cell_type": "code",
   "execution_count": 74,
   "metadata": {},
   "outputs": [
    {
     "data": {
      "text/plain": [
       "1.6666666666666667"
      ]
     },
     "execution_count": 74,
     "metadata": {},
     "output_type": "execute_result"
    }
   ],
   "source": [
    "from sklearn.metrics import mean_squared_error, mean_absolute_error\n",
    "mean_absolute_error(y_test, tahminler) #sapmamız"
   ]
  },
  {
   "cell_type": "code",
   "execution_count": 75,
   "metadata": {},
   "outputs": [],
   "source": [
    "yeniKedi = [[1,0,0,1,0,0,0,1,1,1,0,0,4,1,1,1]] # Tamamen kendimiz kedi özelliklerini girdik ve memeli olduğunu bulduk(Doğru)"
   ]
  },
  {
   "cell_type": "code",
   "execution_count": 76,
   "metadata": {},
   "outputs": [
    {
     "data": {
      "text/plain": [
       "array([[1.]], dtype=float32)"
      ]
     },
     "execution_count": 76,
     "metadata": {},
     "output_type": "execute_result"
    }
   ],
   "source": [
    "model.predict(yeniKedi).round() "
   ]
  },
  {
   "cell_type": "code",
   "execution_count": 77,
   "metadata": {},
   "outputs": [],
   "source": [
    "#Modelimizi Test Ettik Şimdi kayıt ederek istediğimiz zaman tahminlerde bulunabiliriz"
   ]
  },
  {
   "cell_type": "code",
   "execution_count": 78,
   "metadata": {},
   "outputs": [],
   "source": [
    "from tensorflow.keras.models import load_model\n"
   ]
  },
  {
   "cell_type": "code",
   "execution_count": 79,
   "metadata": {},
   "outputs": [],
   "source": [
    "model.save(\"AnimalsClassification.h5\")"
   ]
  },
  {
   "cell_type": "code",
   "execution_count": null,
   "metadata": {},
   "outputs": [],
   "source": [
    "#sonradanCagirilanModel = load_model(\"AnimalsClassification.h5\") #sonradan çağırmak için"
   ]
  }
 ],
 "metadata": {
  "kernelspec": {
   "display_name": "Python 3",
   "language": "python",
   "name": "python3"
  },
  "language_info": {
   "codemirror_mode": {
    "name": "ipython",
    "version": 3
   },
   "file_extension": ".py",
   "mimetype": "text/x-python",
   "name": "python",
   "nbconvert_exporter": "python",
   "pygments_lexer": "ipython3",
   "version": "3.7.9"
  }
 },
 "nbformat": 4,
 "nbformat_minor": 4
}
