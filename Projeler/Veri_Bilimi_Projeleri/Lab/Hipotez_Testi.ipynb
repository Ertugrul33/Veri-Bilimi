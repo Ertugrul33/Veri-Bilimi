{
 "cells": [
  {
   "cell_type": "code",
   "execution_count": 1,
   "metadata": {},
   "outputs": [],
   "source": [
    "# imports\n",
    "import numpy as np\n",
    "import scipy.stats as st\n",
    "from statsmodels.stats.weightstats import ztest"
   ]
  },
  {
   "cell_type": "markdown",
   "metadata": {},
   "source": [
    "### z-test (SigmaKare Bilindiğinde)"
   ]
  },
  {
   "cell_type": "code",
   "execution_count": 16,
   "metadata": {},
   "outputs": [
    {
     "name": "stdout",
     "output_type": "stream",
     "text": [
      "0.9206349206349204  !>  1.6448536269514722  olduğundan H0 Reddedilemez\n",
      "0.050000000000000044  >  0.05  olduğundan H0 Reddedilemez\n"
     ]
    }
   ],
   "source": [
    "alpha =0.05\n",
    "mu=80\n",
    "sigmakare=441\n",
    "h1=\"buyuktur\"\n",
    "data = np.array([95,70,120,65,130,38,110,90,60])\n",
    "\n",
    "x_ort=np.mean(data)\n",
    "\n",
    "ztest = (x_ort - mu) / (sigmakare**0.5 / len(data)**0.5)\n",
    "\n",
    "if h1 == \"kucuktur\":\n",
    "    zkritik=st.norm.ppf(alpha)\n",
    "    pvalue = st.norm.sf(abs(zkritik))\n",
    "    if ztest < zkritik:\n",
    "        print(ztest ,\" < \", zkritik, \" olduğundan H0 Red\")\n",
    "        print(pvalue ,\" < \", alpha, \" olduğundan H0 Red\")\n",
    "    else:\n",
    "        print(print(ztest ,\" !< \", zkritik, \" olduğundan H0 Reddedilemez\"))\n",
    "        print(pvalue ,\" > \", alpha, \" olduğundan H0 Reddedilemez\")\n",
    "        \n",
    "if h1 == \"buyuktur\":\n",
    "    zkritik=st.norm.ppf(1-alpha)\n",
    "    pvalue = st.norm.sf(abs(zkritik))\n",
    "    if ztest > zkritik:\n",
    "        print(ztest ,\" > \", zkritik, \" olduğundan H0 Red\")\n",
    "        print(pvalue ,\" < \", alpha, \" olduğundan H0 Red\")\n",
    "    else:\n",
    "        print(ztest ,\" !> \", zkritik, \" olduğundan H0 Reddedilemez\")\n",
    "        print(pvalue ,\" > \", alpha, \" olduğundan H0 Reddedilemez\")\n",
    "if h1 == \"farklıdır\":\n",
    "    zkritik=st.norm.ppf(1-(alpha/2))\n",
    "    pvalue = st.norm.sf(abs(zkritik))*2\n",
    "    if np.abs(ztest) > zkritik:\n",
    "        print(ztest ,\" > \", zkritik, \" olduğundan H0 Red\")\n",
    "        print(pvalue ,\" < \", alpha, \" olduğundan H0 Red\")\n",
    "    else:\n",
    "        print(ztest ,\" !> \", zkritik, \" olduğundan H0 Reddedilemez\")\n",
    "        print(pvalue ,\" > \", alpha, \" olduğundan H0 Reddedilemez\")"
   ]
  },
  {
   "cell_type": "markdown",
   "metadata": {},
   "source": [
    "### z-test (SigmaKare Bilinmediğinde n>=30)"
   ]
  },
  {
   "cell_type": "code",
   "execution_count": 4,
   "metadata": {},
   "outputs": [
    {
     "name": "stdout",
     "output_type": "stream",
     "text": [
      "3.311960812465268  >  2.5758293035489004  olduğundan H0 Red\n",
      "0.010000000000000007  <  0.01  olduğundan H0 Red\n"
     ]
    }
   ],
   "source": [
    "alpha =0.01\n",
    "mu=5\n",
    "h1=\"farklıdır\"\n",
    "data = np.array([2,4,11,3,4,6,8])\n",
    "n = 41\n",
    "\n",
    "x_ort_bilinen=5.9\n",
    "x_std_bilinen=1.74\n",
    "\n",
    "x_ort=np.mean(data)\n",
    "x_std=np.std(data)\n",
    "\n",
    "ztest = (x_ort_bilinen - mu) / (x_std_bilinen / n**0.5)\n",
    "\n",
    "if h1 == \"kucuktur\":\n",
    "    zkritik=st.norm.ppf(alpha)\n",
    "    pvalue = st.norm.sf(abs(zkritik))\n",
    "    if ztest < zkritik:\n",
    "        print(ztest ,\" < \", zkritik, \" olduğundan H0 Red\")\n",
    "        print(pvalue ,\" < \", alpha, \" olduğundan H0 Red\")\n",
    "    else:\n",
    "        print(print(ztest ,\" !< \", zkritik, \" olduğundan H0 Reddedilemez\"))\n",
    "        print(pvalue ,\" > \", alpha, \" olduğundan H0 Reddedilemez\")\n",
    "        \n",
    "if h1 == \"buyuktur\":\n",
    "    zkritik=st.norm.ppf(1-alpha)\n",
    "    pvalue = st.norm.sf(abs(zkritik))\n",
    "    if ztest > zkritik:\n",
    "        print(ztest ,\" > \", zkritik, \" olduğundan H0 Red\")\n",
    "        print(pvalue ,\" < \", alpha, \" olduğundan H0 Red\")\n",
    "    else:\n",
    "        print(ztest ,\" !> \", zkritik, \" olduğundan H0 Reddedilemez\")\n",
    "        print(pvalue ,\" > \", alpha, \" olduğundan H0 Reddedilemez\")\n",
    "if h1 == \"farklıdır\":\n",
    "    zkritik=st.norm.ppf(1-(alpha/2))\n",
    "    pvalue = st.norm.sf(abs(zkritik))*2\n",
    "    if np.abs(ztest) > zkritik:\n",
    "        print(ztest ,\" > \", zkritik, \" olduğundan H0 Red\")\n",
    "        print(pvalue ,\" < \", alpha, \" olduğundan H0 Red\")\n",
    "    else:\n",
    "        print(ztest ,\" !> \", zkritik, \" olduğundan H0 Reddedilemez\")\n",
    "        print(pvalue ,\" > \", alpha, \" olduğundan H0 Reddedilemez\")"
   ]
  },
  {
   "cell_type": "code",
   "execution_count": 5,
   "metadata": {},
   "outputs": [
    {
     "data": {
      "text/plain": [
       "0.005000000000000004"
      ]
     },
     "execution_count": 5,
     "metadata": {},
     "output_type": "execute_result"
    }
   ],
   "source": [
    "pvalue = st.norm.sf(abs(zkritik))\n",
    "pvalue"
   ]
  },
  {
   "cell_type": "markdown",
   "metadata": {},
   "source": [
    "### z-test (SigmaKare Bilinmediğinde) (Hazır Fonksiyon)"
   ]
  },
  {
   "cell_type": "code",
   "execution_count": 6,
   "metadata": {},
   "outputs": [
    {
     "name": "stdout",
     "output_type": "stream",
     "text": [
      "5.428571428571429\n",
      "2.920721185751553\n",
      "ztest:  -4.1410536532206 pvalue: 0.00\n",
      "Reject Null Hypothesis\n"
     ]
    }
   ],
   "source": [
    "# imports\n",
    "import math\n",
    "import numpy as np\n",
    "import scipy.stats as st\n",
    "from numpy.random import randn\n",
    "from statsmodels.stats.weightstats import ztest\n",
    "# Generate a random array of 50 numbers having mean 110 and sd 15\n",
    "# similar to the IQ scores data we assume above\n",
    "alpha =0.01\n",
    "mu=10\n",
    "data = np.array([2,4,11,3,4,6,8])\n",
    "\n",
    "# now we perform the test. In this function, we passed data, in value parameter\n",
    "# we passed mean value in the null hypothesis, in alternative hypothesis we check whether the\n",
    "# mean is larger\n",
    "\n",
    "ztest_Score, p_value = ztest(data, value = mu, alternative='smaller', ddof=0)\n",
    "# the function outputs a p_value and z-score corresponding to that value, we compare the\n",
    "# p-value with alpha, if it is greater than alpha then we do not null hypothesis\n",
    "# else we reject it.\n",
    "print(np.mean(data))\n",
    "print(np.std(data))\n",
    "\n",
    "#print((np.mean(data) - populasyon_ort) / (np.std(data) / len(data)**0.5))\n",
    "\n",
    "print(\"ztest: \", ztest_Score, \"pvalue: %.2f\" % p_value)\n",
    "if(p_value < alpha):\n",
    "    print(\"Reject Null Hypothesis\")\n",
    "else:\n",
    "    print(\"Fail to Reject NUll Hypothesis\")\n"
   ]
  },
  {
   "cell_type": "code",
   "execution_count": null,
   "metadata": {},
   "outputs": [],
   "source": []
  }
 ],
 "metadata": {
  "kernelspec": {
   "display_name": "Python 3",
   "language": "python",
   "name": "python3"
  },
  "language_info": {
   "codemirror_mode": {
    "name": "ipython",
    "version": 3
   },
   "file_extension": ".py",
   "mimetype": "text/x-python",
   "name": "python",
   "nbconvert_exporter": "python",
   "pygments_lexer": "ipython3",
   "version": "3.8.5"
  }
 },
 "nbformat": 4,
 "nbformat_minor": 4
}
