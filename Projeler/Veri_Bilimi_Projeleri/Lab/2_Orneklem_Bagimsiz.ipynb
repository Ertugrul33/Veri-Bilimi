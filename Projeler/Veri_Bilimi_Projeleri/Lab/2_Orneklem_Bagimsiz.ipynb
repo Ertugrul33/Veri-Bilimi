{
 "cells": [
  {
   "cell_type": "code",
   "execution_count": 1,
   "metadata": {},
   "outputs": [],
   "source": [
    "import pandas as pd"
   ]
  },
  {
   "cell_type": "code",
   "execution_count": 2,
   "metadata": {},
   "outputs": [],
   "source": [
    "excel_file_dir = 'data.xlsx'\n",
    "worksheet_name = 'Sayfa1'\n",
    "df = pd.read_excel(excel_file_dir, worksheet_name)"
   ]
  },
  {
   "cell_type": "code",
   "execution_count": 3,
   "metadata": {},
   "outputs": [
    {
     "data": {
      "text/html": [
       "<div>\n",
       "<style scoped>\n",
       "    .dataframe tbody tr th:only-of-type {\n",
       "        vertical-align: middle;\n",
       "    }\n",
       "\n",
       "    .dataframe tbody tr th {\n",
       "        vertical-align: top;\n",
       "    }\n",
       "\n",
       "    .dataframe thead th {\n",
       "        text-align: right;\n",
       "    }\n",
       "</style>\n",
       "<table border=\"1\" class=\"dataframe\">\n",
       "  <thead>\n",
       "    <tr style=\"text-align: right;\">\n",
       "      <th></th>\n",
       "      <th>Cinsiyet</th>\n",
       "      <th>isim_soyisim</th>\n",
       "      <th>Yas</th>\n",
       "      <th>Gelir</th>\n",
       "      <th>Not Ortalaması</th>\n",
       "      <th>Üniversite</th>\n",
       "      <th>Boy</th>\n",
       "    </tr>\n",
       "  </thead>\n",
       "  <tbody>\n",
       "    <tr>\n",
       "      <th>0</th>\n",
       "      <td>1</td>\n",
       "      <td>Ahmet Karaca</td>\n",
       "      <td>18</td>\n",
       "      <td>1000</td>\n",
       "      <td>2.05</td>\n",
       "      <td>Giresun Üniversitesi</td>\n",
       "      <td>1.80</td>\n",
       "    </tr>\n",
       "    <tr>\n",
       "      <th>1</th>\n",
       "      <td>1</td>\n",
       "      <td>Sami Karaca</td>\n",
       "      <td>20</td>\n",
       "      <td>1200</td>\n",
       "      <td>1.90</td>\n",
       "      <td>Anadolu Üniversitesi</td>\n",
       "      <td>1.75</td>\n",
       "    </tr>\n",
       "    <tr>\n",
       "      <th>2</th>\n",
       "      <td>2</td>\n",
       "      <td>Merve Güler</td>\n",
       "      <td>19</td>\n",
       "      <td>800</td>\n",
       "      <td>2.50</td>\n",
       "      <td>Sivas Cumhuriyet Üniversitesi</td>\n",
       "      <td>1.79</td>\n",
       "    </tr>\n",
       "    <tr>\n",
       "      <th>3</th>\n",
       "      <td>1</td>\n",
       "      <td>Enes Deniz</td>\n",
       "      <td>21</td>\n",
       "      <td>1000</td>\n",
       "      <td>3.70</td>\n",
       "      <td>Orta Doğu Teknik Üniversitesi</td>\n",
       "      <td>1.73</td>\n",
       "    </tr>\n",
       "    <tr>\n",
       "      <th>4</th>\n",
       "      <td>2</td>\n",
       "      <td>Duygu Düzgün</td>\n",
       "      <td>20</td>\n",
       "      <td>900</td>\n",
       "      <td>2.89</td>\n",
       "      <td>Karadeniz Teknik Üniversitesi</td>\n",
       "      <td>1.85</td>\n",
       "    </tr>\n",
       "    <tr>\n",
       "      <th>5</th>\n",
       "      <td>1</td>\n",
       "      <td>Alp Kaan</td>\n",
       "      <td>19</td>\n",
       "      <td>1500</td>\n",
       "      <td>1.55</td>\n",
       "      <td>Sivas Cumhuriyet Üniversitesi</td>\n",
       "      <td>1.87</td>\n",
       "    </tr>\n",
       "    <tr>\n",
       "      <th>6</th>\n",
       "      <td>2</td>\n",
       "      <td>Ece Güzel</td>\n",
       "      <td>20</td>\n",
       "      <td>1200</td>\n",
       "      <td>1.26</td>\n",
       "      <td>Anadolu Üniversitesi</td>\n",
       "      <td>1.65</td>\n",
       "    </tr>\n",
       "    <tr>\n",
       "      <th>7</th>\n",
       "      <td>1</td>\n",
       "      <td>Mehmet Ay</td>\n",
       "      <td>22</td>\n",
       "      <td>1800</td>\n",
       "      <td>2.59</td>\n",
       "      <td>Amasya Üniversitesi</td>\n",
       "      <td>1.82</td>\n",
       "    </tr>\n",
       "    <tr>\n",
       "      <th>8</th>\n",
       "      <td>2</td>\n",
       "      <td>Yeşim Kara</td>\n",
       "      <td>23</td>\n",
       "      <td>900</td>\n",
       "      <td>3.45</td>\n",
       "      <td>Hacettepe Üniversitesi</td>\n",
       "      <td>1.63</td>\n",
       "    </tr>\n",
       "    <tr>\n",
       "      <th>9</th>\n",
       "      <td>2</td>\n",
       "      <td>Ayşe Gün</td>\n",
       "      <td>21</td>\n",
       "      <td>500</td>\n",
       "      <td>2.15</td>\n",
       "      <td>Akdeniz Üniversitesi</td>\n",
       "      <td>1.68</td>\n",
       "    </tr>\n",
       "  </tbody>\n",
       "</table>\n",
       "</div>"
      ],
      "text/plain": [
       "   Cinsiyet  isim_soyisim  Yas  Gelir  Not Ortalaması  \\\n",
       "0         1  Ahmet Karaca   18   1000            2.05   \n",
       "1         1   Sami Karaca   20   1200            1.90   \n",
       "2         2   Merve Güler   19    800            2.50   \n",
       "3         1    Enes Deniz   21   1000            3.70   \n",
       "4         2  Duygu Düzgün   20    900            2.89   \n",
       "5         1      Alp Kaan   19   1500            1.55   \n",
       "6         2     Ece Güzel   20   1200            1.26   \n",
       "7         1     Mehmet Ay   22   1800            2.59   \n",
       "8         2    Yeşim Kara   23    900            3.45   \n",
       "9         2      Ayşe Gün   21    500            2.15   \n",
       "\n",
       "                      Üniversite   Boy  \n",
       "0           Giresun Üniversitesi  1.80  \n",
       "1           Anadolu Üniversitesi  1.75  \n",
       "2  Sivas Cumhuriyet Üniversitesi  1.79  \n",
       "3  Orta Doğu Teknik Üniversitesi  1.73  \n",
       "4  Karadeniz Teknik Üniversitesi  1.85  \n",
       "5  Sivas Cumhuriyet Üniversitesi  1.87  \n",
       "6           Anadolu Üniversitesi  1.65  \n",
       "7            Amasya Üniversitesi  1.82  \n",
       "8         Hacettepe Üniversitesi  1.63  \n",
       "9           Akdeniz Üniversitesi  1.68  "
      ]
     },
     "execution_count": 3,
     "metadata": {},
     "output_type": "execute_result"
    }
   ],
   "source": [
    "df"
   ]
  },
  {
   "cell_type": "code",
   "execution_count": 13,
   "metadata": {},
   "outputs": [
    {
     "data": {
      "text/plain": [
       "0    2.05\n",
       "1    1.90\n",
       "2    2.50\n",
       "3    3.70\n",
       "4    2.89\n",
       "5    1.55\n",
       "6    1.26\n",
       "7    2.59\n",
       "8    3.45\n",
       "9    2.15\n",
       "Name: Not Ortalaması, dtype: float64"
      ]
     },
     "execution_count": 13,
     "metadata": {},
     "output_type": "execute_result"
    }
   ],
   "source": [
    "df[df.columns[4]]"
   ]
  },
  {
   "cell_type": "code",
   "execution_count": 18,
   "metadata": {},
   "outputs": [
    {
     "data": {
      "text/plain": [
       "Cinsiyet\n",
       "1    1.9\n",
       "1    1.9\n",
       "2    2.5\n",
       "1    1.9\n",
       "2    2.5\n",
       "1    1.9\n",
       "2    2.5\n",
       "1    1.9\n",
       "2    2.5\n",
       "2    2.5\n",
       "Name: Not Ortalaması, dtype: float64"
      ]
     },
     "execution_count": 18,
     "metadata": {},
     "output_type": "execute_result"
    }
   ],
   "source": [
    "pd.Series(data = df[df.columns[4]],index = df[df.columns[0]])"
   ]
  },
  {
   "cell_type": "code",
   "execution_count": null,
   "metadata": {},
   "outputs": [],
   "source": []
  }
 ],
 "metadata": {
  "kernelspec": {
   "display_name": "Python 3",
   "language": "python",
   "name": "python3"
  },
  "language_info": {
   "codemirror_mode": {
    "name": "ipython",
    "version": 3
   },
   "file_extension": ".py",
   "mimetype": "text/x-python",
   "name": "python",
   "nbconvert_exporter": "python",
   "pygments_lexer": "ipython3",
   "version": "3.8.5"
  }
 },
 "nbformat": 4,
 "nbformat_minor": 4
}
