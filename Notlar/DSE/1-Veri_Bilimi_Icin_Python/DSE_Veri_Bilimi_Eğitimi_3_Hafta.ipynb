{
  "nbformat": 4,
  "nbformat_minor": 0,
  "metadata": {
    "colab": {
      "name": "DSE Veri Bilimi Eğitimi - 3. Hafta.ipynb",
      "provenance": []
    },
    "kernelspec": {
      "name": "python3",
      "display_name": "Python 3"
    }
  },
  "cells": [
    {
      "cell_type": "markdown",
      "metadata": {
        "id": "94ZaALQHLShy"
      },
      "source": [
        "# List Comprehensions"
      ]
    },
    {
      "cell_type": "code",
      "metadata": {
        "id": "-iluJm4RNMsJ"
      },
      "source": [
        "#Örnek Senaryo: Bir listedeki çift sayıları getirelim\n",
        "listem=list(range(10))"
      ],
      "execution_count": 1,
      "outputs": []
    },
    {
      "cell_type": "code",
      "metadata": {
        "colab": {
          "base_uri": "https://localhost:8080/"
        },
        "id": "RBRMmmKm7DLI",
        "outputId": "460bffed-12bd-4dac-fece-f5cc4c8ca1fc"
      },
      "source": [
        "listem"
      ],
      "execution_count": 2,
      "outputs": [
        {
          "output_type": "execute_result",
          "data": {
            "text/plain": [
              "[0, 1, 2, 3, 4, 5, 6, 7, 8, 9]"
            ]
          },
          "metadata": {
            "tags": []
          },
          "execution_count": 2
        }
      ]
    },
    {
      "cell_type": "code",
      "metadata": {
        "id": "XimM4d5JLwx8"
      },
      "source": [
        "ciftsayiListem=[]\n",
        "for sayi in listem:\n",
        "  if sayi % 2 == 0:\n",
        "    ciftsayiListem.append(sayi)\n",
        "\n",
        "ciftsayiListem"
      ],
      "execution_count": null,
      "outputs": []
    },
    {
      "cell_type": "code",
      "metadata": {
        "id": "tcYIigK0NqLi"
      },
      "source": [
        "ciftsayiListem=[i for i in listem if i % 2 == 0]\n",
        "ciftsayiListem"
      ],
      "execution_count": null,
      "outputs": []
    },
    {
      "cell_type": "code",
      "metadata": {
        "id": "ShJZGAqqOHLq"
      },
      "source": [
        "ciftsayiListem2=[i for i in listem if i % 2 == 0 or i % 3 == 0 if i > 5 ]\n",
        "ciftsayiListem2"
      ],
      "execution_count": null,
      "outputs": []
    },
    {
      "cell_type": "markdown",
      "metadata": {
        "id": "ZPg7XW5P5gUv"
      },
      "source": [
        "# Yardımcı Metotlar"
      ]
    },
    {
      "cell_type": "code",
      "metadata": {
        "id": "4Ofn3y2D9np4"
      },
      "source": [
        "#map"
      ],
      "execution_count": null,
      "outputs": []
    },
    {
      "cell_type": "code",
      "metadata": {
        "id": "lXoSoO7F72eZ"
      },
      "source": [
        "def f1(x):\r\n",
        "  return x**2\r\n",
        "\r\n",
        "lambda x: x**2"
      ],
      "execution_count": null,
      "outputs": []
    },
    {
      "cell_type": "code",
      "metadata": {
        "colab": {
          "base_uri": "https://localhost:8080/"
        },
        "id": "9-ulsT_m7puI",
        "outputId": "5dabde46-36d7-4db0-b444-dbfaa1a97b45"
      },
      "source": [
        "liste1=[1,2,3,4,5,6]\r\n",
        "\r\n",
        "list(map(lambda x: x**2,liste1))"
      ],
      "execution_count": 4,
      "outputs": [
        {
          "output_type": "execute_result",
          "data": {
            "text/plain": [
              "[1, 4, 9, 16, 25, 36]"
            ]
          },
          "metadata": {
            "tags": []
          },
          "execution_count": 4
        }
      ]
    },
    {
      "cell_type": "code",
      "metadata": {
        "id": "Qhxk2QEW5i2S"
      },
      "source": [
        "liste=[1,2,3]\n",
        "print(list(map(lambda x: x**2,liste)))"
      ],
      "execution_count": null,
      "outputs": []
    },
    {
      "cell_type": "code",
      "metadata": {
        "id": "NUZ_RNw16IsJ",
        "colab": {
          "base_uri": "https://localhost:8080/"
        },
        "outputId": "1b229d48-5232-426f-9352-93b39baf8c3d"
      },
      "source": [
        "kiyasListesi1=[1,3,5,7]\n",
        "kiyasListesi2=[4,2,5,9,11,23,2,4]\n",
        "\n",
        "list(map(lambda x,y: x if x>y else y,kiyasListesi1,kiyasListesi2))\n",
        "\n",
        "# print(list(map(lambda x,y: x if x<y else y,kiyasListesi1,kiyasListesi2)))"
      ],
      "execution_count": 5,
      "outputs": [
        {
          "output_type": "execute_result",
          "data": {
            "text/plain": [
              "[4, 3, 7, 9]"
            ]
          },
          "metadata": {
            "tags": []
          },
          "execution_count": 5
        }
      ]
    },
    {
      "cell_type": "markdown",
      "metadata": {
        "id": "ku47E1sp6xGp"
      },
      "source": [
        "\n",
        "\n",
        "---\n",
        "\n"
      ]
    },
    {
      "cell_type": "code",
      "metadata": {
        "id": "XppRSCn-9piH"
      },
      "source": [
        "# zip"
      ],
      "execution_count": null,
      "outputs": []
    },
    {
      "cell_type": "code",
      "metadata": {
        "id": "UxQOPejn6zQg"
      },
      "source": [
        "zipListe1=[1,2,3,4]\n",
        "zipListe2=[\"A\",\"B\",\"C\",\"Ç\",\"D\"]\n",
        "zipListe3=[\"F\",\"T\"]\n",
        "\n",
        "#print(list(zip(zipListe1,zipListe2)))"
      ],
      "execution_count": 9,
      "outputs": []
    },
    {
      "cell_type": "code",
      "metadata": {
        "colab": {
          "base_uri": "https://localhost:8080/"
        },
        "id": "PHr3vfj--blm",
        "outputId": "eddae79d-fd02-4cf8-c085-95119b43101a"
      },
      "source": [
        "list(zip(zipListe1,zipListe2,zipListe3))"
      ],
      "execution_count": 10,
      "outputs": [
        {
          "output_type": "execute_result",
          "data": {
            "text/plain": [
              "[(1, 'A', 'F'), (2, 'B', 'T')]"
            ]
          },
          "metadata": {
            "tags": []
          },
          "execution_count": 10
        }
      ]
    },
    {
      "cell_type": "code",
      "metadata": {
        "id": "05iEOnUj8Vu4"
      },
      "source": [
        "for i,s in list(zip(zipListe1,zipListe2)):\n",
        "  print(f'{i}. harf: {s}')"
      ],
      "execution_count": null,
      "outputs": []
    },
    {
      "cell_type": "markdown",
      "metadata": {
        "id": "vpu-IZAj8vsJ"
      },
      "source": [
        "\n",
        "\n",
        "---\n",
        "\n"
      ]
    },
    {
      "cell_type": "code",
      "metadata": {
        "id": "7TFWWQ4N8xsp"
      },
      "source": [
        "# reduce"
      ],
      "execution_count": null,
      "outputs": []
    },
    {
      "cell_type": "code",
      "metadata": {
        "id": "ueHKOqnG9r4y",
        "colab": {
          "base_uri": "https://localhost:8080/",
          "height": 208
        },
        "outputId": "17dc8120-fa02-4cd7-87a4-77e4ddc893f5"
      },
      "source": [
        "sayilar=[1,2,6,6,22,76,2,12,7]\n",
        "\n",
        "from functools import reduce\n",
        "\n",
        "reduce(lambda x,y: x if x>y else y,sayilar)\n"
      ],
      "execution_count": 31,
      "outputs": [
        {
          "output_type": "error",
          "ename": "TypeError",
          "evalue": "ignored",
          "traceback": [
            "\u001b[0;31m---------------------------------------------------------------------------\u001b[0m",
            "\u001b[0;31mTypeError\u001b[0m                                 Traceback (most recent call last)",
            "\u001b[0;32m<ipython-input-31-ea3289585923>\u001b[0m in \u001b[0;36m<module>\u001b[0;34m()\u001b[0m\n\u001b[1;32m      3\u001b[0m \u001b[0;32mfrom\u001b[0m \u001b[0mfunctools\u001b[0m \u001b[0;32mimport\u001b[0m \u001b[0mreduce\u001b[0m\u001b[0;34m\u001b[0m\u001b[0;34m\u001b[0m\u001b[0m\n\u001b[1;32m      4\u001b[0m \u001b[0;34m\u001b[0m\u001b[0m\n\u001b[0;32m----> 5\u001b[0;31m \u001b[0mreduce\u001b[0m\u001b[0;34m(\u001b[0m\u001b[0;32mlambda\u001b[0m \u001b[0mx\u001b[0m\u001b[0;34m,\u001b[0m\u001b[0my\u001b[0m\u001b[0;34m,\u001b[0m\u001b[0mz\u001b[0m\u001b[0;34m:\u001b[0m \u001b[0mx\u001b[0m \u001b[0;32mif\u001b[0m \u001b[0mx\u001b[0m\u001b[0;34m>\u001b[0m\u001b[0my\u001b[0m \u001b[0;32melse\u001b[0m \u001b[0my\u001b[0m\u001b[0;34m,\u001b[0m\u001b[0msayilar\u001b[0m\u001b[0;34m)\u001b[0m\u001b[0;34m\u001b[0m\u001b[0;34m\u001b[0m\u001b[0m\n\u001b[0m",
            "\u001b[0;31mTypeError\u001b[0m: <lambda>() missing 1 required positional argument: 'z'"
          ]
        }
      ]
    },
    {
      "cell_type": "markdown",
      "metadata": {
        "id": "fOqocw_b-Alf"
      },
      "source": [
        "\n",
        "\n",
        "---\n",
        "\n"
      ]
    },
    {
      "cell_type": "code",
      "metadata": {
        "id": "KyfZM8or9_x6"
      },
      "source": [
        "# filter"
      ],
      "execution_count": null,
      "outputs": []
    },
    {
      "cell_type": "code",
      "metadata": {
        "id": "-oC-Hweh-LoQ",
        "colab": {
          "base_uri": "https://localhost:8080/"
        },
        "outputId": "420d963d-bc57-49f5-f4b8-f152c80fe661"
      },
      "source": [
        "kisiler = ['Sinan', 'Erdinç', 'Mehmet']\n",
        "tarihler = [2018, 2017, 2020]\n",
        "\n",
        "zipped=zip(kisiler,tarihler)\n",
        "# list(zipped)\n",
        "list(filter(lambda eleman:2018<=eleman[1]<=2020,zipped))[0]"
      ],
      "execution_count": 141,
      "outputs": [
        {
          "output_type": "execute_result",
          "data": {
            "text/plain": [
              "('Sinan', 2018)"
            ]
          },
          "metadata": {
            "tags": []
          },
          "execution_count": 141
        }
      ]
    },
    {
      "cell_type": "code",
      "metadata": {
        "colab": {
          "base_uri": "https://localhost:8080/"
        },
        "id": "1DvHf9r1AWHO",
        "outputId": "381bba6a-d41c-4483-9fff-8b48192c5641"
      },
      "source": [
        "\r\n",
        "list(zipped)"
      ],
      "execution_count": 22,
      "outputs": [
        {
          "output_type": "execute_result",
          "data": {
            "text/plain": [
              "[('Sinan', 2018), ('Erdinç', 2017), ('Mehmet', 2020)]"
            ]
          },
          "metadata": {
            "tags": []
          },
          "execution_count": 22
        }
      ]
    },
    {
      "cell_type": "code",
      "metadata": {
        "colab": {
          "base_uri": "https://localhost:8080/"
        },
        "id": "db_x_TjFAW-6",
        "outputId": "2c9f2da5-06e3-444a-e0b8-591dc76beb10"
      },
      "source": [
        ""
      ],
      "execution_count": 27,
      "outputs": [
        {
          "output_type": "execute_result",
          "data": {
            "text/plain": [
              "[]"
            ]
          },
          "metadata": {
            "tags": []
          },
          "execution_count": 27
        }
      ]
    },
    {
      "cell_type": "markdown",
      "metadata": {
        "id": "IdVXxCBHJ07g"
      },
      "source": [
        "#Sözlükler (Dictionary)"
      ]
    },
    {
      "cell_type": "code",
      "metadata": {
        "id": "YHFeM7PaLiqh"
      },
      "source": [
        "#json\n",
        "#Kişi json\n",
        "\"\"\"\n",
        "{\n",
        "    \"isim\":\"Fethi\",\n",
        "    \"yas\":24\n",
        " \"dersler\":[]\n",
        "}\n",
        "\"\"\"\n",
        "\n",
        "\n",
        "\"\"\"\n",
        "<isim>Fethi</isim>\n",
        "<yas>24</Yas>\n",
        "\"\"\"\n",
        "\n",
        "\n",
        "\n",
        "d = {}\n",
        "\"isim\"-\"fethi\"\n",
        "\"soyisim\"-\"tekyaygil\"\n",
        "\"yaş\"-24\n",
        "1-\"okunan okul sayısı\"\n",
        "\"isim2\"-\"fethi\"\n",
        "\n",
        "print(d)"
      ],
      "execution_count": null,
      "outputs": []
    },
    {
      "cell_type": "code",
      "metadata": {
        "id": "hYZYcM01DroS"
      },
      "source": [
        "liste1={}"
      ],
      "execution_count": null,
      "outputs": []
    },
    {
      "cell_type": "code",
      "metadata": {
        "id": "n5qcMd-GLsKa",
        "colab": {
          "base_uri": "https://localhost:8080/"
        },
        "outputId": "b106394c-7a96-4c58-f0fc-7e5462327657"
      },
      "source": [
        "#{\"Key\":\"Value\"}\n",
        "d = {\"Course\":\"Python\", \"Week\":3}\n",
        "print(d)"
      ],
      "execution_count": 42,
      "outputs": [
        {
          "output_type": "stream",
          "text": [
            "{'Course': 'Python', 'Week': 3}\n"
          ],
          "name": "stdout"
        }
      ]
    },
    {
      "cell_type": "code",
      "metadata": {
        "id": "clYvXwpqzQ3P",
        "colab": {
          "base_uri": "https://localhost:8080/"
        },
        "outputId": "f417c568-d01e-4ba3-8187-438f63a1caf0"
      },
      "source": [
        "print(d[\"Week\"])"
      ],
      "execution_count": 43,
      "outputs": [
        {
          "output_type": "stream",
          "text": [
            "3\n"
          ],
          "name": "stdout"
        }
      ]
    },
    {
      "cell_type": "code",
      "metadata": {
        "id": "Yx4HCxnGJ5LD"
      },
      "source": [
        "print(d[\"Week\"])"
      ],
      "execution_count": null,
      "outputs": []
    },
    {
      "cell_type": "code",
      "metadata": {
        "id": "EX9oMWnHL7fq",
        "colab": {
          "base_uri": "https://localhost:8080/"
        },
        "outputId": "f528938f-6a87-4089-bc96-5b11a4868929"
      },
      "source": [
        "d2 = {\"Game\":\"Silent Hill 2\", \"Music\":\"Promise\" }\n",
        "\n",
        "d2"
      ],
      "execution_count": 63,
      "outputs": [
        {
          "output_type": "execute_result",
          "data": {
            "text/plain": [
              "{'Game': 'Silent Hill 2', 'Music': 'Promise'}"
            ]
          },
          "metadata": {
            "tags": []
          },
          "execution_count": 63
        }
      ]
    },
    {
      "cell_type": "code",
      "metadata": {
        "id": "6fhYHfehEIoP"
      },
      "source": [
        "d2[\"Characters\"] = [\"James Sunderland\",\"Maria\",\"Angela Orosco\"]"
      ],
      "execution_count": 46,
      "outputs": []
    },
    {
      "cell_type": "code",
      "metadata": {
        "id": "t2flZAV2NIIq",
        "colab": {
          "base_uri": "https://localhost:8080/"
        },
        "outputId": "f81fd71b-7875-40af-9ef7-1c42281e4cca"
      },
      "source": [
        "d2\n",
        "#print(d2)"
      ],
      "execution_count": 50,
      "outputs": [
        {
          "output_type": "execute_result",
          "data": {
            "text/plain": [
              "{'Characters': ['James Sunderland', 'Maria', 'Angela Orosco'],\n",
              " 'Game': 'Silent Hill 2',\n",
              " 'Music': 'Promise Reprise'}"
            ]
          },
          "metadata": {
            "tags": []
          },
          "execution_count": 50
        }
      ]
    },
    {
      "cell_type": "code",
      "metadata": {
        "id": "5UBTHU4KEbRE"
      },
      "source": [
        "d2[\"Music\"] = \"Promise Reprise\""
      ],
      "execution_count": 49,
      "outputs": []
    },
    {
      "cell_type": "code",
      "metadata": {
        "id": "ntLDke2enyh6",
        "colab": {
          "base_uri": "https://localhost:8080/"
        },
        "outputId": "e4511ae0-171c-41a2-8b58-23b751cc424a"
      },
      "source": [
        "print(d2.keys())"
      ],
      "execution_count": 51,
      "outputs": [
        {
          "output_type": "stream",
          "text": [
            "dict_keys(['Game', 'Music', 'Characters'])\n"
          ],
          "name": "stdout"
        }
      ]
    },
    {
      "cell_type": "code",
      "metadata": {
        "id": "RRCll5K-oEW6",
        "colab": {
          "base_uri": "https://localhost:8080/"
        },
        "outputId": "945a6412-b847-4718-ea4a-664ec382906e"
      },
      "source": [
        "list(d2.values())[2]"
      ],
      "execution_count": 55,
      "outputs": [
        {
          "output_type": "execute_result",
          "data": {
            "text/plain": [
              "list"
            ]
          },
          "metadata": {
            "tags": []
          },
          "execution_count": 55
        }
      ]
    },
    {
      "cell_type": "code",
      "metadata": {
        "id": "YYzF_DyGoHWm",
        "colab": {
          "base_uri": "https://localhost:8080/"
        },
        "outputId": "840f27ce-60fa-4455-b1be-ae2bd00ee37d"
      },
      "source": [
        "d2.items()"
      ],
      "execution_count": 56,
      "outputs": [
        {
          "output_type": "execute_result",
          "data": {
            "text/plain": [
              "dict_items([('Game', 'Silent Hill 2'), ('Music', 'Promise Reprise'), ('Characters', ['James Sunderland', 'Maria', 'Angela Orosco'])])"
            ]
          },
          "metadata": {
            "tags": []
          },
          "execution_count": 56
        }
      ]
    },
    {
      "cell_type": "code",
      "metadata": {
        "id": "rcKOifmfoap9"
      },
      "source": [
        "[print(i) for i in d2.keys()]"
      ],
      "execution_count": null,
      "outputs": []
    },
    {
      "cell_type": "code",
      "metadata": {
        "id": "08NuVylA2E6S"
      },
      "source": [
        "print(d)"
      ],
      "execution_count": null,
      "outputs": []
    },
    {
      "cell_type": "code",
      "metadata": {
        "id": "bhSGEUT5oqc3"
      },
      "source": [
        "for v in d.values():\n",
        "  print(v)\n",
        "\n",
        "\n",
        "[print(i) for i in d.values()]"
      ],
      "execution_count": null,
      "outputs": []
    },
    {
      "cell_type": "code",
      "metadata": {
        "id": "arPqRh3d2fEc"
      },
      "source": [
        "d2.items()"
      ],
      "execution_count": null,
      "outputs": []
    },
    {
      "cell_type": "code",
      "metadata": {
        "id": "j5Oyr1AFpC4f"
      },
      "source": [
        "for key,value in d2.items():\n",
        "  print(key,value)"
      ],
      "execution_count": null,
      "outputs": []
    },
    {
      "cell_type": "code",
      "metadata": {
        "id": "yvLoDN4e27lC"
      },
      "source": [
        "d.items()"
      ],
      "execution_count": null,
      "outputs": []
    },
    {
      "cell_type": "code",
      "metadata": {
        "id": "ffQvbfgepJVv"
      },
      "source": [
        "for k,v in d.items():\n",
        "  if v == 2:\n",
        "    print(k)"
      ],
      "execution_count": null,
      "outputs": []
    },
    {
      "cell_type": "code",
      "metadata": {
        "id": "fmxKFTs4pqwP"
      },
      "source": [
        "print(d)"
      ],
      "execution_count": null,
      "outputs": []
    },
    {
      "cell_type": "code",
      "metadata": {
        "id": "iy6FAQxHpt6Q"
      },
      "source": [
        "d[\"a\"] = [3,4,5]\n",
        "d"
      ],
      "execution_count": null,
      "outputs": []
    },
    {
      "cell_type": "code",
      "metadata": {
        "id": "RfX2uGfOJTwC",
        "colab": {
          "base_uri": "https://localhost:8080/"
        },
        "outputId": "0337e769-77de-4ccd-9912-5b52d26b7221"
      },
      "source": [
        "d={\"course\":\"Turkish\",\"course\":\"German\"}\n",
        "d"
      ],
      "execution_count": 67,
      "outputs": [
        {
          "output_type": "execute_result",
          "data": {
            "text/plain": [
              "{'course': 'German'}"
            ]
          },
          "metadata": {
            "tags": []
          },
          "execution_count": 67
        }
      ]
    },
    {
      "cell_type": "code",
      "metadata": {
        "colab": {
          "base_uri": "https://localhost:8080/"
        },
        "id": "27eH5xCkGAIE",
        "outputId": "ac9cd54c-ff55-472c-c586-91f6739d1b58"
      },
      "source": [
        "d.keys()"
      ],
      "execution_count": 70,
      "outputs": [
        {
          "output_type": "execute_result",
          "data": {
            "text/plain": [
              "dict_keys(['course'])"
            ]
          },
          "metadata": {
            "tags": []
          },
          "execution_count": 70
        }
      ]
    },
    {
      "cell_type": "code",
      "metadata": {
        "id": "AINo_32Upzyv",
        "colab": {
          "base_uri": "https://localhost:8080/"
        },
        "outputId": "0dec4d3f-46c7-422a-c30e-5faca34f72ab"
      },
      "source": [
        "d.pop(\"course\")\n",
        "d"
      ],
      "execution_count": 58,
      "outputs": [
        {
          "output_type": "execute_result",
          "data": {
            "text/plain": [
              "{}"
            ]
          },
          "metadata": {
            "tags": []
          },
          "execution_count": 58
        }
      ]
    },
    {
      "cell_type": "code",
      "metadata": {
        "id": "AHgK265ZGUzy"
      },
      "source": [
        "del d[\"course\"]"
      ],
      "execution_count": 75,
      "outputs": []
    },
    {
      "cell_type": "code",
      "metadata": {
        "colab": {
          "base_uri": "https://localhost:8080/"
        },
        "id": "VdvDc75cGHca",
        "outputId": "42d0362b-ad0a-44f2-9297-46d7b2c36d83"
      },
      "source": [
        "d"
      ],
      "execution_count": 76,
      "outputs": [
        {
          "output_type": "execute_result",
          "data": {
            "text/plain": [
              "{}"
            ]
          },
          "metadata": {
            "tags": []
          },
          "execution_count": 76
        }
      ]
    },
    {
      "cell_type": "code",
      "metadata": {
        "id": "U8QBwgp0sSJi",
        "colab": {
          "base_uri": "https://localhost:8080/"
        },
        "outputId": "51d88985-ecea-4533-a305-e1a7f6e5338a"
      },
      "source": [
        "len(d)"
      ],
      "execution_count": 71,
      "outputs": [
        {
          "output_type": "execute_result",
          "data": {
            "text/plain": [
              "1"
            ]
          },
          "metadata": {
            "tags": []
          },
          "execution_count": 71
        }
      ]
    },
    {
      "cell_type": "code",
      "metadata": {
        "colab": {
          "base_uri": "https://localhost:8080/"
        },
        "id": "KYQnnob6GL8h",
        "outputId": "0ad64a00-e09f-452c-dda9-e02a4b265e84"
      },
      "source": [
        "\"German\" in d"
      ],
      "execution_count": 74,
      "outputs": [
        {
          "output_type": "execute_result",
          "data": {
            "text/plain": [
              "False"
            ]
          },
          "metadata": {
            "tags": []
          },
          "execution_count": 74
        }
      ]
    },
    {
      "cell_type": "code",
      "metadata": {
        "id": "89k7tFi_sWJO"
      },
      "source": [
        "\"a\" in d"
      ],
      "execution_count": null,
      "outputs": []
    },
    {
      "cell_type": "code",
      "metadata": {
        "id": "XdyIf0L1sYRM"
      },
      "source": [
        "\"python\" in d"
      ],
      "execution_count": null,
      "outputs": []
    },
    {
      "cell_type": "code",
      "metadata": {
        "id": "gufHXu4y17eJ"
      },
      "source": [
        "\"a\" in d.values()"
      ],
      "execution_count": null,
      "outputs": []
    },
    {
      "cell_type": "code",
      "metadata": {
        "id": "oJvHWYyouN9w"
      },
      "source": [
        "d2"
      ],
      "execution_count": null,
      "outputs": []
    },
    {
      "cell_type": "code",
      "metadata": {
        "id": "uAtvUx9Jsf0w"
      },
      "source": [
        "d2.get(\"artificial\")"
      ],
      "execution_count": null,
      "outputs": []
    },
    {
      "cell_type": "code",
      "metadata": {
        "id": "GobxPk3fuWi2"
      },
      "source": [
        "print(d2.get(\"asli\"))\n"
      ],
      "execution_count": null,
      "outputs": []
    },
    {
      "cell_type": "code",
      "metadata": {
        "id": "DbyOY3N_7Luy"
      },
      "source": [
        "d2"
      ],
      "execution_count": null,
      "outputs": []
    },
    {
      "cell_type": "code",
      "metadata": {
        "id": "nyH6npGYuhRD"
      },
      "source": [
        "del d2[\"deep\"]\n",
        "d2"
      ],
      "execution_count": null,
      "outputs": []
    },
    {
      "cell_type": "code",
      "metadata": {
        "id": "rED5dTIhvSO6"
      },
      "source": [
        "d4 = {\"insan\":2, \"kedi\":4, \"örümcek\":8}\n",
        "\"\"\"\n",
        "for i in d4:\n",
        "  ayak = d4[i]\n",
        "  print(\"%s canlısının %d adet ayağı bulunur\" % (i,ayak))\n",
        "  print(str(i) + \" canlısının \" + str(ayak) +\" adet ayağı bulunur.\")\n",
        "  \"\"\"\n",
        "\n",
        "for key,value in d4.items():\n",
        "  print(\"%s canlısının %d adet ayağı vardır\" % (key,value))\n"
      ],
      "execution_count": null,
      "outputs": []
    },
    {
      "cell_type": "code",
      "metadata": {
        "id": "jko6Pmn-9UG0"
      },
      "source": [
        "import math as m\n",
        "f=m.floor(18.7)\n",
        "f\n",
        "c=m.ceil(18.7)\n",
        "c\n",
        "\"\"\"\n",
        "i=17\n",
        "flo=float(i)\n",
        "flo\n",
        "\"\"\""
      ],
      "execution_count": null,
      "outputs": []
    },
    {
      "cell_type": "code",
      "metadata": {
        "id": "68b29KEz7kLN"
      },
      "source": [
        "d4 = {\"insan\":2, \"kedi\":4, \"örümcek\":8}\n",
        "for i in d4:\n",
        "  print(i)"
      ],
      "execution_count": null,
      "outputs": []
    },
    {
      "cell_type": "code",
      "metadata": {
        "id": "CGzBpPlgwUTX"
      },
      "source": [
        "d4 = {\"insan\":2, \"kedi\":4, \"örümcek\":8}\n",
        "\n",
        "for i,ayak in d4.items():\n",
        "  print(str(i) + \" canlısının \" + str(ayak) +\" adet ayağı bulunur.\")"
      ],
      "execution_count": null,
      "outputs": []
    },
    {
      "cell_type": "code",
      "metadata": {
        "id": "SZia6YVqwfNU"
      },
      "source": [
        "ilceler = {\"İstanbul\":[\"Bostancı\", \"Beşiktaş\", \"Kadıköy\"], \n",
        "           \"Ankara\":[\"Çankaya\", \"Gölbaşı\", \"Kızılcahamam\"],\n",
        "           \"İzmir\":[\"Çeşme\",\"Bornova\",\"Foça\"]}"
      ],
      "execution_count": 78,
      "outputs": []
    },
    {
      "cell_type": "code",
      "metadata": {
        "id": "4HyiNDwcwfAD",
        "colab": {
          "base_uri": "https://localhost:8080/"
        },
        "outputId": "daebdbf0-9316-4643-a146-7ea21bc10df0"
      },
      "source": [
        "ilceler[\"İstanbul\"]"
      ],
      "execution_count": 79,
      "outputs": [
        {
          "output_type": "execute_result",
          "data": {
            "text/plain": [
              "['Bostancı', 'Beşiktaş', 'Kadıköy']"
            ]
          },
          "metadata": {
            "tags": []
          },
          "execution_count": 79
        }
      ]
    },
    {
      "cell_type": "code",
      "metadata": {
        "id": "CMpXSAUuxmmB",
        "colab": {
          "base_uri": "https://localhost:8080/"
        },
        "outputId": "da4494d3-ff69-46e8-bdde-dacd34cc72fa"
      },
      "source": [
        "type(ilceler)"
      ],
      "execution_count": 80,
      "outputs": [
        {
          "output_type": "execute_result",
          "data": {
            "text/plain": [
              "dict"
            ]
          },
          "metadata": {
            "tags": []
          },
          "execution_count": 80
        }
      ]
    },
    {
      "cell_type": "code",
      "metadata": {
        "id": "yOyreuu_xqgL",
        "colab": {
          "base_uri": "https://localhost:8080/"
        },
        "outputId": "6e046e78-7e30-4b76-9ffb-5cc1bbbd5e75"
      },
      "source": [
        "type(ilceler[\"Ankara\"])"
      ],
      "execution_count": 81,
      "outputs": [
        {
          "output_type": "execute_result",
          "data": {
            "text/plain": [
              "list"
            ]
          },
          "metadata": {
            "tags": []
          },
          "execution_count": 81
        }
      ]
    },
    {
      "cell_type": "code",
      "metadata": {
        "id": "IkEELafx-tyl",
        "colab": {
          "base_uri": "https://localhost:8080/"
        },
        "outputId": "90506667-40c6-400a-dc6e-0c0b2052847f"
      },
      "source": [
        "ilceler[\"İzmir\"]"
      ],
      "execution_count": 82,
      "outputs": [
        {
          "output_type": "execute_result",
          "data": {
            "text/plain": [
              "['Çeşme', 'Bornova', 'Foça']"
            ]
          },
          "metadata": {
            "tags": []
          },
          "execution_count": 82
        }
      ]
    },
    {
      "cell_type": "code",
      "metadata": {
        "id": "jTxblvirxu9I",
        "colab": {
          "base_uri": "https://localhost:8080/"
        },
        "outputId": "a670fddd-ce77-484a-f684-cdfd077bd859"
      },
      "source": [
        "ilceler[\"İzmir\"][1:3]"
      ],
      "execution_count": 83,
      "outputs": [
        {
          "output_type": "execute_result",
          "data": {
            "text/plain": [
              "['Bornova', 'Foça']"
            ]
          },
          "metadata": {
            "tags": []
          },
          "execution_count": 83
        }
      ]
    },
    {
      "cell_type": "code",
      "metadata": {
        "id": "b2gxQlCvyMcq",
        "colab": {
          "base_uri": "https://localhost:8080/",
          "height": 36
        },
        "outputId": "b0a1b262-b158-42c2-aee3-79440cc3c914"
      },
      "source": [
        "ilceler[\"İzmir\"][2]"
      ],
      "execution_count": 84,
      "outputs": [
        {
          "output_type": "execute_result",
          "data": {
            "application/vnd.google.colaboratory.intrinsic+json": {
              "type": "string"
            },
            "text/plain": [
              "'Foça'"
            ]
          },
          "metadata": {
            "tags": []
          },
          "execution_count": 84
        }
      ]
    },
    {
      "cell_type": "code",
      "metadata": {
        "id": "Take2YvbyQSd"
      },
      "source": [
        "#listeden sözlük oluşturma\n",
        "0-1-2-3-4-5-6-7-8\n",
        "sayilar = list(range(9))\n",
        "\"\"\"\n",
        "{\"key\":\"value\"}\n",
        "continue\n",
        "\"\"\"\n",
        "cift_kare = {x: x**2 for x in sayilar if x % 2 == 0}\n",
        "\n",
        "print(cift_kare)"
      ],
      "execution_count": null,
      "outputs": []
    },
    {
      "cell_type": "markdown",
      "metadata": {
        "id": "Ak4uMk3pzHZI"
      },
      "source": [
        "#Kümeler (Sets)"
      ]
    },
    {
      "cell_type": "code",
      "metadata": {
        "id": "zt5jfulzBqiY"
      },
      "source": [
        "bosSet={}"
      ],
      "execution_count": 85,
      "outputs": []
    },
    {
      "cell_type": "code",
      "metadata": {
        "colab": {
          "base_uri": "https://localhost:8080/"
        },
        "id": "djvT_cTMKwps",
        "outputId": "bf9910c2-9ce4-4273-aaaa-b3ff23d794de"
      },
      "source": [
        "type(bosSet)"
      ],
      "execution_count": 86,
      "outputs": [
        {
          "output_type": "execute_result",
          "data": {
            "text/plain": [
              "dict"
            ]
          },
          "metadata": {
            "tags": []
          },
          "execution_count": 86
        }
      ]
    },
    {
      "cell_type": "code",
      "metadata": {
        "id": "q5uMQG0dKzPH"
      },
      "source": [
        "bosSet=set()"
      ],
      "execution_count": null,
      "outputs": []
    },
    {
      "cell_type": "code",
      "metadata": {
        "id": "WJA2CtcYK6Sp"
      },
      "source": [
        "d={\"key\":\"value\"}"
      ],
      "execution_count": null,
      "outputs": []
    },
    {
      "cell_type": "code",
      "metadata": {
        "id": "QgZuDyx3yvn9",
        "colab": {
          "base_uri": "https://localhost:8080/"
        },
        "outputId": "4363bbcf-67e5-4f76-e1f7-680d5ab2c6f2"
      },
      "source": [
        "s = {\"python\", 5,6,8,5,6,\"abc\", \"python\"}\n",
        "s"
      ],
      "execution_count": 87,
      "outputs": [
        {
          "output_type": "execute_result",
          "data": {
            "text/plain": [
              "{5, 6, 8, 'abc', 'python'}"
            ]
          },
          "metadata": {
            "tags": []
          },
          "execution_count": 87
        }
      ]
    },
    {
      "cell_type": "code",
      "metadata": {
        "id": "uzT6dNeJLHPF"
      },
      "source": [
        "liste=[0,1,2,2,1,1,1,1,\"Fethi\",1,False,True] # -> True: 1 False: 0"
      ],
      "execution_count": 125,
      "outputs": []
    },
    {
      "cell_type": "code",
      "metadata": {
        "colab": {
          "base_uri": "https://localhost:8080/"
        },
        "id": "bS1DJFzvLHM9",
        "outputId": "a9219150-8274-4766-fbe5-89e16a62f106"
      },
      "source": [
        "list(set(liste))"
      ],
      "execution_count": 126,
      "outputs": [
        {
          "output_type": "execute_result",
          "data": {
            "text/plain": [
              "[0, 1, 2, 'Fethi']"
            ]
          },
          "metadata": {
            "tags": []
          },
          "execution_count": 126
        }
      ]
    },
    {
      "cell_type": "code",
      "metadata": {
        "id": "8qLJrT9VAUvf",
        "colab": {
          "base_uri": "https://localhost:8080/"
        },
        "outputId": "3efd1553-2d96-4af4-b8bb-1aa2540054b0"
      },
      "source": [
        "bos2 = {}\n",
        "type(bos2)"
      ],
      "execution_count": 94,
      "outputs": [
        {
          "output_type": "execute_result",
          "data": {
            "text/plain": [
              "dict"
            ]
          },
          "metadata": {
            "tags": []
          },
          "execution_count": 94
        }
      ]
    },
    {
      "cell_type": "code",
      "metadata": {
        "id": "cH4PCXOhAZpS",
        "colab": {
          "base_uri": "https://localhost:8080/"
        },
        "outputId": "2f82b4c3-7fe3-47aa-8aef-a704d5a61bdf"
      },
      "source": [
        "s2 = set([\"python\", 5,6,8,5,6,\"abc\", \"python\"])\n",
        "print(s2)"
      ],
      "execution_count": 95,
      "outputs": [
        {
          "output_type": "stream",
          "text": [
            "{5, 6, 'python', 8, 'abc'}\n"
          ],
          "name": "stdout"
        }
      ]
    },
    {
      "cell_type": "code",
      "metadata": {
        "id": "TLu1Ec_bA__q",
        "colab": {
          "base_uri": "https://localhost:8080/"
        },
        "outputId": "a9b31e4e-8bde-4a49-a2b5-0471f931bd35"
      },
      "source": [
        "an = set(\"ananas\")\n",
        "print(an)"
      ],
      "execution_count": 96,
      "outputs": [
        {
          "output_type": "stream",
          "text": [
            "{'s', 'n', 'a'}\n"
          ],
          "name": "stdout"
        }
      ]
    },
    {
      "cell_type": "code",
      "metadata": {
        "id": "_OVMQYE7L66q"
      },
      "source": [
        "[1,2,3] "
      ],
      "execution_count": null,
      "outputs": []
    },
    {
      "cell_type": "code",
      "metadata": {
        "id": "JEA3fgi7BXBR",
        "colab": {
          "base_uri": "https://localhost:8080/",
          "height": 189
        },
        "outputId": "a949cae9-fa78-42d2-c08b-1e9de7e0dd9a"
      },
      "source": [
        "y = {\"a\",\"b\",[1,2,3],5,6}\n",
        "print(y)"
      ],
      "execution_count": 97,
      "outputs": [
        {
          "output_type": "error",
          "ename": "TypeError",
          "evalue": "ignored",
          "traceback": [
            "\u001b[0;31m---------------------------------------------------------------------------\u001b[0m",
            "\u001b[0;31mTypeError\u001b[0m                                 Traceback (most recent call last)",
            "\u001b[0;32m<ipython-input-97-215d4652bbe6>\u001b[0m in \u001b[0;36m<module>\u001b[0;34m()\u001b[0m\n\u001b[0;32m----> 1\u001b[0;31m \u001b[0my\u001b[0m \u001b[0;34m=\u001b[0m \u001b[0;34m{\u001b[0m\u001b[0;34m\"a\"\u001b[0m\u001b[0;34m,\u001b[0m\u001b[0;34m\"b\"\u001b[0m\u001b[0;34m,\u001b[0m\u001b[0;34m[\u001b[0m\u001b[0;36m1\u001b[0m\u001b[0;34m,\u001b[0m\u001b[0;36m2\u001b[0m\u001b[0;34m,\u001b[0m\u001b[0;36m3\u001b[0m\u001b[0;34m]\u001b[0m\u001b[0;34m,\u001b[0m\u001b[0;36m5\u001b[0m\u001b[0;34m,\u001b[0m\u001b[0;36m6\u001b[0m\u001b[0;34m}\u001b[0m\u001b[0;34m\u001b[0m\u001b[0;34m\u001b[0m\u001b[0m\n\u001b[0m\u001b[1;32m      2\u001b[0m \u001b[0mprint\u001b[0m\u001b[0;34m(\u001b[0m\u001b[0my\u001b[0m\u001b[0;34m)\u001b[0m\u001b[0;34m\u001b[0m\u001b[0;34m\u001b[0m\u001b[0m\n",
            "\u001b[0;31mTypeError\u001b[0m: unhashable type: 'list'"
          ]
        }
      ]
    },
    {
      "cell_type": "code",
      "metadata": {
        "id": "WNZzrXshBy-0",
        "colab": {
          "base_uri": "https://localhost:8080/"
        },
        "outputId": "54204650-600b-4b27-e524-8702dfaf338b"
      },
      "source": [
        "s2"
      ],
      "execution_count": 98,
      "outputs": [
        {
          "output_type": "execute_result",
          "data": {
            "text/plain": [
              "{5, 6, 8, 'abc', 'python'}"
            ]
          },
          "metadata": {
            "tags": []
          },
          "execution_count": 98
        }
      ]
    },
    {
      "cell_type": "code",
      "metadata": {
        "id": "k1IVnwKEB0Wn",
        "colab": {
          "base_uri": "https://localhost:8080/"
        },
        "outputId": "3fdb741d-22e4-479a-a55f-1dff440bf464"
      },
      "source": [
        "6 in s2"
      ],
      "execution_count": 99,
      "outputs": [
        {
          "output_type": "execute_result",
          "data": {
            "text/plain": [
              "True"
            ]
          },
          "metadata": {
            "tags": []
          },
          "execution_count": 99
        }
      ]
    },
    {
      "cell_type": "code",
      "metadata": {
        "id": "Le21yd6_MWQw"
      },
      "source": [
        "s2[0]"
      ],
      "execution_count": null,
      "outputs": []
    },
    {
      "cell_type": "code",
      "metadata": {
        "id": "GUtmrwfhB2mj"
      },
      "source": [
        "9 in s2"
      ],
      "execution_count": null,
      "outputs": []
    },
    {
      "cell_type": "code",
      "metadata": {
        "id": "lPvxuypLB4Pg",
        "colab": {
          "base_uri": "https://localhost:8080/"
        },
        "outputId": "60301f0b-dd68-4132-b5a8-1d557ce2c14f"
      },
      "source": [
        "len(s2)"
      ],
      "execution_count": 101,
      "outputs": [
        {
          "output_type": "execute_result",
          "data": {
            "text/plain": [
              "5"
            ]
          },
          "metadata": {
            "tags": []
          },
          "execution_count": 101
        }
      ]
    },
    {
      "cell_type": "code",
      "metadata": {
        "id": "bkBgN0t_DQ0u"
      },
      "source": [
        "list.append\n",
        "list[4]=\"\"\n",
        "\n",
        "dict[\"yeni\"]=yenival"
      ],
      "execution_count": null,
      "outputs": []
    },
    {
      "cell_type": "code",
      "metadata": {
        "colab": {
          "base_uri": "https://localhost:8080/"
        },
        "id": "_IdYJWFBMz_e",
        "outputId": "6e8d813c-cfb7-4791-be38-fb4d61fe0364"
      },
      "source": [
        "s2"
      ],
      "execution_count": 118,
      "outputs": [
        {
          "output_type": "execute_result",
          "data": {
            "text/plain": [
              "{6, 8, 'abc', 'python'}"
            ]
          },
          "metadata": {
            "tags": []
          },
          "execution_count": 118
        }
      ]
    },
    {
      "cell_type": "code",
      "metadata": {
        "id": "wCijI6-vCEj6",
        "colab": {
          "base_uri": "https://localhost:8080/"
        },
        "outputId": "50d3e7bc-d562-4e97-9c7f-5662dd6d2e31"
      },
      "source": [
        "s2.add(\"ai\")\n",
        "len(s2)"
      ],
      "execution_count": 103,
      "outputs": [
        {
          "output_type": "execute_result",
          "data": {
            "text/plain": [
              "6"
            ]
          },
          "metadata": {
            "tags": []
          },
          "execution_count": 103
        }
      ]
    },
    {
      "cell_type": "code",
      "metadata": {
        "id": "FnpIWllJM8iQ"
      },
      "source": [
        "s2.remove(\"ai\")"
      ],
      "execution_count": 105,
      "outputs": []
    },
    {
      "cell_type": "code",
      "metadata": {
        "id": "tPq001PuCLO3"
      },
      "source": [
        "s2.add(\"ai\")\n",
        "print(s2)\n",
        "len(s2)"
      ],
      "execution_count": null,
      "outputs": []
    },
    {
      "cell_type": "code",
      "metadata": {
        "id": "EGZnvf9WCRYk"
      },
      "source": [
        "s2.remove(\"ai\")\n",
        "print(s2)"
      ],
      "execution_count": null,
      "outputs": []
    },
    {
      "cell_type": "code",
      "metadata": {
        "colab": {
          "base_uri": "https://localhost:8080/"
        },
        "id": "MArpL7guN2dL",
        "outputId": "5d60c110-c4ed-414b-8789-a02fcc7a2b5a"
      },
      "source": [
        "s2.pop()"
      ],
      "execution_count": 117,
      "outputs": [
        {
          "output_type": "execute_result",
          "data": {
            "text/plain": [
              "5"
            ]
          },
          "metadata": {
            "tags": []
          },
          "execution_count": 117
        }
      ]
    },
    {
      "cell_type": "code",
      "metadata": {
        "id": "wtZoskbUDQMN"
      },
      "source": [
        "from math import sqrt #squareroot karekök\n",
        "\n",
        "\n",
        "#import math\n",
        "\n",
        "print(sorted(list({sqrt(x) for x in list(range(10))})))"
      ],
      "execution_count": null,
      "outputs": []
    },
    {
      "cell_type": "markdown",
      "metadata": {
        "id": "sp_E8xAhG21y"
      },
      "source": [
        "# Demetler(Tuples)"
      ]
    },
    {
      "cell_type": "code",
      "metadata": {
        "colab": {
          "base_uri": "https://localhost:8080/"
        },
        "id": "-dbrAUOvNTOg",
        "outputId": "4f3aa9c2-958e-4294-ccf0-08f662e06f9f"
      },
      "source": [
        "bosDemet=()\r\n",
        "type(bosDemet)"
      ],
      "execution_count": 107,
      "outputs": [
        {
          "output_type": "execute_result",
          "data": {
            "text/plain": [
              "tuple"
            ]
          },
          "metadata": {
            "tags": []
          },
          "execution_count": 107
        }
      ]
    },
    {
      "cell_type": "code",
      "metadata": {
        "id": "8Rui2302H8jD",
        "colab": {
          "base_uri": "https://localhost:8080/"
        },
        "outputId": "c39c1c53-1933-4d54-8739-0141d924c672"
      },
      "source": [
        "demet = (1,2,3,4,5)\n",
        "print(demet)\n",
        "print(type(demet))"
      ],
      "execution_count": 121,
      "outputs": [
        {
          "output_type": "stream",
          "text": [
            "(1, 2, 3, 4, 5)\n",
            "<class 'tuple'>\n"
          ],
          "name": "stdout"
        },
        {
          "output_type": "execute_result",
          "data": {
            "text/plain": [
              "[1, 2, 3, 4, 5]"
            ]
          },
          "metadata": {
            "tags": []
          },
          "execution_count": 121
        }
      ]
    },
    {
      "cell_type": "code",
      "metadata": {
        "colab": {
          "base_uri": "https://localhost:8080/"
        },
        "id": "CVJmiAg7OKaC",
        "outputId": "3bab7adc-5186-485a-f054-3d3b5ccb8646"
      },
      "source": [
        "lDemet=list(demet)\r\n",
        "lDemet.append(\"F\")\r\n",
        "demet=tuple(lDemet)\r\n",
        "demet"
      ],
      "execution_count": 122,
      "outputs": [
        {
          "output_type": "execute_result",
          "data": {
            "text/plain": [
              "(1, 2, 3, 4, 5, 'F')"
            ]
          },
          "metadata": {
            "tags": []
          },
          "execution_count": 122
        }
      ]
    },
    {
      "cell_type": "code",
      "metadata": {
        "colab": {
          "base_uri": "https://localhost:8080/",
          "height": 171
        },
        "id": "laSMk0-ZNf0N",
        "outputId": "c8e46ec3-7ac3-4e36-91ff-765d4ef48e00"
      },
      "source": [
        "demet[1]"
      ],
      "execution_count": 120,
      "outputs": [
        {
          "output_type": "error",
          "ename": "NameError",
          "evalue": "ignored",
          "traceback": [
            "\u001b[0;31m---------------------------------------------------------------------------\u001b[0m",
            "\u001b[0;31mNameError\u001b[0m                                 Traceback (most recent call last)",
            "\u001b[0;32m<ipython-input-120-f8758300db86>\u001b[0m in \u001b[0;36m<module>\u001b[0;34m()\u001b[0m\n\u001b[0;32m----> 1\u001b[0;31m \u001b[0mdemet\u001b[0m\u001b[0;34m[\u001b[0m\u001b[0;36m1\u001b[0m\u001b[0;34m]\u001b[0m\u001b[0;34m\u001b[0m\u001b[0;34m\u001b[0m\u001b[0m\n\u001b[0m",
            "\u001b[0;31mNameError\u001b[0m: name 'demet' is not defined"
          ]
        }
      ]
    },
    {
      "cell_type": "code",
      "metadata": {
        "id": "LxIigfjHOAHp"
      },
      "source": [
        "del demet"
      ],
      "execution_count": 119,
      "outputs": []
    },
    {
      "cell_type": "code",
      "metadata": {
        "id": "9IoaOueCFPhh"
      },
      "source": [
        "{}\n",
        "set()"
      ],
      "execution_count": null,
      "outputs": []
    },
    {
      "cell_type": "code",
      "metadata": {
        "id": "wZffTxPsIqqI"
      },
      "source": [
        "demet2 = ()  #boş bir listeyi de, liste = [] olarak tanımlayabiliyorduk.\n",
        "type(demet2)"
      ],
      "execution_count": null,
      "outputs": []
    },
    {
      "cell_type": "code",
      "metadata": {
        "id": "oy65w6NjOtdb"
      },
      "source": [
        "girisBilgileri=(\"kAdi\",\"sifre\")"
      ],
      "execution_count": null,
      "outputs": []
    },
    {
      "cell_type": "code",
      "metadata": {
        "id": "_PHpGrGmPFVp"
      },
      "source": [
        "demet=(1,2,3,5,\"Fethi\")"
      ],
      "execution_count": 127,
      "outputs": []
    },
    {
      "cell_type": "code",
      "metadata": {
        "id": "7_7u9J1zFVkk",
        "colab": {
          "base_uri": "https://localhost:8080/"
        },
        "outputId": "32f9190e-6b07-4951-feec-0ada0f8ee57b"
      },
      "source": [
        "demet"
      ],
      "execution_count": 128,
      "outputs": [
        {
          "output_type": "execute_result",
          "data": {
            "text/plain": [
              "(1, 2, 3, 5, 'Fethi')"
            ]
          },
          "metadata": {
            "tags": []
          },
          "execution_count": 128
        }
      ]
    },
    {
      "cell_type": "code",
      "metadata": {
        "id": "IrvB1HzGLYBZ",
        "colab": {
          "base_uri": "https://localhost:8080/"
        },
        "outputId": "95186d7b-4912-49d3-ea3b-8c0e7cebf9c3"
      },
      "source": [
        "print(demet[3])"
      ],
      "execution_count": 129,
      "outputs": [
        {
          "output_type": "stream",
          "text": [
            "5\n"
          ],
          "name": "stdout"
        }
      ]
    },
    {
      "cell_type": "code",
      "metadata": {
        "id": "y_9FkBJORo5y",
        "colab": {
          "base_uri": "https://localhost:8080/"
        },
        "outputId": "288a701f-0a2c-45db-d1eb-cafa352beb84"
      },
      "source": [
        "demet[-2]"
      ],
      "execution_count": 130,
      "outputs": [
        {
          "output_type": "execute_result",
          "data": {
            "text/plain": [
              "5"
            ]
          },
          "metadata": {
            "tags": []
          },
          "execution_count": 130
        }
      ]
    },
    {
      "cell_type": "code",
      "metadata": {
        "id": "ZPMFZi-qRs4a",
        "colab": {
          "base_uri": "https://localhost:8080/"
        },
        "outputId": "0484bc6c-60ea-4e6f-c946-84907c9a461f"
      },
      "source": [
        "demet[:4:2]"
      ],
      "execution_count": 133,
      "outputs": [
        {
          "output_type": "execute_result",
          "data": {
            "text/plain": [
              "(1, 3)"
            ]
          },
          "metadata": {
            "tags": []
          },
          "execution_count": 133
        }
      ]
    },
    {
      "cell_type": "code",
      "metadata": {
        "id": "TeT5RXH1R6Gv",
        "colab": {
          "base_uri": "https://localhost:8080/"
        },
        "outputId": "51632003-57c0-411e-bb0c-d088d9fbc5c1"
      },
      "source": [
        "dm3 = (\"asli\", 5, 8, \"eylul\")\n",
        "dm3.index(\"eylul\")"
      ],
      "execution_count": 134,
      "outputs": [
        {
          "output_type": "execute_result",
          "data": {
            "text/plain": [
              "3"
            ]
          },
          "metadata": {
            "tags": []
          },
          "execution_count": 134
        }
      ]
    },
    {
      "cell_type": "code",
      "metadata": {
        "id": "wRks9wXwSRhJ"
      },
      "source": [
        "dm3.count(5)"
      ],
      "execution_count": null,
      "outputs": []
    },
    {
      "cell_type": "code",
      "metadata": {
        "id": "Bo_JC5jkSWMf"
      },
      "source": [
        "dm4 = (\"elma\",\"armut\",\"çilek\")\n",
        "\n",
        "dm4[0] = \"kiraz\"\n",
        "\n",
        "print(dm4)"
      ],
      "execution_count": null,
      "outputs": []
    },
    {
      "cell_type": "code",
      "metadata": {
        "id": "twLyvUivSoBr",
        "colab": {
          "base_uri": "https://localhost:8080/",
          "height": 171
        },
        "outputId": "b793d160-ae7d-4eaa-f453-4598db044563"
      },
      "source": [
        "dm4.remove(\"armut\")"
      ],
      "execution_count": 135,
      "outputs": [
        {
          "output_type": "error",
          "ename": "NameError",
          "evalue": "ignored",
          "traceback": [
            "\u001b[0;31m---------------------------------------------------------------------------\u001b[0m",
            "\u001b[0;31mNameError\u001b[0m                                 Traceback (most recent call last)",
            "\u001b[0;32m<ipython-input-135-85e9113c16c3>\u001b[0m in \u001b[0;36m<module>\u001b[0;34m()\u001b[0m\n\u001b[0;32m----> 1\u001b[0;31m \u001b[0mdm4\u001b[0m\u001b[0;34m.\u001b[0m\u001b[0mremove\u001b[0m\u001b[0;34m(\u001b[0m\u001b[0;34m\"armut\"\u001b[0m\u001b[0;34m)\u001b[0m\u001b[0;34m\u001b[0m\u001b[0;34m\u001b[0m\u001b[0m\n\u001b[0m",
            "\u001b[0;31mNameError\u001b[0m: name 'dm4' is not defined"
          ]
        }
      ]
    },
    {
      "cell_type": "code",
      "metadata": {
        "id": "vSdY0CMtTLrH"
      },
      "source": [
        "# demetlerin anahtar olduğu bir sözlük oluşturalım.\n",
        "\n",
        "sozluk = {(x, x+1): x for x in range(10)}\n",
        "print(sozluk)"
      ],
      "execution_count": null,
      "outputs": []
    },
    {
      "cell_type": "code",
      "metadata": {
        "id": "hX8AvulwTm-D"
      },
      "source": [
        "demet5 = (5,6)\n",
        "\n",
        "print(type(demet5))"
      ],
      "execution_count": null,
      "outputs": []
    },
    {
      "cell_type": "code",
      "metadata": {
        "id": "Cc0NzYWbT21n"
      },
      "source": [
        "sozluk[demet5]"
      ],
      "execution_count": null,
      "outputs": []
    },
    {
      "cell_type": "code",
      "metadata": {
        "id": "3XIfNKugUB1h"
      },
      "source": [
        "sozluk[(3,4)]"
      ],
      "execution_count": null,
      "outputs": []
    }
  ]
}