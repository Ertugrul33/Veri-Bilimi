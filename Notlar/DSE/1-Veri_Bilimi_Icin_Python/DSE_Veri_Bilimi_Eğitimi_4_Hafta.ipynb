{
  "nbformat": 4,
  "nbformat_minor": 0,
  "metadata": {
    "colab": {
      "name": "DSE Veri Bilimi Eğitimi - 4. Hafta.ipynb",
      "provenance": [],
      "collapsed_sections": [
        "sNWHEuYTuGUk",
        "RzvtIqRPwMjJ",
        "iF9iRGVRHzZ3",
        "9NqX9G3F8uZQ",
        "Wxh9hTfQaTXB"
      ]
    },
    "kernelspec": {
      "name": "python3",
      "display_name": "Python 3"
    }
  },
  "cells": [
    {
      "cell_type": "markdown",
      "metadata": {
        "id": "Uqstf6kg1CCT"
      },
      "source": [
        "# Koşullu Durumlar (If/Else)\n",
        "\n",
        "if \"koşul\":\n",
        "\n",
        "\n",
        "> \"birşey yap\"\n",
        "\n",
        "print()\n"
      ]
    },
    {
      "cell_type": "code",
      "metadata": {
        "colab": {
          "base_uri": "https://localhost:8080/"
        },
        "id": "8msuSXWt-yd6",
        "outputId": "26ba073e-fe48-46cf-ed00-40c80d1f7e34"
      },
      "source": [
        "sayi=int(input(\"Sayı girin: \"))\n",
        "\n",
        "if sayi>10:\n",
        "  print(\"10'dan büyük\")\n",
        "elif sayi>5:\n",
        "  print(\"5'ten büyük\")"
      ],
      "execution_count": null,
      "outputs": [
        {
          "output_type": "stream",
          "text": [
            "Sayı girin: 7\n",
            "5'ten büyük\n"
          ],
          "name": "stdout"
        }
      ]
    },
    {
      "cell_type": "code",
      "metadata": {
        "colab": {
          "base_uri": "https://localhost:8080/"
        },
        "id": "ChTUYxKTOqiM",
        "outputId": "d45b400d-f8e1-400c-a114-ae14f907585b"
      },
      "source": [
        "#Kullanıcıdan yaş alan bir uygulama\n",
        "#18'den büyükse -> yAŞIN 18'den büyük\n",
        "#18'den küçükse -> Yaşın 18'den küçük \n",
        "#18 -> Yaşın 18\n",
        "\"\"\"\n",
        "sayi=int(input(\"Yaşınızı girin: \"))\n",
        "\n",
        "if sayi>18:\n",
        "  print(\"Yaşın 18'den büyük\")\n",
        "elif sayi<18:\n",
        "  print(\"Yaşın 18'den küçük\")\n",
        "else:\n",
        "  print(\"Sayı 18'e eşit\")\n",
        "\n",
        "\"\"\"\n",
        "\n",
        "\n",
        "\n",
        "\n",
        "\n",
        "\"\"\"\n",
        "1 =True\n",
        "0 = False\n",
        "1 and 1 = 1\n",
        "1 and 0 = 0\n",
        "0 and 1 = 0\n",
        "0 and 0 = 0\n",
        "\"\"\"\n",
        "\"\"\"\n",
        "a=2\n",
        "a==2\n",
        "\"\"\"\n",
        "\"\"\"\n",
        "if(a==1){\n",
        "    print(a 1 e eşit)\n",
        "}\n",
        "\"\"\"\n",
        "#indent - boşluk\n",
        "\n",
        "\n",
        "\"\"\"\n",
        "İkisi de aynı anda doğru olmak zorunda mı\n",
        "İkisinden bir doğru olsa da olur\n",
        "\"\"\"\n",
        "\n",
        "#elif - else if \n",
        "kullaniciAdi=\"fethi\"\n",
        "sifre=\"123\"\n",
        "\n",
        "kullanicidanAlinanKullaniciAdi=input(\"Kullanıcı Adını Giriniz: \")\n",
        "kullanicidanAlinanSifre=input(\"Şifreyi Giriniz: \")\n",
        "\n",
        "\n",
        "if kullaniciAdi==kullanicidanAlinanKullaniciAdi and sifre==kullanicidanAlinanSifre:\n",
        "  print(\"Giriş Yapıldı\")\n",
        "elif kullaniciAdi==kullanicidanAlinanKullaniciAdi:\n",
        "  print(\"Şifrenizi yanlış girdiniz\")\n",
        "elif sifre==kullanicidanAlinanSifre:\n",
        "  print(\"Kullanıcı adınızı yanlış girdiniz\")\n",
        "else:\n",
        "  print(\"Tüm bilgileri yanlış girdiniz!\")"
      ],
      "execution_count": null,
      "outputs": [
        {
          "output_type": "stream",
          "text": [
            "Kullanıcı Adını Giriniz: f\n",
            "Şifreyi Giriniz: 12\n"
          ],
          "name": "stdout"
        }
      ]
    },
    {
      "cell_type": "code",
      "metadata": {
        "colab": {
          "base_uri": "https://localhost:8080/",
          "height": 174
        },
        "id": "BxFfD_nTVFyC",
        "outputId": "e4016a92-bf24-4713-b879-3ad05bd7c70d"
      },
      "source": [
        "a= int(\"45-5\")"
      ],
      "execution_count": null,
      "outputs": [
        {
          "output_type": "error",
          "ename": "ValueError",
          "evalue": "ignored",
          "traceback": [
            "\u001b[0;31m---------------------------------------------------------------------------\u001b[0m",
            "\u001b[0;31mValueError\u001b[0m                                Traceback (most recent call last)",
            "\u001b[0;32m<ipython-input-10-10e4cf4f352b>\u001b[0m in \u001b[0;36m<module>\u001b[0;34m()\u001b[0m\n\u001b[0;32m----> 1\u001b[0;31m \u001b[0ma\u001b[0m\u001b[0;34m=\u001b[0m \u001b[0mint\u001b[0m\u001b[0;34m(\u001b[0m\u001b[0;34m\"45-5\"\u001b[0m\u001b[0;34m)\u001b[0m\u001b[0;34m\u001b[0m\u001b[0;34m\u001b[0m\u001b[0m\n\u001b[0m",
            "\u001b[0;31mValueError\u001b[0m: invalid literal for int() with base 10: '45-5'"
          ]
        }
      ]
    },
    {
      "cell_type": "code",
      "metadata": {
        "colab": {
          "base_uri": "https://localhost:8080/"
        },
        "id": "MPexEqgkU_6c",
        "outputId": "ad033607-0ce7-482c-cde5-e06550505909"
      },
      "source": [
        "a=int(45.5)\n",
        "a"
      ],
      "execution_count": null,
      "outputs": [
        {
          "output_type": "execute_result",
          "data": {
            "text/plain": [
              "45"
            ]
          },
          "metadata": {
            "tags": []
          },
          "execution_count": 9
        }
      ]
    },
    {
      "cell_type": "code",
      "metadata": {
        "colab": {
          "base_uri": "https://localhost:8080/",
          "height": 174
        },
        "id": "QL16Gnm8VeGw",
        "outputId": "96714b49-1a3f-4c20-b51b-4286a1edc5c1"
      },
      "source": [
        "a=int(\"45.2.2\")\n",
        "1. içerisinde nokta var mı\n",
        "2. içerisinde 1 tane nokta var mı\n"
      ],
      "execution_count": null,
      "outputs": [
        {
          "output_type": "error",
          "ename": "ValueError",
          "evalue": "ignored",
          "traceback": [
            "\u001b[0;31m---------------------------------------------------------------------------\u001b[0m",
            "\u001b[0;31mValueError\u001b[0m                                Traceback (most recent call last)",
            "\u001b[0;32m<ipython-input-11-e8f189138d6a>\u001b[0m in \u001b[0;36m<module>\u001b[0;34m()\u001b[0m\n\u001b[0;32m----> 1\u001b[0;31m \u001b[0ma\u001b[0m\u001b[0;34m=\u001b[0m\u001b[0mint\u001b[0m\u001b[0;34m(\u001b[0m\u001b[0;34m\"45.2.2\"\u001b[0m\u001b[0;34m)\u001b[0m\u001b[0;34m\u001b[0m\u001b[0;34m\u001b[0m\u001b[0m\n\u001b[0m",
            "\u001b[0;31mValueError\u001b[0m: invalid literal for int() with base 10: '45.2.2'"
          ]
        }
      ]
    },
    {
      "cell_type": "code",
      "metadata": {
        "colab": {
          "base_uri": "https://localhost:8080/"
        },
        "id": "gHeqQ4V3OqNb",
        "outputId": "1f611953-d2fd-43ce-af6e-c8c9fb3c7c61"
      },
      "source": [
        "sayiString=input(\"Bir sayı giriniz: \")\n",
        "sayi=0\n",
        "hataliMi=False\n",
        "\n",
        "if sayiString.count(\".\") == 1:\n",
        "  sayi=float(sayiString)\n",
        "elif sayiString.count(\".\")==0:\n",
        "  sayi=int(sayiString)\n",
        "else:\n",
        "  print(\"Hatalı sayı girişi\")\n",
        "  hataliMi=True\n",
        "\n",
        "\n",
        "\n",
        "if hataliMi==False:\n",
        "  if sayi>=0 and sayi<=40:\n",
        "    print(\"Girdiğiniz sayı 0-40 arasındadır.\")\n",
        "  elif sayi>=41 and sayi<=70:\n",
        "    print(\"Girdiğiniz sayı 41-70 arasındadır.\")\n",
        "  elif sayi>=71 and sayi<=100:\n",
        "    print(\"Girdiğiniz sayı 71-100 arasındadır.\")\n",
        "  else:\n",
        "    print(\"Sayınız aralık dışındadır.\")"
      ],
      "execution_count": null,
      "outputs": [
        {
          "output_type": "stream",
          "text": [
            "Bir sayı giriniz: .8\n",
            "Girdiğiniz sayı 0-40 arasındadır.\n"
          ],
          "name": "stdout"
        }
      ]
    },
    {
      "cell_type": "code",
      "metadata": {
        "colab": {
          "base_uri": "https://localhost:8080/"
        },
        "id": "MOBN49j3at6H",
        "outputId": "c864d8c1-2f75-4139-a343-f4ac4aec7d09"
      },
      "source": [
        "a=float(input(\"Sayi gir: \"))\n",
        "a"
      ],
      "execution_count": null,
      "outputs": [
        {
          "output_type": "stream",
          "text": [
            "Sayi gir: 5\n"
          ],
          "name": "stdout"
        },
        {
          "output_type": "execute_result",
          "data": {
            "text/plain": [
              "5.0"
            ]
          },
          "metadata": {
            "tags": []
          },
          "execution_count": 22
        }
      ]
    },
    {
      "cell_type": "code",
      "metadata": {
        "colab": {
          "base_uri": "https://localhost:8080/"
        },
        "id": "BASJdN8zBlGB",
        "outputId": "d6e049be-a32e-4f4b-8727-7822ce6fda2f"
      },
      "source": [
        "a=2\n",
        "\n",
        "a==3"
      ],
      "execution_count": null,
      "outputs": [
        {
          "output_type": "execute_result",
          "data": {
            "text/plain": [
              "False"
            ]
          },
          "metadata": {
            "tags": []
          },
          "execution_count": 19
        }
      ]
    },
    {
      "cell_type": "code",
      "metadata": {
        "id": "1gdtAyGZ1MTD",
        "colab": {
          "base_uri": "https://localhost:8080/"
        },
        "outputId": "9aa0544b-0231-42e1-ea61-42f09fd8727d"
      },
      "source": [
        "course = \"PyThoN\"\n",
        "\n",
        "s = input(\"Lütfen bir harf giriniz: \")\n",
        " \n",
        "if s.lower() in course.lower():\n",
        "  print(\"Mevcut!\")\n",
        "else:\n",
        "  print(\"Yok...\")"
      ],
      "execution_count": null,
      "outputs": [
        {
          "output_type": "stream",
          "text": [
            "Lütfen bir harf giriniz: t\n",
            "Mevcut!\n"
          ],
          "name": "stdout"
        }
      ]
    },
    {
      "cell_type": "code",
      "metadata": {
        "id": "3dpvKUQocqqv"
      },
      "source": [
        "s in [course.upper() or course.lower()] bu tarz bi şey nasıl yazılabilir?"
      ],
      "execution_count": null,
      "outputs": []
    },
    {
      "cell_type": "code",
      "metadata": {
        "colab": {
          "base_uri": "https://localhost:8080/"
        },
        "id": "rUwuA9-4DdEb",
        "outputId": "1fbf8b77-03ab-4fb3-bad4-bf7bdcb2f5ca"
      },
      "source": [
        "l=list(course.lower())\n",
        "l.extend(list(course.upper()))\n",
        "print(l)"
      ],
      "execution_count": null,
      "outputs": [
        {
          "output_type": "stream",
          "text": [
            "['p', 'y', 't', 'h', 'o', 'n', 'P', 'Y', 'T', 'H', 'O', 'N']\n"
          ],
          "name": "stdout"
        }
      ]
    },
    {
      "cell_type": "code",
      "metadata": {
        "id": "H2nxuFcXcoF8"
      },
      "source": [
        "#s in [course.upper() or course.lower()] bu tarz bi şey nasıl yazılabilir?\n",
        "\n",
        "course = \"python\"\n",
        "\n",
        "a =list(course.lower()).extend(list(course.upper()))\n",
        "\n",
        "\n",
        "s = input(\"Lütfen bir harf giriniz: \")\n",
        "\n",
        "\n",
        "if s in list(course.upper()).extend(list(course.lower())):\n",
        "  print(\"Mevcut!\")\n",
        "else:\n",
        "  print(\"Yok...\")"
      ],
      "execution_count": null,
      "outputs": []
    },
    {
      "cell_type": "code",
      "metadata": {
        "id": "3hmeanZ757dR"
      },
      "source": [
        "course = \"python\"\n",
        "\n",
        "s = input(\"Lütfen bir harf giriniz: \")\n",
        "\n",
        "if s not in course:\n",
        "  print(\"Yok..\")\n",
        "else:\n",
        "  print(\"Mevcut!\")"
      ],
      "execution_count": null,
      "outputs": []
    },
    {
      "cell_type": "code",
      "metadata": {
        "id": "-WHx0JolyrJN"
      },
      "source": [
        "#gizliSayilar=[5,7,9]\n",
        "sayi = int(input(\"Sayı girin\"))\n",
        "\n",
        "if sayi==5:\n",
        "  print(\"Küçük sayıyı girdiniz\")\n",
        "elif sayi==7:\n",
        "  print(\"Ortanca sayıyı girdiniz\")\n",
        "elif sayi==9:\n",
        "  print(\"En büyük sayıyı girdiniz\")\n",
        "else:\n",
        "  print(\"Bilemediniz\")"
      ],
      "execution_count": null,
      "outputs": []
    },
    {
      "cell_type": "markdown",
      "metadata": {
        "id": "alFtTZs0FyXs"
      },
      "source": [
        "# While Döngü Yapısı\n",
        "\n",
        "Koşul başlangıcı\n",
        "\n",
        "while <koşul>:\n",
        "\n",
        "\n",
        "\n",
        "> <doğru ifade>\n",
        "\n",
        "> <doğru ifade>\n",
        "\n",
        "> koşul güncelleme\n",
        "\n",
        "\n",
        "Bir mantıksal şart mantıksal doğru değerine sahip olduğu sürece tekrarlanır. Döngünün sona ermesi için o şartın yanlış duruma gelmesi gerekir.Bunun için döngünün içinde değişkenler uygun şekilde güncellenir. \n",
        "\n",
        "\n",
        "\n",
        "  "
      ]
    },
    {
      "cell_type": "code",
      "metadata": {
        "colab": {
          "base_uri": "https://localhost:8080/"
        },
        "id": "E3oBy5xBD0OO",
        "outputId": "e18f61a1-5051-41de-a681-8953d387afad"
      },
      "source": [
        "sifre=\"1234\"\n",
        "\n",
        "sifreDogruMu=False\n",
        "kSifre=None\n",
        "hak=3\n",
        "\n",
        "while hak>0 and sifre!=kSifre:\n",
        "  kSifre=input(\"Şifrenizi girin! Kalan Hak:\"+str(hak)+\" - \")\n",
        "\n",
        "  if kSifre==sifre:\n",
        "    #sifreDogruMu=True\n",
        "    print(\"Şifreyi Doğru Girdiniz. Kalan hak:\" + str(hak))\n",
        "    break\n",
        "  \n",
        "\n",
        "  hak-=1\n",
        "\n",
        "  if hak<=0:\n",
        "    print(\"Şifreyi yanlış girdiniz!\")\n",
        "\n",
        "    \"\"\"\n",
        "if sifreDogruMu:\n",
        "  print(\"Şifreyi Doğru Girdiniz. Kalan hak:\" + str(hak))\n",
        "else:\n",
        "  print(\"Şifreyi yanlış girdiniz!\")\n",
        "  \"\"\""
      ],
      "execution_count": null,
      "outputs": [
        {
          "output_type": "stream",
          "text": [
            "Şifrenizi girin! Kalan Hak:3 - 1234\n",
            "Şifreyi Doğru Girdiniz. Kalan hak:3\n"
          ],
          "name": "stdout"
        }
      ]
    },
    {
      "cell_type": "code",
      "metadata": {
        "id": "YNZvejRz-6ro",
        "colab": {
          "base_uri": "https://localhost:8080/"
        },
        "outputId": "18b90452-e6df-43cf-c564-9496d3638061"
      },
      "source": [
        "sayi=1\n",
        "\n",
        "while sayi<=10:\n",
        "  print(sayi)\n",
        "  sayi+=1\n",
        "print(\"Döngüden çıkıldı.\")"
      ],
      "execution_count": null,
      "outputs": [
        {
          "output_type": "stream",
          "text": [
            "1\n",
            "2\n",
            "3\n",
            "4\n",
            "5\n",
            "6\n",
            "7\n",
            "8\n",
            "9\n",
            "10\n",
            "Döngüden çıkıldı.\n"
          ],
          "name": "stdout"
        }
      ]
    },
    {
      "cell_type": "markdown",
      "metadata": {
        "id": "HytO2C2ib-vf"
      },
      "source": [
        "# For Döngü Yapısı\n",
        "\n",
        "\n",
        "for <tekrarlayan değer> in <sıralı dizi>:\n",
        "\n",
        "\n",
        "\n",
        "> <doğru ifade>\n",
        "\n",
        "\n",
        "Liste gibi sıralı bir nesnedeki elemanları sırayla tek tek alır ve döngü içerisinde işler.\n",
        "\n",
        "\n"
      ]
    },
    {
      "cell_type": "code",
      "metadata": {
        "id": "JY2JaCuiMZVQ"
      },
      "source": [
        ""
      ],
      "execution_count": null,
      "outputs": []
    },
    {
      "cell_type": "code",
      "metadata": {
        "id": "uPbkddwA_ki_"
      },
      "source": [
        "sayiler=[1,2,3,4]\n",
        "0\n",
        "1\n",
        "2\n",
        "3\n",
        "\n",
        "i<4\n",
        "\n",
        "\n",
        "for(int i=0;i<sayilar.count();i++){\n",
        "    \n",
        "    #number=sayilar[i]\n",
        "}"
      ],
      "execution_count": null,
      "outputs": []
    },
    {
      "cell_type": "code",
      "metadata": {
        "colab": {
          "base_uri": "https://localhost:8080/"
        },
        "id": "1wpHqqrxM3TS",
        "outputId": "80ee2e59-eb69-4c87-af7e-22f3370df353"
      },
      "source": [
        "sayilar=[1,21,91,44,56]\n",
        "\n",
        "for number in sayilar:\n",
        "  print(number)"
      ],
      "execution_count": null,
      "outputs": [
        {
          "output_type": "stream",
          "text": [
            "1\n",
            "21\n",
            "91\n",
            "44\n",
            "56\n"
          ],
          "name": "stdout"
        }
      ]
    },
    {
      "cell_type": "code",
      "metadata": {
        "id": "BgahixcjcC_a",
        "colab": {
          "base_uri": "https://localhost:8080/"
        },
        "outputId": "7f1a2137-d279-415d-c089-371cc629efdf"
      },
      "source": [
        "for number in [2,45,60]:\n",
        "  print(number)\n",
        "\n",
        "print(\"*********\")\n",
        "for sayi in [2,45,57]:\n",
        "  print(sayi)\n",
        "  print(\"----\")\n",
        "  print(number)\n",
        "  print(\"\\n\")"
      ],
      "execution_count": null,
      "outputs": [
        {
          "output_type": "stream",
          "text": [
            "2\n",
            "45\n",
            "60\n",
            "*********\n",
            "2\n",
            "----\n",
            "60\n",
            "\n",
            "\n",
            "45\n",
            "----\n",
            "60\n",
            "\n",
            "\n",
            "57\n",
            "----\n",
            "60\n",
            "\n",
            "\n"
          ],
          "name": "stdout"
        }
      ]
    },
    {
      "cell_type": "code",
      "metadata": {
        "colab": {
          "base_uri": "https://localhost:8080/"
        },
        "id": "gloz9rsEhA8d",
        "outputId": "92b9d11b-0667-4d3e-f780-1fa4bf2881e7"
      },
      "source": [
        "range(0,100,5)"
      ],
      "execution_count": null,
      "outputs": [
        {
          "output_type": "execute_result",
          "data": {
            "text/plain": [
              "range(0, 100, 5)"
            ]
          },
          "metadata": {
            "tags": []
          },
          "execution_count": 59
        }
      ]
    },
    {
      "cell_type": "code",
      "metadata": {
        "id": "qae4AQCarZlk",
        "colab": {
          "base_uri": "https://localhost:8080/"
        },
        "outputId": "dd3e0681-0c0f-4825-9ce6-92de33df0e82"
      },
      "source": [
        "print(list(range(5)))"
      ],
      "execution_count": null,
      "outputs": [
        {
          "output_type": "stream",
          "text": [
            "[0, 1, 2, 3, 4]\n"
          ],
          "name": "stdout"
        }
      ]
    },
    {
      "cell_type": "code",
      "metadata": {
        "id": "kAgGCHoers-n"
      },
      "source": [
        "0-1-2-3-4"
      ],
      "execution_count": null,
      "outputs": []
    },
    {
      "cell_type": "code",
      "metadata": {
        "id": "ZD6pp2A9cglb",
        "colab": {
          "base_uri": "https://localhost:8080/"
        },
        "outputId": "3fead125-f2f0-448f-e062-73a01e9fc5b6"
      },
      "source": [
        "for sayi in range(5):\n",
        "  print(sayi)"
      ],
      "execution_count": null,
      "outputs": [
        {
          "output_type": "stream",
          "text": [
            "0\n",
            "1\n",
            "2\n",
            "3\n",
            "4\n"
          ],
          "name": "stdout"
        }
      ]
    },
    {
      "cell_type": "code",
      "metadata": {
        "id": "sSRS5oGOdr0t"
      },
      "source": [
        "for char in \"Python Kursu\":\n",
        "  print(char)"
      ],
      "execution_count": null,
      "outputs": []
    },
    {
      "cell_type": "code",
      "metadata": {
        "id": "Nm1etOxRPNvb"
      },
      "source": [
        ".env\n",
        "liste=Python,Kursu,2\n",
        "\n",
        "liste.split(',')\n",
        "\n"
      ],
      "execution_count": null,
      "outputs": []
    },
    {
      "cell_type": "code",
      "metadata": {
        "id": "80L2IjhNskTQ",
        "colab": {
          "base_uri": "https://localhost:8080/"
        },
        "outputId": "bf6103da-db60-4ed4-a1d7-c1cae895573b"
      },
      "source": [
        "\"Python,Kursu,2\".split(\",\")"
      ],
      "execution_count": null,
      "outputs": [
        {
          "output_type": "execute_result",
          "data": {
            "text/plain": [
              "['Python', 'Kursu', '2']"
            ]
          },
          "metadata": {
            "tags": []
          },
          "execution_count": 68
        }
      ]
    },
    {
      "cell_type": "code",
      "metadata": {
        "id": "c8G-3iFNkrH4",
        "colab": {
          "base_uri": "https://localhost:8080/"
        },
        "outputId": "b5d17d82-2905-4510-9a28-d57bf520f094"
      },
      "source": [
        "for i in \"Python Kursu 2\".split():\n",
        "  print(i)"
      ],
      "execution_count": null,
      "outputs": [
        {
          "output_type": "stream",
          "text": [
            "Python\n",
            "Kursu\n",
            "2\n"
          ],
          "name": "stdout"
        }
      ]
    },
    {
      "cell_type": "code",
      "metadata": {
        "colab": {
          "base_uri": "https://localhost:8080/"
        },
        "id": "4xGc8hIWPqoT",
        "outputId": "6141655f-7d12-442b-9474-b2860d713cca"
      },
      "source": [
        "list(range(0,20,5))"
      ],
      "execution_count": null,
      "outputs": [
        {
          "output_type": "execute_result",
          "data": {
            "text/plain": [
              "[0, 5, 10, 15]"
            ]
          },
          "metadata": {
            "tags": []
          },
          "execution_count": 76
        }
      ]
    },
    {
      "cell_type": "code",
      "metadata": {
        "id": "6Pvl_Pps6fbR",
        "colab": {
          "base_uri": "https://localhost:8080/"
        },
        "outputId": "50fa5e36-4c24-4363-8d7e-7e1d701ed79c"
      },
      "source": [
        "for i in range(0,20,5):\n",
        "  if i == 5:    \n",
        "    break\n",
        "  print(i)\n",
        "  \n",
        "print(\"Döngü Bitti\")"
      ],
      "execution_count": null,
      "outputs": [
        {
          "output_type": "stream",
          "text": [
            "0\n",
            "Döngü Bitti\n"
          ],
          "name": "stdout"
        }
      ]
    },
    {
      "cell_type": "code",
      "metadata": {
        "id": "vTRaCu7N6ife",
        "colab": {
          "base_uri": "https://localhost:8080/"
        },
        "outputId": "e6c6cdae-c01f-4d6d-d952-a7cc77e57fef"
      },
      "source": [
        "for i in range(0,20,5):\n",
        "  if i == 5:\n",
        "    continue\n",
        "  print(i)"
      ],
      "execution_count": null,
      "outputs": [
        {
          "output_type": "stream",
          "text": [
            "0\n",
            "10\n",
            "15\n"
          ],
          "name": "stdout"
        }
      ]
    },
    {
      "cell_type": "code",
      "metadata": {
        "id": "fZKEer8umXFk"
      },
      "source": [
        "sayilar = list(range(8))\n",
        "\n",
        "kareler = []\n",
        "for i in sayilar:\n",
        "  kareler.append(i**2)\n",
        "print(kareler)"
      ],
      "execution_count": null,
      "outputs": []
    },
    {
      "cell_type": "code",
      "metadata": {
        "id": "fnfkGpJanbCF"
      },
      "source": [
        "sayilar = list(range(8))\n",
        "#list comprehension - liste döndürür #time complexity - space complexity'i düşürür\n",
        "kareler = [sayi**2 for sayi in sayilar]\n",
        "print(kareler)"
      ],
      "execution_count": null,
      "outputs": []
    },
    {
      "cell_type": "code",
      "metadata": {
        "id": "AGwJCh-xxm5p"
      },
      "source": [
        "sayilardeneme=list(range(8))\n",
        "\n",
        "cift_kareler_deneme=[]\n",
        "\"\"\"\n",
        "for sayi in sayilardeneme:\n",
        "  if sayi % 2 ==0:\n",
        "    cift_kareler_deneme.append(sayi**2)\n",
        "\"\"\"\n",
        "for sayi in sayilardeneme:\n",
        "  if sayi % 2 ==1:\n",
        "    continue\n",
        "  cift_kareler_deneme.append(sayi**2)\n",
        "print(cift_kareler_deneme)"
      ],
      "execution_count": null,
      "outputs": []
    },
    {
      "cell_type": "code",
      "metadata": {
        "id": "msKp56Y1ozOk"
      },
      "source": [
        "sayilar = list(range(8))\n",
        "\n",
        "#[(yapılacak operasyon) (for döngüsü liste dönülecek) (if bir koşul var ise o koşul)]\n",
        "0-1-2-3-4-5-6-7\n",
        "cift_kareler = [i**2 for i in sayilar if i % 2 == 0]\n",
        "\n",
        "tek_küpler = [i**3 for i in sayilar if i % 2 == 1]\n",
        "\n",
        "print(cift_kareler)\n",
        "print(tek_küpler)"
      ],
      "execution_count": null,
      "outputs": []
    },
    {
      "cell_type": "code",
      "metadata": {
        "id": "BAIT9kSGrHTn"
      },
      "source": [
        "mylist3 = [3,5,12,7,65,35,12,\"Fethi\"]"
      ],
      "execution_count": null,
      "outputs": []
    },
    {
      "cell_type": "code",
      "metadata": {
        "id": "T6aGyTKM0URj"
      },
      "source": [
        "print(sum(mylist3))"
      ],
      "execution_count": null,
      "outputs": []
    },
    {
      "cell_type": "markdown",
      "metadata": {
        "id": "sNWHEuYTuGUk"
      },
      "source": [
        "###Listenin en büyük elemanını bulma"
      ]
    },
    {
      "cell_type": "code",
      "metadata": {
        "id": "6MnAca4Ht13-",
        "colab": {
          "base_uri": "https://localhost:8080/"
        },
        "outputId": "9d6e37a2-8b2e-4a8e-b2e3-2583553975ed"
      },
      "source": [
        "mylist = [3,5,12,7,65,35,\"Fethi\",\"Taha\"]\n",
        "\n",
        "myList2=[\"F\",\"T\"]\n",
        "\n",
        "maxInt=None\n",
        "maxStr=None\n",
        "\n",
        "\n",
        "maxStr=\"Fethi\"\n",
        "i=\"Taha\"\n",
        "\n",
        "for i in mylist:\n",
        "  if type(i) is str:\n",
        "    if maxStr==None:\n",
        "      maxStr = i\n",
        "    else:\n",
        "      if i>maxStr:\n",
        "        maxStr=i\n",
        "  \n",
        "  if type(i) is int:\n",
        "    if maxInt==None:\n",
        "      maxInt = i\n",
        "    else:\n",
        "      if i > maxInt:\n",
        "        maxInt=i\n",
        "\n",
        "print(maxInt,maxStr)\n"
      ],
      "execution_count": null,
      "outputs": [
        {
          "output_type": "stream",
          "text": [
            "65 Taha\n"
          ],
          "name": "stdout"
        }
      ]
    },
    {
      "cell_type": "markdown",
      "metadata": {
        "id": "RzvtIqRPwMjJ"
      },
      "source": [
        "###Liste elemanlarını toplama"
      ]
    },
    {
      "cell_type": "code",
      "metadata": {
        "colab": {
          "base_uri": "https://localhost:8080/"
        },
        "id": "iZj9f8QZU8Jb",
        "outputId": "01518592-a778-4cb9-cf84-3d25ae633b31"
      },
      "source": [
        "print(a)"
      ],
      "execution_count": null,
      "outputs": [
        {
          "output_type": "stream",
          "text": [
            "[0, 7, 14]\n"
          ],
          "name": "stdout"
        }
      ]
    },
    {
      "cell_type": "code",
      "metadata": {
        "colab": {
          "base_uri": "https://localhost:8080/"
        },
        "id": "lU5KDTi1TmSk",
        "outputId": "799357da-1c3f-4d84-bd9b-f36384a24b94"
      },
      "source": [
        "l1=list(range(0,5,2))\n",
        "l2=list(range(0,11,5))\n",
        "print(l1)\n",
        "print(l2)"
      ],
      "execution_count": null,
      "outputs": [
        {
          "output_type": "stream",
          "text": [
            "[0, 2, 4]\n",
            "[0, 5, 10]\n"
          ],
          "name": "stdout"
        }
      ]
    },
    {
      "cell_type": "code",
      "metadata": {
        "colab": {
          "base_uri": "https://localhost:8080/"
        },
        "id": "vQnTKjhYUOse",
        "outputId": "9cb832f4-60b5-4641-9726-07fedc9ecb73"
      },
      "source": [
        "a=[]\n",
        "for i in range(3): # 0,1,2\n",
        " a.append(l1[i]+l2[i])\n",
        "\n",
        "a"
      ],
      "execution_count": null,
      "outputs": [
        {
          "output_type": "execute_result",
          "data": {
            "text/plain": [
              "[0, 7, 14]"
            ]
          },
          "metadata": {
            "tags": []
          },
          "execution_count": 92
        }
      ]
    },
    {
      "cell_type": "code",
      "metadata": {
        "colab": {
          "base_uri": "https://localhost:8080/"
        },
        "id": "qvmiC46xUpdV",
        "outputId": "49e35062-9f6c-4264-ccc6-2e78889aa99f"
      },
      "source": [
        "sum(a)"
      ],
      "execution_count": null,
      "outputs": [
        {
          "output_type": "execute_result",
          "data": {
            "text/plain": [
              "21"
            ]
          },
          "metadata": {
            "tags": []
          },
          "execution_count": 93
        }
      ]
    },
    {
      "cell_type": "code",
      "metadata": {
        "colab": {
          "base_uri": "https://localhost:8080/"
        },
        "id": "oBubMR-FUKid",
        "outputId": "25b00e93-8a6f-4862-eacc-d461b56f901d"
      },
      "source": [
        "l1+l2"
      ],
      "execution_count": null,
      "outputs": [
        {
          "output_type": "execute_result",
          "data": {
            "text/plain": [
              "[0, 2, 4, 0, 5, 10]"
            ]
          },
          "metadata": {
            "tags": []
          },
          "execution_count": 91
        }
      ]
    },
    {
      "cell_type": "code",
      "metadata": {
        "colab": {
          "base_uri": "https://localhost:8080/"
        },
        "id": "gmCiOVKDUC58",
        "outputId": "20e4a62f-2d0d-4268-ae07-bc4e76bb613a"
      },
      "source": [
        "sum(l1+l2)"
      ],
      "execution_count": null,
      "outputs": [
        {
          "output_type": "execute_result",
          "data": {
            "text/plain": [
              "21"
            ]
          },
          "metadata": {
            "tags": []
          },
          "execution_count": 90
        }
      ]
    },
    {
      "cell_type": "code",
      "metadata": {
        "id": "SkyZxq07vZcv"
      },
      "source": [
        "list1 = [1,2,3]\n",
        "list2 = [4,5,6]\n",
        "\n",
        "\"\"\"\n",
        "list3=list1+list2\n",
        "print(list3)\n",
        "\n",
        "list3=zip(list1,list2)\n",
        "print(list(list3))\n",
        "\n",
        "\"\"\"\n",
        "\"\"\"\n",
        "list3 = [a + b \n",
        "         for a,b in zip(list1,list2)]\n",
        "\n",
        "print(list3)\n",
        "\"\"\"\n",
        "\n",
        "list1=[2,3,4]\n",
        "list2=[5,6]\n",
        "\n",
        "print(sum(list1,list2))\n",
        "\"\"\"\n",
        "list3=zip(list1,list2)\n",
        "print(list(list3))\n",
        "\"\"\""
      ],
      "execution_count": null,
      "outputs": []
    },
    {
      "cell_type": "markdown",
      "metadata": {
        "id": "iF9iRGVRHzZ3"
      },
      "source": [
        "##Cevap"
      ]
    },
    {
      "cell_type": "code",
      "metadata": {
        "id": "oz0YvBT4wQQv"
      },
      "source": [
        "sayi=int(input(\"Sayi gir: \"))\n",
        "\n",
        "print(sum(list(range(sayi+1)))) #sayının da listede olmasını istiyoruz\n"
      ],
      "execution_count": null,
      "outputs": []
    },
    {
      "cell_type": "code",
      "metadata": {
        "id": "x4YIpHSM6Xwp"
      },
      "source": [
        "list(range(5))"
      ],
      "execution_count": null,
      "outputs": []
    },
    {
      "cell_type": "code",
      "metadata": {
        "id": "rQHUwEPY6gw0"
      },
      "source": [
        "array1=[32,25,45,65,76]\n",
        "for(index=0 ; index<5 ; index++) \n",
        "{\n",
        "    eleman=array1[index]\n",
        "}"
      ],
      "execution_count": null,
      "outputs": []
    },
    {
      "cell_type": "markdown",
      "metadata": {
        "id": "9NqX9G3F8uZQ"
      },
      "source": [
        "###Modüller\n",
        "\n",
        "Bazı işlevleri kolaylıkla yerine getirmemizi sağlayan birtakım fonksiyonları ve nitelikleri içinde barındıran araçlardır. Barındırdığı bu fonksiyonları farklı dosyalar ve programlar içinde tekrar tekrar kullanma imkanı sağlar. Modüller sayesinde Python çok daha kullanışlı ve uygulaması kolay bir dil haline gelmiştir.\n",
        "\n",
        "Python’da herhangi bir modülü kullanabilmek için öncelikle onu ‘içe aktarmamız’ gerekir. İçe aktarmak, bir modül içindeki fonksiyon ve nitelikleri başka bir program içinden kullanılabilir hale getirmek demektir.\n",
        "\n",
        "**import <modül_adı>**"
      ]
    },
    {
      "cell_type": "code",
      "metadata": {
        "id": "MDmE3VeY2BUv"
      },
      "source": [
        "import random as rnd\n",
        "\n",
        "gizli = rnd.randint(1, 100)\n",
        "\n",
        "check = False\n",
        "\n",
        "tahmin = int(input(\"Bir tahmin giriniz:\"))\n",
        "print(gizli)\n",
        "\n",
        "for x in range(5):\n",
        "  tahmin = int(input(\"Bir tahmin giriniz:\"))\n",
        "  if tahmin == gizli:\n",
        "    print(\"Tebrikler\")\n",
        "    check = True\n",
        "    break\n",
        "  elif tahmin < gizli:\n",
        "    print(\"Daha büyük bir sayı giriniz!!\")\n",
        "  else:\n",
        "    print(\"Daha küçük bir sayı giriniz!!\")\n",
        "    \n",
        "if not check:\n",
        "  print(\"Bilemediniz, belirlenen sayı: \", gizli)"
      ],
      "execution_count": null,
      "outputs": []
    },
    {
      "cell_type": "code",
      "metadata": {
        "id": "ttIhXB8y64Jr"
      },
      "source": [
        "for eleman in array1:\n",
        "  eleman"
      ],
      "execution_count": null,
      "outputs": []
    },
    {
      "cell_type": "code",
      "metadata": {
        "id": "t2hN1ADgUKdI"
      },
      "source": [
        "sayi = 0\n",
        "\n",
        "while sayi < 9:\n",
        "  print(\"Sayının değeri:\", sayi)\n",
        "  sayi = sayi +1"
      ],
      "execution_count": null,
      "outputs": []
    },
    {
      "cell_type": "code",
      "metadata": {
        "id": "YAM4s0m7ViEA"
      },
      "source": [
        "sayi2 = 0\n",
        "\n",
        "while sayi2 != 9:\n",
        "  print(\"Sayının değeri:\", sayi2)\n",
        "  sayi2 +=2\n",
        "\n",
        "#sonsuz döngü, infinite loop"
      ],
      "execution_count": null,
      "outputs": []
    },
    {
      "cell_type": "code",
      "metadata": {
        "id": "2UmFwW5FWEkd"
      },
      "source": [
        "sayi3 = int(input(\"Lütfen 1 ve 10 arasında bir sayı giriniz:\"))\n",
        "\n",
        "while sayi3 < 1 or sayi3 > 10 or sayi3==5:  \n",
        "  print(\"Doğru olmayan bir değer girdiniz!!!!\")\n",
        "  sayi3 = int(input(\"Lütfen 1 ve 10 arasında bir sayı giriniz:\"))\n",
        "print(\"Tebrikler...\") \n"
      ],
      "execution_count": null,
      "outputs": []
    },
    {
      "cell_type": "markdown",
      "metadata": {
        "id": "Wxh9hTfQaTXB"
      },
      "source": [
        "##Bir listenin elemanlarını yazdıralım. "
      ]
    },
    {
      "cell_type": "code",
      "metadata": {
        "id": "tOoDBo33Y9O0"
      },
      "source": [
        "t = [1,2,3,4,5,6]\n",
        "\n",
        "i = 0\n",
        "while (i < len(t)):\n",
        "  #i+=1\n",
        "  print(i, \". indexteki elemanı: \", t[i])\n",
        "  i+=1"
      ],
      "execution_count": null,
      "outputs": []
    },
    {
      "cell_type": "code",
      "metadata": {
        "id": "pSN-AL8A62bc"
      },
      "source": [
        "while True:\n",
        "  a = input(\"Bir değer giriniz: \")\n",
        "  if a == \"Exit\":\n",
        "    break"
      ],
      "execution_count": null,
      "outputs": []
    },
    {
      "cell_type": "markdown",
      "metadata": {
        "id": "DQIjs3JoVPP3"
      },
      "source": [
        "## Comprehension Tekrar"
      ]
    },
    {
      "cell_type": "code",
      "metadata": {
        "colab": {
          "base_uri": "https://localhost:8080/"
        },
        "id": "91o5AhBbVRN7",
        "outputId": "809efa64-ac2d-40b2-af60-84de3b746230"
      },
      "source": [
        "liste=range(11)\n",
        "\n",
        "karelerListesi=[]\n",
        "for sayi in liste:\n",
        "  if sayi % 2 == 0:\n",
        "    karelerListesi.append(sayi**2)\n",
        "\n",
        "karelerListesi\n",
        "\n"
      ],
      "execution_count": null,
      "outputs": [
        {
          "output_type": "execute_result",
          "data": {
            "text/plain": [
              "[0, 4, 16, 36, 64, 100]"
            ]
          },
          "metadata": {
            "tags": []
          },
          "execution_count": 99
        }
      ]
    },
    {
      "cell_type": "code",
      "metadata": {
        "colab": {
          "base_uri": "https://localhost:8080/"
        },
        "id": "Fcszm3E5VhKw",
        "outputId": "77c914dc-7035-4c12-fff9-4f1374727eea"
      },
      "source": [
        "[sayi**2 for sayi in liste]"
      ],
      "execution_count": null,
      "outputs": [
        {
          "output_type": "execute_result",
          "data": {
            "text/plain": [
              "[1, 4, 9]"
            ]
          },
          "metadata": {
            "tags": []
          },
          "execution_count": 96
        }
      ]
    },
    {
      "cell_type": "code",
      "metadata": {
        "colab": {
          "base_uri": "https://localhost:8080/"
        },
        "id": "c14xSeLhV-DE",
        "outputId": "016d1324-3be1-42fd-dd64-9e23ca583529"
      },
      "source": [
        "\n",
        "[sayi**2 for sayi in liste if sayi % 2 == 0]"
      ],
      "execution_count": null,
      "outputs": [
        {
          "output_type": "execute_result",
          "data": {
            "text/plain": [
              "[0, 4, 16, 36, 64, 100]"
            ]
          },
          "metadata": {
            "tags": []
          },
          "execution_count": 100
        }
      ]
    }
  ]
}