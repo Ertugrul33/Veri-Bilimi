{
  "nbformat": 4,
  "nbformat_minor": 0,
  "metadata": {
    "colab": {
      "name": "DSE Veri Bilimi Eğitimi - 6. Hafta.ipynb",
      "provenance": [],
      "collapsed_sections": []
    },
    "kernelspec": {
      "name": "python3",
      "display_name": "Python 3"
    }
  },
  "cells": [
    {
      "cell_type": "markdown",
      "metadata": {
        "id": "cma2IKnL9e-M"
      },
      "source": [
        "# Hatalar \n",
        "\n",
        "*   Programcı Hataları (Error)\n",
        "*   Program Kusurları (Bug)\n",
        "*   İstisnalar (Exception)\n",
        "\n",
        "\n"
      ]
    },
    {
      "cell_type": "code",
      "metadata": {
        "id": "yOmOD9EyIUFb"
      },
      "source": [
        "try {\n",
        "    string a=\"Fethi\";\n",
        "    a/2;\n",
        "}\n",
        "catch(Exception ex) {\n",
        "    \n",
        "}"
      ],
      "execution_count": null,
      "outputs": []
    },
    {
      "cell_type": "code",
      "metadata": {
        "colab": {
          "base_uri": "https://localhost:8080/"
        },
        "id": "NHV_wQwrHB8m",
        "outputId": "359c6d59-7d50-4f04-9ff1-3a8692bbb0ac"
      },
      "source": [
        "try:\n",
        "  sayi = int(input(\"Sayı girin\"))\n",
        "except ValueError:\n",
        "  print(\"Value Error hatası oluştu\")"
      ],
      "execution_count": null,
      "outputs": [
        {
          "output_type": "stream",
          "text": [
            "Sayı girinFeth\n",
            "Value Error hatası oluştu\n"
          ],
          "name": "stdout"
        }
      ]
    },
    {
      "cell_type": "code",
      "metadata": {
        "id": "g4GezM7fFpC1"
      },
      "source": [
        "int a = 2;\n",
        "a = 2"
      ],
      "execution_count": null,
      "outputs": []
    },
    {
      "cell_type": "code",
      "metadata": {
        "colab": {
          "base_uri": "https://localhost:8080/",
          "height": 182
        },
        "id": "22CDaFd_GjHs",
        "outputId": "6cd528e3-c63e-45fd-88a3-09c762278dec"
      },
      "source": [
        "print(2/0)"
      ],
      "execution_count": null,
      "outputs": [
        {
          "output_type": "error",
          "ename": "ZeroDivisionError",
          "evalue": "ignored",
          "traceback": [
            "\u001b[0;31m---------------------------------------------------------------------------\u001b[0m",
            "\u001b[0;31mZeroDivisionError\u001b[0m                         Traceback (most recent call last)",
            "\u001b[0;32m<ipython-input-2-d2c0889640ff>\u001b[0m in \u001b[0;36m<module>\u001b[0;34m()\u001b[0m\n\u001b[0;32m----> 1\u001b[0;31m \u001b[0mprint\u001b[0m\u001b[0;34m(\u001b[0m\u001b[0;36m2\u001b[0m\u001b[0;34m/\u001b[0m\u001b[0;36m0\u001b[0m\u001b[0;34m)\u001b[0m\u001b[0;34m\u001b[0m\u001b[0;34m\u001b[0m\u001b[0m\n\u001b[0m",
            "\u001b[0;31mZeroDivisionError\u001b[0m: division by zero"
          ]
        }
      ]
    },
    {
      "cell_type": "code",
      "metadata": {
        "colab": {
          "base_uri": "https://localhost:8080/",
          "height": 232
        },
        "id": "f_VPwfjeF5mE",
        "outputId": "769653c0-738d-4db4-cf75-b140a9224af1"
      },
      "source": [
        "sayi = int(input(\"Sayı girin\"))\n",
        "\n",
        "print(sayi/2)"
      ],
      "execution_count": null,
      "outputs": [
        {
          "output_type": "stream",
          "text": [
            "Sayı girinFethi\n"
          ],
          "name": "stdout"
        },
        {
          "output_type": "error",
          "ename": "ValueError",
          "evalue": "ignored",
          "traceback": [
            "\u001b[0;31m---------------------------------------------------------------------------\u001b[0m",
            "\u001b[0;31mValueError\u001b[0m                                Traceback (most recent call last)",
            "\u001b[0;32m<ipython-input-1-b283007a13e7>\u001b[0m in \u001b[0;36m<module>\u001b[0;34m()\u001b[0m\n\u001b[0;32m----> 1\u001b[0;31m \u001b[0msayi\u001b[0m \u001b[0;34m=\u001b[0m \u001b[0mint\u001b[0m\u001b[0;34m(\u001b[0m\u001b[0minput\u001b[0m\u001b[0;34m(\u001b[0m\u001b[0;34m\"Sayı girin\"\u001b[0m\u001b[0;34m)\u001b[0m\u001b[0;34m)\u001b[0m\u001b[0;34m\u001b[0m\u001b[0;34m\u001b[0m\u001b[0m\n\u001b[0m\u001b[1;32m      2\u001b[0m \u001b[0;34m\u001b[0m\u001b[0m\n\u001b[1;32m      3\u001b[0m \u001b[0mprint\u001b[0m\u001b[0;34m(\u001b[0m\u001b[0msayi\u001b[0m\u001b[0;34m/\u001b[0m\u001b[0;36m2\u001b[0m\u001b[0;34m)\u001b[0m\u001b[0;34m\u001b[0m\u001b[0;34m\u001b[0m\u001b[0m\n",
            "\u001b[0;31mValueError\u001b[0m: invalid literal for int() with base 10: 'Fethi'"
          ]
        }
      ]
    },
    {
      "cell_type": "code",
      "metadata": {
        "id": "_WO-xpPkG_bv"
      },
      "source": [
        ""
      ],
      "execution_count": null,
      "outputs": []
    },
    {
      "cell_type": "code",
      "metadata": {
        "id": "EC48KKwcG_TR"
      },
      "source": [
        ""
      ],
      "execution_count": null,
      "outputs": []
    },
    {
      "cell_type": "code",
      "metadata": {
        "id": "IDlFaw_LFeEv"
      },
      "source": [
        "a = 2\n",
        "string(a)"
      ],
      "execution_count": null,
      "outputs": []
    },
    {
      "cell_type": "code",
      "metadata": {
        "id": "1YGSrszE9cch"
      },
      "source": [
        "# error lara bir örnek, SyntaxError.\n",
        "\n",
        "print \"Hello World!\""
      ],
      "execution_count": null,
      "outputs": []
    },
    {
      "cell_type": "code",
      "metadata": {
        "id": "LC3AppARBI56"
      },
      "source": [
        "print(2/0)"
      ],
      "execution_count": null,
      "outputs": []
    },
    {
      "cell_type": "code",
      "metadata": {
        "id": "OMnUYXwD_msy"
      },
      "source": [
        "#bug lara bir örnek.\n",
        "\n",
        "\n",
        "sayi1 = int(input(\"1. sayıyı giriniz: \"))\n",
        "sayi2 = input(\"2. sayıyı giriniz: \")\n",
        "\n",
        "print(sayi1, \"+\", sayi2, \"=\", sayi1 + sayi2)\n"
      ],
      "execution_count": null,
      "outputs": []
    },
    {
      "cell_type": "code",
      "metadata": {
        "id": "n0Ux_gF9CthH"
      },
      "source": [
        "#exception lara bir diğer örnek, ValueError.\n",
        "\n",
        "sayi3 = int(input(\"İlk sayı: \"))\n",
        "sayi4 = int(input(\"İkinci sayı: \"))\n",
        "\n",
        "print(sayi3, \"/\",sayi4, \"=\", sayi3/sayi4)"
      ],
      "execution_count": null,
      "outputs": []
    },
    {
      "cell_type": "code",
      "metadata": {
        "id": "D9_dw3TqA0wc"
      },
      "source": [
        "#exception lara bir örnek, ZeroDivisionError.\n",
        "\n",
        "\n",
        "sayi3 = int(input(\"İlk sayı: \"))\n",
        "sayi4 = int(input(\"İkinci sayı: \"))\n",
        "\n",
        "print(sayi3, \"/\",sayi4, \"=\", sayi3/sayi4)"
      ],
      "execution_count": null,
      "outputs": []
    },
    {
      "cell_type": "markdown",
      "metadata": {
        "id": "bz2U4A64BnWJ"
      },
      "source": [
        "##Hata Yakalama\n",
        "\n",
        "\n",
        "try:\n",
        "\n",
        "\n",
        "> hata alabileceğimiz kısımlar.\n",
        "\n",
        "except <Hata Adı>:\n",
        "\n",
        "\n",
        "> hata durumunda yapılacak işlem.\n",
        "\n",
        "\n",
        "\n"
      ]
    },
    {
      "cell_type": "code",
      "metadata": {
        "id": "-2Dkw2H4BpCX"
      },
      "source": [
        "x = \"Alan Turing\"\n",
        "\n",
        "int(x)"
      ],
      "execution_count": null,
      "outputs": []
    },
    {
      "cell_type": "code",
      "metadata": {
        "id": "rAhmuTE9B8cy"
      },
      "source": [
        "x=\"Fethi\"\n",
        "\n",
        "try:\n",
        "  int(x)\n",
        "except ValueError:\n",
        "  print(\"Lütfen integer bir değer giriniz!!!\")"
      ],
      "execution_count": null,
      "outputs": []
    },
    {
      "cell_type": "code",
      "metadata": {
        "id": "E4QMEl4YC5cR",
        "colab": {
          "base_uri": "https://localhost:8080/"
        },
        "outputId": "5c718e1a-e29f-43af-a5bc-abb84498df3c"
      },
      "source": [
        "sayi3 = input(\"İlk sayı: \")\n",
        "sayi4 = input(\"İkinci sayı: \")\n",
        "\n",
        "try:\n",
        "  sayi3_int = int(sayi3)\n",
        "  sayi4_int = int(sayi4)\n",
        "\n",
        "  print(sayi3_int, \"/\",sayi4_int, \"=\", sayi3_int/sayi4_int)\n",
        "\n",
        "except:\n",
        "  print(\"Lütfen sayıları düzgün girin!!!\")"
      ],
      "execution_count": null,
      "outputs": [
        {
          "output_type": "stream",
          "text": [
            "İlk sayı: 3\n",
            "İkinci sayı: 0\n",
            "Lütfen sayıları düzgün girin!!!\n"
          ],
          "name": "stdout"
        }
      ]
    },
    {
      "cell_type": "code",
      "metadata": {
        "id": "ttj6eITbCYik"
      },
      "source": [
        "sayi3 = input(\"İlk sayı: \")\n",
        "sayi4 = input(\"İkinci sayı: \")\n",
        "\n",
        "try:\n",
        "  sayi3_int = int(sayi3)\n",
        "  sayi4_int = int(sayi4)\n",
        "\n",
        "  print(sayi3_int, \"/\",sayi4_int, \"=\", sayi3_int/sayi4_int)\n",
        "\n",
        "except ZeroDivisionError:\n",
        "  print(\"Lütfen 2. girdinizi 0 dan farklı bir integer değer giriniz!!!\")"
      ],
      "execution_count": null,
      "outputs": []
    },
    {
      "cell_type": "code",
      "metadata": {
        "id": "qgTSl8xJFrnP",
        "colab": {
          "base_uri": "https://localhost:8080/"
        },
        "outputId": "cb9db978-8036-432f-d719-f8066d45d964"
      },
      "source": [
        "sayi3 = input(\"İlk sayı: \")\n",
        "sayi4 = input(\"İkinci sayı: \")\n",
        "\n",
        "try:\n",
        "  sayi3_int = int(sayi3)\n",
        "  sayi4_int = int(sayi4)\n",
        "\n",
        "  print(sayi3_int, \"/\",sayi4_int, \"=\", sayi3_int/sayi4_int)\n",
        "\n",
        "except ValueError:\n",
        "  print(\"Lütfen integer bir değer giriniz!!!\")\n",
        "except ZeroDivisionError:\n",
        "  print(\"Bölen sayıyı 0 dan farklı bir integer değer giriniz!!!\")\n",
        "except:\n",
        "  print(\"Bilinmeyen bir hata oluştu...\")"
      ],
      "execution_count": null,
      "outputs": [
        {
          "output_type": "stream",
          "text": [
            "İlk sayı: 3\n",
            "İkinci sayı: 1\n",
            "3 / 1 = 3.0\n"
          ],
          "name": "stdout"
        }
      ]
    },
    {
      "cell_type": "code",
      "metadata": {
        "colab": {
          "base_uri": "https://localhost:8080/",
          "height": 182
        },
        "id": "pr-KGaJxJTBC",
        "outputId": "625bcbf1-141c-4623-96a4-7fbdf2cfbde6"
      },
      "source": [
        "print(2/0)"
      ],
      "execution_count": null,
      "outputs": [
        {
          "output_type": "error",
          "ename": "ZeroDivisionError",
          "evalue": "ignored",
          "traceback": [
            "\u001b[0;31m---------------------------------------------------------------------------\u001b[0m",
            "\u001b[0;31mZeroDivisionError\u001b[0m                         Traceback (most recent call last)",
            "\u001b[0;32m<ipython-input-17-d2c0889640ff>\u001b[0m in \u001b[0;36m<module>\u001b[0;34m()\u001b[0m\n\u001b[0;32m----> 1\u001b[0;31m \u001b[0mprint\u001b[0m\u001b[0;34m(\u001b[0m\u001b[0;36m2\u001b[0m\u001b[0;34m/\u001b[0m\u001b[0;36m0\u001b[0m\u001b[0;34m)\u001b[0m\u001b[0;34m\u001b[0m\u001b[0;34m\u001b[0m\u001b[0m\n\u001b[0m",
            "\u001b[0;31mZeroDivisionError\u001b[0m: division by zero"
          ]
        }
      ]
    },
    {
      "cell_type": "code",
      "metadata": {
        "id": "bGy694JBF4nv",
        "colab": {
          "base_uri": "https://localhost:8080/"
        },
        "outputId": "1b62beba-2c50-418b-ecbc-6843ca67b56a"
      },
      "source": [
        "sayi3 = input(\"İlk sayı: \")\n",
        "sayi4 = input(\"İkinci sayı: \")\n",
        "\n",
        "try:\n",
        "  sayi3_int = int(sayi3)\n",
        "  sayi4_int = int(sayi4)\n",
        "\n",
        "  print(sayi3_int, \"/\",sayi4_int, \"=\", sayi3_int/sayi4_int )\n",
        "\n",
        "except (ValueError, ZeroDivisionError):\n",
        "  print(\"Bir hata oluştu!!!\")"
      ],
      "execution_count": null,
      "outputs": [
        {
          "output_type": "stream",
          "text": [
            "İlk sayı: 20\n",
            "İkinci sayı: 10\n",
            "20 / 10 = 2.0\n"
          ],
          "name": "stdout"
        }
      ]
    },
    {
      "cell_type": "code",
      "metadata": {
        "id": "tu1cCIfjJiFM",
        "colab": {
          "base_uri": "https://localhost:8080/"
        },
        "outputId": "f89e9f1e-a4e3-4324-92da-fcbc40d6690c"
      },
      "source": [
        "#try/except/as\n",
        "\n",
        "\n",
        "sayi3 = input(\"İlk sayı: \")\n",
        "sayi4 = input(\"İkinci sayı: \")\n",
        "\n",
        "try:\n",
        "  sayi3_int = int(sayi3)\n",
        "  sayi4_int = int(sayi4)\n",
        "\n",
        "  print(sayi3_int, \"/\",sayi4_int, \"=\", sayi3_int/sayi4_int)\n",
        "\n",
        "#AS MESAJ DENDİĞİ ZAMAN İLGİLİ HATANIN MESAJINI TUTAR\n",
        "except (ValueError,ZeroDivisionError) as mesaj:\n",
        "  print(\"Bir hata var!!!\")\n",
        "  print(\"Hata mesajı: \", mesaj)\n",
        "except e:\n",
        "  print(\"Hata mesajı: \", str(e))"
      ],
      "execution_count": null,
      "outputs": [
        {
          "output_type": "stream",
          "text": [
            "İlk sayı: Feth\n",
            "İkinci sayı: 2\n",
            "Bir hata var!!!\n",
            "Hata mesajı:  invalid literal for int() with base 10: 'Feth'\n"
          ],
          "name": "stdout"
        }
      ]
    },
    {
      "cell_type": "code",
      "metadata": {
        "colab": {
          "base_uri": "https://localhost:8080/"
        },
        "id": "geTohHZCKDIr",
        "outputId": "52494b8d-7da3-47a9-ce1b-a51ad05f6254"
      },
      "source": [
        "#try/except/as\n",
        "\n",
        "\n",
        "sayi3 = input(\"İlk sayı: \")\n",
        "sayi4 = input(\"İkinci sayı: \")\n",
        "\n",
        "try:\n",
        "  sayi3_int = int(sayi3)\n",
        "  sayi4_int = int(sayi4)\n",
        "\n",
        "  print(sayi3_int, \"/\",sayi4_int, \"=\", sayi3_int/sayi4_int)\n",
        "\n",
        "#AS MESAJ DENDİĞİ ZAMAN İLGİLİ HATANIN MESAJINI TUTAR\n",
        "except Exception as e:\n",
        "  print(\"Hata mesajı: \", e)"
      ],
      "execution_count": null,
      "outputs": [
        {
          "output_type": "stream",
          "text": [
            "İlk sayı: 2\n",
            "İkinci sayı: 0\n",
            "Hata mesajı:  division by zero\n"
          ],
          "name": "stdout"
        }
      ]
    },
    {
      "cell_type": "code",
      "metadata": {
        "id": "g07-ysSCGQvw"
      },
      "source": [
        "#döngü yapılarında hata yakalama\n",
        "\n",
        "while True:\n",
        "    sayi1 = input(\"Birinci sayı: (Programdan çıkmak için q tuşuna basın): \")\n",
        "\n",
        "    if sayi1 == \"q\":\n",
        "        break\n",
        "\n",
        "    sayi2 = input(\"İkinci sayı: \")\n",
        "\n",
        "    try:\n",
        "        sayi1_int = int(sayi1)\n",
        "        sayi2_int = int(sayi2)\n",
        "        print(sayi1_int, \"/\", sayi2_int, \"=\", sayi1_int / sayi2_int)\n",
        "    except (ValueError, ZeroDivisionError) as mesaj:\n",
        "        print(\"Bir hata oluştu!\")\n",
        "        print(\"Lütfen tekrar deneyin! Hata:\",mesaj)\n",
        "        break"
      ],
      "execution_count": null,
      "outputs": []
    },
    {
      "cell_type": "code",
      "metadata": {
        "id": "TWrGWhhjLrU-"
      },
      "source": [
        "def terscevir(s):\n",
        "    if (type(s) != str):\n",
        "        raise TypeError(\"Parametrenin tipi hatalı\")\n",
        "    else:\n",
        "        return s[::-1]"
      ],
      "execution_count": null,
      "outputs": []
    },
    {
      "cell_type": "code",
      "metadata": {
        "id": "S7czCxD3KTKx",
        "colab": {
          "base_uri": "https://localhost:8080/"
        },
        "outputId": "a388f2e3-ff41-4b22-fe67-c7b72d2225d2"
      },
      "source": [
        "\"\"\"\n",
        "fonksiyonlarda hata yakalama\n",
        "kendi yazdığımız fonksiyonlar içine \"raise\" komutu ile duruma özel hata \n",
        "mesajları yayımlayabiliyoruz.\n",
        "\"\"\"\n",
        "\n",
        "\n",
        "\n",
        "try:\n",
        "  terscevir(1)\n",
        "except (ValueError, TypeError) as mesaj:\n",
        "  print(\"Hata oluştu! Hata:\", mesaj)"
      ],
      "execution_count": null,
      "outputs": [
        {
          "output_type": "stream",
          "text": [
            "Hata oluştu! Hata: Parametrenin tipi hatalı\n"
          ],
          "name": "stdout"
        }
      ]
    },
    {
      "cell_type": "code",
      "metadata": {
        "id": "2t0fmpb7MOfp",
        "colab": {
          "base_uri": "https://localhost:8080/",
          "height": 58
        },
        "outputId": "3429d7a4-6f3d-4c8b-ceac-cbcd64cdb077"
      },
      "source": [
        "terscevir(\"fethi\")"
      ],
      "execution_count": null,
      "outputs": [
        {
          "output_type": "execute_result",
          "data": {
            "application/vnd.google.colaboratory.intrinsic+json": {
              "type": "string"
            },
            "text/plain": [
              "'ihtef'"
            ]
          },
          "metadata": {
            "tags": []
          },
          "execution_count": 29
        }
      ]
    },
    {
      "cell_type": "code",
      "metadata": {
        "id": "Qp4QI6GhzBgC",
        "colab": {
          "base_uri": "https://localhost:8080/",
          "height": 298
        },
        "outputId": "9736176d-88af-40d3-addf-bc3fab60cd8d"
      },
      "source": [
        "terscevir(1)"
      ],
      "execution_count": null,
      "outputs": [
        {
          "output_type": "error",
          "ename": "TypeError",
          "evalue": "ignored",
          "traceback": [
            "\u001b[0;31m---------------------------------------------------------------------------\u001b[0m",
            "\u001b[0;31mTypeError\u001b[0m                                 Traceback (most recent call last)",
            "\u001b[0;32m<ipython-input-36-bf847f15cbf0>\u001b[0m in \u001b[0;36m<module>\u001b[0;34m()\u001b[0m\n\u001b[0;32m----> 1\u001b[0;31m \u001b[0mterscevir\u001b[0m\u001b[0;34m(\u001b[0m\u001b[0;36m1\u001b[0m\u001b[0;34m)\u001b[0m\u001b[0;34m\u001b[0m\u001b[0;34m\u001b[0m\u001b[0m\n\u001b[0m",
            "\u001b[0;32m<ipython-input-33-cd5ea6c1bc9e>\u001b[0m in \u001b[0;36mterscevir\u001b[0;34m(s)\u001b[0m\n\u001b[1;32m      1\u001b[0m \u001b[0;32mdef\u001b[0m \u001b[0mterscevir\u001b[0m\u001b[0;34m(\u001b[0m\u001b[0ms\u001b[0m\u001b[0;34m)\u001b[0m\u001b[0;34m:\u001b[0m\u001b[0;34m\u001b[0m\u001b[0;34m\u001b[0m\u001b[0m\n\u001b[1;32m      2\u001b[0m     \u001b[0;32mif\u001b[0m \u001b[0;34m(\u001b[0m\u001b[0mtype\u001b[0m\u001b[0;34m(\u001b[0m\u001b[0ms\u001b[0m\u001b[0;34m)\u001b[0m \u001b[0;34m!=\u001b[0m \u001b[0mstr\u001b[0m\u001b[0;34m)\u001b[0m\u001b[0;34m:\u001b[0m\u001b[0;34m\u001b[0m\u001b[0;34m\u001b[0m\u001b[0m\n\u001b[0;32m----> 3\u001b[0;31m         \u001b[0;32mraise\u001b[0m \u001b[0mTypeError\u001b[0m\u001b[0;34m(\u001b[0m\u001b[0;34m\"Parametrenin tipi hatalı\"\u001b[0m\u001b[0;34m)\u001b[0m\u001b[0;34m\u001b[0m\u001b[0;34m\u001b[0m\u001b[0m\n\u001b[0m\u001b[1;32m      4\u001b[0m     \u001b[0;32melse\u001b[0m\u001b[0;34m:\u001b[0m\u001b[0;34m\u001b[0m\u001b[0;34m\u001b[0m\u001b[0m\n\u001b[1;32m      5\u001b[0m         \u001b[0;32mreturn\u001b[0m \u001b[0ms\u001b[0m\u001b[0;34m[\u001b[0m\u001b[0;34m:\u001b[0m\u001b[0;34m:\u001b[0m\u001b[0;34m-\u001b[0m\u001b[0;36m1\u001b[0m\u001b[0;34m]\u001b[0m\u001b[0;34m\u001b[0m\u001b[0;34m\u001b[0m\u001b[0m\n",
            "\u001b[0;31mTypeError\u001b[0m: Parametrenin tipi hatalı"
          ]
        }
      ]
    },
    {
      "cell_type": "markdown",
      "metadata": {
        "id": "H6k8jXA_OKDH"
      },
      "source": [
        "# Nesne Tabanlı Programlama (OOP)\n",
        "Classmethod\n",
        "staticmethod c c\n",
        "\n",
        "Çevremizde gördüğümüz her varlık birer nesne(object) tanımına girer.\n",
        "Her nesnenin de kendine ait özellikleri (attribute) ve yaptıkları bir takım işlevler(method) vardır.\n",
        "\n",
        "Sınıf dediğimiz kavram da, nesneleri üretmemizi sağlayan veri tipleridir.\n",
        "\n"
      ]
    },
    {
      "cell_type": "code",
      "metadata": {
        "id": "AfiKCIVHNK1J"
      },
      "source": [
        "Kedi\n",
        "-Renk\n",
        "-Ayak Sayısı\n",
        "-Cinsiyetidir\n",
        "-Kilo\n",
        "-Boy\n",
        "-Yaş"
      ],
      "execution_count": null,
      "outputs": []
    },
    {
      "cell_type": "code",
      "metadata": {
        "id": "kwgMoF3sPqTs"
      },
      "source": [
        "Araba\n",
        " -Renk\n",
        " -Marka\n",
        " -Kapi\n",
        " -LPG"
      ],
      "execution_count": null,
      "outputs": []
    },
    {
      "cell_type": "code",
      "metadata": {
        "id": "Xwzn6phUNg39"
      },
      "source": [
        ""
      ],
      "execution_count": null,
      "outputs": []
    },
    {
      "cell_type": "code",
      "metadata": {
        "id": "AMOgTZGGMU3w"
      },
      "source": [
        "public class Hayvan {\n",
        "\n",
        "}\n",
        "\n",
        "constructor - yapıcı\n"
      ],
      "execution_count": null,
      "outputs": []
    },
    {
      "cell_type": "code",
      "metadata": {
        "id": "GOA0ecU4NpER"
      },
      "source": [
        "class Hayvan():\n",
        "  \n",
        "  #constructor metot\n",
        "  def __init__(self,isim,renk,ses,boy,kilo,cinsiyet,yas):\n",
        "    self.renk=renk\n",
        "    self.ses=ses\n",
        "    self.boy=boy\n",
        "    self.kilo=kilo\n",
        "    self.cinsiyet=cinsiyet\n",
        "    self.yas=yas"
      ],
      "execution_count": null,
      "outputs": []
    },
    {
      "cell_type": "code",
      "metadata": {
        "id": "aHbxtYVIORmr"
      },
      "source": [
        "Husnu = Hayvan(\"Hüsnü\",\"kahverengi\",\"Miyav\",30,6,\"erkek\",0.5)"
      ],
      "execution_count": null,
      "outputs": []
    },
    {
      "cell_type": "code",
      "metadata": {
        "id": "st4AlkbTPAj3"
      },
      "source": [
        "Pamuk = Hayvan(\"Pamuk\",\"siyah/beyaz\",\"Miyav\",20,5,\"dişi\",0.4)"
      ],
      "execution_count": null,
      "outputs": []
    },
    {
      "cell_type": "code",
      "metadata": {
        "colab": {
          "base_uri": "https://localhost:8080/",
          "height": 58
        },
        "id": "wcrkL8DXQ8nw",
        "outputId": "fef8424a-50a2-432e-f65e-b2c9d3caab56"
      },
      "source": [
        "Husnu.renk"
      ],
      "execution_count": null,
      "outputs": [
        {
          "output_type": "execute_result",
          "data": {
            "application/vnd.google.colaboratory.intrinsic+json": {
              "type": "string"
            },
            "text/plain": [
              "'kahverengi'"
            ]
          },
          "metadata": {
            "tags": []
          },
          "execution_count": 48
        }
      ]
    },
    {
      "cell_type": "code",
      "metadata": {
        "colab": {
          "base_uri": "https://localhost:8080/",
          "height": 58
        },
        "id": "o-0HBSx4Pg2b",
        "outputId": "57842173-7def-495d-d2a7-057fd8cd2f4b"
      },
      "source": [
        "Pamuk.renk"
      ],
      "execution_count": null,
      "outputs": [
        {
          "output_type": "execute_result",
          "data": {
            "application/vnd.google.colaboratory.intrinsic+json": {
              "type": "string"
            },
            "text/plain": [
              "'siyah/beyaz'"
            ]
          },
          "metadata": {
            "tags": []
          },
          "execution_count": 50
        }
      ]
    },
    {
      "cell_type": "code",
      "metadata": {
        "colab": {
          "base_uri": "https://localhost:8080/",
          "height": 58
        },
        "id": "Bix_p2FlRKTG",
        "outputId": "f67c4beb-bc09-4139-b259-9d93adf31318"
      },
      "source": [
        "Pamuk.ses"
      ],
      "execution_count": null,
      "outputs": [
        {
          "output_type": "execute_result",
          "data": {
            "application/vnd.google.colaboratory.intrinsic+json": {
              "type": "string"
            },
            "text/plain": [
              "'Miyav'"
            ]
          },
          "metadata": {
            "tags": []
          },
          "execution_count": 52
        }
      ]
    },
    {
      "cell_type": "code",
      "metadata": {
        "colab": {
          "base_uri": "https://localhost:8080/",
          "height": 58
        },
        "id": "C6gHnC_WRL60",
        "outputId": "e09c58dd-775d-40d1-b2d6-9fd399d6af05"
      },
      "source": [
        "Husnu.ses"
      ],
      "execution_count": null,
      "outputs": [
        {
          "output_type": "execute_result",
          "data": {
            "application/vnd.google.colaboratory.intrinsic+json": {
              "type": "string"
            },
            "text/plain": [
              "'Miyav'"
            ]
          },
          "metadata": {
            "tags": []
          },
          "execution_count": 53
        }
      ]
    },
    {
      "cell_type": "code",
      "metadata": {
        "id": "NDxnglpYOcYm"
      },
      "source": [
        "Karabas = Hayvan(\"gri\",\"Hav hav\",100,20,\"erkek\",2)"
      ],
      "execution_count": null,
      "outputs": []
    },
    {
      "cell_type": "code",
      "metadata": {
        "colab": {
          "base_uri": "https://localhost:8080/",
          "height": 58
        },
        "id": "Y1SrL3ckOmf6",
        "outputId": "3bb75205-dfda-4af3-82f2-936fea6f245d"
      },
      "source": [
        "Karabas.ses"
      ],
      "execution_count": null,
      "outputs": [
        {
          "output_type": "execute_result",
          "data": {
            "application/vnd.google.colaboratory.intrinsic+json": {
              "type": "string"
            },
            "text/plain": [
              "'Hav hav'"
            ]
          },
          "metadata": {
            "tags": []
          },
          "execution_count": 55
        }
      ]
    },
    {
      "cell_type": "code",
      "metadata": {
        "id": "ODInfukGbGLo",
        "colab": {
          "base_uri": "https://localhost:8080/"
        },
        "outputId": "4a8dae43-65be-4fbb-f7f3-5751cca0595a"
      },
      "source": [
        "dir(Karabas)"
      ],
      "execution_count": null,
      "outputs": [
        {
          "output_type": "execute_result",
          "data": {
            "text/plain": [
              "['__class__',\n",
              " '__delattr__',\n",
              " '__dict__',\n",
              " '__dir__',\n",
              " '__doc__',\n",
              " '__eq__',\n",
              " '__format__',\n",
              " '__ge__',\n",
              " '__getattribute__',\n",
              " '__gt__',\n",
              " '__hash__',\n",
              " '__init__',\n",
              " '__init_subclass__',\n",
              " '__le__',\n",
              " '__lt__',\n",
              " '__module__',\n",
              " '__ne__',\n",
              " '__new__',\n",
              " '__reduce__',\n",
              " '__reduce_ex__',\n",
              " '__repr__',\n",
              " '__setattr__',\n",
              " '__sizeof__',\n",
              " '__str__',\n",
              " '__subclasshook__',\n",
              " '__weakref__',\n",
              " 'boy',\n",
              " 'cinsiyet',\n",
              " 'kilo',\n",
              " 'renk',\n",
              " 'ses',\n",
              " 'yas']"
            ]
          },
          "metadata": {
            "tags": []
          },
          "execution_count": 56
        }
      ]
    },
    {
      "cell_type": "code",
      "metadata": {
        "id": "CmajsbnuRkv3"
      },
      "source": [
        "class Hayvan():\n",
        "  \n",
        "  #constructor metot\n",
        "  def __init__(self,isim,renk,ses,boy,kilo,cinsiyet,yas):\n",
        "    print(\"Superin initine girdi\")\n",
        "    self.isim=isim\n",
        "    self.renk=renk\n",
        "    self.ses=ses\n",
        "    self.boy=boy\n",
        "    self.kilo=kilo\n",
        "    self.cinsiyet=cinsiyet\n",
        "    self.yas=yas\n",
        "\n",
        "  def Bilgilendir(self):\n",
        "    return f\"İsim: {self.isim}, Renk: {self.renk}, Ses: {self.ses}, Boy: {self.boy}, Kilo: {self.kilo}, Cinsiyet: {self.cinsiyet}, Yas: {self.yas} \""
      ],
      "execution_count": null,
      "outputs": []
    },
    {
      "cell_type": "code",
      "metadata": {
        "id": "G3uYGJ5YWP9k"
      },
      "source": [
        "class Kedi(Hayvan):\n",
        "  def __init__(self,isim,renk,boy,kilo,cinsiyet,yas):\n",
        "    super().__init__(isim,renk,\"Miyav\",boy,kilo,cinsiyet,yas)\n",
        "\n",
        "  def func(self):\n",
        "    "
      ],
      "execution_count": null,
      "outputs": []
    },
    {
      "cell_type": "code",
      "metadata": {
        "colab": {
          "base_uri": "https://localhost:8080/"
        },
        "id": "bF_VzcqqSvoB",
        "outputId": "d384671e-ecc4-4871-8637-89f9ffe8b7cd"
      },
      "source": [
        "Husnu = Kedi(\"Hüsnü\",\"kahverengi\",40,6,\"erkek\",0.5)"
      ],
      "execution_count": null,
      "outputs": [
        {
          "output_type": "stream",
          "text": [
            "Superin initine girdi\n"
          ],
          "name": "stdout"
        }
      ]
    },
    {
      "cell_type": "code",
      "metadata": {
        "colab": {
          "base_uri": "https://localhost:8080/",
          "height": 74
        },
        "id": "lEJctICJXlOR",
        "outputId": "dc8d91e1-65fe-4cfe-92ac-8ff2847ea55a"
      },
      "source": [
        "Husnu.Bilgilendir()"
      ],
      "execution_count": null,
      "outputs": [
        {
          "output_type": "execute_result",
          "data": {
            "application/vnd.google.colaboratory.intrinsic+json": {
              "type": "string"
            },
            "text/plain": [
              "'İsim: Hüsnü, Renk: kahverengi, Ses: Miyav, Boy: 40, Kilo: 6, Cinsiyet: erkek, Yas: 0.5 '"
            ]
          },
          "metadata": {
            "tags": []
          },
          "execution_count": 74
        }
      ]
    },
    {
      "cell_type": "code",
      "metadata": {
        "id": "ab12EHNRSxfa"
      },
      "source": [
        "Pamuk = Kedi(\"Pamuk\",\"siyah/beyaz\",20,5,\"dişi\",0.4)"
      ],
      "execution_count": null,
      "outputs": []
    },
    {
      "cell_type": "code",
      "metadata": {
        "colab": {
          "base_uri": "https://localhost:8080/",
          "height": 58
        },
        "id": "JsQQ1TqtX3BJ",
        "outputId": "515a084d-7f4d-4cbe-949b-b7c6720a734a"
      },
      "source": [
        "Pamuk.ses"
      ],
      "execution_count": null,
      "outputs": [
        {
          "output_type": "execute_result",
          "data": {
            "application/vnd.google.colaboratory.intrinsic+json": {
              "type": "string"
            },
            "text/plain": [
              "'Miyav'"
            ]
          },
          "metadata": {
            "tags": []
          },
          "execution_count": 76
        }
      ]
    },
    {
      "cell_type": "code",
      "metadata": {
        "id": "44y2s_a1WCqU"
      },
      "source": [
        "Karabas = Hayvan(\"Karabaş\",\"gri\",\"Hav hav\",20,10,\"dişi\",1)"
      ],
      "execution_count": null,
      "outputs": []
    },
    {
      "cell_type": "code",
      "metadata": {
        "colab": {
          "base_uri": "https://localhost:8080/",
          "height": 74
        },
        "id": "sNarjc_2SKW4",
        "outputId": "3d92e5a5-bec3-45cf-9516-6f06bbceedb3"
      },
      "source": [
        "Pamuk.Bilgilendir()"
      ],
      "execution_count": null,
      "outputs": [
        {
          "output_type": "execute_result",
          "data": {
            "application/vnd.google.colaboratory.intrinsic+json": {
              "type": "string"
            },
            "text/plain": [
              "'İsim: Pamuk, Renk: siyah/beyaz, Ses: Miyav, Boy: 20, Kilo: 5, Cinsiyet: dişi, Yas: 0.4 '"
            ]
          },
          "metadata": {
            "tags": []
          },
          "execution_count": 65
        }
      ]
    },
    {
      "cell_type": "code",
      "metadata": {
        "id": "DQ0Es6zNZQs3"
      },
      "source": [
        ""
      ],
      "execution_count": null,
      "outputs": []
    },
    {
      "cell_type": "code",
      "metadata": {
        "id": "EdYWjxdyZQeE"
      },
      "source": [
        ""
      ],
      "execution_count": null,
      "outputs": []
    },
    {
      "cell_type": "code",
      "metadata": {
        "id": "iB2P1I88aZTB"
      },
      "source": [
        "#constructor / yapıcı\n",
        "#sınıf içersisinde sadece metod ve değişkenler olabilir\n",
        "#sınıf içerisindeki metodlar alsında sınıfın yapmıuş olduğu aksiyonlardır\n",
        "#sınıf içerisindeki değişkenler ise aslında sınıfın özellikleridir\n",
        "\n",
        "class Hayvan():\n",
        "  def __init__(self,ses,ayak): #constructor 2 tane _    \n",
        "    self.voice=ses\n",
        "    self.legs=ayak\n",
        "  def Yazdir(self):\n",
        "    print(\"Ses:\",self.voice,\" Ayak:\",self.legs)\n",
        "\n",
        "tavuk=Hayvan(\"Gıdak\",2)\n",
        "tavuk.Yazdir()\n",
        "\n",
        "kedi=Hayvan(\"Miyav\",4)\n",
        "kedi.Yazdir()"
      ],
      "execution_count": null,
      "outputs": []
    },
    {
      "cell_type": "code",
      "metadata": {
        "id": "rukOVNMxc3_T"
      },
      "source": [
        "\"\"\"\n",
        "\n",
        "self= Tanımlanan sınıfta yer alan herhangi bir değişkene veya \n",
        "diğer method’lara erişmek için self kelimesini kullanıyoruz. \n",
        "\n",
        "\"\"\""
      ],
      "execution_count": null,
      "outputs": []
    },
    {
      "cell_type": "code",
      "metadata": {
        "id": "GB34FN_kGgjJ"
      },
      "source": [
        ""
      ],
      "execution_count": null,
      "outputs": []
    },
    {
      "cell_type": "code",
      "metadata": {
        "id": "YjSEGRYrfQ69"
      },
      "source": [
        "class Person():\n",
        "  def __init__(self, personName, personAge):\n",
        "    self.name = personName\n",
        "    self.age = personAge\n",
        "\n",
        "\n",
        "  def welcomePerson(self):\n",
        "    print(\"Merhaba \" + self.name)\n",
        "\n",
        "  \n",
        "  def showAge(self):\n",
        "    print(self.age)\n"
      ],
      "execution_count": null,
      "outputs": []
    },
    {
      "cell_type": "code",
      "metadata": {
        "id": "K-t2aNYYWPNI"
      },
      "source": [
        "fethi=Person(\"Fethi\",24)\n",
        "fethi.welcomePerson()\n",
        "fethi.showAge()"
      ],
      "execution_count": null,
      "outputs": []
    },
    {
      "cell_type": "code",
      "metadata": {
        "id": "GeZqS15XhmM7"
      },
      "source": [
        "person1 = Person (\"Fethi\", 28)\n",
        "\n",
        "person1.welcomePerson()"
      ],
      "execution_count": null,
      "outputs": []
    },
    {
      "cell_type": "code",
      "metadata": {
        "id": "imIm2qrdjESE"
      },
      "source": [
        "person1.showAge()"
      ],
      "execution_count": null,
      "outputs": []
    },
    {
      "cell_type": "code",
      "metadata": {
        "id": "78eGaeBfW2-v"
      },
      "source": [
        "class Hayvan():\n",
        "  def __init__(self,ses,ayak,renkler):\n",
        "    self.ses=ses\n",
        "    self.ayak=ayak\n",
        "    self.renkler=renkler\n",
        "  \n",
        "  def Yazdir(self):\n",
        "    print(\"Ses:\",self.ses,\" Ayak:\",self.ayak,\" Renkler:\",self.renkler)\n",
        "  \n",
        "  def RenkEkle(self,renkler):\n",
        "    self.renkler.extend(renkler)\n",
        "    self.renkler=list(set(self.renkler))\n",
        "\n",
        "kedi=Hayvan(\"Miyav\",4,[\"Siyah\",\"Beyaz\",\"Gri\"])\n",
        "kedi.Yazdir()\n",
        "kedi.RenkEkle([\"Turuncu\",\"Siyah\",\"Mavi\"])\n",
        "kedi.Yazdir()\n",
        "kedi.RenkEkle([\"Sarı\"])\n",
        "kedi.Yazdir()\n",
        "\"\"\"\n",
        "hataliKedi=Hayvan(\"Havhav\",7,(\"Siyah\",\"Beyaz\"))\n",
        "hataliKedi.RenkEkle((\"Mavi\",\"Yeşil\"))\n",
        "\"\"\""
      ],
      "execution_count": null,
      "outputs": []
    },
    {
      "cell_type": "code",
      "metadata": {
        "id": "6Pf-MmZJO115"
      },
      "source": [
        "liste=[1,2,3]\n",
        "liste2=[4,5,6]\n",
        "\n",
        "siyah gri\n",
        "\n",
        "mavi gri pembe\n",
        "\n",
        "siyah gri mavi gri pembe\n",
        "\n",
        "siyah,gri,mavi,pembe\n",
        "\n",
        "liste.extend(liste2)\n",
        "liste"
      ],
      "execution_count": null,
      "outputs": []
    },
    {
      "cell_type": "code",
      "metadata": {
        "id": "iJLLyQ4NaP5o"
      },
      "source": [
        "class Hayvan2():\n",
        "  isim = input(\"İsmini giriniz \")\n",
        "  ses= input(\"nasıl ses çıkardığını giriniz \")\n",
        "  ayak_sayısı = int(input(\"Ayak sayısını giriniz \"))\n"
      ],
      "execution_count": null,
      "outputs": []
    },
    {
      "cell_type": "code",
      "metadata": {
        "id": "kQfG-ej-aScE"
      },
      "source": [
        "kullanıcıSes=input(\"ses gir:\")\n",
        "ayak=int(input(\"ayak sayısı gir:\"))\n",
        "renkler=input(\"renkleri gir aralarında boşluk olsun:\")\n",
        "print(renkler.split())\n",
        "yeniHayvan=Hayvan(kullanıcıSes,ayak,renkler.split())\n",
        "yeniHayvan.Yazdir()"
      ],
      "execution_count": null,
      "outputs": []
    },
    {
      "cell_type": "code",
      "metadata": {
        "id": "bGR0XBxLjcGo"
      },
      "source": [
        "class Person3():\n",
        "  def __init__(self, name, age):\n",
        "    self.name = name\n",
        "    self.age = age\n",
        "    self.language = []\n",
        " \n",
        "  def welcomePerson(self):\n",
        "    print(\"Merhaba \" + self.name)\n",
        "  \n",
        "  def showAge(self):\n",
        "    print(self.age)\n",
        "\n",
        "  def addLang (self, new_lang):\n",
        "    print(\"Yeni dil ekleniyor..\")\n",
        "    self.language.append(new_lang)\n",
        "\n",
        "  \n",
        "  def showInfo(self):\n",
        "    print(\"{} adlı kişinin yaşı {} ve bildiği diller: \".format(self.name,self.age))\n",
        "    for i in self.language:\n",
        "      print(i)        "
      ],
      "execution_count": null,
      "outputs": []
    },
    {
      "cell_type": "code",
      "metadata": {
        "id": "zkmDy4tSpeSO"
      },
      "source": [
        "person3 = Person3(\"Fethi\",24)"
      ],
      "execution_count": null,
      "outputs": []
    },
    {
      "cell_type": "code",
      "metadata": {
        "id": "iGvesZvPpqBw"
      },
      "source": [
        "person3.welcomePerson()"
      ],
      "execution_count": null,
      "outputs": []
    },
    {
      "cell_type": "code",
      "metadata": {
        "id": "ZwaRNvXVptKE"
      },
      "source": [
        "person3.showAge()"
      ],
      "execution_count": null,
      "outputs": []
    },
    {
      "cell_type": "code",
      "metadata": {
        "id": "RssjOznYpvfv"
      },
      "source": [
        "person3.addLang(\"german\")"
      ],
      "execution_count": null,
      "outputs": []
    },
    {
      "cell_type": "code",
      "metadata": {
        "id": "axnwe5fbqOWx"
      },
      "source": [
        "person3.showInfo()"
      ],
      "execution_count": null,
      "outputs": []
    },
    {
      "cell_type": "code",
      "metadata": {
        "id": "j4LQVwVDtbqL"
      },
      "source": [
        "person3.addLang(\"english\")"
      ],
      "execution_count": null,
      "outputs": []
    },
    {
      "cell_type": "code",
      "metadata": {
        "id": "rjhVBnGotg5T"
      },
      "source": [
        "person3.showInfo()"
      ],
      "execution_count": null,
      "outputs": []
    },
    {
      "cell_type": "code",
      "metadata": {
        "id": "0Oz62rTOQvXp"
      },
      "source": [
        "person3.addLang([\"Turkish\",\"Spanish\"])"
      ],
      "execution_count": null,
      "outputs": []
    },
    {
      "cell_type": "code",
      "metadata": {
        "id": "_c0I3xyCZhh5"
      },
      "source": [
        "# Sınıf içerisinde kullanılabiliecek metod tipleri\n",
        "\n",
        "# standart bir metod\n",
        "# classmethod\n",
        "# staticmethod"
      ],
      "execution_count": null,
      "outputs": []
    },
    {
      "cell_type": "code",
      "metadata": {
        "id": "gTekkXjgbac9"
      },
      "source": [
        "class Math():\n",
        "\n",
        "  @staticmethod\n",
        "  def Topla(s1,s2):\n",
        "    return s1+s2"
      ],
      "execution_count": null,
      "outputs": []
    },
    {
      "cell_type": "code",
      "metadata": {
        "id": "NRFcsBW2hXX-"
      },
      "source": [
        "def Topla(s1,s2):\n",
        "  return s1+s2"
      ],
      "execution_count": null,
      "outputs": []
    },
    {
      "cell_type": "code",
      "metadata": {
        "colab": {
          "base_uri": "https://localhost:8080/"
        },
        "id": "9cN9pxe8bh4Z",
        "outputId": "91cc7d2a-4a3a-4fee-fe99-2fe55a1db418"
      },
      "source": [
        "m = Math()\n",
        "m.Topla(2,3)"
      ],
      "execution_count": null,
      "outputs": [
        {
          "output_type": "execute_result",
          "data": {
            "text/plain": [
              "5"
            ]
          },
          "metadata": {
            "tags": []
          },
          "execution_count": 95
        }
      ]
    },
    {
      "cell_type": "code",
      "metadata": {
        "id": "6v9bCygyZhbH"
      },
      "source": [
        "class Person():\n",
        "  def __init__(self,isim,yas,renk):\n",
        "    self.isim=isim\n",
        "    self.yas=yas\n",
        "    self.taraf = self.TarafYerlestir()\n",
        "    self.renk=renk\n",
        "    \n",
        "\n",
        "  #annotation\n",
        "  @classmethod\n",
        "  def TarafYerlestir(cls):\n",
        "    if cls is LightSide:\n",
        "      return \"Light Side\"\n",
        "    elif cls is DarkSide:\n",
        "      return \"Dark Side\""
      ],
      "execution_count": null,
      "outputs": []
    },
    {
      "cell_type": "code",
      "metadata": {
        "id": "8EBr74I4ZhTi"
      },
      "source": [
        "class LightSide(Person):\n",
        "  def __init__(self,isim,yas,renk):\n",
        "    super().__init__(isim,yas,renk)\n",
        "\n",
        "  @classmethod\n",
        "  def ClassIsmiGetir(cls):\n",
        "    return cls"
      ],
      "execution_count": null,
      "outputs": []
    },
    {
      "cell_type": "code",
      "metadata": {
        "id": "_KOUy_cPaTUu"
      },
      "source": [
        "class DarkSide(Person):\n",
        "  def __init__(self,isim,yas,renk):\n",
        "    super().__init__(isim,yas,renk)\n",
        "\n",
        "  @classmethod\n",
        "  def ClsGucDegistir(cls,guc):\n",
        "    cls.ozelGuc = guc\n",
        "\n",
        "  @classmethod\n",
        "  def ClsGucGetir(cls):\n",
        "    return cls.ozelGuc\n",
        "\n",
        "  @classmethod\n",
        "  def ClassIsmiGetir(cls):\n",
        "    return cls"
      ],
      "execution_count": null,
      "outputs": []
    },
    {
      "cell_type": "code",
      "metadata": {
        "id": "ybvEhXx2abYi"
      },
      "source": [
        "darth_maul = DarkSide(\"Darth Maul\",29,\"Kırmızı\")\n",
        "obi_wan = LightSide(\"Obi-Wan Kenobi\",24,\"Mavi\")"
      ],
      "execution_count": null,
      "outputs": []
    },
    {
      "cell_type": "code",
      "metadata": {
        "colab": {
          "base_uri": "https://localhost:8080/",
          "height": 58
        },
        "id": "wPXIPXYYdq9y",
        "outputId": "92b51d98-f902-488c-b2e4-9d36cd41eed1"
      },
      "source": [
        "obi_wan.taraf"
      ],
      "execution_count": null,
      "outputs": [
        {
          "output_type": "execute_result",
          "data": {
            "application/vnd.google.colaboratory.intrinsic+json": {
              "type": "string"
            },
            "text/plain": [
              "'Light Side'"
            ]
          },
          "metadata": {
            "tags": []
          },
          "execution_count": 166
        }
      ]
    },
    {
      "cell_type": "code",
      "metadata": {
        "colab": {
          "base_uri": "https://localhost:8080/"
        },
        "id": "XavcnxQJabOp",
        "outputId": "33b64e16-03c4-4c37-8e4c-debe5466e789"
      },
      "source": [
        "darth_maul.ClassIsmiGetir()"
      ],
      "execution_count": null,
      "outputs": [
        {
          "output_type": "execute_result",
          "data": {
            "text/plain": [
              "__main__.DarkSide"
            ]
          },
          "metadata": {
            "tags": []
          },
          "execution_count": 148
        }
      ]
    },
    {
      "cell_type": "code",
      "metadata": {
        "id": "K-x8NzRFcWHg"
      },
      "source": [
        "darth_maul.ClsGucDegistir(\"Elektrik Atma\")"
      ],
      "execution_count": null,
      "outputs": []
    },
    {
      "cell_type": "code",
      "metadata": {
        "colab": {
          "base_uri": "https://localhost:8080/",
          "height": 58
        },
        "id": "tBsG6pRYcY4j",
        "outputId": "4c99f1d1-5149-4baf-90ff-77561efbbb89"
      },
      "source": [
        "darth_maul.ClsGucGetir()"
      ],
      "execution_count": null,
      "outputs": [
        {
          "output_type": "execute_result",
          "data": {
            "application/vnd.google.colaboratory.intrinsic+json": {
              "type": "string"
            },
            "text/plain": [
              "'Elektrik Atma'"
            ]
          },
          "metadata": {
            "tags": []
          },
          "execution_count": 126
        }
      ]
    },
    {
      "cell_type": "code",
      "metadata": {
        "id": "dZoSI6W8caMw"
      },
      "source": [
        "count_dooku = DarkSide(\"Count Dooku\",60,\"Kırmızı\")"
      ],
      "execution_count": null,
      "outputs": []
    },
    {
      "cell_type": "code",
      "metadata": {
        "colab": {
          "base_uri": "https://localhost:8080/",
          "height": 58
        },
        "id": "TpMjlwiScwXS",
        "outputId": "5e21082c-5653-415f-d34b-daa745ed91fe"
      },
      "source": [
        "count_dooku.ClsGucGetir()"
      ],
      "execution_count": null,
      "outputs": [
        {
          "output_type": "execute_result",
          "data": {
            "application/vnd.google.colaboratory.intrinsic+json": {
              "type": "string"
            },
            "text/plain": [
              "'Elektrik Atma'"
            ]
          },
          "metadata": {
            "tags": []
          },
          "execution_count": 128
        }
      ]
    },
    {
      "cell_type": "code",
      "metadata": {
        "id": "UDFzfqbVczMu"
      },
      "source": [
        "yoda = LightSide(\"Yoda\",500,\"Yeşil\")"
      ],
      "execution_count": null,
      "outputs": []
    },
    {
      "cell_type": "code",
      "metadata": {
        "colab": {
          "base_uri": "https://localhost:8080/",
          "height": 58
        },
        "id": "qO4p6Er5fo47",
        "outputId": "2b21b70d-f2c9-4a9c-cfb2-4dfe7ce70198"
      },
      "source": [
        "yoda.taraf"
      ],
      "execution_count": null,
      "outputs": [
        {
          "output_type": "execute_result",
          "data": {
            "application/vnd.google.colaboratory.intrinsic+json": {
              "type": "string"
            },
            "text/plain": [
              "'Light Side'"
            ]
          },
          "metadata": {
            "tags": []
          },
          "execution_count": 168
        }
      ]
    },
    {
      "cell_type": "code",
      "metadata": {
        "id": "6awwKy7gfpdc"
      },
      "source": [
        ""
      ],
      "execution_count": null,
      "outputs": []
    }
  ]
}